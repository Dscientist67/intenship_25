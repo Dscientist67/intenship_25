{
 "cells": [
  {
   "cell_type": "code",
   "execution_count": 1,
   "id": "08e1b4e6",
   "metadata": {},
   "outputs": [],
   "source": [
    "import pandas as pd"
   ]
  },
  {
   "cell_type": "code",
   "execution_count": 2,
   "id": "867da0cd",
   "metadata": {},
   "outputs": [],
   "source": [
    "import selenium \n",
    "from selenium import webdriver"
   ]
  },
  {
   "cell_type": "code",
   "execution_count": 3,
   "id": "e0a8fe6d",
   "metadata": {},
   "outputs": [],
   "source": [
    "import warnings\n",
    "warnings.filterwarnings('ignore')"
   ]
  },
  {
   "cell_type": "code",
   "execution_count": 5,
   "id": "0af82ab4",
   "metadata": {},
   "outputs": [],
   "source": [
    "driver=webdriver.Chrome(r\"C:/Users/Darshan/Downloads/chromedriver_win32/chromedriver.exe\")\n"
   ]
  },
  {
   "cell_type": "code",
   "execution_count": 6,
   "id": "99a94d14",
   "metadata": {},
   "outputs": [],
   "source": [
    "url=\"https://www.naukri.com/\"\n",
    "driver.get(url)"
   ]
  },
  {
   "cell_type": "code",
   "execution_count": 14,
   "id": "cd9f4727",
   "metadata": {},
   "outputs": [
    {
     "data": {
      "text/plain": [
       "<selenium.webdriver.remote.webelement.WebElement (session=\"36f396f7941da1ee5de6c09c6f1d7fb9\", element=\"7538677a-c96a-4b54-8b71-08a2bdcde06a\")>"
      ]
     },
     "execution_count": 14,
     "metadata": {},
     "output_type": "execute_result"
    }
   ],
   "source": [
    "search=driver.find_element_by_class_name(\"suggestor-input \")\n",
    "search"
   ]
  },
  {
   "cell_type": "code",
   "execution_count": 15,
   "id": "6151c1a7",
   "metadata": {},
   "outputs": [],
   "source": [
    "search.send_keys('Data Scientist')"
   ]
  },
  {
   "cell_type": "code",
   "execution_count": 18,
   "id": "e5f0a4b1",
   "metadata": {},
   "outputs": [
    {
     "data": {
      "text/plain": [
       "<selenium.webdriver.remote.webelement.WebElement (session=\"36f396f7941da1ee5de6c09c6f1d7fb9\", element=\"8eacd137-8d14-4c9a-b30c-3e3f995f44cb\")>"
      ]
     },
     "execution_count": 18,
     "metadata": {},
     "output_type": "execute_result"
    }
   ],
   "source": [
    "locn=driver.find_element_by_xpath('/html/body/div/div[2]/div[3]/div/div/div[3]/div/div/div/input')\n",
    "locn"
   ]
  },
  {
   "cell_type": "code",
   "execution_count": 19,
   "id": "b77f5a95",
   "metadata": {},
   "outputs": [],
   "source": [
    "locn.send_keys('Bangalore')"
   ]
  },
  {
   "cell_type": "code",
   "execution_count": 20,
   "id": "4d729265",
   "metadata": {},
   "outputs": [
    {
     "data": {
      "text/plain": [
       "<selenium.webdriver.remote.webelement.WebElement (session=\"36f396f7941da1ee5de6c09c6f1d7fb9\", element=\"66fe0858-2ab0-4563-bfa1-c1e9540bf986\")>"
      ]
     },
     "execution_count": 20,
     "metadata": {},
     "output_type": "execute_result"
    }
   ],
   "source": [
    "btn=driver.find_element_by_xpath('//div[@class=\"qsbSubmit\"]')\n",
    "btn"
   ]
  },
  {
   "cell_type": "code",
   "execution_count": 21,
   "id": "56383618",
   "metadata": {},
   "outputs": [],
   "source": [
    "btn.click()"
   ]
  },
  {
   "cell_type": "code",
   "execution_count": 27,
   "id": "fa977f52",
   "metadata": {},
   "outputs": [
    {
     "data": {
      "text/plain": [
       "[<selenium.webdriver.remote.webelement.WebElement (session=\"36f396f7941da1ee5de6c09c6f1d7fb9\", element=\"a10e4790-c74c-4f20-bb13-452212ad2a82\")>,\n",
       " <selenium.webdriver.remote.webelement.WebElement (session=\"36f396f7941da1ee5de6c09c6f1d7fb9\", element=\"77c4253e-22d9-486c-a02e-227d781c2cf0\")>,\n",
       " <selenium.webdriver.remote.webelement.WebElement (session=\"36f396f7941da1ee5de6c09c6f1d7fb9\", element=\"7ed313b9-f303-4233-b4d2-0f0ba8f07957\")>,\n",
       " <selenium.webdriver.remote.webelement.WebElement (session=\"36f396f7941da1ee5de6c09c6f1d7fb9\", element=\"dbe7f768-d994-46db-a880-9793c96e4c8b\")>,\n",
       " <selenium.webdriver.remote.webelement.WebElement (session=\"36f396f7941da1ee5de6c09c6f1d7fb9\", element=\"c2ddfa00-25cb-43c3-931d-32d97a7c2a97\")>,\n",
       " <selenium.webdriver.remote.webelement.WebElement (session=\"36f396f7941da1ee5de6c09c6f1d7fb9\", element=\"8d35aa3f-4d35-4500-aeea-c5093e122d97\")>,\n",
       " <selenium.webdriver.remote.webelement.WebElement (session=\"36f396f7941da1ee5de6c09c6f1d7fb9\", element=\"f2af41e4-a78c-4a71-ae4a-47bf88428a5a\")>,\n",
       " <selenium.webdriver.remote.webelement.WebElement (session=\"36f396f7941da1ee5de6c09c6f1d7fb9\", element=\"98caed94-cbb0-4815-8b78-9b989d859a3b\")>,\n",
       " <selenium.webdriver.remote.webelement.WebElement (session=\"36f396f7941da1ee5de6c09c6f1d7fb9\", element=\"d120ddb5-f652-40d1-b910-02e4c3716f5c\")>,\n",
       " <selenium.webdriver.remote.webelement.WebElement (session=\"36f396f7941da1ee5de6c09c6f1d7fb9\", element=\"63fa620d-9653-41d9-89d7-514f6353fbd1\")>,\n",
       " <selenium.webdriver.remote.webelement.WebElement (session=\"36f396f7941da1ee5de6c09c6f1d7fb9\", element=\"5084469b-a385-4c80-ad44-7b47755f4d6d\")>,\n",
       " <selenium.webdriver.remote.webelement.WebElement (session=\"36f396f7941da1ee5de6c09c6f1d7fb9\", element=\"119e4065-1177-4a24-bf80-597f9923f740\")>,\n",
       " <selenium.webdriver.remote.webelement.WebElement (session=\"36f396f7941da1ee5de6c09c6f1d7fb9\", element=\"72481745-2a17-479d-b72e-1c938256d64a\")>,\n",
       " <selenium.webdriver.remote.webelement.WebElement (session=\"36f396f7941da1ee5de6c09c6f1d7fb9\", element=\"82be088b-1f1b-4345-81ad-2f2ca28a06be\")>,\n",
       " <selenium.webdriver.remote.webelement.WebElement (session=\"36f396f7941da1ee5de6c09c6f1d7fb9\", element=\"0d491069-6c51-41cd-8e6b-688c52d8eeef\")>,\n",
       " <selenium.webdriver.remote.webelement.WebElement (session=\"36f396f7941da1ee5de6c09c6f1d7fb9\", element=\"f96c57e4-c045-4df8-a565-caa483815588\")>,\n",
       " <selenium.webdriver.remote.webelement.WebElement (session=\"36f396f7941da1ee5de6c09c6f1d7fb9\", element=\"57b8737b-becd-418d-bb2f-88deee67dcb8\")>,\n",
       " <selenium.webdriver.remote.webelement.WebElement (session=\"36f396f7941da1ee5de6c09c6f1d7fb9\", element=\"a613c6ef-3d33-4989-a31a-dc18366c8ccd\")>,\n",
       " <selenium.webdriver.remote.webelement.WebElement (session=\"36f396f7941da1ee5de6c09c6f1d7fb9\", element=\"9f75d5e4-ddfe-4d8f-a6d5-3ac14595ba14\")>,\n",
       " <selenium.webdriver.remote.webelement.WebElement (session=\"36f396f7941da1ee5de6c09c6f1d7fb9\", element=\"60d88f01-d657-42f7-9d9b-cd97b7713be0\")>]"
      ]
     },
     "execution_count": 27,
     "metadata": {},
     "output_type": "execute_result"
    }
   ],
   "source": [
    "title_tags=driver.find_elements_by_xpath('//a[@class=\"title fw500 ellipsis\"]')\n",
    "title_tags"
   ]
  },
  {
   "cell_type": "code",
   "execution_count": 29,
   "id": "a33c9868",
   "metadata": {},
   "outputs": [
    {
     "data": {
      "text/plain": [
       "['Data Scientist / Analyst',\n",
       " 'Senior Data Scientist',\n",
       " 'Data Scientist II- Merchandise & Discovery',\n",
       " 'Forecasting Analyst/ Data Scientist (US Client)',\n",
       " 'Consultant - Junior Data Scientist',\n",
       " 'Data Scientist',\n",
       " 'Data Scientist',\n",
       " 'Principal Data Scientist',\n",
       " 'Excellent Opportunity For Freshers For AI/ML, Data Scientist, BI, QA',\n",
       " 'Junior Data Scientist',\n",
       " 'Data Scientist',\n",
       " 'Data Scientist',\n",
       " 'Data Scientist: Artificial Intelligence',\n",
       " 'Data Scientist - SQL/Python/Machine Learning Algorithms',\n",
       " 'Senior Data Scientist',\n",
       " 'Senior Data Scientist',\n",
       " 'Sr. Data Scientist, Digital Services Analytics',\n",
       " 'HCL Tech Opening - Senior Data Scientist',\n",
       " 'Cognitive/AI Senior Data Scientist',\n",
       " 'Sr. Product Data Scientist']"
      ]
     },
     "execution_count": 29,
     "metadata": {},
     "output_type": "execute_result"
    }
   ],
   "source": [
    "job_titles=[]\n",
    "for i in title_tags:\n",
    "    job_titles.append(i.text)\n",
    "job_titles"
   ]
  },
  {
   "cell_type": "code",
   "execution_count": 31,
   "id": "2b6e3f0d",
   "metadata": {},
   "outputs": [
    {
     "data": {
      "text/plain": [
       "[<selenium.webdriver.remote.webelement.WebElement (session=\"36f396f7941da1ee5de6c09c6f1d7fb9\", element=\"99bd05d3-217e-407e-a615-b40bbce06980\")>,\n",
       " <selenium.webdriver.remote.webelement.WebElement (session=\"36f396f7941da1ee5de6c09c6f1d7fb9\", element=\"8c88e35f-e708-4367-a88d-072bb95c3943\")>,\n",
       " <selenium.webdriver.remote.webelement.WebElement (session=\"36f396f7941da1ee5de6c09c6f1d7fb9\", element=\"a53bf80d-ba02-4777-894b-38f0922098e8\")>,\n",
       " <selenium.webdriver.remote.webelement.WebElement (session=\"36f396f7941da1ee5de6c09c6f1d7fb9\", element=\"d23e616e-0e75-48a5-981b-6d6f87ce066c\")>,\n",
       " <selenium.webdriver.remote.webelement.WebElement (session=\"36f396f7941da1ee5de6c09c6f1d7fb9\", element=\"1d0d2b04-19e3-45ca-89d4-958c668adc12\")>,\n",
       " <selenium.webdriver.remote.webelement.WebElement (session=\"36f396f7941da1ee5de6c09c6f1d7fb9\", element=\"ce08390d-f122-4bf6-81ee-d00a8c3c75ef\")>,\n",
       " <selenium.webdriver.remote.webelement.WebElement (session=\"36f396f7941da1ee5de6c09c6f1d7fb9\", element=\"7d63a808-6500-47ba-95b4-972e005f19ae\")>,\n",
       " <selenium.webdriver.remote.webelement.WebElement (session=\"36f396f7941da1ee5de6c09c6f1d7fb9\", element=\"91330c0d-d6a4-484d-9686-fab43d705c72\")>,\n",
       " <selenium.webdriver.remote.webelement.WebElement (session=\"36f396f7941da1ee5de6c09c6f1d7fb9\", element=\"c68618fb-704c-408a-a97c-230fbf1b430b\")>,\n",
       " <selenium.webdriver.remote.webelement.WebElement (session=\"36f396f7941da1ee5de6c09c6f1d7fb9\", element=\"9b51fb39-ceed-457d-bb77-ae0aac18fcd0\")>,\n",
       " <selenium.webdriver.remote.webelement.WebElement (session=\"36f396f7941da1ee5de6c09c6f1d7fb9\", element=\"1f4bc871-595e-44ee-a58c-94370179ac5a\")>,\n",
       " <selenium.webdriver.remote.webelement.WebElement (session=\"36f396f7941da1ee5de6c09c6f1d7fb9\", element=\"b2604576-e2c2-4e69-80e9-3155a2b85311\")>,\n",
       " <selenium.webdriver.remote.webelement.WebElement (session=\"36f396f7941da1ee5de6c09c6f1d7fb9\", element=\"06992765-6c63-4f6b-a2f5-6a56ceaca1e6\")>,\n",
       " <selenium.webdriver.remote.webelement.WebElement (session=\"36f396f7941da1ee5de6c09c6f1d7fb9\", element=\"e30146d5-13cc-4ee4-81c8-7888dc009467\")>,\n",
       " <selenium.webdriver.remote.webelement.WebElement (session=\"36f396f7941da1ee5de6c09c6f1d7fb9\", element=\"d344c6f3-37b2-4311-9134-5294f5933c39\")>,\n",
       " <selenium.webdriver.remote.webelement.WebElement (session=\"36f396f7941da1ee5de6c09c6f1d7fb9\", element=\"6c5f7b24-06cb-422c-9106-407e8ff464f8\")>,\n",
       " <selenium.webdriver.remote.webelement.WebElement (session=\"36f396f7941da1ee5de6c09c6f1d7fb9\", element=\"d7d6989c-9377-46cb-b186-a0e842a32394\")>,\n",
       " <selenium.webdriver.remote.webelement.WebElement (session=\"36f396f7941da1ee5de6c09c6f1d7fb9\", element=\"f275ee01-db61-4f1a-ab92-2c673c13891e\")>,\n",
       " <selenium.webdriver.remote.webelement.WebElement (session=\"36f396f7941da1ee5de6c09c6f1d7fb9\", element=\"ce198602-56e8-49d4-9566-567b059badec\")>,\n",
       " <selenium.webdriver.remote.webelement.WebElement (session=\"36f396f7941da1ee5de6c09c6f1d7fb9\", element=\"8d34c182-3c01-4f85-9c4f-a23d19088240\")>]"
      ]
     },
     "execution_count": 31,
     "metadata": {},
     "output_type": "execute_result"
    }
   ],
   "source": [
    "comp=driver.find_elements_by_xpath('//a[@class=\"subTitle ellipsis fleft\"]')\n",
    "comp"
   ]
  },
  {
   "cell_type": "code",
   "execution_count": 32,
   "id": "b2d25d66",
   "metadata": {},
   "outputs": [
    {
     "data": {
      "text/plain": [
       "['open data fabric',\n",
       " 'newscorp',\n",
       " 'Swiggy',\n",
       " 'Concentrix',\n",
       " 'Flexing It',\n",
       " 'VANTAGEIQ TECHNOLOGIES (OPC) PRIVATE LIMITED',\n",
       " 'newscorp',\n",
       " 'VANTAGEIQ TECHNOLOGIES (OPC) PRIVATE LIMITED',\n",
       " 'NTT Data',\n",
       " 'Titan',\n",
       " 'Amazon',\n",
       " 'Hewlett-Packard (HP)',\n",
       " 'IBM',\n",
       " 'TalentStack',\n",
       " 'Walmart',\n",
       " 'Precisely',\n",
       " 'Dell',\n",
       " 'HCL',\n",
       " 'IBM',\n",
       " 'Uber']"
      ]
     },
     "execution_count": 32,
     "metadata": {},
     "output_type": "execute_result"
    }
   ],
   "source": [
    "comp_name=[]\n",
    "for i in comp:\n",
    "    comp_name.append(i.text)\n",
    "comp_name"
   ]
  },
  {
   "cell_type": "code",
   "execution_count": 38,
   "id": "806b13c8",
   "metadata": {},
   "outputs": [
    {
     "data": {
      "text/plain": [
       "[<selenium.webdriver.remote.webelement.WebElement (session=\"36f396f7941da1ee5de6c09c6f1d7fb9\", element=\"47ba060a-19e3-44ef-baf5-fa1d5cb21fac\")>,\n",
       " <selenium.webdriver.remote.webelement.WebElement (session=\"36f396f7941da1ee5de6c09c6f1d7fb9\", element=\"eb7bffd8-79b1-4728-af44-e40f8a09ab5b\")>,\n",
       " <selenium.webdriver.remote.webelement.WebElement (session=\"36f396f7941da1ee5de6c09c6f1d7fb9\", element=\"0a66e959-28d5-43d8-bcc0-981819d43f37\")>,\n",
       " <selenium.webdriver.remote.webelement.WebElement (session=\"36f396f7941da1ee5de6c09c6f1d7fb9\", element=\"06db2857-a4e5-4166-a5b4-5cc984c25dae\")>,\n",
       " <selenium.webdriver.remote.webelement.WebElement (session=\"36f396f7941da1ee5de6c09c6f1d7fb9\", element=\"854833fb-fcc9-478b-91d0-d56e520ab47a\")>,\n",
       " <selenium.webdriver.remote.webelement.WebElement (session=\"36f396f7941da1ee5de6c09c6f1d7fb9\", element=\"55e305cf-61f3-494a-877e-507a459d98c4\")>,\n",
       " <selenium.webdriver.remote.webelement.WebElement (session=\"36f396f7941da1ee5de6c09c6f1d7fb9\", element=\"f37e318e-1ee5-44ab-99b2-6bb6e2cfd1f7\")>,\n",
       " <selenium.webdriver.remote.webelement.WebElement (session=\"36f396f7941da1ee5de6c09c6f1d7fb9\", element=\"7f2fc74e-cf45-4111-827f-1e71798d9445\")>,\n",
       " <selenium.webdriver.remote.webelement.WebElement (session=\"36f396f7941da1ee5de6c09c6f1d7fb9\", element=\"43de1dd7-b962-4bde-b789-d2a474ed721f\")>,\n",
       " <selenium.webdriver.remote.webelement.WebElement (session=\"36f396f7941da1ee5de6c09c6f1d7fb9\", element=\"c8bf4a92-4397-4526-9316-2037d2dbd693\")>,\n",
       " <selenium.webdriver.remote.webelement.WebElement (session=\"36f396f7941da1ee5de6c09c6f1d7fb9\", element=\"b078ad4f-d397-407c-ac17-82683f21cb21\")>,\n",
       " <selenium.webdriver.remote.webelement.WebElement (session=\"36f396f7941da1ee5de6c09c6f1d7fb9\", element=\"551e93be-46a8-4fdf-9fed-88ed423907f4\")>,\n",
       " <selenium.webdriver.remote.webelement.WebElement (session=\"36f396f7941da1ee5de6c09c6f1d7fb9\", element=\"c45643c4-a9a8-4c36-9b2c-e9b6d23aec66\")>,\n",
       " <selenium.webdriver.remote.webelement.WebElement (session=\"36f396f7941da1ee5de6c09c6f1d7fb9\", element=\"7992ffe2-4fae-4f15-81e5-5df11b6271bd\")>,\n",
       " <selenium.webdriver.remote.webelement.WebElement (session=\"36f396f7941da1ee5de6c09c6f1d7fb9\", element=\"9ce948b0-c20e-4fcf-93ee-f76e0766a870\")>,\n",
       " <selenium.webdriver.remote.webelement.WebElement (session=\"36f396f7941da1ee5de6c09c6f1d7fb9\", element=\"0ef25dbd-d484-4554-b3f4-6b18aff5a41b\")>,\n",
       " <selenium.webdriver.remote.webelement.WebElement (session=\"36f396f7941da1ee5de6c09c6f1d7fb9\", element=\"b650dbaa-d25f-427e-96dc-4f245f40475b\")>,\n",
       " <selenium.webdriver.remote.webelement.WebElement (session=\"36f396f7941da1ee5de6c09c6f1d7fb9\", element=\"7ba495e3-35c4-4f45-be0c-2ff035ffc5d3\")>,\n",
       " <selenium.webdriver.remote.webelement.WebElement (session=\"36f396f7941da1ee5de6c09c6f1d7fb9\", element=\"c2757a6f-4158-450e-8dbe-6289ad798e3e\")>,\n",
       " <selenium.webdriver.remote.webelement.WebElement (session=\"36f396f7941da1ee5de6c09c6f1d7fb9\", element=\"0cb19490-f580-40c7-b1f9-4819d17e1c48\")>]"
      ]
     },
     "execution_count": 38,
     "metadata": {},
     "output_type": "execute_result"
    }
   ],
   "source": [
    "loca=driver.find_elements_by_xpath('//li[@class=\"fleft grey-text br2 placeHolderLi location\"]')\n",
    "loca"
   ]
  },
  {
   "cell_type": "code",
   "execution_count": 39,
   "id": "adb8627f",
   "metadata": {},
   "outputs": [
    {
     "data": {
      "text/plain": [
       "['Bangalore/Bengaluru',\n",
       " 'Bangalore/Bengaluru',\n",
       " 'Bangalore/Bengaluru',\n",
       " 'Gurgaon/Gurugram, Bangalore/Bengaluru\\n(WFH during Covid)',\n",
       " 'Navi Mumbai, New Delhi, Bangalore/Bengaluru',\n",
       " 'Chennai, Bangalore/Bengaluru\\n(WFH during Covid)',\n",
       " 'Bangalore/Bengaluru',\n",
       " 'Chennai, Bangalore/Bengaluru\\n(WFH during Covid)',\n",
       " 'Noida, Kolkata, Hyderabad/Secunderabad, Pune, Chennai, Bangalore/Bengaluru, Delhi / NCR, Mumbai (All Areas)\\n(WFH during Covid)',\n",
       " 'Bangalore/Bengaluru',\n",
       " 'Hyderabad/Secunderabad, Pune, Bangalore/Bengaluru',\n",
       " 'Bangalore/Bengaluru',\n",
       " 'Bangalore/Bengaluru',\n",
       " 'Bangalore/Bengaluru',\n",
       " 'Bangalore/Bengaluru',\n",
       " 'Noida, Pune, Bangalore/Bengaluru',\n",
       " 'Bangalore/Bengaluru',\n",
       " 'Noida, Kolkata, Hyderabad/Secunderabad, Pune, Chennai, Bangalore/Bengaluru',\n",
       " 'Bangalore/Bengaluru',\n",
       " 'Bangalore/Bengaluru']"
      ]
     },
     "execution_count": 39,
     "metadata": {},
     "output_type": "execute_result"
    }
   ],
   "source": [
    "location=[]\n",
    "for i in loca:\n",
    "    location.append(i.text)\n",
    "location"
   ]
  },
  {
   "cell_type": "code",
   "execution_count": 43,
   "id": "6af40667",
   "metadata": {},
   "outputs": [],
   "source": [
    "Job=pd.DataFrame({'Job Titles':job_titles[0:10],'Company Names':comp_name[0:10],'Location':location[0:10]})"
   ]
  },
  {
   "cell_type": "code",
   "execution_count": 44,
   "id": "c54d9cc0",
   "metadata": {},
   "outputs": [
    {
     "data": {
      "text/html": [
       "<div>\n",
       "<style scoped>\n",
       "    .dataframe tbody tr th:only-of-type {\n",
       "        vertical-align: middle;\n",
       "    }\n",
       "\n",
       "    .dataframe tbody tr th {\n",
       "        vertical-align: top;\n",
       "    }\n",
       "\n",
       "    .dataframe thead th {\n",
       "        text-align: right;\n",
       "    }\n",
       "</style>\n",
       "<table border=\"1\" class=\"dataframe\">\n",
       "  <thead>\n",
       "    <tr style=\"text-align: right;\">\n",
       "      <th></th>\n",
       "      <th>Job Titles</th>\n",
       "      <th>Company Names</th>\n",
       "      <th>Location</th>\n",
       "    </tr>\n",
       "  </thead>\n",
       "  <tbody>\n",
       "    <tr>\n",
       "      <th>0</th>\n",
       "      <td>Data Scientist / Analyst</td>\n",
       "      <td>open data fabric</td>\n",
       "      <td>Bangalore/Bengaluru</td>\n",
       "    </tr>\n",
       "    <tr>\n",
       "      <th>1</th>\n",
       "      <td>Senior Data Scientist</td>\n",
       "      <td>newscorp</td>\n",
       "      <td>Bangalore/Bengaluru</td>\n",
       "    </tr>\n",
       "    <tr>\n",
       "      <th>2</th>\n",
       "      <td>Data Scientist II- Merchandise &amp; Discovery</td>\n",
       "      <td>Swiggy</td>\n",
       "      <td>Bangalore/Bengaluru</td>\n",
       "    </tr>\n",
       "    <tr>\n",
       "      <th>3</th>\n",
       "      <td>Forecasting Analyst/ Data Scientist (US Client)</td>\n",
       "      <td>Concentrix</td>\n",
       "      <td>Gurgaon/Gurugram, Bangalore/Bengaluru\\n(WFH du...</td>\n",
       "    </tr>\n",
       "    <tr>\n",
       "      <th>4</th>\n",
       "      <td>Consultant - Junior Data Scientist</td>\n",
       "      <td>Flexing It</td>\n",
       "      <td>Navi Mumbai, New Delhi, Bangalore/Bengaluru</td>\n",
       "    </tr>\n",
       "    <tr>\n",
       "      <th>5</th>\n",
       "      <td>Data Scientist</td>\n",
       "      <td>VANTAGEIQ TECHNOLOGIES (OPC) PRIVATE LIMITED</td>\n",
       "      <td>Chennai, Bangalore/Bengaluru\\n(WFH during Covid)</td>\n",
       "    </tr>\n",
       "    <tr>\n",
       "      <th>6</th>\n",
       "      <td>Data Scientist</td>\n",
       "      <td>newscorp</td>\n",
       "      <td>Bangalore/Bengaluru</td>\n",
       "    </tr>\n",
       "    <tr>\n",
       "      <th>7</th>\n",
       "      <td>Principal Data Scientist</td>\n",
       "      <td>VANTAGEIQ TECHNOLOGIES (OPC) PRIVATE LIMITED</td>\n",
       "      <td>Chennai, Bangalore/Bengaluru\\n(WFH during Covid)</td>\n",
       "    </tr>\n",
       "    <tr>\n",
       "      <th>8</th>\n",
       "      <td>Excellent Opportunity For Freshers For AI/ML, ...</td>\n",
       "      <td>NTT Data</td>\n",
       "      <td>Noida, Kolkata, Hyderabad/Secunderabad, Pune, ...</td>\n",
       "    </tr>\n",
       "    <tr>\n",
       "      <th>9</th>\n",
       "      <td>Junior Data Scientist</td>\n",
       "      <td>Titan</td>\n",
       "      <td>Bangalore/Bengaluru</td>\n",
       "    </tr>\n",
       "  </tbody>\n",
       "</table>\n",
       "</div>"
      ],
      "text/plain": [
       "                                          Job Titles  \\\n",
       "0                           Data Scientist / Analyst   \n",
       "1                              Senior Data Scientist   \n",
       "2         Data Scientist II- Merchandise & Discovery   \n",
       "3    Forecasting Analyst/ Data Scientist (US Client)   \n",
       "4                 Consultant - Junior Data Scientist   \n",
       "5                                     Data Scientist   \n",
       "6                                     Data Scientist   \n",
       "7                           Principal Data Scientist   \n",
       "8  Excellent Opportunity For Freshers For AI/ML, ...   \n",
       "9                              Junior Data Scientist   \n",
       "\n",
       "                                  Company Names  \\\n",
       "0                              open data fabric   \n",
       "1                                      newscorp   \n",
       "2                                        Swiggy   \n",
       "3                                    Concentrix   \n",
       "4                                    Flexing It   \n",
       "5  VANTAGEIQ TECHNOLOGIES (OPC) PRIVATE LIMITED   \n",
       "6                                      newscorp   \n",
       "7  VANTAGEIQ TECHNOLOGIES (OPC) PRIVATE LIMITED   \n",
       "8                                      NTT Data   \n",
       "9                                         Titan   \n",
       "\n",
       "                                            Location  \n",
       "0                                Bangalore/Bengaluru  \n",
       "1                                Bangalore/Bengaluru  \n",
       "2                                Bangalore/Bengaluru  \n",
       "3  Gurgaon/Gurugram, Bangalore/Bengaluru\\n(WFH du...  \n",
       "4        Navi Mumbai, New Delhi, Bangalore/Bengaluru  \n",
       "5   Chennai, Bangalore/Bengaluru\\n(WFH during Covid)  \n",
       "6                                Bangalore/Bengaluru  \n",
       "7   Chennai, Bangalore/Bengaluru\\n(WFH during Covid)  \n",
       "8  Noida, Kolkata, Hyderabad/Secunderabad, Pune, ...  \n",
       "9                                Bangalore/Bengaluru  "
      ]
     },
     "execution_count": 44,
     "metadata": {},
     "output_type": "execute_result"
    }
   ],
   "source": [
    "Job"
   ]
  },
  {
   "cell_type": "code",
   "execution_count": null,
   "id": "3d16c041",
   "metadata": {},
   "outputs": [],
   "source": []
  }
 ],
 "metadata": {
  "kernelspec": {
   "display_name": "Python 3",
   "language": "python",
   "name": "python3"
  },
  "language_info": {
   "codemirror_mode": {
    "name": "ipython",
    "version": 3
   },
   "file_extension": ".py",
   "mimetype": "text/x-python",
   "name": "python",
   "nbconvert_exporter": "python",
   "pygments_lexer": "ipython3",
   "version": "3.8.8"
  }
 },
 "nbformat": 4,
 "nbformat_minor": 5
}
