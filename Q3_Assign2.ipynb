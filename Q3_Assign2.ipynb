{
 "cells": [
  {
   "cell_type": "code",
   "execution_count": 1,
   "id": "debc8949",
   "metadata": {},
   "outputs": [],
   "source": [
    "import pandas as pd\n",
    "import selenium \n",
    "from selenium import webdriver\n",
    "import warnings\n",
    "warnings.filterwarnings('ignore')"
   ]
  },
  {
   "cell_type": "code",
   "execution_count": 2,
   "id": "c9b396ad",
   "metadata": {},
   "outputs": [],
   "source": [
    "driver=webdriver.Chrome(r\"C:/Users/Darshan/Downloads/chromedriver_win32/chromedriver.exe\")"
   ]
  },
  {
   "cell_type": "code",
   "execution_count": 3,
   "id": "66422b1c",
   "metadata": {},
   "outputs": [],
   "source": [
    "url=\"https://www.naukri.com/\"\n",
    "driver.get(url)"
   ]
  },
  {
   "cell_type": "code",
   "execution_count": 4,
   "id": "21308f75",
   "metadata": {},
   "outputs": [
    {
     "data": {
      "text/plain": [
       "<selenium.webdriver.remote.webelement.WebElement (session=\"7aa3ef1322e662439a0975e1e8de0b23\", element=\"23441c56-e601-46da-a608-b8bdd7efcce0\")>"
      ]
     },
     "execution_count": 4,
     "metadata": {},
     "output_type": "execute_result"
    }
   ],
   "source": [
    "search_job=driver.find_element_by_class_name('suggestor-input')\n",
    "search_job"
   ]
  },
  {
   "cell_type": "code",
   "execution_count": 5,
   "id": "e07c2540",
   "metadata": {},
   "outputs": [],
   "source": [
    "search_job.send_keys('Data Scientist')"
   ]
  },
  {
   "cell_type": "code",
   "execution_count": 8,
   "id": "208fcccd",
   "metadata": {},
   "outputs": [],
   "source": [
    "btn=driver.find_element_by_xpath('//div[@class=\"qsbSubmit\"]')\n",
    "btn.click()"
   ]
  },
  {
   "cell_type": "code",
   "execution_count": 12,
   "id": "869a4833",
   "metadata": {},
   "outputs": [
    {
     "data": {
      "text/plain": [
       "<selenium.webdriver.remote.webelement.WebElement (session=\"7aa3ef1322e662439a0975e1e8de0b23\", element=\"51b75ebe-4ca5-4bdd-a7f6-425f44ad37f8\")>"
      ]
     },
     "execution_count": 12,
     "metadata": {},
     "output_type": "execute_result"
    }
   ],
   "source": [
    "loc=driver.find_element_by_xpath('/html/body/div[1]/div[3]/div[2]/section[1]/div[2]/div[3]/div[2]/div[3]/label/i')\n",
    "loc"
   ]
  },
  {
   "cell_type": "code",
   "execution_count": 13,
   "id": "a76e99b9",
   "metadata": {},
   "outputs": [],
   "source": [
    "loc.click()"
   ]
  },
  {
   "cell_type": "code",
   "execution_count": 14,
   "id": "a574faf7",
   "metadata": {},
   "outputs": [],
   "source": [
    "sal=driver.find_element_by_xpath('/html/body/div[1]/div[3]/div[2]/section[1]/div[2]/div[4]/div[2]/div[2]/label/i')\n",
    "sal.click()"
   ]
  },
  {
   "cell_type": "code",
   "execution_count": 18,
   "id": "2777b5ab",
   "metadata": {},
   "outputs": [
    {
     "data": {
      "text/plain": [
       "[<selenium.webdriver.remote.webelement.WebElement (session=\"7aa3ef1322e662439a0975e1e8de0b23\", element=\"e3b4911b-c45d-49ba-8def-4cd8966da795\")>,\n",
       " <selenium.webdriver.remote.webelement.WebElement (session=\"7aa3ef1322e662439a0975e1e8de0b23\", element=\"dbc6e76c-6e73-48ac-b919-340955ec83bf\")>,\n",
       " <selenium.webdriver.remote.webelement.WebElement (session=\"7aa3ef1322e662439a0975e1e8de0b23\", element=\"7ec38fcb-d32e-4e1a-9c8f-81b36ee73dfb\")>,\n",
       " <selenium.webdriver.remote.webelement.WebElement (session=\"7aa3ef1322e662439a0975e1e8de0b23\", element=\"813710cf-4d82-45eb-9e1e-0ee0a6aa5c04\")>,\n",
       " <selenium.webdriver.remote.webelement.WebElement (session=\"7aa3ef1322e662439a0975e1e8de0b23\", element=\"0f2ed2ae-17ce-4004-9546-d3b1dbbf52a4\")>,\n",
       " <selenium.webdriver.remote.webelement.WebElement (session=\"7aa3ef1322e662439a0975e1e8de0b23\", element=\"67661e41-03d6-439b-af9a-af96d48e71ed\")>,\n",
       " <selenium.webdriver.remote.webelement.WebElement (session=\"7aa3ef1322e662439a0975e1e8de0b23\", element=\"b99f05e5-572e-443d-b8ba-59af917d3f5e\")>,\n",
       " <selenium.webdriver.remote.webelement.WebElement (session=\"7aa3ef1322e662439a0975e1e8de0b23\", element=\"9b648a83-d3cf-43f6-baf5-e92ff76bd76f\")>,\n",
       " <selenium.webdriver.remote.webelement.WebElement (session=\"7aa3ef1322e662439a0975e1e8de0b23\", element=\"a541a0d0-cbbe-475a-a5e4-338b3c8a71c3\")>,\n",
       " <selenium.webdriver.remote.webelement.WebElement (session=\"7aa3ef1322e662439a0975e1e8de0b23\", element=\"d5ab2b3f-95d5-4d49-a927-a1aa215ffe15\")>,\n",
       " <selenium.webdriver.remote.webelement.WebElement (session=\"7aa3ef1322e662439a0975e1e8de0b23\", element=\"834840a8-6d05-4d49-ac75-ab9a16d41819\")>,\n",
       " <selenium.webdriver.remote.webelement.WebElement (session=\"7aa3ef1322e662439a0975e1e8de0b23\", element=\"f7602590-a3c8-4f89-8ff1-be3a56e3e279\")>,\n",
       " <selenium.webdriver.remote.webelement.WebElement (session=\"7aa3ef1322e662439a0975e1e8de0b23\", element=\"762db9d2-8ff7-4bbc-ae6a-80054793bd11\")>,\n",
       " <selenium.webdriver.remote.webelement.WebElement (session=\"7aa3ef1322e662439a0975e1e8de0b23\", element=\"f169f1c2-90c5-4e71-9287-d2d32f6408d2\")>,\n",
       " <selenium.webdriver.remote.webelement.WebElement (session=\"7aa3ef1322e662439a0975e1e8de0b23\", element=\"d6ede631-9857-4a8e-a650-5eb98c185d17\")>,\n",
       " <selenium.webdriver.remote.webelement.WebElement (session=\"7aa3ef1322e662439a0975e1e8de0b23\", element=\"f5f87603-b953-48c5-887b-f913f2db65eb\")>,\n",
       " <selenium.webdriver.remote.webelement.WebElement (session=\"7aa3ef1322e662439a0975e1e8de0b23\", element=\"5dfecd7a-24d3-4a8d-b6cd-a52e17e5cc58\")>,\n",
       " <selenium.webdriver.remote.webelement.WebElement (session=\"7aa3ef1322e662439a0975e1e8de0b23\", element=\"6e18655e-1f10-402b-bfdd-fb804a010390\")>,\n",
       " <selenium.webdriver.remote.webelement.WebElement (session=\"7aa3ef1322e662439a0975e1e8de0b23\", element=\"fc08a970-3254-43d4-be18-8051cf3f38e7\")>,\n",
       " <selenium.webdriver.remote.webelement.WebElement (session=\"7aa3ef1322e662439a0975e1e8de0b23\", element=\"06866471-4207-4f0c-89cb-e004da728901\")>]"
      ]
     },
     "execution_count": 18,
     "metadata": {},
     "output_type": "execute_result"
    }
   ],
   "source": [
    "job_tag=driver.find_elements_by_xpath('//a[@class=\"title fw500 ellipsis\"]')\n",
    "job_tag"
   ]
  },
  {
   "cell_type": "code",
   "execution_count": 20,
   "id": "cdfcd203",
   "metadata": {},
   "outputs": [
    {
     "data": {
      "text/plain": [
       "['Excellent Opportunity For Freshers For AI/ML, Data Scientist, BI, QA',\n",
       " 'Junior Data Analyst/ Scientist- Fresher Position',\n",
       " 'Only Fresher / Python Data Scientist / Trainee / Analytics - MNC Jobs',\n",
       " 'Data Scientist - MIND Infotech',\n",
       " 'Data Scientist - MIND Infotech',\n",
       " 'Hiring For Data Scientist',\n",
       " 'Lead Data Scientist',\n",
       " 'Urgent Requirement || Data Scientist || Noida',\n",
       " 'Data Analyst / Data Scientist / Business Analytics / Fresher - MNC',\n",
       " 'Data Scientist',\n",
       " 'Data Scientist',\n",
       " 'Senior Data Scientist',\n",
       " 'Lead Data Scientist - KYC/Fraud/Marketing',\n",
       " 'Open Project | IT Consulting | Data Scientist',\n",
       " 'Data Scientist',\n",
       " 'Data Scientist',\n",
       " 'Data Scientist',\n",
       " 'Data Scientist',\n",
       " 'Data Scientist',\n",
       " 'Data Scientist/Senior Scientist - Python/Spark/Hadoop']"
      ]
     },
     "execution_count": 20,
     "metadata": {},
     "output_type": "execute_result"
    }
   ],
   "source": [
    "job_title=[]\n",
    "for i in job_tag:\n",
    "    job_title.append(i.text)\n",
    "job_title"
   ]
  },
  {
   "cell_type": "code",
   "execution_count": 22,
   "id": "f28a6600",
   "metadata": {},
   "outputs": [
    {
     "data": {
      "text/plain": [
       "[<selenium.webdriver.remote.webelement.WebElement (session=\"7aa3ef1322e662439a0975e1e8de0b23\", element=\"655c1104-6723-49af-a65c-8f50ec6710c6\")>,\n",
       " <selenium.webdriver.remote.webelement.WebElement (session=\"7aa3ef1322e662439a0975e1e8de0b23\", element=\"ef3c2e1c-afd2-409a-b7ee-a3bf86264724\")>,\n",
       " <selenium.webdriver.remote.webelement.WebElement (session=\"7aa3ef1322e662439a0975e1e8de0b23\", element=\"dfd466fa-f0e4-41b7-b94a-0ff1e6cc3349\")>,\n",
       " <selenium.webdriver.remote.webelement.WebElement (session=\"7aa3ef1322e662439a0975e1e8de0b23\", element=\"a5500685-5ae7-47e8-8ce1-e0e29d6c7b3b\")>,\n",
       " <selenium.webdriver.remote.webelement.WebElement (session=\"7aa3ef1322e662439a0975e1e8de0b23\", element=\"be864adf-a0fe-4faa-8768-4824799c2623\")>,\n",
       " <selenium.webdriver.remote.webelement.WebElement (session=\"7aa3ef1322e662439a0975e1e8de0b23\", element=\"f7f1c02a-9cf3-4b23-9fc3-6f02edf88255\")>,\n",
       " <selenium.webdriver.remote.webelement.WebElement (session=\"7aa3ef1322e662439a0975e1e8de0b23\", element=\"d7c7698c-d860-4946-baef-2b4392c9ff74\")>,\n",
       " <selenium.webdriver.remote.webelement.WebElement (session=\"7aa3ef1322e662439a0975e1e8de0b23\", element=\"72e1d8d3-718e-4145-8e8d-31d33b4a9631\")>,\n",
       " <selenium.webdriver.remote.webelement.WebElement (session=\"7aa3ef1322e662439a0975e1e8de0b23\", element=\"45ca74ff-635f-4e63-8caf-cc0dd4614046\")>,\n",
       " <selenium.webdriver.remote.webelement.WebElement (session=\"7aa3ef1322e662439a0975e1e8de0b23\", element=\"f75809f8-21fe-4aba-9074-f814eebfeb13\")>,\n",
       " <selenium.webdriver.remote.webelement.WebElement (session=\"7aa3ef1322e662439a0975e1e8de0b23\", element=\"f03151d0-8bd7-4f4c-af83-181e66f98e5d\")>,\n",
       " <selenium.webdriver.remote.webelement.WebElement (session=\"7aa3ef1322e662439a0975e1e8de0b23\", element=\"a4a08bc6-b549-4ad4-8d7d-b397e061fc69\")>,\n",
       " <selenium.webdriver.remote.webelement.WebElement (session=\"7aa3ef1322e662439a0975e1e8de0b23\", element=\"f2a8e86c-427e-466a-a861-123da1c13ddd\")>,\n",
       " <selenium.webdriver.remote.webelement.WebElement (session=\"7aa3ef1322e662439a0975e1e8de0b23\", element=\"6edadd70-f0f5-450d-bc9a-d3e48d2bc72f\")>,\n",
       " <selenium.webdriver.remote.webelement.WebElement (session=\"7aa3ef1322e662439a0975e1e8de0b23\", element=\"839485a7-ff29-4e2e-a37a-d193279ee4a7\")>,\n",
       " <selenium.webdriver.remote.webelement.WebElement (session=\"7aa3ef1322e662439a0975e1e8de0b23\", element=\"819a8633-32e0-43d8-a309-70c8d7f46dee\")>,\n",
       " <selenium.webdriver.remote.webelement.WebElement (session=\"7aa3ef1322e662439a0975e1e8de0b23\", element=\"00c47b78-2e96-44d5-94f1-1aba6255403e\")>,\n",
       " <selenium.webdriver.remote.webelement.WebElement (session=\"7aa3ef1322e662439a0975e1e8de0b23\", element=\"85e9a5bd-8879-43a5-9005-f721c229b8d7\")>,\n",
       " <selenium.webdriver.remote.webelement.WebElement (session=\"7aa3ef1322e662439a0975e1e8de0b23\", element=\"82abaac8-fd86-4e0a-948d-9c299416c15b\")>,\n",
       " <selenium.webdriver.remote.webelement.WebElement (session=\"7aa3ef1322e662439a0975e1e8de0b23\", element=\"a9dd2d82-1dbd-43e8-bd85-e6f2153ee556\")>]"
      ]
     },
     "execution_count": 22,
     "metadata": {},
     "output_type": "execute_result"
    }
   ],
   "source": [
    "comp=driver.find_elements_by_xpath('//a[@class=\"subTitle ellipsis fleft\"]')\n",
    "comp"
   ]
  },
  {
   "cell_type": "code",
   "execution_count": 24,
   "id": "f7e463b1",
   "metadata": {},
   "outputs": [
    {
     "data": {
      "text/plain": [
       "['NTT Data',\n",
       " 'Sejal Consulting Hub',\n",
       " 'GABA Consultancy services',\n",
       " 'MOTHERSONSUMI INFOTECH & DESIGNS LIMITED',\n",
       " 'MOTHERSONSUMI INFOTECH & DESIGNS LIMITED',\n",
       " 'Lumiq.ai',\n",
       " 'Indihire HR Consultants Private Limited',\n",
       " 'HCL',\n",
       " 'GABA Consultancy services',\n",
       " 'Boston Consulting Group',\n",
       " 'Stefanini',\n",
       " 'iNICU',\n",
       " 'Tide Software',\n",
       " 'Virtuoso Staffing Solutions Pvt Ltd',\n",
       " 'BlackBuck',\n",
       " 'Country Veggie',\n",
       " 'NAVIKENZ INDIA PRIVATE LIMITED',\n",
       " 'Mahajan Imaging',\n",
       " 'Mahajan Imaging',\n",
       " 'Connexions']"
      ]
     },
     "execution_count": 24,
     "metadata": {},
     "output_type": "execute_result"
    }
   ],
   "source": [
    "compy=[]\n",
    "for i in comp:\n",
    "    compy.append(i.text)\n",
    "compy"
   ]
  },
  {
   "cell_type": "code",
   "execution_count": 45,
   "id": "2a54769a",
   "metadata": {},
   "outputs": [
    {
     "data": {
      "text/plain": [
       "[<selenium.webdriver.remote.webelement.WebElement (session=\"7aa3ef1322e662439a0975e1e8de0b23\", element=\"ab2bd414-836d-415b-8849-abf14382946a\")>,\n",
       " <selenium.webdriver.remote.webelement.WebElement (session=\"7aa3ef1322e662439a0975e1e8de0b23\", element=\"731c8c04-c169-464a-9bb9-5724c33121d7\")>,\n",
       " <selenium.webdriver.remote.webelement.WebElement (session=\"7aa3ef1322e662439a0975e1e8de0b23\", element=\"1abdf193-95b3-4381-89b6-437cf35a3b51\")>,\n",
       " <selenium.webdriver.remote.webelement.WebElement (session=\"7aa3ef1322e662439a0975e1e8de0b23\", element=\"cb4d29e6-44fa-4ecd-88c9-b4044868a584\")>,\n",
       " <selenium.webdriver.remote.webelement.WebElement (session=\"7aa3ef1322e662439a0975e1e8de0b23\", element=\"6d4b8603-0ed9-4f01-9d82-c5be866f8eed\")>,\n",
       " <selenium.webdriver.remote.webelement.WebElement (session=\"7aa3ef1322e662439a0975e1e8de0b23\", element=\"27afa970-11d6-4e66-a39b-9818e3944efd\")>,\n",
       " <selenium.webdriver.remote.webelement.WebElement (session=\"7aa3ef1322e662439a0975e1e8de0b23\", element=\"2047a6d5-cde8-4ffc-9d8b-3c9bd000695b\")>,\n",
       " <selenium.webdriver.remote.webelement.WebElement (session=\"7aa3ef1322e662439a0975e1e8de0b23\", element=\"ee79e68a-bdaf-42ce-b0cd-4f20eb05076c\")>,\n",
       " <selenium.webdriver.remote.webelement.WebElement (session=\"7aa3ef1322e662439a0975e1e8de0b23\", element=\"d39f87cf-46c5-4dde-98e5-d659903e6a76\")>,\n",
       " <selenium.webdriver.remote.webelement.WebElement (session=\"7aa3ef1322e662439a0975e1e8de0b23\", element=\"55256358-7a8e-4001-8621-50141371b4e2\")>,\n",
       " <selenium.webdriver.remote.webelement.WebElement (session=\"7aa3ef1322e662439a0975e1e8de0b23\", element=\"40bc4a03-8c8d-4b05-95af-14a85ec290e7\")>,\n",
       " <selenium.webdriver.remote.webelement.WebElement (session=\"7aa3ef1322e662439a0975e1e8de0b23\", element=\"bc52afa6-b6c2-495f-8f75-7cc5f0cddc8f\")>,\n",
       " <selenium.webdriver.remote.webelement.WebElement (session=\"7aa3ef1322e662439a0975e1e8de0b23\", element=\"d430203a-8eec-4174-8b12-0aa43f3cc5d3\")>,\n",
       " <selenium.webdriver.remote.webelement.WebElement (session=\"7aa3ef1322e662439a0975e1e8de0b23\", element=\"0950aa33-eaee-4993-b6f7-2ffee0255f9c\")>,\n",
       " <selenium.webdriver.remote.webelement.WebElement (session=\"7aa3ef1322e662439a0975e1e8de0b23\", element=\"1fe6bd75-402f-49cd-9ac9-1168ed19a94d\")>,\n",
       " <selenium.webdriver.remote.webelement.WebElement (session=\"7aa3ef1322e662439a0975e1e8de0b23\", element=\"c8daebd5-8975-4d3a-bf1e-405082d654c4\")>,\n",
       " <selenium.webdriver.remote.webelement.WebElement (session=\"7aa3ef1322e662439a0975e1e8de0b23\", element=\"bf6adde6-eb9f-4509-8d5c-ee805d3e341f\")>,\n",
       " <selenium.webdriver.remote.webelement.WebElement (session=\"7aa3ef1322e662439a0975e1e8de0b23\", element=\"da8f205f-9381-4330-990d-1c4c0a36250d\")>,\n",
       " <selenium.webdriver.remote.webelement.WebElement (session=\"7aa3ef1322e662439a0975e1e8de0b23\", element=\"327249a9-288f-4cd1-978e-a4cafe0eb5a5\")>,\n",
       " <selenium.webdriver.remote.webelement.WebElement (session=\"7aa3ef1322e662439a0975e1e8de0b23\", element=\"e20968d3-a419-4377-a668-e159972fffd3\")>]"
      ]
     },
     "execution_count": 45,
     "metadata": {},
     "output_type": "execute_result"
    }
   ],
   "source": [
    "loc_tags=driver.find_elements_by_xpath('//li[@class=\"fleft grey-text br2 placeHolderLi location\"]')\n",
    "loc_tags"
   ]
  },
  {
   "cell_type": "code",
   "execution_count": 48,
   "id": "d0698456",
   "metadata": {},
   "outputs": [
    {
     "data": {
      "text/plain": [
       "['Noida, Kolkata, Hyderabad/Secunderabad, Pune, Chennai, Bangalore/Bengaluru, Delhi / NCR, Mumbai (All Areas)\\n(WFH during Covid)',\n",
       " 'Kolkata, Hyderabad/Secunderabad, Pune, Ahmedabad, Chennai, Bangalore/Bengaluru, Delhi / NCR, Mumbai (All Areas)\\n(WFH during Covid)',\n",
       " 'Noida, New Delhi, Gurgaon/Gurugram',\n",
       " 'Noida',\n",
       " 'Noida',\n",
       " 'Noida, Pune, Mumbai (All Areas)',\n",
       " 'Delhi / NCR\\n(WFH during Covid)',\n",
       " 'Noida, Delhi / NCR',\n",
       " 'Noida, New Delhi, Delhi / NCR',\n",
       " 'New Delhi',\n",
       " 'Noida',\n",
       " 'Delhi',\n",
       " 'New Delhi',\n",
       " 'Noida, New Delhi, Bangalore Rural, Bangalore/Bengaluru, Delhi / NCR\\n(WFH during Covid)',\n",
       " 'Gurgaon, Bengaluru',\n",
       " 'Bharuch, Jaipur, Bhopal, Mumbai, Jhansi, Nagpur, Ghaziabad, Jaunpur, Kanpur, Delhi, Lucknow, Agra, Gurgaon, Rajkot, Bengaluru',\n",
       " 'Hyderabad/Secunderabad, Bangalore/Bengaluru, Delhi / NCR\\n(WFH during Covid)',\n",
       " 'Delhi',\n",
       " 'Delhi',\n",
       " 'Gurgaon/Gurugram']"
      ]
     },
     "execution_count": 48,
     "metadata": {},
     "output_type": "execute_result"
    }
   ],
   "source": [
    "locn=[]\n",
    "for i in loc_tags:\n",
    "    locn.append(i.text)\n",
    "locn"
   ]
  },
  {
   "cell_type": "code",
   "execution_count": 49,
   "id": "51b33e06",
   "metadata": {},
   "outputs": [
    {
     "data": {
      "text/plain": [
       "20"
      ]
     },
     "execution_count": 49,
     "metadata": {},
     "output_type": "execute_result"
    }
   ],
   "source": [
    "len(locn)"
   ]
  },
  {
   "cell_type": "code",
   "execution_count": 52,
   "id": "024401ba",
   "metadata": {},
   "outputs": [
    {
     "data": {
      "text/plain": [
       "[<selenium.webdriver.remote.webelement.WebElement (session=\"7aa3ef1322e662439a0975e1e8de0b23\", element=\"5e6f8aa1-a4de-4306-9863-7af3bb7545f5\")>,\n",
       " <selenium.webdriver.remote.webelement.WebElement (session=\"7aa3ef1322e662439a0975e1e8de0b23\", element=\"28de284a-cdcb-4b68-bc25-50d8b295ca91\")>,\n",
       " <selenium.webdriver.remote.webelement.WebElement (session=\"7aa3ef1322e662439a0975e1e8de0b23\", element=\"58f38e4f-c142-4c85-8e51-381b58f771af\")>,\n",
       " <selenium.webdriver.remote.webelement.WebElement (session=\"7aa3ef1322e662439a0975e1e8de0b23\", element=\"8b8c5410-bb0f-4eb3-9977-a9758f88bfd4\")>,\n",
       " <selenium.webdriver.remote.webelement.WebElement (session=\"7aa3ef1322e662439a0975e1e8de0b23\", element=\"6f964f4c-e905-42d5-8c5e-fe15df65de54\")>,\n",
       " <selenium.webdriver.remote.webelement.WebElement (session=\"7aa3ef1322e662439a0975e1e8de0b23\", element=\"f27fd10f-2290-4f14-99b1-5dbe0ac1a6fe\")>,\n",
       " <selenium.webdriver.remote.webelement.WebElement (session=\"7aa3ef1322e662439a0975e1e8de0b23\", element=\"bfca036f-2f4f-4085-a9f2-250136ed5bad\")>,\n",
       " <selenium.webdriver.remote.webelement.WebElement (session=\"7aa3ef1322e662439a0975e1e8de0b23\", element=\"661ab622-8648-4d9f-8ac7-5a611f86f2be\")>,\n",
       " <selenium.webdriver.remote.webelement.WebElement (session=\"7aa3ef1322e662439a0975e1e8de0b23\", element=\"27127b66-a809-43d9-8d93-9346d9da1a15\")>,\n",
       " <selenium.webdriver.remote.webelement.WebElement (session=\"7aa3ef1322e662439a0975e1e8de0b23\", element=\"f6636eac-29ea-45d4-89d6-3181bd62d497\")>,\n",
       " <selenium.webdriver.remote.webelement.WebElement (session=\"7aa3ef1322e662439a0975e1e8de0b23\", element=\"58231fee-2dc5-46f6-8cd1-370afeb548cf\")>,\n",
       " <selenium.webdriver.remote.webelement.WebElement (session=\"7aa3ef1322e662439a0975e1e8de0b23\", element=\"26a8a286-59c4-4044-92b9-e923a0435c2c\")>,\n",
       " <selenium.webdriver.remote.webelement.WebElement (session=\"7aa3ef1322e662439a0975e1e8de0b23\", element=\"dba07c4a-2006-4ff9-8ec3-3b0777293eb5\")>,\n",
       " <selenium.webdriver.remote.webelement.WebElement (session=\"7aa3ef1322e662439a0975e1e8de0b23\", element=\"a609aab0-f362-4500-ab46-bf117367f5ce\")>,\n",
       " <selenium.webdriver.remote.webelement.WebElement (session=\"7aa3ef1322e662439a0975e1e8de0b23\", element=\"34c744cc-915e-4c41-8825-247f88086642\")>,\n",
       " <selenium.webdriver.remote.webelement.WebElement (session=\"7aa3ef1322e662439a0975e1e8de0b23\", element=\"8bc62580-833c-45da-aca8-f558ec7b5e97\")>,\n",
       " <selenium.webdriver.remote.webelement.WebElement (session=\"7aa3ef1322e662439a0975e1e8de0b23\", element=\"4f89cc42-292e-4cb4-b32b-b08356a732ec\")>,\n",
       " <selenium.webdriver.remote.webelement.WebElement (session=\"7aa3ef1322e662439a0975e1e8de0b23\", element=\"c8bd862f-e02d-4b64-a7ae-a945411fe85d\")>,\n",
       " <selenium.webdriver.remote.webelement.WebElement (session=\"7aa3ef1322e662439a0975e1e8de0b23\", element=\"b7eb7f79-2103-4c33-83dc-3a56ea268999\")>,\n",
       " <selenium.webdriver.remote.webelement.WebElement (session=\"7aa3ef1322e662439a0975e1e8de0b23\", element=\"6455f663-8d54-4ea0-b5d1-d2f6e7290e55\")>]"
      ]
     },
     "execution_count": 52,
     "metadata": {},
     "output_type": "execute_result"
    }
   ],
   "source": [
    "exp=driver.find_elements_by_xpath('//li[@class=\"fleft grey-text br2 placeHolderLi experience\"]')\n",
    "\n",
    "exp"
   ]
  },
  {
   "cell_type": "code",
   "execution_count": 53,
   "id": "0a43e7ed",
   "metadata": {},
   "outputs": [
    {
     "data": {
      "text/plain": [
       "['0-0 Yrs',\n",
       " '0-3 Yrs',\n",
       " '0-0 Yrs',\n",
       " '4-8 Yrs',\n",
       " '4-8 Yrs',\n",
       " '2-7 Yrs',\n",
       " '2-4 Yrs',\n",
       " '3-8 Yrs',\n",
       " '0-0 Yrs',\n",
       " '2-5 Yrs',\n",
       " '3-8 Yrs',\n",
       " '1-5 Yrs',\n",
       " '1-6 Yrs',\n",
       " '5-10 Yrs',\n",
       " '3-7 Yrs',\n",
       " '1-3 Yrs',\n",
       " '2-5 Yrs',\n",
       " '2-6 Yrs',\n",
       " '2-6 Yrs',\n",
       " '2-6 Yrs']"
      ]
     },
     "execution_count": 53,
     "metadata": {},
     "output_type": "execute_result"
    }
   ],
   "source": [
    "expr=[]\n",
    "for i in exp:\n",
    "    expr.append(i.text)\n",
    "expr"
   ]
  },
  {
   "cell_type": "code",
   "execution_count": 54,
   "id": "b881a7a1",
   "metadata": {},
   "outputs": [],
   "source": [
    "Job=pd.DataFrame({'Job_title':job_title[0:10],'Company_name':compy[0:10],'Experience':expr[0:10],'Location':locn[0:10]})"
   ]
  },
  {
   "cell_type": "code",
   "execution_count": 56,
   "id": "f232b4eb",
   "metadata": {},
   "outputs": [
    {
     "data": {
      "text/html": [
       "<div>\n",
       "<style scoped>\n",
       "    .dataframe tbody tr th:only-of-type {\n",
       "        vertical-align: middle;\n",
       "    }\n",
       "\n",
       "    .dataframe tbody tr th {\n",
       "        vertical-align: top;\n",
       "    }\n",
       "\n",
       "    .dataframe thead th {\n",
       "        text-align: right;\n",
       "    }\n",
       "</style>\n",
       "<table border=\"1\" class=\"dataframe\">\n",
       "  <thead>\n",
       "    <tr style=\"text-align: right;\">\n",
       "      <th></th>\n",
       "      <th>Job_title</th>\n",
       "      <th>Company_name</th>\n",
       "      <th>Experience</th>\n",
       "      <th>Location</th>\n",
       "    </tr>\n",
       "  </thead>\n",
       "  <tbody>\n",
       "    <tr>\n",
       "      <th>0</th>\n",
       "      <td>Excellent Opportunity For Freshers For AI/ML, ...</td>\n",
       "      <td>NTT Data</td>\n",
       "      <td>0-0 Yrs</td>\n",
       "      <td>Noida, Kolkata, Hyderabad/Secunderabad, Pune, ...</td>\n",
       "    </tr>\n",
       "    <tr>\n",
       "      <th>1</th>\n",
       "      <td>Junior Data Analyst/ Scientist- Fresher Position</td>\n",
       "      <td>Sejal Consulting Hub</td>\n",
       "      <td>0-3 Yrs</td>\n",
       "      <td>Kolkata, Hyderabad/Secunderabad, Pune, Ahmedab...</td>\n",
       "    </tr>\n",
       "    <tr>\n",
       "      <th>2</th>\n",
       "      <td>Only Fresher / Python Data Scientist / Trainee...</td>\n",
       "      <td>GABA Consultancy services</td>\n",
       "      <td>0-0 Yrs</td>\n",
       "      <td>Noida, New Delhi, Gurgaon/Gurugram</td>\n",
       "    </tr>\n",
       "    <tr>\n",
       "      <th>3</th>\n",
       "      <td>Data Scientist - MIND Infotech</td>\n",
       "      <td>MOTHERSONSUMI INFOTECH &amp; DESIGNS LIMITED</td>\n",
       "      <td>4-8 Yrs</td>\n",
       "      <td>Noida</td>\n",
       "    </tr>\n",
       "    <tr>\n",
       "      <th>4</th>\n",
       "      <td>Data Scientist - MIND Infotech</td>\n",
       "      <td>MOTHERSONSUMI INFOTECH &amp; DESIGNS LIMITED</td>\n",
       "      <td>4-8 Yrs</td>\n",
       "      <td>Noida</td>\n",
       "    </tr>\n",
       "    <tr>\n",
       "      <th>5</th>\n",
       "      <td>Hiring For Data Scientist</td>\n",
       "      <td>Lumiq.ai</td>\n",
       "      <td>2-7 Yrs</td>\n",
       "      <td>Noida, Pune, Mumbai (All Areas)</td>\n",
       "    </tr>\n",
       "    <tr>\n",
       "      <th>6</th>\n",
       "      <td>Lead Data Scientist</td>\n",
       "      <td>Indihire HR Consultants Private Limited</td>\n",
       "      <td>2-4 Yrs</td>\n",
       "      <td>Delhi / NCR\\n(WFH during Covid)</td>\n",
       "    </tr>\n",
       "    <tr>\n",
       "      <th>7</th>\n",
       "      <td>Urgent Requirement || Data Scientist || Noida</td>\n",
       "      <td>HCL</td>\n",
       "      <td>3-8 Yrs</td>\n",
       "      <td>Noida, Delhi / NCR</td>\n",
       "    </tr>\n",
       "    <tr>\n",
       "      <th>8</th>\n",
       "      <td>Data Analyst / Data Scientist / Business Analy...</td>\n",
       "      <td>GABA Consultancy services</td>\n",
       "      <td>0-0 Yrs</td>\n",
       "      <td>Noida, New Delhi, Delhi / NCR</td>\n",
       "    </tr>\n",
       "    <tr>\n",
       "      <th>9</th>\n",
       "      <td>Data Scientist</td>\n",
       "      <td>Boston Consulting Group</td>\n",
       "      <td>2-5 Yrs</td>\n",
       "      <td>New Delhi</td>\n",
       "    </tr>\n",
       "  </tbody>\n",
       "</table>\n",
       "</div>"
      ],
      "text/plain": [
       "                                           Job_title  \\\n",
       "0  Excellent Opportunity For Freshers For AI/ML, ...   \n",
       "1   Junior Data Analyst/ Scientist- Fresher Position   \n",
       "2  Only Fresher / Python Data Scientist / Trainee...   \n",
       "3                     Data Scientist - MIND Infotech   \n",
       "4                     Data Scientist - MIND Infotech   \n",
       "5                          Hiring For Data Scientist   \n",
       "6                                Lead Data Scientist   \n",
       "7      Urgent Requirement || Data Scientist || Noida   \n",
       "8  Data Analyst / Data Scientist / Business Analy...   \n",
       "9                                     Data Scientist   \n",
       "\n",
       "                               Company_name Experience  \\\n",
       "0                                  NTT Data    0-0 Yrs   \n",
       "1                      Sejal Consulting Hub    0-3 Yrs   \n",
       "2                 GABA Consultancy services    0-0 Yrs   \n",
       "3  MOTHERSONSUMI INFOTECH & DESIGNS LIMITED    4-8 Yrs   \n",
       "4  MOTHERSONSUMI INFOTECH & DESIGNS LIMITED    4-8 Yrs   \n",
       "5                                  Lumiq.ai    2-7 Yrs   \n",
       "6   Indihire HR Consultants Private Limited    2-4 Yrs   \n",
       "7                                       HCL    3-8 Yrs   \n",
       "8                 GABA Consultancy services    0-0 Yrs   \n",
       "9                   Boston Consulting Group    2-5 Yrs   \n",
       "\n",
       "                                            Location  \n",
       "0  Noida, Kolkata, Hyderabad/Secunderabad, Pune, ...  \n",
       "1  Kolkata, Hyderabad/Secunderabad, Pune, Ahmedab...  \n",
       "2                 Noida, New Delhi, Gurgaon/Gurugram  \n",
       "3                                              Noida  \n",
       "4                                              Noida  \n",
       "5                    Noida, Pune, Mumbai (All Areas)  \n",
       "6                    Delhi / NCR\\n(WFH during Covid)  \n",
       "7                                 Noida, Delhi / NCR  \n",
       "8                      Noida, New Delhi, Delhi / NCR  \n",
       "9                                          New Delhi  "
      ]
     },
     "execution_count": 56,
     "metadata": {},
     "output_type": "execute_result"
    }
   ],
   "source": [
    "Job"
   ]
  },
  {
   "cell_type": "code",
   "execution_count": null,
   "id": "b3ec4fef",
   "metadata": {},
   "outputs": [],
   "source": []
  }
 ],
 "metadata": {
  "kernelspec": {
   "display_name": "Python 3",
   "language": "python",
   "name": "python3"
  },
  "language_info": {
   "codemirror_mode": {
    "name": "ipython",
    "version": 3
   },
   "file_extension": ".py",
   "mimetype": "text/x-python",
   "name": "python",
   "nbconvert_exporter": "python",
   "pygments_lexer": "ipython3",
   "version": "3.8.8"
  }
 },
 "nbformat": 4,
 "nbformat_minor": 5
}
