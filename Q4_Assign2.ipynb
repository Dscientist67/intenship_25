{
 "cells": [
  {
   "cell_type": "code",
   "execution_count": 1,
   "id": "74c60dde",
   "metadata": {},
   "outputs": [],
   "source": [
    "import pandas as pd\n",
    "import selenium \n",
    "from selenium import webdriver\n",
    "import warnings\n",
    "warnings.filterwarnings('ignore')\n",
    "driver=webdriver.Chrome(r\"C:/Users/Darshan/Downloads/chromedriver_win32/chromedriver.exe\")"
   ]
  },
  {
   "cell_type": "code",
   "execution_count": 2,
   "id": "c4784c9d",
   "metadata": {},
   "outputs": [],
   "source": [
    "url=' https://www.flipkart.com/'\n",
    "driver.get(url)"
   ]
  },
  {
   "cell_type": "code",
   "execution_count": 3,
   "id": "596bca90",
   "metadata": {},
   "outputs": [
    {
     "data": {
      "text/plain": [
       "<selenium.webdriver.remote.webelement.WebElement (session=\"50778d6f8bb44b7d40b1ca1c50203e4d\", element=\"d441cf31-ba8f-43d7-b63e-4e041be7b46c\")>"
      ]
     },
     "execution_count": 3,
     "metadata": {},
     "output_type": "execute_result"
    }
   ],
   "source": [
    "srch=driver.find_element_by_xpath('/html/body/div[1]/div/div[1]/div[1]/div[2]/div[2]/form/div/div/input')\n",
    "srch"
   ]
  },
  {
   "cell_type": "code",
   "execution_count": 4,
   "id": "80e4f2f2",
   "metadata": {},
   "outputs": [],
   "source": [
    "srch.send_keys('sunglasses')"
   ]
  },
  {
   "cell_type": "code",
   "execution_count": 5,
   "id": "a9a63a7f",
   "metadata": {},
   "outputs": [],
   "source": [
    "btn=driver.find_element_by_xpath('/html/body/div[1]/div/div[1]/div[1]/div[2]/div[2]/form/div/button')\n",
    "btn.click()"
   ]
  },
  {
   "cell_type": "code",
   "execution_count": 6,
   "id": "585224f5",
   "metadata": {},
   "outputs": [
    {
     "data": {
      "text/plain": [
       "[<selenium.webdriver.remote.webelement.WebElement (session=\"50778d6f8bb44b7d40b1ca1c50203e4d\", element=\"fed55442-9a94-463f-9bc0-74e476a1bc60\")>,\n",
       " <selenium.webdriver.remote.webelement.WebElement (session=\"50778d6f8bb44b7d40b1ca1c50203e4d\", element=\"ac728b8b-21c9-436e-8015-bc0bbd86c2da\")>,\n",
       " <selenium.webdriver.remote.webelement.WebElement (session=\"50778d6f8bb44b7d40b1ca1c50203e4d\", element=\"d96837d9-d7f2-4be0-86af-04c9989950f5\")>,\n",
       " <selenium.webdriver.remote.webelement.WebElement (session=\"50778d6f8bb44b7d40b1ca1c50203e4d\", element=\"054edb4b-3cd5-4709-957c-f569e40e5bc5\")>,\n",
       " <selenium.webdriver.remote.webelement.WebElement (session=\"50778d6f8bb44b7d40b1ca1c50203e4d\", element=\"749bbd80-ef7e-43ea-b5fd-c054f636c829\")>,\n",
       " <selenium.webdriver.remote.webelement.WebElement (session=\"50778d6f8bb44b7d40b1ca1c50203e4d\", element=\"926f11ae-1df8-40dd-a3bc-b829455d7015\")>,\n",
       " <selenium.webdriver.remote.webelement.WebElement (session=\"50778d6f8bb44b7d40b1ca1c50203e4d\", element=\"721921a0-3148-4d07-a6f3-78ab900cb95e\")>,\n",
       " <selenium.webdriver.remote.webelement.WebElement (session=\"50778d6f8bb44b7d40b1ca1c50203e4d\", element=\"18740cbb-af9e-4665-9a9e-55e18e9841f6\")>,\n",
       " <selenium.webdriver.remote.webelement.WebElement (session=\"50778d6f8bb44b7d40b1ca1c50203e4d\", element=\"5680a15b-fdf9-4656-b010-de1f21966f73\")>,\n",
       " <selenium.webdriver.remote.webelement.WebElement (session=\"50778d6f8bb44b7d40b1ca1c50203e4d\", element=\"ba4d2282-f1ec-4634-ad5c-34053b9a0e0a\")>,\n",
       " <selenium.webdriver.remote.webelement.WebElement (session=\"50778d6f8bb44b7d40b1ca1c50203e4d\", element=\"83e37aa1-ecf1-4134-8448-e539a4578347\")>,\n",
       " <selenium.webdriver.remote.webelement.WebElement (session=\"50778d6f8bb44b7d40b1ca1c50203e4d\", element=\"c7e8a46e-c2d6-4f4b-b9af-70a01ca394a9\")>,\n",
       " <selenium.webdriver.remote.webelement.WebElement (session=\"50778d6f8bb44b7d40b1ca1c50203e4d\", element=\"567e3cf7-2b46-4125-aa83-70096045e1cb\")>,\n",
       " <selenium.webdriver.remote.webelement.WebElement (session=\"50778d6f8bb44b7d40b1ca1c50203e4d\", element=\"214390da-fae9-4102-8cde-cfd6b91916f1\")>,\n",
       " <selenium.webdriver.remote.webelement.WebElement (session=\"50778d6f8bb44b7d40b1ca1c50203e4d\", element=\"669b7f0a-4f60-4bbb-8cee-2674daa4fb8a\")>,\n",
       " <selenium.webdriver.remote.webelement.WebElement (session=\"50778d6f8bb44b7d40b1ca1c50203e4d\", element=\"9c93bde5-0f2a-464a-81bb-b7fd23f903f9\")>,\n",
       " <selenium.webdriver.remote.webelement.WebElement (session=\"50778d6f8bb44b7d40b1ca1c50203e4d\", element=\"aa01e1f7-4e2d-4e40-a57e-b3b605a680e8\")>,\n",
       " <selenium.webdriver.remote.webelement.WebElement (session=\"50778d6f8bb44b7d40b1ca1c50203e4d\", element=\"63077d31-737b-448a-bd70-c088794c69eb\")>,\n",
       " <selenium.webdriver.remote.webelement.WebElement (session=\"50778d6f8bb44b7d40b1ca1c50203e4d\", element=\"b4c43b46-5d03-4b35-b557-ef0121700396\")>,\n",
       " <selenium.webdriver.remote.webelement.WebElement (session=\"50778d6f8bb44b7d40b1ca1c50203e4d\", element=\"01cadfa0-a6bc-4935-b0be-40dc897cd583\")>,\n",
       " <selenium.webdriver.remote.webelement.WebElement (session=\"50778d6f8bb44b7d40b1ca1c50203e4d\", element=\"0b058ed6-8d3e-46c3-82b5-25ca86420296\")>,\n",
       " <selenium.webdriver.remote.webelement.WebElement (session=\"50778d6f8bb44b7d40b1ca1c50203e4d\", element=\"c1deec09-72e6-4b27-9c4d-611b96bdb043\")>,\n",
       " <selenium.webdriver.remote.webelement.WebElement (session=\"50778d6f8bb44b7d40b1ca1c50203e4d\", element=\"cd0a9a27-f2b3-43c0-834a-00568a3e5033\")>,\n",
       " <selenium.webdriver.remote.webelement.WebElement (session=\"50778d6f8bb44b7d40b1ca1c50203e4d\", element=\"c2a166e4-fe7f-4e69-a173-d01f7bb31fed\")>,\n",
       " <selenium.webdriver.remote.webelement.WebElement (session=\"50778d6f8bb44b7d40b1ca1c50203e4d\", element=\"6ef9b004-19f5-4606-8da2-8fdb8a7e7cca\")>,\n",
       " <selenium.webdriver.remote.webelement.WebElement (session=\"50778d6f8bb44b7d40b1ca1c50203e4d\", element=\"d7264a5d-fbcc-412c-bb27-5459965ff820\")>,\n",
       " <selenium.webdriver.remote.webelement.WebElement (session=\"50778d6f8bb44b7d40b1ca1c50203e4d\", element=\"07294c4d-5148-4bee-894e-2bf6a7afeeec\")>,\n",
       " <selenium.webdriver.remote.webelement.WebElement (session=\"50778d6f8bb44b7d40b1ca1c50203e4d\", element=\"321fec76-8100-4fee-9128-4efbab459cd9\")>,\n",
       " <selenium.webdriver.remote.webelement.WebElement (session=\"50778d6f8bb44b7d40b1ca1c50203e4d\", element=\"89e9ca14-3716-4c5c-8212-12c9f3ed7f5f\")>,\n",
       " <selenium.webdriver.remote.webelement.WebElement (session=\"50778d6f8bb44b7d40b1ca1c50203e4d\", element=\"06092492-2ffb-4349-9a0c-0efae2e5f3c7\")>,\n",
       " <selenium.webdriver.remote.webelement.WebElement (session=\"50778d6f8bb44b7d40b1ca1c50203e4d\", element=\"eddabf09-4392-492b-950f-4e4a3749d718\")>,\n",
       " <selenium.webdriver.remote.webelement.WebElement (session=\"50778d6f8bb44b7d40b1ca1c50203e4d\", element=\"8b2fff77-c900-4bff-bcb9-8acacda75f81\")>,\n",
       " <selenium.webdriver.remote.webelement.WebElement (session=\"50778d6f8bb44b7d40b1ca1c50203e4d\", element=\"a48b7dfe-d35f-4281-8b0e-326ddba44353\")>,\n",
       " <selenium.webdriver.remote.webelement.WebElement (session=\"50778d6f8bb44b7d40b1ca1c50203e4d\", element=\"0a6e96ec-181c-4c5e-ac19-412c7cc25fa8\")>,\n",
       " <selenium.webdriver.remote.webelement.WebElement (session=\"50778d6f8bb44b7d40b1ca1c50203e4d\", element=\"e9c3adc7-ed7e-464a-88bd-e999e299f5dd\")>,\n",
       " <selenium.webdriver.remote.webelement.WebElement (session=\"50778d6f8bb44b7d40b1ca1c50203e4d\", element=\"cfb57539-fd55-4566-8b26-aa5e25e6abd5\")>,\n",
       " <selenium.webdriver.remote.webelement.WebElement (session=\"50778d6f8bb44b7d40b1ca1c50203e4d\", element=\"e4d5ff1f-36f5-44fb-9fb6-3dea1ba81da4\")>,\n",
       " <selenium.webdriver.remote.webelement.WebElement (session=\"50778d6f8bb44b7d40b1ca1c50203e4d\", element=\"5f9025c9-e5ce-41b5-beea-edd706a1f018\")>,\n",
       " <selenium.webdriver.remote.webelement.WebElement (session=\"50778d6f8bb44b7d40b1ca1c50203e4d\", element=\"9ffb5d07-1d38-482b-ba27-f6e1598d4362\")>,\n",
       " <selenium.webdriver.remote.webelement.WebElement (session=\"50778d6f8bb44b7d40b1ca1c50203e4d\", element=\"912abe24-d6d1-4377-888f-f9a5b6b0a0a3\")>]"
      ]
     },
     "execution_count": 6,
     "metadata": {},
     "output_type": "execute_result"
    }
   ],
   "source": [
    "br1=driver.find_elements_by_xpath('//div[@class=\"_2WkVRV\"]')\n",
    "br1"
   ]
  },
  {
   "cell_type": "code",
   "execution_count": 7,
   "id": "ed40fadd",
   "metadata": {},
   "outputs": [
    {
     "data": {
      "text/plain": [
       "40"
      ]
     },
     "execution_count": 7,
     "metadata": {},
     "output_type": "execute_result"
    }
   ],
   "source": [
    "len(br1)"
   ]
  },
  {
   "cell_type": "code",
   "execution_count": 8,
   "id": "4d163f97",
   "metadata": {},
   "outputs": [
    {
     "data": {
      "text/plain": [
       "['ROZZETTA CRAFT',\n",
       " 'VINCENT CHASE',\n",
       " 'SRPM',\n",
       " 'SUNBEE',\n",
       " 'PIRASO',\n",
       " 'Elligator',\n",
       " 'DEIXELS',\n",
       " 'VINCENT CHASE',\n",
       " 'SHAAH COLLECTIONS',\n",
       " 'PIRASO',\n",
       " 'New Specs',\n",
       " 'VINCENT CHASE',\n",
       " 'Fastrack',\n",
       " 'GANSTA',\n",
       " 'PIRASO',\n",
       " 'VILLAIN',\n",
       " 'SRPM',\n",
       " 'Lee Topper',\n",
       " 'Fastrack',\n",
       " 'VINCENT CHASE',\n",
       " 'Fastrack',\n",
       " 'kingsunglasses',\n",
       " 'ROZZETTA CRAFT',\n",
       " 'ROZZETTA CRAFT',\n",
       " 'SUNBEE',\n",
       " 'PIRASO',\n",
       " 'Silver Kartz',\n",
       " 'povty',\n",
       " 'kingsunglasses',\n",
       " 'ROYAL SON',\n",
       " 'Lee Topper',\n",
       " 'VINCENT CHASE',\n",
       " 'PHENOMENAL',\n",
       " 'SRPM',\n",
       " 'kingsunglasses',\n",
       " 'Singco India',\n",
       " 'Fastrack',\n",
       " 'New Specs',\n",
       " 'SHAAH COLLECTIONS',\n",
       " 'VINCENT CHASE']"
      ]
     },
     "execution_count": 8,
     "metadata": {},
     "output_type": "execute_result"
    }
   ],
   "source": [
    "brand=[]\n",
    "for i in br1:\n",
    "    brand.append(i.text)\n",
    "brand"
   ]
  },
  {
   "cell_type": "code",
   "execution_count": 9,
   "id": "acd7aa29",
   "metadata": {},
   "outputs": [],
   "source": [
    "pr1=driver.find_elements_by_xpath('//div[@class=\"_30jeq3\"]')"
   ]
  },
  {
   "cell_type": "code",
   "execution_count": 10,
   "id": "8ce482f3",
   "metadata": {},
   "outputs": [
    {
     "data": {
      "text/plain": [
       "['₹399',\n",
       " '₹949',\n",
       " '₹148',\n",
       " '₹203',\n",
       " '₹179',\n",
       " '₹208',\n",
       " '₹152',\n",
       " '₹749',\n",
       " '₹115',\n",
       " '₹175',\n",
       " '₹182',\n",
       " '₹949',\n",
       " '₹629',\n",
       " '₹148',\n",
       " '₹175',\n",
       " '₹472',\n",
       " '₹128',\n",
       " '₹225',\n",
       " '₹629',\n",
       " '₹799',\n",
       " '₹549',\n",
       " '₹134',\n",
       " '₹424',\n",
       " '₹281',\n",
       " '₹234',\n",
       " '₹175',\n",
       " '₹183',\n",
       " '₹249',\n",
       " '₹136',\n",
       " '₹329',\n",
       " '₹149',\n",
       " '₹949',\n",
       " '₹239',\n",
       " '₹170',\n",
       " '₹239',\n",
       " '₹231',\n",
       " '₹548',\n",
       " '₹213',\n",
       " '₹131',\n",
       " '₹799']"
      ]
     },
     "execution_count": 10,
     "metadata": {},
     "output_type": "execute_result"
    }
   ],
   "source": [
    "prc=[]\n",
    "for i in pr1:\n",
    "    prc.append(i.text)\n",
    "prc"
   ]
  },
  {
   "cell_type": "code",
   "execution_count": 11,
   "id": "c050ee3c",
   "metadata": {},
   "outputs": [
    {
     "data": {
      "text/plain": [
       "40"
      ]
     },
     "execution_count": 11,
     "metadata": {},
     "output_type": "execute_result"
    }
   ],
   "source": [
    "len(prc)"
   ]
  },
  {
   "cell_type": "code",
   "execution_count": 12,
   "id": "b6044fca",
   "metadata": {},
   "outputs": [
    {
     "data": {
      "text/plain": [
       "[<selenium.webdriver.remote.webelement.WebElement (session=\"50778d6f8bb44b7d40b1ca1c50203e4d\", element=\"736cfb61-7638-4ac6-ad60-37bc0d4f9b5b\")>,\n",
       " <selenium.webdriver.remote.webelement.WebElement (session=\"50778d6f8bb44b7d40b1ca1c50203e4d\", element=\"251e4e74-d0e2-4142-9f3e-89c0b5e1cc17\")>,\n",
       " <selenium.webdriver.remote.webelement.WebElement (session=\"50778d6f8bb44b7d40b1ca1c50203e4d\", element=\"654160ee-d035-47b2-9912-415e487777a4\")>,\n",
       " <selenium.webdriver.remote.webelement.WebElement (session=\"50778d6f8bb44b7d40b1ca1c50203e4d\", element=\"d7981fb2-11a9-40e1-9588-fc6221c14803\")>,\n",
       " <selenium.webdriver.remote.webelement.WebElement (session=\"50778d6f8bb44b7d40b1ca1c50203e4d\", element=\"cde6e6eb-79f3-42e7-887a-c21a19091de5\")>,\n",
       " <selenium.webdriver.remote.webelement.WebElement (session=\"50778d6f8bb44b7d40b1ca1c50203e4d\", element=\"666f6d06-2bb3-4381-9549-3bed0c6d9219\")>,\n",
       " <selenium.webdriver.remote.webelement.WebElement (session=\"50778d6f8bb44b7d40b1ca1c50203e4d\", element=\"850e93ad-d1f1-42ee-9288-22022738aa06\")>,\n",
       " <selenium.webdriver.remote.webelement.WebElement (session=\"50778d6f8bb44b7d40b1ca1c50203e4d\", element=\"fb329182-6ef3-47a4-b5f1-973822e8b2d5\")>,\n",
       " <selenium.webdriver.remote.webelement.WebElement (session=\"50778d6f8bb44b7d40b1ca1c50203e4d\", element=\"cdca0c68-9db9-44d1-a8b0-ded0166c52dc\")>,\n",
       " <selenium.webdriver.remote.webelement.WebElement (session=\"50778d6f8bb44b7d40b1ca1c50203e4d\", element=\"80e99a93-319c-494e-8eb7-05762c05230e\")>,\n",
       " <selenium.webdriver.remote.webelement.WebElement (session=\"50778d6f8bb44b7d40b1ca1c50203e4d\", element=\"c684e78c-84e8-45d1-adff-4b7f3473c0fa\")>,\n",
       " <selenium.webdriver.remote.webelement.WebElement (session=\"50778d6f8bb44b7d40b1ca1c50203e4d\", element=\"5a5225d1-f3de-4e55-aa77-a3c50d8ecf45\")>,\n",
       " <selenium.webdriver.remote.webelement.WebElement (session=\"50778d6f8bb44b7d40b1ca1c50203e4d\", element=\"08efdbc3-12ef-4c38-a186-6b1914cc8ea3\")>,\n",
       " <selenium.webdriver.remote.webelement.WebElement (session=\"50778d6f8bb44b7d40b1ca1c50203e4d\", element=\"ea6fd661-1b37-49b0-9821-c3046c688829\")>,\n",
       " <selenium.webdriver.remote.webelement.WebElement (session=\"50778d6f8bb44b7d40b1ca1c50203e4d\", element=\"941f0c8f-4429-4833-b62e-f583af8898e7\")>,\n",
       " <selenium.webdriver.remote.webelement.WebElement (session=\"50778d6f8bb44b7d40b1ca1c50203e4d\", element=\"543f186b-bafd-46e5-bf31-746f80c330ed\")>,\n",
       " <selenium.webdriver.remote.webelement.WebElement (session=\"50778d6f8bb44b7d40b1ca1c50203e4d\", element=\"92f41246-eeda-40c3-b3ff-1a9fc93aca7a\")>,\n",
       " <selenium.webdriver.remote.webelement.WebElement (session=\"50778d6f8bb44b7d40b1ca1c50203e4d\", element=\"44fdd12a-0cde-4f84-bfd9-283654c6f520\")>,\n",
       " <selenium.webdriver.remote.webelement.WebElement (session=\"50778d6f8bb44b7d40b1ca1c50203e4d\", element=\"0a09f48b-19e1-4502-b2ed-e1e9c5c4e0ca\")>,\n",
       " <selenium.webdriver.remote.webelement.WebElement (session=\"50778d6f8bb44b7d40b1ca1c50203e4d\", element=\"5f28c3bf-abb0-4e0c-908c-4908b4b6a416\")>,\n",
       " <selenium.webdriver.remote.webelement.WebElement (session=\"50778d6f8bb44b7d40b1ca1c50203e4d\", element=\"e21b9549-daeb-4d53-aa0d-20cd892951b9\")>,\n",
       " <selenium.webdriver.remote.webelement.WebElement (session=\"50778d6f8bb44b7d40b1ca1c50203e4d\", element=\"46e0de16-2144-462a-a23b-854426b1de00\")>,\n",
       " <selenium.webdriver.remote.webelement.WebElement (session=\"50778d6f8bb44b7d40b1ca1c50203e4d\", element=\"cf83afe5-bc8a-47c0-b5ca-5ac8170dde7e\")>,\n",
       " <selenium.webdriver.remote.webelement.WebElement (session=\"50778d6f8bb44b7d40b1ca1c50203e4d\", element=\"ad1ef59b-730a-429b-8ea1-3fd70c41c2aa\")>,\n",
       " <selenium.webdriver.remote.webelement.WebElement (session=\"50778d6f8bb44b7d40b1ca1c50203e4d\", element=\"6cc30959-ccd4-4ce4-8333-6a85dc19f84d\")>,\n",
       " <selenium.webdriver.remote.webelement.WebElement (session=\"50778d6f8bb44b7d40b1ca1c50203e4d\", element=\"c7414ab3-1752-40f9-a2d4-10d0ce319d70\")>,\n",
       " <selenium.webdriver.remote.webelement.WebElement (session=\"50778d6f8bb44b7d40b1ca1c50203e4d\", element=\"dbf62143-bab9-4b35-b814-5345717e8d6a\")>,\n",
       " <selenium.webdriver.remote.webelement.WebElement (session=\"50778d6f8bb44b7d40b1ca1c50203e4d\", element=\"47cb945e-1495-4b4b-a7c9-2b8c80f48942\")>,\n",
       " <selenium.webdriver.remote.webelement.WebElement (session=\"50778d6f8bb44b7d40b1ca1c50203e4d\", element=\"89e45804-4cd3-4875-bc31-34d5ca46c6bc\")>,\n",
       " <selenium.webdriver.remote.webelement.WebElement (session=\"50778d6f8bb44b7d40b1ca1c50203e4d\", element=\"5bc6aa3c-41b8-457b-8117-db80cc6513f3\")>,\n",
       " <selenium.webdriver.remote.webelement.WebElement (session=\"50778d6f8bb44b7d40b1ca1c50203e4d\", element=\"71ddd633-e367-4839-9620-e32f429092ac\")>,\n",
       " <selenium.webdriver.remote.webelement.WebElement (session=\"50778d6f8bb44b7d40b1ca1c50203e4d\", element=\"e407d106-38e4-4764-bfef-ed201c30dc01\")>,\n",
       " <selenium.webdriver.remote.webelement.WebElement (session=\"50778d6f8bb44b7d40b1ca1c50203e4d\", element=\"bfa52717-aafb-4ac7-a56c-d6e422f0ecd5\")>,\n",
       " <selenium.webdriver.remote.webelement.WebElement (session=\"50778d6f8bb44b7d40b1ca1c50203e4d\", element=\"c9d29001-8122-4ec8-afdb-27d604d0e9b8\")>,\n",
       " <selenium.webdriver.remote.webelement.WebElement (session=\"50778d6f8bb44b7d40b1ca1c50203e4d\", element=\"41e4c3ed-f3ab-4048-a81a-6146ad9a75d1\")>,\n",
       " <selenium.webdriver.remote.webelement.WebElement (session=\"50778d6f8bb44b7d40b1ca1c50203e4d\", element=\"025f5938-0401-4159-b9d0-f216d499c384\")>,\n",
       " <selenium.webdriver.remote.webelement.WebElement (session=\"50778d6f8bb44b7d40b1ca1c50203e4d\", element=\"3c99cb2b-38ba-40b5-80bc-8308bf20849a\")>,\n",
       " <selenium.webdriver.remote.webelement.WebElement (session=\"50778d6f8bb44b7d40b1ca1c50203e4d\", element=\"2c77f232-bf59-48e1-aef2-ad7062c2b06e\")>,\n",
       " <selenium.webdriver.remote.webelement.WebElement (session=\"50778d6f8bb44b7d40b1ca1c50203e4d\", element=\"32033ff4-212f-49ce-a3c9-148badd8be7b\")>,\n",
       " <selenium.webdriver.remote.webelement.WebElement (session=\"50778d6f8bb44b7d40b1ca1c50203e4d\", element=\"eaa2c8c4-600b-4d2b-8280-0f3078b23b38\")>]"
      ]
     },
     "execution_count": 12,
     "metadata": {},
     "output_type": "execute_result"
    }
   ],
   "source": [
    "ds1=driver.find_elements_by_xpath('//a[@class=\"IRpwTa\"]')\n",
    "ds1"
   ]
  },
  {
   "cell_type": "code",
   "execution_count": 13,
   "id": "dbb62f09",
   "metadata": {},
   "outputs": [
    {
     "data": {
      "text/plain": [
       "['UV Protection, Gradient Rectangular Sunglasses (Free Si...',\n",
       " 'by Lenskart Polarized, UV Protection Round Sunglasses (...',\n",
       " 'UV Protection Wayfarer Sunglasses (50)',\n",
       " 'UV Protection, Polarized Wayfarer Sunglasses (Free Size...',\n",
       " 'UV Protection Aviator Sunglasses (54)',\n",
       " 'UV Protection Round Sunglasses (54)',\n",
       " 'UV Protection Aviator, Wayfarer Sunglasses (Free Size)',\n",
       " 'by Lenskart Polarized, UV Protection Wayfarer Sunglasse...',\n",
       " 'UV Protection, Polarized, Mirrored Rectangular Sunglass...',\n",
       " 'UV Protection Aviator Sunglasses (54)',\n",
       " 'UV Protection Rectangular Sunglasses (Free Size)',\n",
       " 'by Lenskart Polarized, UV Protection Cat-eye Sunglasses...',\n",
       " 'UV Protection Rectangular Sunglasses (Free Size)',\n",
       " 'UV Protection, Riding Glasses Wayfarer Sunglasses (53)',\n",
       " 'UV Protection Aviator Sunglasses (54)',\n",
       " 'Others Wayfarer Sunglasses (Free Size)',\n",
       " 'Others Wayfarer, Retro Square Sunglasses (50)',\n",
       " 'Riding Glasses Wrap-around Sunglasses (Free Size)',\n",
       " 'Gradient, UV Protection Wayfarer Sunglasses (Free Size)',\n",
       " 'by Lenskart Polarized, UV Protection Round Sunglasses (...',\n",
       " 'UV Protection Wayfarer Sunglasses (Free Size)',\n",
       " 'UV Protection, Riding Glasses, Mirrored Wayfarer Sungla...',\n",
       " 'Polarized, Night Vision, Riding Glasses Sports, Wrap-ar...',\n",
       " 'UV Protection, Gradient Retro Square Sunglasses (Free S...',\n",
       " 'UV Protection, Polarized, Mirrored Round Sunglasses (Fr...',\n",
       " 'UV Protection Wayfarer Sunglasses (55)',\n",
       " 'UV Protection Wayfarer Sunglasses (Free Size)',\n",
       " 'UV Protection Retro Square Sunglasses (Free Size)',\n",
       " 'UV Protection Round Sunglasses (54)',\n",
       " 'Mirrored Aviator Sunglasses (55)',\n",
       " 'UV Protection Rectangular Sunglasses (Free Size)',\n",
       " 'by Lenskart Polarized, UV Protection Round Sunglasses (...',\n",
       " 'UV Protection Retro Square Sunglasses (53)',\n",
       " 'UV Protection Wayfarer Sunglasses (53)',\n",
       " 'UV Protection Round Sunglasses (Free Size)',\n",
       " 'Mirrored, UV Protection, Riding Glasses, Others Wrap-ar...',\n",
       " 'Polarized Retro Square Sunglasses (Free Size)',\n",
       " 'Mirrored, UV Protection, Riding Glasses, Others Round S...',\n",
       " 'UV Protection, Polarized, Mirrored Rectangular Sunglass...',\n",
       " 'by Lenskart Polarized, UV Protection Wayfarer Sunglasse...']"
      ]
     },
     "execution_count": 13,
     "metadata": {},
     "output_type": "execute_result"
    }
   ],
   "source": [
    "dscr=[]\n",
    "for i in ds1:\n",
    "    dscr.append(i.text)\n",
    "dscr"
   ]
  },
  {
   "cell_type": "code",
   "execution_count": 14,
   "id": "8083e8bc",
   "metadata": {},
   "outputs": [
    {
     "data": {
      "text/plain": [
       "40"
      ]
     },
     "execution_count": 14,
     "metadata": {},
     "output_type": "execute_result"
    }
   ],
   "source": [
    "len(dscr)"
   ]
  },
  {
   "cell_type": "code",
   "execution_count": 15,
   "id": "174420e9",
   "metadata": {},
   "outputs": [],
   "source": [
    "btn2=driver.find_element_by_xpath('/html/body/div[1]/div/div[3]/div[1]/div[2]/div[12]/div/div/nav/a[11]/span')\n",
    "btn2.click()"
   ]
  },
  {
   "cell_type": "code",
   "execution_count": 16,
   "id": "439e83aa",
   "metadata": {},
   "outputs": [
    {
     "data": {
      "text/plain": [
       "[<selenium.webdriver.remote.webelement.WebElement (session=\"50778d6f8bb44b7d40b1ca1c50203e4d\", element=\"5672ce04-9ba3-423a-bde5-91a773f12f2b\")>,\n",
       " <selenium.webdriver.remote.webelement.WebElement (session=\"50778d6f8bb44b7d40b1ca1c50203e4d\", element=\"f668fc32-0c3d-43d6-b81c-848ceb13f4dc\")>,\n",
       " <selenium.webdriver.remote.webelement.WebElement (session=\"50778d6f8bb44b7d40b1ca1c50203e4d\", element=\"12734bda-776c-4586-b925-2f78614831c9\")>,\n",
       " <selenium.webdriver.remote.webelement.WebElement (session=\"50778d6f8bb44b7d40b1ca1c50203e4d\", element=\"c9481676-8cd4-49a9-92db-91b2c24f3bd1\")>,\n",
       " <selenium.webdriver.remote.webelement.WebElement (session=\"50778d6f8bb44b7d40b1ca1c50203e4d\", element=\"d31d7e8e-4fc3-4ed1-9818-303996fcec80\")>,\n",
       " <selenium.webdriver.remote.webelement.WebElement (session=\"50778d6f8bb44b7d40b1ca1c50203e4d\", element=\"f3528e2b-f824-40cd-a720-151be5e61968\")>,\n",
       " <selenium.webdriver.remote.webelement.WebElement (session=\"50778d6f8bb44b7d40b1ca1c50203e4d\", element=\"5df7a144-7474-4a77-8987-5e30fe166b06\")>,\n",
       " <selenium.webdriver.remote.webelement.WebElement (session=\"50778d6f8bb44b7d40b1ca1c50203e4d\", element=\"0fd59168-b896-498e-8416-4e1d80445591\")>,\n",
       " <selenium.webdriver.remote.webelement.WebElement (session=\"50778d6f8bb44b7d40b1ca1c50203e4d\", element=\"535c337f-4004-4bbf-b3fc-16a8dfc773b7\")>,\n",
       " <selenium.webdriver.remote.webelement.WebElement (session=\"50778d6f8bb44b7d40b1ca1c50203e4d\", element=\"6e6b7eb3-eaa8-4677-9d74-c9029e2a31c9\")>,\n",
       " <selenium.webdriver.remote.webelement.WebElement (session=\"50778d6f8bb44b7d40b1ca1c50203e4d\", element=\"679553f2-1bdb-44b9-b5eb-0b11514fd581\")>,\n",
       " <selenium.webdriver.remote.webelement.WebElement (session=\"50778d6f8bb44b7d40b1ca1c50203e4d\", element=\"cdb840cd-f786-4b01-b0ed-b317e4dc5160\")>,\n",
       " <selenium.webdriver.remote.webelement.WebElement (session=\"50778d6f8bb44b7d40b1ca1c50203e4d\", element=\"1e64e68c-608a-4ef2-b51a-a4768c8dab2f\")>,\n",
       " <selenium.webdriver.remote.webelement.WebElement (session=\"50778d6f8bb44b7d40b1ca1c50203e4d\", element=\"1d04616a-54d1-477f-b98c-d2d7f69c51b0\")>,\n",
       " <selenium.webdriver.remote.webelement.WebElement (session=\"50778d6f8bb44b7d40b1ca1c50203e4d\", element=\"62758a38-8da8-4184-9f5a-c27650eccd7a\")>,\n",
       " <selenium.webdriver.remote.webelement.WebElement (session=\"50778d6f8bb44b7d40b1ca1c50203e4d\", element=\"4c541253-6705-4de6-be60-cb165ebd6673\")>,\n",
       " <selenium.webdriver.remote.webelement.WebElement (session=\"50778d6f8bb44b7d40b1ca1c50203e4d\", element=\"05f7be3a-a1f2-45c8-b165-5fe3e3a8cf23\")>,\n",
       " <selenium.webdriver.remote.webelement.WebElement (session=\"50778d6f8bb44b7d40b1ca1c50203e4d\", element=\"6af7a8ea-ce05-453b-8131-f5087748e25e\")>,\n",
       " <selenium.webdriver.remote.webelement.WebElement (session=\"50778d6f8bb44b7d40b1ca1c50203e4d\", element=\"e0f6fb3e-6df3-4bc5-9839-0ba1311fc032\")>,\n",
       " <selenium.webdriver.remote.webelement.WebElement (session=\"50778d6f8bb44b7d40b1ca1c50203e4d\", element=\"d93130cb-f1df-41a8-88ec-7a5d5ffddd82\")>,\n",
       " <selenium.webdriver.remote.webelement.WebElement (session=\"50778d6f8bb44b7d40b1ca1c50203e4d\", element=\"2464b2d2-0b74-4a24-b1af-0e8a0952520f\")>,\n",
       " <selenium.webdriver.remote.webelement.WebElement (session=\"50778d6f8bb44b7d40b1ca1c50203e4d\", element=\"807a7be5-c57d-4f23-90d4-d0a6760da1bf\")>,\n",
       " <selenium.webdriver.remote.webelement.WebElement (session=\"50778d6f8bb44b7d40b1ca1c50203e4d\", element=\"4a25b8a9-d241-4ded-ab88-dad981075976\")>,\n",
       " <selenium.webdriver.remote.webelement.WebElement (session=\"50778d6f8bb44b7d40b1ca1c50203e4d\", element=\"c12fe694-e4ad-4331-89cf-c8cbc5672323\")>,\n",
       " <selenium.webdriver.remote.webelement.WebElement (session=\"50778d6f8bb44b7d40b1ca1c50203e4d\", element=\"e0e14e3f-321d-4486-b25f-2232f37c6c5c\")>,\n",
       " <selenium.webdriver.remote.webelement.WebElement (session=\"50778d6f8bb44b7d40b1ca1c50203e4d\", element=\"485948b4-b31f-4124-b437-8272c8496d63\")>,\n",
       " <selenium.webdriver.remote.webelement.WebElement (session=\"50778d6f8bb44b7d40b1ca1c50203e4d\", element=\"b3d42fc7-ce23-43a0-8cba-435414a32f54\")>,\n",
       " <selenium.webdriver.remote.webelement.WebElement (session=\"50778d6f8bb44b7d40b1ca1c50203e4d\", element=\"df3c50bb-de5f-4376-a65b-c958be4336af\")>,\n",
       " <selenium.webdriver.remote.webelement.WebElement (session=\"50778d6f8bb44b7d40b1ca1c50203e4d\", element=\"a08c1930-dd28-49a2-ba9a-84c42fdb63a1\")>,\n",
       " <selenium.webdriver.remote.webelement.WebElement (session=\"50778d6f8bb44b7d40b1ca1c50203e4d\", element=\"25edf458-79e3-4884-9f99-06c31d64b771\")>,\n",
       " <selenium.webdriver.remote.webelement.WebElement (session=\"50778d6f8bb44b7d40b1ca1c50203e4d\", element=\"996815fa-b0b8-4cb8-b03a-24d9c715d5f8\")>,\n",
       " <selenium.webdriver.remote.webelement.WebElement (session=\"50778d6f8bb44b7d40b1ca1c50203e4d\", element=\"6e8e1b0d-8fd6-4ced-bd1d-2bde213177d8\")>,\n",
       " <selenium.webdriver.remote.webelement.WebElement (session=\"50778d6f8bb44b7d40b1ca1c50203e4d\", element=\"649878cf-69de-4400-be92-c77871f12454\")>,\n",
       " <selenium.webdriver.remote.webelement.WebElement (session=\"50778d6f8bb44b7d40b1ca1c50203e4d\", element=\"8b324d32-c526-4bbe-9cbd-542c13e54da2\")>,\n",
       " <selenium.webdriver.remote.webelement.WebElement (session=\"50778d6f8bb44b7d40b1ca1c50203e4d\", element=\"5998b496-4eff-4bce-909a-b9055b410bde\")>,\n",
       " <selenium.webdriver.remote.webelement.WebElement (session=\"50778d6f8bb44b7d40b1ca1c50203e4d\", element=\"74807931-858d-4dfc-a368-96a0037c9bbe\")>,\n",
       " <selenium.webdriver.remote.webelement.WebElement (session=\"50778d6f8bb44b7d40b1ca1c50203e4d\", element=\"66c09622-d68e-4eb8-8fdf-a2d0cae908ab\")>,\n",
       " <selenium.webdriver.remote.webelement.WebElement (session=\"50778d6f8bb44b7d40b1ca1c50203e4d\", element=\"8bae3494-fdef-4a49-ab5f-b5f05ff1ca03\")>,\n",
       " <selenium.webdriver.remote.webelement.WebElement (session=\"50778d6f8bb44b7d40b1ca1c50203e4d\", element=\"3f9495dc-81ef-4bc4-80b7-1eb6e179e16f\")>,\n",
       " <selenium.webdriver.remote.webelement.WebElement (session=\"50778d6f8bb44b7d40b1ca1c50203e4d\", element=\"22363941-9a3f-4565-bfb6-3ddabbee2ede\")>]"
      ]
     },
     "execution_count": 16,
     "metadata": {},
     "output_type": "execute_result"
    }
   ],
   "source": [
    "br2=driver.find_elements_by_xpath('//div[@class=\"_2WkVRV\"]')\n",
    "br2"
   ]
  },
  {
   "cell_type": "code",
   "execution_count": 17,
   "id": "e05c53f3",
   "metadata": {},
   "outputs": [
    {
     "data": {
      "text/plain": [
       "40"
      ]
     },
     "execution_count": 17,
     "metadata": {},
     "output_type": "execute_result"
    }
   ],
   "source": [
    "len(br2)"
   ]
  },
  {
   "cell_type": "code",
   "execution_count": 18,
   "id": "356edd48",
   "metadata": {},
   "outputs": [
    {
     "data": {
      "text/plain": [
       "['ROZZETTA CRAFT',\n",
       " 'VINCENT CHASE',\n",
       " 'SRPM',\n",
       " 'SUNBEE',\n",
       " 'PIRASO',\n",
       " 'Elligator',\n",
       " 'DEIXELS',\n",
       " 'VINCENT CHASE',\n",
       " 'SHAAH COLLECTIONS',\n",
       " 'PIRASO',\n",
       " 'New Specs',\n",
       " 'VINCENT CHASE',\n",
       " 'Fastrack',\n",
       " 'GANSTA',\n",
       " 'PIRASO',\n",
       " 'VILLAIN',\n",
       " 'SRPM',\n",
       " 'Lee Topper',\n",
       " 'Fastrack',\n",
       " 'VINCENT CHASE',\n",
       " 'Fastrack',\n",
       " 'kingsunglasses',\n",
       " 'ROZZETTA CRAFT',\n",
       " 'ROZZETTA CRAFT',\n",
       " 'SUNBEE',\n",
       " 'PIRASO',\n",
       " 'Silver Kartz',\n",
       " 'povty',\n",
       " 'kingsunglasses',\n",
       " 'ROYAL SON',\n",
       " 'Lee Topper',\n",
       " 'VINCENT CHASE',\n",
       " 'PHENOMENAL',\n",
       " 'SRPM',\n",
       " 'kingsunglasses',\n",
       " 'Singco India',\n",
       " 'Fastrack',\n",
       " 'New Specs',\n",
       " 'SHAAH COLLECTIONS',\n",
       " 'VINCENT CHASE',\n",
       " 'SHAAH COLLECTIONS',\n",
       " 'ROZZETTA CRAFT',\n",
       " 'PIRASO',\n",
       " 'ROYAL SON',\n",
       " 'Rich Club',\n",
       " 'New Specs',\n",
       " 'Elligator',\n",
       " 'ROYAL SON',\n",
       " 'Fastrack',\n",
       " 'PIRASO',\n",
       " 'PHENOMENAL',\n",
       " 'AISLIN',\n",
       " 'PIRASO',\n",
       " 'PIRASO',\n",
       " 'Fravy',\n",
       " 'Lee Topper',\n",
       " 'New Specs',\n",
       " 'kingsunglasses',\n",
       " 'kingsunglasses',\n",
       " 'ROYAL SON',\n",
       " 'IDEE',\n",
       " 'SUNBEE',\n",
       " 'ROYAL SON',\n",
       " 'ROZZETTA CRAFT',\n",
       " 'IDEE',\n",
       " 'PIRASO',\n",
       " 'Mi',\n",
       " 'ROYAL SON',\n",
       " 'SHAAH COLLECTIONS',\n",
       " 'PHENOMENAL',\n",
       " 'GANSTA',\n",
       " 'Singco India',\n",
       " 'PHENOMENAL',\n",
       " 'Silver Kartz',\n",
       " 'Rich Club',\n",
       " 'Fastrack',\n",
       " 'Rich Club',\n",
       " 'SUNBEE',\n",
       " 'kingsunglasses',\n",
       " 'elegante']"
      ]
     },
     "execution_count": 18,
     "metadata": {},
     "output_type": "execute_result"
    }
   ],
   "source": [
    "for i in br2:\n",
    "    brand.append(i.text)\n",
    "brand"
   ]
  },
  {
   "cell_type": "code",
   "execution_count": 19,
   "id": "476510f0",
   "metadata": {},
   "outputs": [
    {
     "data": {
      "text/plain": [
       "80"
      ]
     },
     "execution_count": 19,
     "metadata": {},
     "output_type": "execute_result"
    }
   ],
   "source": [
    "len(brand)"
   ]
  },
  {
   "cell_type": "code",
   "execution_count": 20,
   "id": "532d26db",
   "metadata": {},
   "outputs": [
    {
     "data": {
      "text/plain": [
       "[<selenium.webdriver.remote.webelement.WebElement (session=\"50778d6f8bb44b7d40b1ca1c50203e4d\", element=\"ba70f680-32c3-4527-83db-fd7d6de343a6\")>,\n",
       " <selenium.webdriver.remote.webelement.WebElement (session=\"50778d6f8bb44b7d40b1ca1c50203e4d\", element=\"93c36d6b-1e31-4017-91e2-1a39aa8d9138\")>,\n",
       " <selenium.webdriver.remote.webelement.WebElement (session=\"50778d6f8bb44b7d40b1ca1c50203e4d\", element=\"9964c269-b301-4329-9366-47ce60c90a67\")>,\n",
       " <selenium.webdriver.remote.webelement.WebElement (session=\"50778d6f8bb44b7d40b1ca1c50203e4d\", element=\"1b3dbc26-a725-493b-a692-1067ca9ec9fd\")>,\n",
       " <selenium.webdriver.remote.webelement.WebElement (session=\"50778d6f8bb44b7d40b1ca1c50203e4d\", element=\"7e76f3eb-423e-4cf7-9088-7d46c1a52934\")>,\n",
       " <selenium.webdriver.remote.webelement.WebElement (session=\"50778d6f8bb44b7d40b1ca1c50203e4d\", element=\"c99d55a7-e665-4366-9180-5e1dd737ebcb\")>,\n",
       " <selenium.webdriver.remote.webelement.WebElement (session=\"50778d6f8bb44b7d40b1ca1c50203e4d\", element=\"6b2e0e74-be5a-49be-8788-847adffe4425\")>,\n",
       " <selenium.webdriver.remote.webelement.WebElement (session=\"50778d6f8bb44b7d40b1ca1c50203e4d\", element=\"50e24e62-c9ea-44e0-b4e7-35d310b931c2\")>,\n",
       " <selenium.webdriver.remote.webelement.WebElement (session=\"50778d6f8bb44b7d40b1ca1c50203e4d\", element=\"a5d8601d-b63b-486f-9496-ca9d99d0963d\")>,\n",
       " <selenium.webdriver.remote.webelement.WebElement (session=\"50778d6f8bb44b7d40b1ca1c50203e4d\", element=\"fac6b809-46a9-46c8-a4db-42d497d31eaf\")>,\n",
       " <selenium.webdriver.remote.webelement.WebElement (session=\"50778d6f8bb44b7d40b1ca1c50203e4d\", element=\"733afca5-14ae-4150-9174-0ce39e1b19a2\")>,\n",
       " <selenium.webdriver.remote.webelement.WebElement (session=\"50778d6f8bb44b7d40b1ca1c50203e4d\", element=\"737d6396-c2c2-4e7b-8341-091920683514\")>,\n",
       " <selenium.webdriver.remote.webelement.WebElement (session=\"50778d6f8bb44b7d40b1ca1c50203e4d\", element=\"e1632e90-9612-4b5b-bd22-6db65867b31d\")>,\n",
       " <selenium.webdriver.remote.webelement.WebElement (session=\"50778d6f8bb44b7d40b1ca1c50203e4d\", element=\"323ba7c1-5dae-47fd-9bb2-e533062b6033\")>,\n",
       " <selenium.webdriver.remote.webelement.WebElement (session=\"50778d6f8bb44b7d40b1ca1c50203e4d\", element=\"17ef076b-903b-47fe-b0b0-6b9b8bc8124d\")>,\n",
       " <selenium.webdriver.remote.webelement.WebElement (session=\"50778d6f8bb44b7d40b1ca1c50203e4d\", element=\"9887bd1b-016b-490c-8b81-ffce5b2ac995\")>,\n",
       " <selenium.webdriver.remote.webelement.WebElement (session=\"50778d6f8bb44b7d40b1ca1c50203e4d\", element=\"cb9ae6d7-60e4-4dda-8118-b18dc574420d\")>,\n",
       " <selenium.webdriver.remote.webelement.WebElement (session=\"50778d6f8bb44b7d40b1ca1c50203e4d\", element=\"6ba6bb10-9825-4708-8bb1-667d1060ef36\")>,\n",
       " <selenium.webdriver.remote.webelement.WebElement (session=\"50778d6f8bb44b7d40b1ca1c50203e4d\", element=\"d822e804-eebe-4d65-9730-413497897d5a\")>,\n",
       " <selenium.webdriver.remote.webelement.WebElement (session=\"50778d6f8bb44b7d40b1ca1c50203e4d\", element=\"1bede02d-71aa-4be7-ad02-0598b47d5abd\")>,\n",
       " <selenium.webdriver.remote.webelement.WebElement (session=\"50778d6f8bb44b7d40b1ca1c50203e4d\", element=\"286e9d20-373f-4fc7-9d33-df4962ddaaa5\")>,\n",
       " <selenium.webdriver.remote.webelement.WebElement (session=\"50778d6f8bb44b7d40b1ca1c50203e4d\", element=\"a055386c-bb4d-41f5-9c91-d243fa372ef9\")>,\n",
       " <selenium.webdriver.remote.webelement.WebElement (session=\"50778d6f8bb44b7d40b1ca1c50203e4d\", element=\"bc4b7926-e6db-42dc-b924-72bfc8410599\")>,\n",
       " <selenium.webdriver.remote.webelement.WebElement (session=\"50778d6f8bb44b7d40b1ca1c50203e4d\", element=\"978a333f-edce-43d5-81f8-f257f5735c04\")>,\n",
       " <selenium.webdriver.remote.webelement.WebElement (session=\"50778d6f8bb44b7d40b1ca1c50203e4d\", element=\"6c3448c6-397d-4814-9e73-e96c5d5af7da\")>,\n",
       " <selenium.webdriver.remote.webelement.WebElement (session=\"50778d6f8bb44b7d40b1ca1c50203e4d\", element=\"0fc7c319-a64c-4194-a4bd-cb9d22e0e2f4\")>,\n",
       " <selenium.webdriver.remote.webelement.WebElement (session=\"50778d6f8bb44b7d40b1ca1c50203e4d\", element=\"88a264be-4c92-4b00-81e0-56d8a386077e\")>,\n",
       " <selenium.webdriver.remote.webelement.WebElement (session=\"50778d6f8bb44b7d40b1ca1c50203e4d\", element=\"154484ea-a3ed-401f-a372-18291229ee1b\")>,\n",
       " <selenium.webdriver.remote.webelement.WebElement (session=\"50778d6f8bb44b7d40b1ca1c50203e4d\", element=\"46850b1a-ec69-4af3-96d3-5b056c9f9d99\")>,\n",
       " <selenium.webdriver.remote.webelement.WebElement (session=\"50778d6f8bb44b7d40b1ca1c50203e4d\", element=\"5e81c795-f337-45ea-a60c-3dab8cf93d0e\")>,\n",
       " <selenium.webdriver.remote.webelement.WebElement (session=\"50778d6f8bb44b7d40b1ca1c50203e4d\", element=\"88f5b661-11e0-4094-9e78-163d46dd3886\")>,\n",
       " <selenium.webdriver.remote.webelement.WebElement (session=\"50778d6f8bb44b7d40b1ca1c50203e4d\", element=\"12c38568-b7ad-46f8-a0b8-c748747f3fc5\")>,\n",
       " <selenium.webdriver.remote.webelement.WebElement (session=\"50778d6f8bb44b7d40b1ca1c50203e4d\", element=\"db7f5135-dfaf-41d0-a7ab-38f230b8af54\")>,\n",
       " <selenium.webdriver.remote.webelement.WebElement (session=\"50778d6f8bb44b7d40b1ca1c50203e4d\", element=\"3aa4d492-fc1a-42ab-9eb9-1efd9014436d\")>,\n",
       " <selenium.webdriver.remote.webelement.WebElement (session=\"50778d6f8bb44b7d40b1ca1c50203e4d\", element=\"2873fb7a-20c6-4ae2-badf-113ecaa9ee3f\")>,\n",
       " <selenium.webdriver.remote.webelement.WebElement (session=\"50778d6f8bb44b7d40b1ca1c50203e4d\", element=\"5b3d7320-e9e0-4fd0-bc7b-b3ad98f6512d\")>,\n",
       " <selenium.webdriver.remote.webelement.WebElement (session=\"50778d6f8bb44b7d40b1ca1c50203e4d\", element=\"f7e26324-b0f4-4a3e-932d-aa9bbe7bc289\")>,\n",
       " <selenium.webdriver.remote.webelement.WebElement (session=\"50778d6f8bb44b7d40b1ca1c50203e4d\", element=\"8d01db48-dcf6-446c-8f5a-e7b426dfea88\")>,\n",
       " <selenium.webdriver.remote.webelement.WebElement (session=\"50778d6f8bb44b7d40b1ca1c50203e4d\", element=\"6ca3984d-9179-4be8-a4d6-c91ba4c7e733\")>,\n",
       " <selenium.webdriver.remote.webelement.WebElement (session=\"50778d6f8bb44b7d40b1ca1c50203e4d\", element=\"1b8ee025-fb36-463d-a928-81f2d26070f7\")>]"
      ]
     },
     "execution_count": 20,
     "metadata": {},
     "output_type": "execute_result"
    }
   ],
   "source": [
    "pr2=driver.find_elements_by_xpath('//div[@class=\"_30jeq3\"]')\n",
    "pr2"
   ]
  },
  {
   "cell_type": "code",
   "execution_count": 21,
   "id": "b9e14be8",
   "metadata": {},
   "outputs": [
    {
     "data": {
      "text/plain": [
       "40"
      ]
     },
     "execution_count": 21,
     "metadata": {},
     "output_type": "execute_result"
    }
   ],
   "source": [
    "len(pr2)"
   ]
  },
  {
   "cell_type": "code",
   "execution_count": 22,
   "id": "e836f112",
   "metadata": {},
   "outputs": [
    {
     "data": {
      "text/plain": [
       "['₹399',\n",
       " '₹949',\n",
       " '₹148',\n",
       " '₹203',\n",
       " '₹179',\n",
       " '₹208',\n",
       " '₹152',\n",
       " '₹749',\n",
       " '₹115',\n",
       " '₹175',\n",
       " '₹182',\n",
       " '₹949',\n",
       " '₹629',\n",
       " '₹148',\n",
       " '₹175',\n",
       " '₹472',\n",
       " '₹128',\n",
       " '₹225',\n",
       " '₹629',\n",
       " '₹799',\n",
       " '₹549',\n",
       " '₹134',\n",
       " '₹424',\n",
       " '₹281',\n",
       " '₹234',\n",
       " '₹175',\n",
       " '₹183',\n",
       " '₹249',\n",
       " '₹136',\n",
       " '₹329',\n",
       " '₹149',\n",
       " '₹949',\n",
       " '₹239',\n",
       " '₹170',\n",
       " '₹239',\n",
       " '₹231',\n",
       " '₹548',\n",
       " '₹213',\n",
       " '₹131',\n",
       " '₹799',\n",
       " '₹131',\n",
       " '₹424',\n",
       " '₹175',\n",
       " '₹614',\n",
       " '₹125',\n",
       " '₹108',\n",
       " '₹126',\n",
       " '₹614',\n",
       " '₹709',\n",
       " '₹299',\n",
       " '₹278',\n",
       " '₹874',\n",
       " '₹325',\n",
       " '₹149',\n",
       " '₹149',\n",
       " '₹226',\n",
       " '₹133',\n",
       " '₹130',\n",
       " '₹208',\n",
       " '₹329',\n",
       " '₹929',\n",
       " '₹180',\n",
       " '₹329',\n",
       " '₹349',\n",
       " '₹869',\n",
       " '₹325',\n",
       " '₹959',\n",
       " '₹424',\n",
       " '₹226',\n",
       " '₹257',\n",
       " '₹234',\n",
       " '₹144',\n",
       " '₹267',\n",
       " '₹192',\n",
       " '₹159',\n",
       " '₹549',\n",
       " '₹115',\n",
       " '₹203',\n",
       " '₹169',\n",
       " '₹349']"
      ]
     },
     "execution_count": 22,
     "metadata": {},
     "output_type": "execute_result"
    }
   ],
   "source": [
    "for i in pr2:\n",
    "    prc.append(i.text)\n",
    "prc"
   ]
  },
  {
   "cell_type": "code",
   "execution_count": 23,
   "id": "e723686e",
   "metadata": {},
   "outputs": [
    {
     "data": {
      "text/plain": [
       "80"
      ]
     },
     "execution_count": 23,
     "metadata": {},
     "output_type": "execute_result"
    }
   ],
   "source": [
    "len(prc)"
   ]
  },
  {
   "cell_type": "code",
   "execution_count": 24,
   "id": "c355de99",
   "metadata": {},
   "outputs": [
    {
     "data": {
      "text/plain": [
       "[<selenium.webdriver.remote.webelement.WebElement (session=\"50778d6f8bb44b7d40b1ca1c50203e4d\", element=\"27a15e8d-fb27-43c6-a90d-4d78a44c87ee\")>,\n",
       " <selenium.webdriver.remote.webelement.WebElement (session=\"50778d6f8bb44b7d40b1ca1c50203e4d\", element=\"ae9cd69e-8008-40f8-9a82-525a6f36620c\")>,\n",
       " <selenium.webdriver.remote.webelement.WebElement (session=\"50778d6f8bb44b7d40b1ca1c50203e4d\", element=\"d2d31644-41b7-4a9a-accf-3d84a8df4604\")>,\n",
       " <selenium.webdriver.remote.webelement.WebElement (session=\"50778d6f8bb44b7d40b1ca1c50203e4d\", element=\"0af5c73a-0b85-4535-bf9c-5f217324ad97\")>,\n",
       " <selenium.webdriver.remote.webelement.WebElement (session=\"50778d6f8bb44b7d40b1ca1c50203e4d\", element=\"46e9f59e-683a-4820-8a6e-3568b9877571\")>,\n",
       " <selenium.webdriver.remote.webelement.WebElement (session=\"50778d6f8bb44b7d40b1ca1c50203e4d\", element=\"e9c427b1-578f-4562-8d66-3dd602decf0c\")>,\n",
       " <selenium.webdriver.remote.webelement.WebElement (session=\"50778d6f8bb44b7d40b1ca1c50203e4d\", element=\"b9aa6a70-1a07-4f3e-b303-87f4b46eb9b7\")>,\n",
       " <selenium.webdriver.remote.webelement.WebElement (session=\"50778d6f8bb44b7d40b1ca1c50203e4d\", element=\"f3feff9c-c582-44cd-9d3e-486336424469\")>,\n",
       " <selenium.webdriver.remote.webelement.WebElement (session=\"50778d6f8bb44b7d40b1ca1c50203e4d\", element=\"f66d452b-a416-431e-b25e-5059c5084a37\")>,\n",
       " <selenium.webdriver.remote.webelement.WebElement (session=\"50778d6f8bb44b7d40b1ca1c50203e4d\", element=\"2ee0f464-0c2c-4591-a324-23ec903c5286\")>,\n",
       " <selenium.webdriver.remote.webelement.WebElement (session=\"50778d6f8bb44b7d40b1ca1c50203e4d\", element=\"77031a2d-b45a-401e-b2f0-03849a511e24\")>,\n",
       " <selenium.webdriver.remote.webelement.WebElement (session=\"50778d6f8bb44b7d40b1ca1c50203e4d\", element=\"fd05b028-8439-46c7-8efe-e54cd81869cb\")>,\n",
       " <selenium.webdriver.remote.webelement.WebElement (session=\"50778d6f8bb44b7d40b1ca1c50203e4d\", element=\"02b9316e-0d7a-44e6-b3ad-4a7b78cd5656\")>,\n",
       " <selenium.webdriver.remote.webelement.WebElement (session=\"50778d6f8bb44b7d40b1ca1c50203e4d\", element=\"15556942-7994-4002-ac90-a973080aae7e\")>,\n",
       " <selenium.webdriver.remote.webelement.WebElement (session=\"50778d6f8bb44b7d40b1ca1c50203e4d\", element=\"8e2c0403-5a71-42c3-8a1a-4a671886e9db\")>,\n",
       " <selenium.webdriver.remote.webelement.WebElement (session=\"50778d6f8bb44b7d40b1ca1c50203e4d\", element=\"574b58c6-a895-4134-b355-c8d8e315bbe6\")>,\n",
       " <selenium.webdriver.remote.webelement.WebElement (session=\"50778d6f8bb44b7d40b1ca1c50203e4d\", element=\"e8f5d73c-c0db-499b-a20f-357529164d36\")>,\n",
       " <selenium.webdriver.remote.webelement.WebElement (session=\"50778d6f8bb44b7d40b1ca1c50203e4d\", element=\"0d491fe4-3648-4fb0-a9a8-50196a535319\")>,\n",
       " <selenium.webdriver.remote.webelement.WebElement (session=\"50778d6f8bb44b7d40b1ca1c50203e4d\", element=\"9c8f7597-0f4f-4afe-a153-1257c5fb1cae\")>,\n",
       " <selenium.webdriver.remote.webelement.WebElement (session=\"50778d6f8bb44b7d40b1ca1c50203e4d\", element=\"6b7f76d6-4c65-455e-b253-370a4d99413e\")>,\n",
       " <selenium.webdriver.remote.webelement.WebElement (session=\"50778d6f8bb44b7d40b1ca1c50203e4d\", element=\"082131b9-7093-470f-8ee3-62e3238504db\")>,\n",
       " <selenium.webdriver.remote.webelement.WebElement (session=\"50778d6f8bb44b7d40b1ca1c50203e4d\", element=\"6f0bb751-d07d-4a2a-8d39-abab4a83c8d8\")>,\n",
       " <selenium.webdriver.remote.webelement.WebElement (session=\"50778d6f8bb44b7d40b1ca1c50203e4d\", element=\"0d491fbd-80f7-48ba-8429-8db9db66089e\")>,\n",
       " <selenium.webdriver.remote.webelement.WebElement (session=\"50778d6f8bb44b7d40b1ca1c50203e4d\", element=\"1bdf2f6d-c08c-456a-bb15-d825147e9b85\")>,\n",
       " <selenium.webdriver.remote.webelement.WebElement (session=\"50778d6f8bb44b7d40b1ca1c50203e4d\", element=\"783f21e1-53c9-48ed-9d0d-a37aabe6131d\")>,\n",
       " <selenium.webdriver.remote.webelement.WebElement (session=\"50778d6f8bb44b7d40b1ca1c50203e4d\", element=\"2183c2c4-28d4-4e4a-804b-9bdfe75a1cca\")>,\n",
       " <selenium.webdriver.remote.webelement.WebElement (session=\"50778d6f8bb44b7d40b1ca1c50203e4d\", element=\"6c49b9e4-a467-48c5-a0dd-ff6a8ca3cd2b\")>,\n",
       " <selenium.webdriver.remote.webelement.WebElement (session=\"50778d6f8bb44b7d40b1ca1c50203e4d\", element=\"a901a809-d61f-4180-b96e-ca587df7e565\")>,\n",
       " <selenium.webdriver.remote.webelement.WebElement (session=\"50778d6f8bb44b7d40b1ca1c50203e4d\", element=\"cdbb0a40-f082-4ebf-9e87-949cd3bba971\")>,\n",
       " <selenium.webdriver.remote.webelement.WebElement (session=\"50778d6f8bb44b7d40b1ca1c50203e4d\", element=\"e2ccedbe-ad57-4767-9b14-90a2c2543b05\")>,\n",
       " <selenium.webdriver.remote.webelement.WebElement (session=\"50778d6f8bb44b7d40b1ca1c50203e4d\", element=\"b01eda57-deff-4948-a0ea-0283a1753d99\")>,\n",
       " <selenium.webdriver.remote.webelement.WebElement (session=\"50778d6f8bb44b7d40b1ca1c50203e4d\", element=\"d4c3f4d7-f3fe-47dd-83c9-691a76babe8e\")>,\n",
       " <selenium.webdriver.remote.webelement.WebElement (session=\"50778d6f8bb44b7d40b1ca1c50203e4d\", element=\"5298e377-bded-4e5b-8356-ffd76fe26259\")>,\n",
       " <selenium.webdriver.remote.webelement.WebElement (session=\"50778d6f8bb44b7d40b1ca1c50203e4d\", element=\"c22e9560-e36b-4a07-a29c-eec18917c8e2\")>,\n",
       " <selenium.webdriver.remote.webelement.WebElement (session=\"50778d6f8bb44b7d40b1ca1c50203e4d\", element=\"913a1601-e5cf-4a18-a4a2-49d2b3bb75a9\")>,\n",
       " <selenium.webdriver.remote.webelement.WebElement (session=\"50778d6f8bb44b7d40b1ca1c50203e4d\", element=\"a924b759-c2e8-43e0-9e59-1178c403f589\")>,\n",
       " <selenium.webdriver.remote.webelement.WebElement (session=\"50778d6f8bb44b7d40b1ca1c50203e4d\", element=\"601b4e93-ae6d-46f1-bf86-f6e31bec68f2\")>,\n",
       " <selenium.webdriver.remote.webelement.WebElement (session=\"50778d6f8bb44b7d40b1ca1c50203e4d\", element=\"ee4f045c-03be-4bcb-9c34-2a94b1bfc379\")>,\n",
       " <selenium.webdriver.remote.webelement.WebElement (session=\"50778d6f8bb44b7d40b1ca1c50203e4d\", element=\"01c7bb4d-eb2a-4d94-a72a-2262450f3dd1\")>,\n",
       " <selenium.webdriver.remote.webelement.WebElement (session=\"50778d6f8bb44b7d40b1ca1c50203e4d\", element=\"780e9180-a9fe-4925-83a7-edd9bcb90acd\")>]"
      ]
     },
     "execution_count": 24,
     "metadata": {},
     "output_type": "execute_result"
    }
   ],
   "source": [
    "ds2=driver.find_elements_by_xpath('//a[@class=\"IRpwTa\"]')\n",
    "ds2"
   ]
  },
  {
   "cell_type": "code",
   "execution_count": 25,
   "id": "b75cd33f",
   "metadata": {},
   "outputs": [
    {
     "data": {
      "text/plain": [
       "40"
      ]
     },
     "execution_count": 25,
     "metadata": {},
     "output_type": "execute_result"
    }
   ],
   "source": [
    "len(ds2)"
   ]
  },
  {
   "cell_type": "code",
   "execution_count": 26,
   "id": "7e30d64a",
   "metadata": {},
   "outputs": [
    {
     "data": {
      "text/plain": [
       "['UV Protection, Gradient Rectangular Sunglasses (Free Si...',\n",
       " 'by Lenskart Polarized, UV Protection Round Sunglasses (...',\n",
       " 'UV Protection Wayfarer Sunglasses (50)',\n",
       " 'UV Protection, Polarized Wayfarer Sunglasses (Free Size...',\n",
       " 'UV Protection Aviator Sunglasses (54)',\n",
       " 'UV Protection Round Sunglasses (54)',\n",
       " 'UV Protection Aviator, Wayfarer Sunglasses (Free Size)',\n",
       " 'by Lenskart Polarized, UV Protection Wayfarer Sunglasse...',\n",
       " 'UV Protection, Polarized, Mirrored Rectangular Sunglass...',\n",
       " 'UV Protection Aviator Sunglasses (54)',\n",
       " 'UV Protection Rectangular Sunglasses (Free Size)',\n",
       " 'by Lenskart Polarized, UV Protection Cat-eye Sunglasses...',\n",
       " 'UV Protection Rectangular Sunglasses (Free Size)',\n",
       " 'UV Protection, Riding Glasses Wayfarer Sunglasses (53)',\n",
       " 'UV Protection Aviator Sunglasses (54)',\n",
       " 'Others Wayfarer Sunglasses (Free Size)',\n",
       " 'Others Wayfarer, Retro Square Sunglasses (50)',\n",
       " 'Riding Glasses Wrap-around Sunglasses (Free Size)',\n",
       " 'Gradient, UV Protection Wayfarer Sunglasses (Free Size)',\n",
       " 'by Lenskart Polarized, UV Protection Round Sunglasses (...',\n",
       " 'UV Protection Wayfarer Sunglasses (Free Size)',\n",
       " 'UV Protection, Riding Glasses, Mirrored Wayfarer Sungla...',\n",
       " 'Polarized, Night Vision, Riding Glasses Sports, Wrap-ar...',\n",
       " 'UV Protection, Gradient Retro Square Sunglasses (Free S...',\n",
       " 'UV Protection, Polarized, Mirrored Round Sunglasses (Fr...',\n",
       " 'UV Protection Wayfarer Sunglasses (55)',\n",
       " 'UV Protection Wayfarer Sunglasses (Free Size)',\n",
       " 'UV Protection Retro Square Sunglasses (Free Size)',\n",
       " 'UV Protection Round Sunglasses (54)',\n",
       " 'Mirrored Aviator Sunglasses (55)',\n",
       " 'UV Protection Rectangular Sunglasses (Free Size)',\n",
       " 'by Lenskart Polarized, UV Protection Round Sunglasses (...',\n",
       " 'UV Protection Retro Square Sunglasses (53)',\n",
       " 'UV Protection Wayfarer Sunglasses (53)',\n",
       " 'UV Protection Round Sunglasses (Free Size)',\n",
       " 'Mirrored, UV Protection, Riding Glasses, Others Wrap-ar...',\n",
       " 'Polarized Retro Square Sunglasses (Free Size)',\n",
       " 'Mirrored, UV Protection, Riding Glasses, Others Round S...',\n",
       " 'UV Protection, Polarized, Mirrored Rectangular Sunglass...',\n",
       " 'by Lenskart Polarized, UV Protection Wayfarer Sunglasse...',\n",
       " 'UV Protection, Polarized, Mirrored Rectangular Sunglass...',\n",
       " 'UV Protection Retro Square Sunglasses (Free Size)',\n",
       " 'UV Protection Wayfarer Sunglasses (32)',\n",
       " 'UV Protection, Gradient Butterfly Sunglasses (55)',\n",
       " 'Polarized Round Sunglasses (48)',\n",
       " 'UV Protection, Mirrored Sports Sunglasses (Free Size)',\n",
       " 'UV Protection Wayfarer Sunglasses (53)',\n",
       " 'UV Protection, Gradient Butterfly Sunglasses (55)',\n",
       " 'UV Protection Wayfarer Sunglasses (Free Size)',\n",
       " 'UV Protection Aviator Sunglasses (58)',\n",
       " 'UV Protection Retro Square Sunglasses (Free Size)',\n",
       " 'Toughened Glass Lens, UV Protection Wayfarer, Rectangul...',\n",
       " 'UV Protection Butterfly Sunglasses (65)',\n",
       " 'Mirrored Aviator Sunglasses (32)',\n",
       " 'Others Retro Square Sunglasses (Free Size)',\n",
       " 'Riding Glasses, Night Vision Wrap-around Sunglasses (Fr...',\n",
       " 'UV Protection Aviator Sunglasses (Free Size)',\n",
       " 'UV Protection Rectangular Sunglasses (Free Size)',\n",
       " 'Mirrored, UV Protection Wayfarer, Rectangular Sunglasse...',\n",
       " 'Mirrored Aviator Sunglasses (Free Size)',\n",
       " 'UV Protection Over-sized Sunglasses (57)',\n",
       " 'UV Protection, Polarized, Mirrored Retro Square Sunglas...',\n",
       " 'Mirrored Aviator Sunglasses (55)',\n",
       " 'UV Protection, Gradient Rectangular Sunglasses (Free Si...',\n",
       " 'UV Protection Cat-eye Sunglasses (17)',\n",
       " 'UV Protection Butterfly Sunglasses (60)',\n",
       " 'Polarized Aviator Sunglasses (Free Size)',\n",
       " 'UV Protection Rectangular Sunglasses (58)',\n",
       " 'UV Protection Round Sunglasses (Free Size)',\n",
       " 'UV Protection Clubmaster Sunglasses (Free Size)',\n",
       " 'UV Protection Aviator Sunglasses (57)',\n",
       " 'Mirrored, Riding Glasses, Others Sports Sunglasses (50)',\n",
       " 'UV Protection, Mirrored Retro Square Sunglasses (53)',\n",
       " 'UV Protection Aviator Sunglasses (88)',\n",
       " 'UV Protection Round Sunglasses (48)',\n",
       " 'UV Protection Aviator Sunglasses (Free Size)',\n",
       " 'Polarized Round Sunglasses (48)',\n",
       " 'UV Protection, Polarized, Mirrored Wayfarer Sunglasses ...',\n",
       " 'Mirrored, UV Protection Aviator Sunglasses (56)',\n",
       " 'UV Protection Wayfarer Sunglasses (Free Size)']"
      ]
     },
     "execution_count": 26,
     "metadata": {},
     "output_type": "execute_result"
    }
   ],
   "source": [
    "for i in ds2:\n",
    "    dscr.append(i.text)\n",
    "dscr"
   ]
  },
  {
   "cell_type": "code",
   "execution_count": 27,
   "id": "173735fc",
   "metadata": {},
   "outputs": [
    {
     "data": {
      "text/plain": [
       "80"
      ]
     },
     "execution_count": 27,
     "metadata": {},
     "output_type": "execute_result"
    }
   ],
   "source": [
    "len(dscr)"
   ]
  },
  {
   "cell_type": "code",
   "execution_count": 28,
   "id": "2142c468",
   "metadata": {},
   "outputs": [],
   "source": [
    "btn3=driver.find_element_by_xpath('/html/body/div[1]/div/div[3]/div[1]/div[2]/div[12]/div/div/nav/a[12]/span')\n",
    "btn3.click()"
   ]
  },
  {
   "cell_type": "code",
   "execution_count": 29,
   "id": "2fb22c7d",
   "metadata": {},
   "outputs": [
    {
     "data": {
      "text/plain": [
       "[<selenium.webdriver.remote.webelement.WebElement (session=\"50778d6f8bb44b7d40b1ca1c50203e4d\", element=\"3f9a8bbb-0b58-4b09-b3dd-c235ee2066f2\")>,\n",
       " <selenium.webdriver.remote.webelement.WebElement (session=\"50778d6f8bb44b7d40b1ca1c50203e4d\", element=\"28797e82-fd30-4998-86f6-4209b1bcae4e\")>,\n",
       " <selenium.webdriver.remote.webelement.WebElement (session=\"50778d6f8bb44b7d40b1ca1c50203e4d\", element=\"e742f0d0-88d0-4acf-a90f-da9d6270f0fb\")>,\n",
       " <selenium.webdriver.remote.webelement.WebElement (session=\"50778d6f8bb44b7d40b1ca1c50203e4d\", element=\"d4ba510e-92d3-4c88-ad38-eaf6da8d86dd\")>,\n",
       " <selenium.webdriver.remote.webelement.WebElement (session=\"50778d6f8bb44b7d40b1ca1c50203e4d\", element=\"3e0d352f-29b0-488c-a1f3-b259e306a5a9\")>,\n",
       " <selenium.webdriver.remote.webelement.WebElement (session=\"50778d6f8bb44b7d40b1ca1c50203e4d\", element=\"a239ee02-7816-4481-8c55-30c22d8b8b1f\")>,\n",
       " <selenium.webdriver.remote.webelement.WebElement (session=\"50778d6f8bb44b7d40b1ca1c50203e4d\", element=\"2e555089-d748-42eb-8e06-1469c9ad98c3\")>,\n",
       " <selenium.webdriver.remote.webelement.WebElement (session=\"50778d6f8bb44b7d40b1ca1c50203e4d\", element=\"5ac93d38-8e33-4353-b37d-bda3845a429b\")>,\n",
       " <selenium.webdriver.remote.webelement.WebElement (session=\"50778d6f8bb44b7d40b1ca1c50203e4d\", element=\"c9d5a3c1-c3dd-47ae-8080-9e6970744359\")>,\n",
       " <selenium.webdriver.remote.webelement.WebElement (session=\"50778d6f8bb44b7d40b1ca1c50203e4d\", element=\"4795a551-a992-43d7-9a66-b9bda79b1168\")>,\n",
       " <selenium.webdriver.remote.webelement.WebElement (session=\"50778d6f8bb44b7d40b1ca1c50203e4d\", element=\"78dba084-8afe-4e5c-93c7-9de470702ecf\")>,\n",
       " <selenium.webdriver.remote.webelement.WebElement (session=\"50778d6f8bb44b7d40b1ca1c50203e4d\", element=\"d740f695-e92e-46b8-a762-a30c798bf1b0\")>,\n",
       " <selenium.webdriver.remote.webelement.WebElement (session=\"50778d6f8bb44b7d40b1ca1c50203e4d\", element=\"3b0424e6-c274-4280-9020-e6cc73835571\")>,\n",
       " <selenium.webdriver.remote.webelement.WebElement (session=\"50778d6f8bb44b7d40b1ca1c50203e4d\", element=\"798bd7b5-85d7-436b-9845-6fd7e3cbf0a1\")>,\n",
       " <selenium.webdriver.remote.webelement.WebElement (session=\"50778d6f8bb44b7d40b1ca1c50203e4d\", element=\"f3724a5a-755a-427b-b9f9-73ad3da6f2f6\")>,\n",
       " <selenium.webdriver.remote.webelement.WebElement (session=\"50778d6f8bb44b7d40b1ca1c50203e4d\", element=\"15bc2e37-86aa-4e21-a0a8-634ba97e8881\")>,\n",
       " <selenium.webdriver.remote.webelement.WebElement (session=\"50778d6f8bb44b7d40b1ca1c50203e4d\", element=\"b202839f-02e0-4e16-a158-b2c1fd336ce9\")>,\n",
       " <selenium.webdriver.remote.webelement.WebElement (session=\"50778d6f8bb44b7d40b1ca1c50203e4d\", element=\"01178408-32e6-4190-b056-032623595ad8\")>,\n",
       " <selenium.webdriver.remote.webelement.WebElement (session=\"50778d6f8bb44b7d40b1ca1c50203e4d\", element=\"bdbacb8f-db9c-4ef3-b448-24ea9e261716\")>,\n",
       " <selenium.webdriver.remote.webelement.WebElement (session=\"50778d6f8bb44b7d40b1ca1c50203e4d\", element=\"4e9f6b09-540d-4a2d-99a1-eec49b890584\")>,\n",
       " <selenium.webdriver.remote.webelement.WebElement (session=\"50778d6f8bb44b7d40b1ca1c50203e4d\", element=\"c577109f-1d3c-4fc9-b6d8-f660513f30a5\")>,\n",
       " <selenium.webdriver.remote.webelement.WebElement (session=\"50778d6f8bb44b7d40b1ca1c50203e4d\", element=\"3b2056c5-d828-48df-8184-40fc92fadd1b\")>,\n",
       " <selenium.webdriver.remote.webelement.WebElement (session=\"50778d6f8bb44b7d40b1ca1c50203e4d\", element=\"ce0cdc73-487c-49dc-a7f7-f2940ea04779\")>,\n",
       " <selenium.webdriver.remote.webelement.WebElement (session=\"50778d6f8bb44b7d40b1ca1c50203e4d\", element=\"73ec7d49-d819-43b2-bba5-d3ef779ff4ed\")>,\n",
       " <selenium.webdriver.remote.webelement.WebElement (session=\"50778d6f8bb44b7d40b1ca1c50203e4d\", element=\"54d6c43c-6cc2-4d92-975f-aacc90493194\")>,\n",
       " <selenium.webdriver.remote.webelement.WebElement (session=\"50778d6f8bb44b7d40b1ca1c50203e4d\", element=\"34d9dd24-52d3-487d-aa19-2c10ff439730\")>,\n",
       " <selenium.webdriver.remote.webelement.WebElement (session=\"50778d6f8bb44b7d40b1ca1c50203e4d\", element=\"9b18650a-3370-4e97-a2f3-810a6a98fa97\")>,\n",
       " <selenium.webdriver.remote.webelement.WebElement (session=\"50778d6f8bb44b7d40b1ca1c50203e4d\", element=\"c6da6986-ff31-4293-b9fe-ace6ea1e1bf2\")>,\n",
       " <selenium.webdriver.remote.webelement.WebElement (session=\"50778d6f8bb44b7d40b1ca1c50203e4d\", element=\"c5b5b404-9d2b-4daa-b6fd-6fc07544e670\")>,\n",
       " <selenium.webdriver.remote.webelement.WebElement (session=\"50778d6f8bb44b7d40b1ca1c50203e4d\", element=\"2f3cd1e6-9858-47d0-918c-03e576d4b788\")>,\n",
       " <selenium.webdriver.remote.webelement.WebElement (session=\"50778d6f8bb44b7d40b1ca1c50203e4d\", element=\"4670e502-bc08-466c-b0c6-68fff6dd6d8f\")>,\n",
       " <selenium.webdriver.remote.webelement.WebElement (session=\"50778d6f8bb44b7d40b1ca1c50203e4d\", element=\"df58aac8-6521-433e-8c23-d312296fb3d8\")>,\n",
       " <selenium.webdriver.remote.webelement.WebElement (session=\"50778d6f8bb44b7d40b1ca1c50203e4d\", element=\"2b9c39d7-776f-4c65-a81f-e0100685355a\")>,\n",
       " <selenium.webdriver.remote.webelement.WebElement (session=\"50778d6f8bb44b7d40b1ca1c50203e4d\", element=\"0bf93416-1cd0-428c-8ee1-7ece072342b8\")>,\n",
       " <selenium.webdriver.remote.webelement.WebElement (session=\"50778d6f8bb44b7d40b1ca1c50203e4d\", element=\"00bea8b1-8c9a-4f6e-aaee-6498c21f2bca\")>,\n",
       " <selenium.webdriver.remote.webelement.WebElement (session=\"50778d6f8bb44b7d40b1ca1c50203e4d\", element=\"6706f533-e40d-41ae-a968-7ac05cb76a28\")>,\n",
       " <selenium.webdriver.remote.webelement.WebElement (session=\"50778d6f8bb44b7d40b1ca1c50203e4d\", element=\"e4ca6107-2c12-4fba-a5de-83e71253334e\")>,\n",
       " <selenium.webdriver.remote.webelement.WebElement (session=\"50778d6f8bb44b7d40b1ca1c50203e4d\", element=\"c2bf9e67-4768-4ebe-80ad-5cb3c3fcc9ac\")>,\n",
       " <selenium.webdriver.remote.webelement.WebElement (session=\"50778d6f8bb44b7d40b1ca1c50203e4d\", element=\"3edf4736-5094-43f7-8fe1-8271be602e28\")>,\n",
       " <selenium.webdriver.remote.webelement.WebElement (session=\"50778d6f8bb44b7d40b1ca1c50203e4d\", element=\"3b18a453-752e-4ec8-8516-9ceec0f8838a\")>]"
      ]
     },
     "execution_count": 29,
     "metadata": {},
     "output_type": "execute_result"
    }
   ],
   "source": [
    "br3=driver.find_elements_by_xpath('//div[@class=\"_2WkVRV\"]')\n",
    "br3"
   ]
  },
  {
   "cell_type": "code",
   "execution_count": 30,
   "id": "c1649d14",
   "metadata": {},
   "outputs": [
    {
     "data": {
      "text/plain": [
       "40"
      ]
     },
     "execution_count": 30,
     "metadata": {},
     "output_type": "execute_result"
    }
   ],
   "source": [
    "len(br3)"
   ]
  },
  {
   "cell_type": "code",
   "execution_count": 31,
   "id": "64c67295",
   "metadata": {},
   "outputs": [
    {
     "data": {
      "text/plain": [
       "['ROZZETTA CRAFT',\n",
       " 'VINCENT CHASE',\n",
       " 'SRPM',\n",
       " 'SUNBEE',\n",
       " 'PIRASO',\n",
       " 'Elligator',\n",
       " 'DEIXELS',\n",
       " 'VINCENT CHASE',\n",
       " 'SHAAH COLLECTIONS',\n",
       " 'PIRASO',\n",
       " 'New Specs',\n",
       " 'VINCENT CHASE',\n",
       " 'Fastrack',\n",
       " 'GANSTA',\n",
       " 'PIRASO',\n",
       " 'VILLAIN',\n",
       " 'SRPM',\n",
       " 'Lee Topper',\n",
       " 'Fastrack',\n",
       " 'VINCENT CHASE',\n",
       " 'Fastrack',\n",
       " 'kingsunglasses',\n",
       " 'ROZZETTA CRAFT',\n",
       " 'ROZZETTA CRAFT',\n",
       " 'SUNBEE',\n",
       " 'PIRASO',\n",
       " 'Silver Kartz',\n",
       " 'povty',\n",
       " 'kingsunglasses',\n",
       " 'ROYAL SON',\n",
       " 'Lee Topper',\n",
       " 'VINCENT CHASE',\n",
       " 'PHENOMENAL',\n",
       " 'SRPM',\n",
       " 'kingsunglasses',\n",
       " 'Singco India',\n",
       " 'Fastrack',\n",
       " 'New Specs',\n",
       " 'SHAAH COLLECTIONS',\n",
       " 'VINCENT CHASE',\n",
       " 'SHAAH COLLECTIONS',\n",
       " 'ROZZETTA CRAFT',\n",
       " 'PIRASO',\n",
       " 'ROYAL SON',\n",
       " 'Rich Club',\n",
       " 'New Specs',\n",
       " 'Elligator',\n",
       " 'ROYAL SON',\n",
       " 'Fastrack',\n",
       " 'PIRASO',\n",
       " 'PHENOMENAL',\n",
       " 'AISLIN',\n",
       " 'PIRASO',\n",
       " 'PIRASO',\n",
       " 'Fravy',\n",
       " 'Lee Topper',\n",
       " 'New Specs',\n",
       " 'kingsunglasses',\n",
       " 'kingsunglasses',\n",
       " 'ROYAL SON',\n",
       " 'IDEE',\n",
       " 'SUNBEE',\n",
       " 'ROYAL SON',\n",
       " 'ROZZETTA CRAFT',\n",
       " 'IDEE',\n",
       " 'PIRASO',\n",
       " 'Mi',\n",
       " 'ROYAL SON',\n",
       " 'SHAAH COLLECTIONS',\n",
       " 'PHENOMENAL',\n",
       " 'GANSTA',\n",
       " 'Singco India',\n",
       " 'PHENOMENAL',\n",
       " 'Silver Kartz',\n",
       " 'Rich Club',\n",
       " 'Fastrack',\n",
       " 'Rich Club',\n",
       " 'SUNBEE',\n",
       " 'kingsunglasses',\n",
       " 'elegante',\n",
       " 'PIRASO',\n",
       " 'kingsunglasses',\n",
       " 'PHENOMENAL',\n",
       " 'LOUIS KOUROS',\n",
       " 'IDEE',\n",
       " 'povty',\n",
       " 'NuVew',\n",
       " 'Fastrack',\n",
       " 'kingsunglasses',\n",
       " 'Rich Club',\n",
       " 'DEIXELS',\n",
       " 'hipe',\n",
       " 'Fastrack',\n",
       " 'Lee Topper',\n",
       " 'VINCENT CHASE',\n",
       " 'NuVew',\n",
       " 'hipe',\n",
       " 'IDEE',\n",
       " 'Silver Kartz',\n",
       " 'Fastrack',\n",
       " 'Elligator',\n",
       " 'Fastrack',\n",
       " 'Johaena',\n",
       " 'ROZZETTA CRAFT',\n",
       " 'kingsunglasses',\n",
       " 'hipe',\n",
       " 'Fastrack',\n",
       " 'IDEE',\n",
       " 'Fastrack',\n",
       " 'Elligator',\n",
       " 'Fastrack',\n",
       " 'SRPM',\n",
       " 'Fastrack',\n",
       " 'ROZZETTA CRAFT',\n",
       " 'AISLIN',\n",
       " 'Elligator',\n",
       " 'hipe',\n",
       " 'DEIXELS',\n",
       " 'Lee Topper',\n",
       " 'IDEE']"
      ]
     },
     "execution_count": 31,
     "metadata": {},
     "output_type": "execute_result"
    }
   ],
   "source": [
    "for i in br3:\n",
    "    brand.append(i.text)\n",
    "brand"
   ]
  },
  {
   "cell_type": "code",
   "execution_count": 32,
   "id": "343d9501",
   "metadata": {},
   "outputs": [
    {
     "data": {
      "text/plain": [
       "120"
      ]
     },
     "execution_count": 32,
     "metadata": {},
     "output_type": "execute_result"
    }
   ],
   "source": [
    "len(brand)"
   ]
  },
  {
   "cell_type": "code",
   "execution_count": 33,
   "id": "05e289a4",
   "metadata": {},
   "outputs": [
    {
     "data": {
      "text/plain": [
       "[<selenium.webdriver.remote.webelement.WebElement (session=\"50778d6f8bb44b7d40b1ca1c50203e4d\", element=\"5a70e3da-0cae-45f4-8d3d-0cac79806ee5\")>,\n",
       " <selenium.webdriver.remote.webelement.WebElement (session=\"50778d6f8bb44b7d40b1ca1c50203e4d\", element=\"99e93420-cba1-4a74-968a-cd6068e6de34\")>,\n",
       " <selenium.webdriver.remote.webelement.WebElement (session=\"50778d6f8bb44b7d40b1ca1c50203e4d\", element=\"77ca8b32-e079-4219-86b9-67f028a0c8f5\")>,\n",
       " <selenium.webdriver.remote.webelement.WebElement (session=\"50778d6f8bb44b7d40b1ca1c50203e4d\", element=\"aa1a940c-1c6d-4900-a4d0-183229ad3027\")>,\n",
       " <selenium.webdriver.remote.webelement.WebElement (session=\"50778d6f8bb44b7d40b1ca1c50203e4d\", element=\"2d352a15-14da-47e6-9b11-3bcf8623747a\")>,\n",
       " <selenium.webdriver.remote.webelement.WebElement (session=\"50778d6f8bb44b7d40b1ca1c50203e4d\", element=\"70a0bc9a-f67e-4c88-8d90-ad6e0458b22f\")>,\n",
       " <selenium.webdriver.remote.webelement.WebElement (session=\"50778d6f8bb44b7d40b1ca1c50203e4d\", element=\"6669763c-735e-40b7-ae59-24db1a7f06e4\")>,\n",
       " <selenium.webdriver.remote.webelement.WebElement (session=\"50778d6f8bb44b7d40b1ca1c50203e4d\", element=\"204f4db9-a0bb-4a17-89f1-9d7454e8640c\")>,\n",
       " <selenium.webdriver.remote.webelement.WebElement (session=\"50778d6f8bb44b7d40b1ca1c50203e4d\", element=\"b714bb29-12c9-472f-9a83-ca9670cf4218\")>,\n",
       " <selenium.webdriver.remote.webelement.WebElement (session=\"50778d6f8bb44b7d40b1ca1c50203e4d\", element=\"119539ea-b572-4db3-b853-c12c227e4ad6\")>,\n",
       " <selenium.webdriver.remote.webelement.WebElement (session=\"50778d6f8bb44b7d40b1ca1c50203e4d\", element=\"41b8c881-7c38-45a1-bd06-9e98df43dc44\")>,\n",
       " <selenium.webdriver.remote.webelement.WebElement (session=\"50778d6f8bb44b7d40b1ca1c50203e4d\", element=\"475a898c-f617-4157-93dc-1cd5ca0d212b\")>,\n",
       " <selenium.webdriver.remote.webelement.WebElement (session=\"50778d6f8bb44b7d40b1ca1c50203e4d\", element=\"9cb825c8-c16d-4f0d-9143-20b8e8feae1f\")>,\n",
       " <selenium.webdriver.remote.webelement.WebElement (session=\"50778d6f8bb44b7d40b1ca1c50203e4d\", element=\"a681fcbe-2bc2-4b29-955a-b0b8aec8f2b6\")>,\n",
       " <selenium.webdriver.remote.webelement.WebElement (session=\"50778d6f8bb44b7d40b1ca1c50203e4d\", element=\"c094f53a-2657-4910-9658-e74170e3256e\")>,\n",
       " <selenium.webdriver.remote.webelement.WebElement (session=\"50778d6f8bb44b7d40b1ca1c50203e4d\", element=\"4e1e4e46-fbcb-4e7b-81c2-6995481ac02d\")>,\n",
       " <selenium.webdriver.remote.webelement.WebElement (session=\"50778d6f8bb44b7d40b1ca1c50203e4d\", element=\"b891731d-ce0d-447a-9ec9-33a10a3a76eb\")>,\n",
       " <selenium.webdriver.remote.webelement.WebElement (session=\"50778d6f8bb44b7d40b1ca1c50203e4d\", element=\"c00c1433-4847-422b-9611-07e33dd8b886\")>,\n",
       " <selenium.webdriver.remote.webelement.WebElement (session=\"50778d6f8bb44b7d40b1ca1c50203e4d\", element=\"1c9573fa-69c9-43b6-87a0-d03a46c3de57\")>,\n",
       " <selenium.webdriver.remote.webelement.WebElement (session=\"50778d6f8bb44b7d40b1ca1c50203e4d\", element=\"30c02342-e486-48c4-be28-b84f3a3523ef\")>,\n",
       " <selenium.webdriver.remote.webelement.WebElement (session=\"50778d6f8bb44b7d40b1ca1c50203e4d\", element=\"62155736-68ad-4657-ae5e-6a6455ff4846\")>,\n",
       " <selenium.webdriver.remote.webelement.WebElement (session=\"50778d6f8bb44b7d40b1ca1c50203e4d\", element=\"eb614a4f-92d7-4de6-a0b0-be15dbe7d112\")>,\n",
       " <selenium.webdriver.remote.webelement.WebElement (session=\"50778d6f8bb44b7d40b1ca1c50203e4d\", element=\"01a47993-5a5c-47cb-92cc-7d3ba5a37a8f\")>,\n",
       " <selenium.webdriver.remote.webelement.WebElement (session=\"50778d6f8bb44b7d40b1ca1c50203e4d\", element=\"8ef041a1-3b62-4a7a-809f-0a3166765134\")>,\n",
       " <selenium.webdriver.remote.webelement.WebElement (session=\"50778d6f8bb44b7d40b1ca1c50203e4d\", element=\"f64eb8de-fa3c-436c-a529-0c10ae9ee14e\")>,\n",
       " <selenium.webdriver.remote.webelement.WebElement (session=\"50778d6f8bb44b7d40b1ca1c50203e4d\", element=\"fb6476ee-38c7-4e0e-aec2-d9137837145c\")>,\n",
       " <selenium.webdriver.remote.webelement.WebElement (session=\"50778d6f8bb44b7d40b1ca1c50203e4d\", element=\"a0f933e2-5a01-4b94-814d-9b2f6b8c3793\")>,\n",
       " <selenium.webdriver.remote.webelement.WebElement (session=\"50778d6f8bb44b7d40b1ca1c50203e4d\", element=\"2116b888-c951-484a-b2de-470e4b05e7cc\")>,\n",
       " <selenium.webdriver.remote.webelement.WebElement (session=\"50778d6f8bb44b7d40b1ca1c50203e4d\", element=\"152c319a-89a1-491b-aa5a-d97c104da2ee\")>,\n",
       " <selenium.webdriver.remote.webelement.WebElement (session=\"50778d6f8bb44b7d40b1ca1c50203e4d\", element=\"daf018a0-ca54-478b-9e81-426574de441d\")>,\n",
       " <selenium.webdriver.remote.webelement.WebElement (session=\"50778d6f8bb44b7d40b1ca1c50203e4d\", element=\"8fcfa8cb-9e65-4170-8bf4-6d6b43778c7a\")>,\n",
       " <selenium.webdriver.remote.webelement.WebElement (session=\"50778d6f8bb44b7d40b1ca1c50203e4d\", element=\"0f51b655-f0d5-4629-b476-af307b7c16c1\")>,\n",
       " <selenium.webdriver.remote.webelement.WebElement (session=\"50778d6f8bb44b7d40b1ca1c50203e4d\", element=\"0aa03afb-ea0d-4bba-9561-ba8e51b507f6\")>,\n",
       " <selenium.webdriver.remote.webelement.WebElement (session=\"50778d6f8bb44b7d40b1ca1c50203e4d\", element=\"fef0d18d-86d2-48d1-8b4f-3160a081239c\")>,\n",
       " <selenium.webdriver.remote.webelement.WebElement (session=\"50778d6f8bb44b7d40b1ca1c50203e4d\", element=\"12fcb8cc-c401-473f-b05c-342111d79d9e\")>,\n",
       " <selenium.webdriver.remote.webelement.WebElement (session=\"50778d6f8bb44b7d40b1ca1c50203e4d\", element=\"b330cab2-449c-4316-964a-0321a8f8d004\")>,\n",
       " <selenium.webdriver.remote.webelement.WebElement (session=\"50778d6f8bb44b7d40b1ca1c50203e4d\", element=\"9d460006-5144-4ac6-bab2-6a5bed5ae484\")>,\n",
       " <selenium.webdriver.remote.webelement.WebElement (session=\"50778d6f8bb44b7d40b1ca1c50203e4d\", element=\"9bbf4296-79cc-4a74-8b25-e975e6ed2e3e\")>,\n",
       " <selenium.webdriver.remote.webelement.WebElement (session=\"50778d6f8bb44b7d40b1ca1c50203e4d\", element=\"a584960b-841f-47dd-a813-44be826b74b2\")>,\n",
       " <selenium.webdriver.remote.webelement.WebElement (session=\"50778d6f8bb44b7d40b1ca1c50203e4d\", element=\"6437d771-9240-41dc-9af8-4e9b924db36a\")>]"
      ]
     },
     "execution_count": 33,
     "metadata": {},
     "output_type": "execute_result"
    }
   ],
   "source": [
    "pr3=driver.find_elements_by_xpath('//div[@class=\"_30jeq3\"]')\n",
    "pr3"
   ]
  },
  {
   "cell_type": "code",
   "execution_count": 34,
   "id": "d35c2ac3",
   "metadata": {},
   "outputs": [
    {
     "data": {
      "text/plain": [
       "40"
      ]
     },
     "execution_count": 34,
     "metadata": {},
     "output_type": "execute_result"
    }
   ],
   "source": [
    "len(pr3)"
   ]
  },
  {
   "cell_type": "code",
   "execution_count": 35,
   "id": "232cd55c",
   "metadata": {},
   "outputs": [
    {
     "data": {
      "text/plain": [
       "['₹399',\n",
       " '₹949',\n",
       " '₹148',\n",
       " '₹203',\n",
       " '₹179',\n",
       " '₹208',\n",
       " '₹152',\n",
       " '₹749',\n",
       " '₹115',\n",
       " '₹175',\n",
       " '₹182',\n",
       " '₹949',\n",
       " '₹629',\n",
       " '₹148',\n",
       " '₹175',\n",
       " '₹472',\n",
       " '₹128',\n",
       " '₹225',\n",
       " '₹629',\n",
       " '₹799',\n",
       " '₹549',\n",
       " '₹134',\n",
       " '₹424',\n",
       " '₹281',\n",
       " '₹234',\n",
       " '₹175',\n",
       " '₹183',\n",
       " '₹249',\n",
       " '₹136',\n",
       " '₹329',\n",
       " '₹149',\n",
       " '₹949',\n",
       " '₹239',\n",
       " '₹170',\n",
       " '₹239',\n",
       " '₹231',\n",
       " '₹548',\n",
       " '₹213',\n",
       " '₹131',\n",
       " '₹799',\n",
       " '₹131',\n",
       " '₹424',\n",
       " '₹175',\n",
       " '₹614',\n",
       " '₹125',\n",
       " '₹108',\n",
       " '₹126',\n",
       " '₹614',\n",
       " '₹709',\n",
       " '₹299',\n",
       " '₹278',\n",
       " '₹874',\n",
       " '₹325',\n",
       " '₹149',\n",
       " '₹149',\n",
       " '₹226',\n",
       " '₹133',\n",
       " '₹130',\n",
       " '₹208',\n",
       " '₹329',\n",
       " '₹929',\n",
       " '₹180',\n",
       " '₹329',\n",
       " '₹349',\n",
       " '₹869',\n",
       " '₹325',\n",
       " '₹959',\n",
       " '₹424',\n",
       " '₹226',\n",
       " '₹257',\n",
       " '₹234',\n",
       " '₹144',\n",
       " '₹267',\n",
       " '₹192',\n",
       " '₹159',\n",
       " '₹549',\n",
       " '₹115',\n",
       " '₹203',\n",
       " '₹169',\n",
       " '₹349',\n",
       " '₹249',\n",
       " '₹179',\n",
       " '₹267',\n",
       " '₹1,299',\n",
       " '₹859',\n",
       " '₹249',\n",
       " '₹277',\n",
       " '₹649',\n",
       " '₹129',\n",
       " '₹129',\n",
       " '₹149',\n",
       " '₹139',\n",
       " '₹549',\n",
       " '₹325',\n",
       " '₹749',\n",
       " '₹277',\n",
       " '₹159',\n",
       " '₹929',\n",
       " '₹219',\n",
       " '₹1,549',\n",
       " '₹321',\n",
       " '₹699',\n",
       " '₹127',\n",
       " '₹281',\n",
       " '₹113',\n",
       " '₹237',\n",
       " '₹649',\n",
       " '₹929',\n",
       " '₹589',\n",
       " '₹261',\n",
       " '₹1,119',\n",
       " '₹149',\n",
       " '₹759',\n",
       " '₹292',\n",
       " '₹396',\n",
       " '₹219',\n",
       " '₹129',\n",
       " '₹149',\n",
       " '₹231',\n",
       " '₹799']"
      ]
     },
     "execution_count": 35,
     "metadata": {},
     "output_type": "execute_result"
    }
   ],
   "source": [
    "for i in pr3:\n",
    "    prc.append(i.text)\n",
    "prc"
   ]
  },
  {
   "cell_type": "code",
   "execution_count": 36,
   "id": "c348ad75",
   "metadata": {},
   "outputs": [
    {
     "data": {
      "text/plain": [
       "120"
      ]
     },
     "execution_count": 36,
     "metadata": {},
     "output_type": "execute_result"
    }
   ],
   "source": [
    "len(prc)"
   ]
  },
  {
   "cell_type": "code",
   "execution_count": 37,
   "id": "cab118e0",
   "metadata": {},
   "outputs": [
    {
     "data": {
      "text/plain": [
       "[<selenium.webdriver.remote.webelement.WebElement (session=\"50778d6f8bb44b7d40b1ca1c50203e4d\", element=\"31d6b1d8-ca0d-4f1c-90e8-4e9b655e2288\")>,\n",
       " <selenium.webdriver.remote.webelement.WebElement (session=\"50778d6f8bb44b7d40b1ca1c50203e4d\", element=\"13fec7be-f74f-4894-bb7f-c71e68a07101\")>,\n",
       " <selenium.webdriver.remote.webelement.WebElement (session=\"50778d6f8bb44b7d40b1ca1c50203e4d\", element=\"75b59e20-8c1a-45a6-8efc-3a0225cf20f7\")>,\n",
       " <selenium.webdriver.remote.webelement.WebElement (session=\"50778d6f8bb44b7d40b1ca1c50203e4d\", element=\"870dd371-f93c-46cd-a978-8b24c087ed1b\")>,\n",
       " <selenium.webdriver.remote.webelement.WebElement (session=\"50778d6f8bb44b7d40b1ca1c50203e4d\", element=\"85bda121-a4b5-4d1d-8f37-03922359ad78\")>,\n",
       " <selenium.webdriver.remote.webelement.WebElement (session=\"50778d6f8bb44b7d40b1ca1c50203e4d\", element=\"66127e76-08cb-4a2d-ae44-c47bf860ab2a\")>,\n",
       " <selenium.webdriver.remote.webelement.WebElement (session=\"50778d6f8bb44b7d40b1ca1c50203e4d\", element=\"98dfe0bb-6052-4663-9f98-c6f1c9645750\")>,\n",
       " <selenium.webdriver.remote.webelement.WebElement (session=\"50778d6f8bb44b7d40b1ca1c50203e4d\", element=\"233e4efe-5de1-406c-93d9-7213cf07cce4\")>,\n",
       " <selenium.webdriver.remote.webelement.WebElement (session=\"50778d6f8bb44b7d40b1ca1c50203e4d\", element=\"71c1f3d2-3ca3-44ec-9e59-d2232f6df27a\")>,\n",
       " <selenium.webdriver.remote.webelement.WebElement (session=\"50778d6f8bb44b7d40b1ca1c50203e4d\", element=\"836a9b43-0241-43a5-931a-3ae83c5d4213\")>,\n",
       " <selenium.webdriver.remote.webelement.WebElement (session=\"50778d6f8bb44b7d40b1ca1c50203e4d\", element=\"41e44404-5069-4855-8b0a-553b639e42f6\")>,\n",
       " <selenium.webdriver.remote.webelement.WebElement (session=\"50778d6f8bb44b7d40b1ca1c50203e4d\", element=\"5f863315-aa15-4e63-8ac0-2ab831665102\")>,\n",
       " <selenium.webdriver.remote.webelement.WebElement (session=\"50778d6f8bb44b7d40b1ca1c50203e4d\", element=\"9b4ddb9e-5d85-446c-aca8-5b70b3692854\")>,\n",
       " <selenium.webdriver.remote.webelement.WebElement (session=\"50778d6f8bb44b7d40b1ca1c50203e4d\", element=\"28da5e53-df62-4fd0-9194-d796eb094b94\")>,\n",
       " <selenium.webdriver.remote.webelement.WebElement (session=\"50778d6f8bb44b7d40b1ca1c50203e4d\", element=\"cb0e8c92-56a2-44f2-b0f1-ad3693ad8381\")>,\n",
       " <selenium.webdriver.remote.webelement.WebElement (session=\"50778d6f8bb44b7d40b1ca1c50203e4d\", element=\"9c892228-7a0f-4bb1-b05d-12bed605fcf8\")>,\n",
       " <selenium.webdriver.remote.webelement.WebElement (session=\"50778d6f8bb44b7d40b1ca1c50203e4d\", element=\"6b63fe41-0c86-40e2-943a-12f84b40a5a6\")>,\n",
       " <selenium.webdriver.remote.webelement.WebElement (session=\"50778d6f8bb44b7d40b1ca1c50203e4d\", element=\"03557d98-fec4-4b39-add9-417bc4497194\")>,\n",
       " <selenium.webdriver.remote.webelement.WebElement (session=\"50778d6f8bb44b7d40b1ca1c50203e4d\", element=\"26b02c4f-1d55-40ad-96c8-1c5a46493b21\")>,\n",
       " <selenium.webdriver.remote.webelement.WebElement (session=\"50778d6f8bb44b7d40b1ca1c50203e4d\", element=\"67ec45cb-df91-4917-bd0c-e379979acdea\")>,\n",
       " <selenium.webdriver.remote.webelement.WebElement (session=\"50778d6f8bb44b7d40b1ca1c50203e4d\", element=\"8ab25971-3c39-464e-bb76-8340397744a0\")>,\n",
       " <selenium.webdriver.remote.webelement.WebElement (session=\"50778d6f8bb44b7d40b1ca1c50203e4d\", element=\"ef3dc360-7106-42e5-82f9-8c1a7507f9be\")>,\n",
       " <selenium.webdriver.remote.webelement.WebElement (session=\"50778d6f8bb44b7d40b1ca1c50203e4d\", element=\"b6f2da79-bc3f-4e0f-a52b-db3d645e69a0\")>,\n",
       " <selenium.webdriver.remote.webelement.WebElement (session=\"50778d6f8bb44b7d40b1ca1c50203e4d\", element=\"08d8512d-1397-4a12-8e45-c6d765748ce2\")>,\n",
       " <selenium.webdriver.remote.webelement.WebElement (session=\"50778d6f8bb44b7d40b1ca1c50203e4d\", element=\"a651e4b5-83ef-46f8-ba00-5ccae87c72a3\")>,\n",
       " <selenium.webdriver.remote.webelement.WebElement (session=\"50778d6f8bb44b7d40b1ca1c50203e4d\", element=\"53b458e8-04c1-48d4-9bbd-4d7a4ab77734\")>,\n",
       " <selenium.webdriver.remote.webelement.WebElement (session=\"50778d6f8bb44b7d40b1ca1c50203e4d\", element=\"dcf1b818-b584-48dc-a1e6-b589d2d6971a\")>,\n",
       " <selenium.webdriver.remote.webelement.WebElement (session=\"50778d6f8bb44b7d40b1ca1c50203e4d\", element=\"a334e35e-1451-4278-956e-0b99917d0cc0\")>,\n",
       " <selenium.webdriver.remote.webelement.WebElement (session=\"50778d6f8bb44b7d40b1ca1c50203e4d\", element=\"b0390a54-0b15-40b0-afd6-c1c24b13213f\")>,\n",
       " <selenium.webdriver.remote.webelement.WebElement (session=\"50778d6f8bb44b7d40b1ca1c50203e4d\", element=\"ebb5dafa-de56-4999-a7b0-4992aff06ec7\")>,\n",
       " <selenium.webdriver.remote.webelement.WebElement (session=\"50778d6f8bb44b7d40b1ca1c50203e4d\", element=\"5e34550f-fe7c-4d0e-9f6e-b58042a0b511\")>,\n",
       " <selenium.webdriver.remote.webelement.WebElement (session=\"50778d6f8bb44b7d40b1ca1c50203e4d\", element=\"0e79a6e4-0c87-4bc7-af7b-b38bcd7a3e72\")>,\n",
       " <selenium.webdriver.remote.webelement.WebElement (session=\"50778d6f8bb44b7d40b1ca1c50203e4d\", element=\"eacbe5f3-1a3a-4d31-8c4e-df9f65853847\")>,\n",
       " <selenium.webdriver.remote.webelement.WebElement (session=\"50778d6f8bb44b7d40b1ca1c50203e4d\", element=\"82ed1e5f-6717-429f-bc45-126414a5383d\")>,\n",
       " <selenium.webdriver.remote.webelement.WebElement (session=\"50778d6f8bb44b7d40b1ca1c50203e4d\", element=\"3a7a39ba-3e76-44b9-aadd-44ccd54aa836\")>,\n",
       " <selenium.webdriver.remote.webelement.WebElement (session=\"50778d6f8bb44b7d40b1ca1c50203e4d\", element=\"2fbbf349-8d3d-461e-bd78-dd88608b8e07\")>,\n",
       " <selenium.webdriver.remote.webelement.WebElement (session=\"50778d6f8bb44b7d40b1ca1c50203e4d\", element=\"2928eec9-a32d-44fa-8234-ab169be01294\")>,\n",
       " <selenium.webdriver.remote.webelement.WebElement (session=\"50778d6f8bb44b7d40b1ca1c50203e4d\", element=\"cab8758e-ced0-40c2-a4fe-022127d552d2\")>,\n",
       " <selenium.webdriver.remote.webelement.WebElement (session=\"50778d6f8bb44b7d40b1ca1c50203e4d\", element=\"ec49ad13-1bd6-4ecb-9de3-a4c00f4641c8\")>,\n",
       " <selenium.webdriver.remote.webelement.WebElement (session=\"50778d6f8bb44b7d40b1ca1c50203e4d\", element=\"96cf8ff7-3b01-476c-9d73-400826f2d62a\")>]"
      ]
     },
     "execution_count": 37,
     "metadata": {},
     "output_type": "execute_result"
    }
   ],
   "source": [
    "ds3=driver.find_elements_by_xpath('//a[@class=\"IRpwTa\"]')\n",
    "ds3"
   ]
  },
  {
   "cell_type": "code",
   "execution_count": 38,
   "id": "ca06d1aa",
   "metadata": {},
   "outputs": [
    {
     "data": {
      "text/plain": [
       "40"
      ]
     },
     "execution_count": 38,
     "metadata": {},
     "output_type": "execute_result"
    }
   ],
   "source": [
    "len(ds3)"
   ]
  },
  {
   "cell_type": "code",
   "execution_count": 39,
   "id": "f676f32f",
   "metadata": {},
   "outputs": [
    {
     "data": {
      "text/plain": [
       "80"
      ]
     },
     "execution_count": 39,
     "metadata": {},
     "output_type": "execute_result"
    }
   ],
   "source": [
    "len(dscr)"
   ]
  },
  {
   "cell_type": "code",
   "execution_count": 40,
   "id": "79f0c64c",
   "metadata": {},
   "outputs": [
    {
     "data": {
      "text/plain": [
       "['UV Protection, Gradient Rectangular Sunglasses (Free Si...',\n",
       " 'by Lenskart Polarized, UV Protection Round Sunglasses (...',\n",
       " 'UV Protection Wayfarer Sunglasses (50)',\n",
       " 'UV Protection, Polarized Wayfarer Sunglasses (Free Size...',\n",
       " 'UV Protection Aviator Sunglasses (54)',\n",
       " 'UV Protection Round Sunglasses (54)',\n",
       " 'UV Protection Aviator, Wayfarer Sunglasses (Free Size)',\n",
       " 'by Lenskart Polarized, UV Protection Wayfarer Sunglasse...',\n",
       " 'UV Protection, Polarized, Mirrored Rectangular Sunglass...',\n",
       " 'UV Protection Aviator Sunglasses (54)',\n",
       " 'UV Protection Rectangular Sunglasses (Free Size)',\n",
       " 'by Lenskart Polarized, UV Protection Cat-eye Sunglasses...',\n",
       " 'UV Protection Rectangular Sunglasses (Free Size)',\n",
       " 'UV Protection, Riding Glasses Wayfarer Sunglasses (53)',\n",
       " 'UV Protection Aviator Sunglasses (54)',\n",
       " 'Others Wayfarer Sunglasses (Free Size)',\n",
       " 'Others Wayfarer, Retro Square Sunglasses (50)',\n",
       " 'Riding Glasses Wrap-around Sunglasses (Free Size)',\n",
       " 'Gradient, UV Protection Wayfarer Sunglasses (Free Size)',\n",
       " 'by Lenskart Polarized, UV Protection Round Sunglasses (...',\n",
       " 'UV Protection Wayfarer Sunglasses (Free Size)',\n",
       " 'UV Protection, Riding Glasses, Mirrored Wayfarer Sungla...',\n",
       " 'Polarized, Night Vision, Riding Glasses Sports, Wrap-ar...',\n",
       " 'UV Protection, Gradient Retro Square Sunglasses (Free S...',\n",
       " 'UV Protection, Polarized, Mirrored Round Sunglasses (Fr...',\n",
       " 'UV Protection Wayfarer Sunglasses (55)',\n",
       " 'UV Protection Wayfarer Sunglasses (Free Size)',\n",
       " 'UV Protection Retro Square Sunglasses (Free Size)',\n",
       " 'UV Protection Round Sunglasses (54)',\n",
       " 'Mirrored Aviator Sunglasses (55)',\n",
       " 'UV Protection Rectangular Sunglasses (Free Size)',\n",
       " 'by Lenskart Polarized, UV Protection Round Sunglasses (...',\n",
       " 'UV Protection Retro Square Sunglasses (53)',\n",
       " 'UV Protection Wayfarer Sunglasses (53)',\n",
       " 'UV Protection Round Sunglasses (Free Size)',\n",
       " 'Mirrored, UV Protection, Riding Glasses, Others Wrap-ar...',\n",
       " 'Polarized Retro Square Sunglasses (Free Size)',\n",
       " 'Mirrored, UV Protection, Riding Glasses, Others Round S...',\n",
       " 'UV Protection, Polarized, Mirrored Rectangular Sunglass...',\n",
       " 'by Lenskart Polarized, UV Protection Wayfarer Sunglasse...',\n",
       " 'UV Protection, Polarized, Mirrored Rectangular Sunglass...',\n",
       " 'UV Protection Retro Square Sunglasses (Free Size)',\n",
       " 'UV Protection Wayfarer Sunglasses (32)',\n",
       " 'UV Protection, Gradient Butterfly Sunglasses (55)',\n",
       " 'Polarized Round Sunglasses (48)',\n",
       " 'UV Protection, Mirrored Sports Sunglasses (Free Size)',\n",
       " 'UV Protection Wayfarer Sunglasses (53)',\n",
       " 'UV Protection, Gradient Butterfly Sunglasses (55)',\n",
       " 'UV Protection Wayfarer Sunglasses (Free Size)',\n",
       " 'UV Protection Aviator Sunglasses (58)',\n",
       " 'UV Protection Retro Square Sunglasses (Free Size)',\n",
       " 'Toughened Glass Lens, UV Protection Wayfarer, Rectangul...',\n",
       " 'UV Protection Butterfly Sunglasses (65)',\n",
       " 'Mirrored Aviator Sunglasses (32)',\n",
       " 'Others Retro Square Sunglasses (Free Size)',\n",
       " 'Riding Glasses, Night Vision Wrap-around Sunglasses (Fr...',\n",
       " 'UV Protection Aviator Sunglasses (Free Size)',\n",
       " 'UV Protection Rectangular Sunglasses (Free Size)',\n",
       " 'Mirrored, UV Protection Wayfarer, Rectangular Sunglasse...',\n",
       " 'Mirrored Aviator Sunglasses (Free Size)',\n",
       " 'UV Protection Over-sized Sunglasses (57)',\n",
       " 'UV Protection, Polarized, Mirrored Retro Square Sunglas...',\n",
       " 'Mirrored Aviator Sunglasses (55)',\n",
       " 'UV Protection, Gradient Rectangular Sunglasses (Free Si...',\n",
       " 'UV Protection Cat-eye Sunglasses (17)',\n",
       " 'UV Protection Butterfly Sunglasses (60)',\n",
       " 'Polarized Aviator Sunglasses (Free Size)',\n",
       " 'UV Protection Rectangular Sunglasses (58)',\n",
       " 'UV Protection Round Sunglasses (Free Size)',\n",
       " 'UV Protection Clubmaster Sunglasses (Free Size)',\n",
       " 'UV Protection Aviator Sunglasses (57)',\n",
       " 'Mirrored, Riding Glasses, Others Sports Sunglasses (50)',\n",
       " 'UV Protection, Mirrored Retro Square Sunglasses (53)',\n",
       " 'UV Protection Aviator Sunglasses (88)',\n",
       " 'UV Protection Round Sunglasses (48)',\n",
       " 'UV Protection Aviator Sunglasses (Free Size)',\n",
       " 'Polarized Round Sunglasses (48)',\n",
       " 'UV Protection, Polarized, Mirrored Wayfarer Sunglasses ...',\n",
       " 'Mirrored, UV Protection Aviator Sunglasses (56)',\n",
       " 'UV Protection Wayfarer Sunglasses (Free Size)',\n",
       " 'UV Protection Aviator Sunglasses (Free Size)',\n",
       " 'UV Protection, Mirrored Round Sunglasses (Free Size)',\n",
       " 'UV Protection, Mirrored Retro Square Sunglasses (53)',\n",
       " 'UV Protection Aviator Sunglasses (60)',\n",
       " 'UV Protection Cat-eye Sunglasses (17)',\n",
       " 'UV Protection Retro Square Sunglasses (Free Size)',\n",
       " 'UV Protection Sports Sunglasses (62)',\n",
       " 'UV Protection Shield Sunglasses (Free Size)',\n",
       " 'UV Protection, Others Round, Aviator Sunglasses (54)',\n",
       " 'UV Protection, Polarized Oval, Retro Square Sunglasses ...',\n",
       " 'UV Protection Wayfarer Sunglasses (Free Size)',\n",
       " 'Mirrored, UV Protection, Gradient Round Sunglasses (55)',\n",
       " 'UV Protection Wayfarer Sunglasses (Free Size)',\n",
       " 'UV Protection, Riding Glasses Retro Square, Spectacle ...',\n",
       " 'by Lenskart Polarized, UV Protection Wayfarer Sunglasse...',\n",
       " 'UV Protection, Mirrored Sports Sunglasses (62)',\n",
       " 'UV Protection, Gradient, Mirrored, Riding Glasses Aviat...',\n",
       " 'UV Protection Rectangular Sunglasses (59)',\n",
       " 'UV Protection Oval Sunglasses (56)',\n",
       " 'UV Protection Oval Sunglasses (Free Size)',\n",
       " 'UV Protection Aviator Sunglasses (55)',\n",
       " 'UV Protection Aviator Sunglasses (Free Size)',\n",
       " 'Riding Glasses, UV Protection Oval Sunglasses (52)',\n",
       " 'UV Protection, Gradient Retro Square Sunglasses (Free S...',\n",
       " 'UV Protection Rectangular Sunglasses (55)',\n",
       " 'UV Protection Sports Sunglasses (Free Size)',\n",
       " 'Gradient, UV Protection Wayfarer Sunglasses (Free Size)',\n",
       " 'UV Protection Aviator Sunglasses (18)',\n",
       " 'UV Protection Wayfarer Sunglasses (52)',\n",
       " 'UV Protection Retro Square, Round Sunglasses (54)',\n",
       " 'UV Protection Aviator Sunglasses (58)',\n",
       " 'Night Vision, UV Protection Round Sunglasses (54)',\n",
       " 'UV Protection Wayfarer Sunglasses (Free Size)',\n",
       " 'UV Protection, Gradient Round Sunglasses (Free Size)',\n",
       " 'UV Protection, Gradient Oval Sunglasses (58)',\n",
       " 'UV Protection Round Sunglasses (50)',\n",
       " 'UV Protection Aviator Sunglasses (Free Size)',\n",
       " 'UV Protection Rectangular Sunglasses (Free Size)',\n",
       " 'UV Protection Cat-eye Sunglasses (Free Size)',\n",
       " 'Mirrored, UV Protection Wayfarer Sunglasses (50)']"
      ]
     },
     "execution_count": 40,
     "metadata": {},
     "output_type": "execute_result"
    }
   ],
   "source": [
    "for i in ds3:\n",
    "    dscr.append(i.text)\n",
    "dscr"
   ]
  },
  {
   "cell_type": "code",
   "execution_count": 41,
   "id": "106ac08c",
   "metadata": {},
   "outputs": [
    {
     "data": {
      "text/plain": [
       "120"
      ]
     },
     "execution_count": 41,
     "metadata": {},
     "output_type": "execute_result"
    }
   ],
   "source": [
    "len(dscr)"
   ]
  },
  {
   "cell_type": "code",
   "execution_count": 42,
   "id": "f38163a2",
   "metadata": {},
   "outputs": [
    {
     "data": {
      "text/plain": [
       "(120, 120, 120)"
      ]
     },
     "execution_count": 42,
     "metadata": {},
     "output_type": "execute_result"
    }
   ],
   "source": [
    "len(brand), len(prc), len(dscr)"
   ]
  },
  {
   "cell_type": "code",
   "execution_count": 43,
   "id": "ad94fd46",
   "metadata": {},
   "outputs": [
    {
     "data": {
      "text/html": [
       "<div>\n",
       "<style scoped>\n",
       "    .dataframe tbody tr th:only-of-type {\n",
       "        vertical-align: middle;\n",
       "    }\n",
       "\n",
       "    .dataframe tbody tr th {\n",
       "        vertical-align: top;\n",
       "    }\n",
       "\n",
       "    .dataframe thead th {\n",
       "        text-align: right;\n",
       "    }\n",
       "</style>\n",
       "<table border=\"1\" class=\"dataframe\">\n",
       "  <thead>\n",
       "    <tr style=\"text-align: right;\">\n",
       "      <th></th>\n",
       "      <th>Brand</th>\n",
       "      <th>Price</th>\n",
       "      <th>Description</th>\n",
       "    </tr>\n",
       "  </thead>\n",
       "  <tbody>\n",
       "    <tr>\n",
       "      <th>0</th>\n",
       "      <td>ROZZETTA CRAFT</td>\n",
       "      <td>₹399</td>\n",
       "      <td>UV Protection, Gradient Rectangular Sunglasses...</td>\n",
       "    </tr>\n",
       "    <tr>\n",
       "      <th>1</th>\n",
       "      <td>VINCENT CHASE</td>\n",
       "      <td>₹949</td>\n",
       "      <td>by Lenskart Polarized, UV Protection Round Sun...</td>\n",
       "    </tr>\n",
       "    <tr>\n",
       "      <th>2</th>\n",
       "      <td>SRPM</td>\n",
       "      <td>₹148</td>\n",
       "      <td>UV Protection Wayfarer Sunglasses (50)</td>\n",
       "    </tr>\n",
       "    <tr>\n",
       "      <th>3</th>\n",
       "      <td>SUNBEE</td>\n",
       "      <td>₹203</td>\n",
       "      <td>UV Protection, Polarized Wayfarer Sunglasses (...</td>\n",
       "    </tr>\n",
       "    <tr>\n",
       "      <th>4</th>\n",
       "      <td>PIRASO</td>\n",
       "      <td>₹179</td>\n",
       "      <td>UV Protection Aviator Sunglasses (54)</td>\n",
       "    </tr>\n",
       "    <tr>\n",
       "      <th>...</th>\n",
       "      <td>...</td>\n",
       "      <td>...</td>\n",
       "      <td>...</td>\n",
       "    </tr>\n",
       "    <tr>\n",
       "      <th>95</th>\n",
       "      <td>NuVew</td>\n",
       "      <td>₹277</td>\n",
       "      <td>UV Protection, Mirrored Sports Sunglasses (62)</td>\n",
       "    </tr>\n",
       "    <tr>\n",
       "      <th>96</th>\n",
       "      <td>hipe</td>\n",
       "      <td>₹159</td>\n",
       "      <td>UV Protection, Gradient, Mirrored, Riding Glas...</td>\n",
       "    </tr>\n",
       "    <tr>\n",
       "      <th>97</th>\n",
       "      <td>IDEE</td>\n",
       "      <td>₹929</td>\n",
       "      <td>UV Protection Rectangular Sunglasses (59)</td>\n",
       "    </tr>\n",
       "    <tr>\n",
       "      <th>98</th>\n",
       "      <td>Silver Kartz</td>\n",
       "      <td>₹219</td>\n",
       "      <td>UV Protection Oval Sunglasses (56)</td>\n",
       "    </tr>\n",
       "    <tr>\n",
       "      <th>99</th>\n",
       "      <td>Fastrack</td>\n",
       "      <td>₹1,549</td>\n",
       "      <td>UV Protection Oval Sunglasses (Free Size)</td>\n",
       "    </tr>\n",
       "  </tbody>\n",
       "</table>\n",
       "<p>100 rows × 3 columns</p>\n",
       "</div>"
      ],
      "text/plain": [
       "             Brand   Price                                        Description\n",
       "0   ROZZETTA CRAFT    ₹399  UV Protection, Gradient Rectangular Sunglasses...\n",
       "1    VINCENT CHASE    ₹949  by Lenskart Polarized, UV Protection Round Sun...\n",
       "2             SRPM    ₹148             UV Protection Wayfarer Sunglasses (50)\n",
       "3           SUNBEE    ₹203  UV Protection, Polarized Wayfarer Sunglasses (...\n",
       "4           PIRASO    ₹179              UV Protection Aviator Sunglasses (54)\n",
       "..             ...     ...                                                ...\n",
       "95           NuVew    ₹277     UV Protection, Mirrored Sports Sunglasses (62)\n",
       "96            hipe    ₹159  UV Protection, Gradient, Mirrored, Riding Glas...\n",
       "97            IDEE    ₹929          UV Protection Rectangular Sunglasses (59)\n",
       "98    Silver Kartz    ₹219                 UV Protection Oval Sunglasses (56)\n",
       "99        Fastrack  ₹1,549          UV Protection Oval Sunglasses (Free Size)\n",
       "\n",
       "[100 rows x 3 columns]"
      ]
     },
     "execution_count": 43,
     "metadata": {},
     "output_type": "execute_result"
    }
   ],
   "source": [
    "sunglasses=pd.DataFrame({'Brand':brand[0:100],'Price':prc[0:100],'Description':dscr[0:100]})\n",
    "sunglasses"
   ]
  },
  {
   "cell_type": "code",
   "execution_count": null,
   "id": "2bcb71e4",
   "metadata": {},
   "outputs": [],
   "source": []
  }
 ],
 "metadata": {
  "kernelspec": {
   "display_name": "Python 3",
   "language": "python",
   "name": "python3"
  },
  "language_info": {
   "codemirror_mode": {
    "name": "ipython",
    "version": 3
   },
   "file_extension": ".py",
   "mimetype": "text/x-python",
   "name": "python",
   "nbconvert_exporter": "python",
   "pygments_lexer": "ipython3",
   "version": "3.8.8"
  }
 },
 "nbformat": 4,
 "nbformat_minor": 5
}
