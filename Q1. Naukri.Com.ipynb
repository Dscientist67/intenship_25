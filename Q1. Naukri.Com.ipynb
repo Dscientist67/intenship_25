{
 "cells": [
  {
   "cell_type": "code",
   "execution_count": 1,
   "id": "a6d44dc6",
   "metadata": {},
   "outputs": [],
   "source": [
    "import selenium \n",
    "from selenium import webdriver\n",
    "import pandas as pd\n",
    "import warnings\n",
    "warnings.filterwarnings('ignore')"
   ]
  },
  {
   "cell_type": "code",
   "execution_count": 2,
   "id": "db91e6b3",
   "metadata": {},
   "outputs": [
    {
     "data": {
      "text/plain": [
       "<selenium.webdriver.chrome.webdriver.WebDriver (session=\"db5b77a0909a1b11b5a1e70365d6130e\")>"
      ]
     },
     "execution_count": 2,
     "metadata": {},
     "output_type": "execute_result"
    }
   ],
   "source": [
    "driver=webdriver.Chrome(r\"C:/Users/Darshan/Downloads/chromedriver_win32/chromedriver.exe\")\n",
    "driver"
   ]
  },
  {
   "cell_type": "code",
   "execution_count": 3,
   "id": "269a3f3b",
   "metadata": {},
   "outputs": [],
   "source": [
    "url='https://www.naukri.com/'\n",
    "driver.get(url)"
   ]
  },
  {
   "cell_type": "code",
   "execution_count": 9,
   "id": "2a5d1f9c",
   "metadata": {},
   "outputs": [
    {
     "data": {
      "text/plain": [
       "<selenium.webdriver.remote.webelement.WebElement (session=\"db5b77a0909a1b11b5a1e70365d6130e\", element=\"1837ddd9-bf27-4ad0-b3e4-5ac797207396\")>"
      ]
     },
     "execution_count": 9,
     "metadata": {},
     "output_type": "execute_result"
    }
   ],
   "source": [
    "search=driver.find_element_by_class_name(\"suggestor-input\")\n",
    "search"
   ]
  },
  {
   "cell_type": "code",
   "execution_count": 10,
   "id": "8d243dd1",
   "metadata": {},
   "outputs": [],
   "source": [
    "search.send_keys('Data Analyst')"
   ]
  },
  {
   "cell_type": "code",
   "execution_count": 13,
   "id": "f34bff9f",
   "metadata": {},
   "outputs": [
    {
     "data": {
      "text/plain": [
       "<selenium.webdriver.remote.webelement.WebElement (session=\"db5b77a0909a1b11b5a1e70365d6130e\", element=\"87e2916f-6f3d-469c-af67-cb9eedf03f92\")>"
      ]
     },
     "execution_count": 13,
     "metadata": {},
     "output_type": "execute_result"
    }
   ],
   "source": [
    "locn=driver.find_element_by_xpath('/html/body/div/div[2]/div[3]/div/div/div[3]/div/div/div/input')\n",
    "locn"
   ]
  },
  {
   "cell_type": "code",
   "execution_count": 15,
   "id": "e6295e6a",
   "metadata": {},
   "outputs": [],
   "source": [
    "locn.send_keys('Bangalore')"
   ]
  },
  {
   "cell_type": "code",
   "execution_count": 16,
   "id": "d9ade282",
   "metadata": {},
   "outputs": [
    {
     "data": {
      "text/plain": [
       "<selenium.webdriver.remote.webelement.WebElement (session=\"db5b77a0909a1b11b5a1e70365d6130e\", element=\"546f19a3-586e-4b58-9f30-5a02a273f251\")>"
      ]
     },
     "execution_count": 16,
     "metadata": {},
     "output_type": "execute_result"
    }
   ],
   "source": [
    "srch_btn=driver.find_element_by_class_name('qsbSubmit')\n",
    "srch_btn"
   ]
  },
  {
   "cell_type": "code",
   "execution_count": 17,
   "id": "b716b619",
   "metadata": {},
   "outputs": [],
   "source": [
    "srch_btn.click()"
   ]
  },
  {
   "cell_type": "code",
   "execution_count": 21,
   "id": "ee8f053b",
   "metadata": {},
   "outputs": [
    {
     "data": {
      "text/plain": [
       "[<selenium.webdriver.remote.webelement.WebElement (session=\"db5b77a0909a1b11b5a1e70365d6130e\", element=\"ae6aab48-97b2-42b9-af39-8fcd5168c59b\")>,\n",
       " <selenium.webdriver.remote.webelement.WebElement (session=\"db5b77a0909a1b11b5a1e70365d6130e\", element=\"424ac21e-734f-4909-8b11-0930a2816201\")>,\n",
       " <selenium.webdriver.remote.webelement.WebElement (session=\"db5b77a0909a1b11b5a1e70365d6130e\", element=\"b8ecf449-932e-497e-b2a6-f8d3259acb29\")>,\n",
       " <selenium.webdriver.remote.webelement.WebElement (session=\"db5b77a0909a1b11b5a1e70365d6130e\", element=\"35d47604-7e3a-408a-ba7f-7666c0bc3c98\")>,\n",
       " <selenium.webdriver.remote.webelement.WebElement (session=\"db5b77a0909a1b11b5a1e70365d6130e\", element=\"42d40db2-8ebb-41ef-ace0-817d8fc24616\")>,\n",
       " <selenium.webdriver.remote.webelement.WebElement (session=\"db5b77a0909a1b11b5a1e70365d6130e\", element=\"6ea05be2-68ff-40a4-bbc5-bb190d365643\")>,\n",
       " <selenium.webdriver.remote.webelement.WebElement (session=\"db5b77a0909a1b11b5a1e70365d6130e\", element=\"209eea9a-b0b2-45ff-8011-3a1b0a673431\")>,\n",
       " <selenium.webdriver.remote.webelement.WebElement (session=\"db5b77a0909a1b11b5a1e70365d6130e\", element=\"590ce0a9-15b5-493d-9f22-eb2ef93bb639\")>,\n",
       " <selenium.webdriver.remote.webelement.WebElement (session=\"db5b77a0909a1b11b5a1e70365d6130e\", element=\"de26470d-a710-4118-bbaf-7e4d23e3217b\")>,\n",
       " <selenium.webdriver.remote.webelement.WebElement (session=\"db5b77a0909a1b11b5a1e70365d6130e\", element=\"9cd47ec4-8bf3-4bc8-93d2-a7ae544ccb4b\")>,\n",
       " <selenium.webdriver.remote.webelement.WebElement (session=\"db5b77a0909a1b11b5a1e70365d6130e\", element=\"3180550c-8816-44a5-a16c-761d4cc35eb5\")>,\n",
       " <selenium.webdriver.remote.webelement.WebElement (session=\"db5b77a0909a1b11b5a1e70365d6130e\", element=\"7a24b2e1-e974-4b3b-b761-3cfd9339e7e8\")>,\n",
       " <selenium.webdriver.remote.webelement.WebElement (session=\"db5b77a0909a1b11b5a1e70365d6130e\", element=\"fa7d99b5-0e72-4c61-aca1-4d414d1dfbb3\")>,\n",
       " <selenium.webdriver.remote.webelement.WebElement (session=\"db5b77a0909a1b11b5a1e70365d6130e\", element=\"ca90f35f-7dbd-43f0-8620-d8afc8603bc6\")>,\n",
       " <selenium.webdriver.remote.webelement.WebElement (session=\"db5b77a0909a1b11b5a1e70365d6130e\", element=\"d68d208b-064b-42b0-ba0c-732484d8aae2\")>,\n",
       " <selenium.webdriver.remote.webelement.WebElement (session=\"db5b77a0909a1b11b5a1e70365d6130e\", element=\"de6166e7-26ca-4340-9d81-c9f75b043770\")>,\n",
       " <selenium.webdriver.remote.webelement.WebElement (session=\"db5b77a0909a1b11b5a1e70365d6130e\", element=\"d4e8d990-b40d-4233-a627-2f0b321bd24a\")>,\n",
       " <selenium.webdriver.remote.webelement.WebElement (session=\"db5b77a0909a1b11b5a1e70365d6130e\", element=\"45b47e13-a476-4dad-a120-4e7b873e3037\")>,\n",
       " <selenium.webdriver.remote.webelement.WebElement (session=\"db5b77a0909a1b11b5a1e70365d6130e\", element=\"1685d24a-e470-4bf7-b266-ccac83ad9d08\")>,\n",
       " <selenium.webdriver.remote.webelement.WebElement (session=\"db5b77a0909a1b11b5a1e70365d6130e\", element=\"3c6b0822-ecc5-450b-871c-a3ffa96c4aca\")>]"
      ]
     },
     "execution_count": 21,
     "metadata": {},
     "output_type": "execute_result"
    }
   ],
   "source": [
    "company_tags=driver.find_elements_by_xpath('//a[@class=\"subTitle ellipsis fleft\"]')\n",
    "company_tags"
   ]
  },
  {
   "cell_type": "code",
   "execution_count": 23,
   "id": "ba634e8d",
   "metadata": {},
   "outputs": [
    {
     "data": {
      "text/plain": [
       "['SECRET TECHNOLOGIES INDIA VMS GROUP',\n",
       " 'K12 Techno Services Pvt Ltd',\n",
       " 'Mobile Premier League',\n",
       " 'Flipkart',\n",
       " 'Trellance',\n",
       " 'Inspiration Manpower Consultancy Pvt. Ltd.',\n",
       " 'Flipkart',\n",
       " 'Intuit Inc.',\n",
       " 'Flipkart',\n",
       " 'Capillary Technologies']"
      ]
     },
     "execution_count": 23,
     "metadata": {},
     "output_type": "execute_result"
    }
   ],
   "source": [
    "company_names=[]\n",
    "for i in company_tags:\n",
    "    company_names.append(i.text)\n",
    "company_names[0:10]"
   ]
  },
  {
   "cell_type": "code",
   "execution_count": 24,
   "id": "3462f4af",
   "metadata": {},
   "outputs": [
    {
     "data": {
      "text/plain": [
       "[<selenium.webdriver.remote.webelement.WebElement (session=\"db5b77a0909a1b11b5a1e70365d6130e\", element=\"6b228904-9575-452d-962a-89b0a6951f4b\")>,\n",
       " <selenium.webdriver.remote.webelement.WebElement (session=\"db5b77a0909a1b11b5a1e70365d6130e\", element=\"fe105fd5-a7ea-44b0-8e40-95f507e95f59\")>,\n",
       " <selenium.webdriver.remote.webelement.WebElement (session=\"db5b77a0909a1b11b5a1e70365d6130e\", element=\"f29c6093-78d3-4368-9ac3-f703bf6b9083\")>,\n",
       " <selenium.webdriver.remote.webelement.WebElement (session=\"db5b77a0909a1b11b5a1e70365d6130e\", element=\"da0b3d2e-0eb0-4ac0-b593-6e4729ce52e1\")>,\n",
       " <selenium.webdriver.remote.webelement.WebElement (session=\"db5b77a0909a1b11b5a1e70365d6130e\", element=\"a53b3c75-9df4-4d4e-a7e5-8a7d44476cad\")>,\n",
       " <selenium.webdriver.remote.webelement.WebElement (session=\"db5b77a0909a1b11b5a1e70365d6130e\", element=\"b6a80d22-d934-4505-a9fe-faae6d94974e\")>,\n",
       " <selenium.webdriver.remote.webelement.WebElement (session=\"db5b77a0909a1b11b5a1e70365d6130e\", element=\"075dd354-3803-4245-b3cf-12771c1afbdd\")>,\n",
       " <selenium.webdriver.remote.webelement.WebElement (session=\"db5b77a0909a1b11b5a1e70365d6130e\", element=\"763e29ab-8d44-422e-88a9-888c3bb67b80\")>,\n",
       " <selenium.webdriver.remote.webelement.WebElement (session=\"db5b77a0909a1b11b5a1e70365d6130e\", element=\"b1d6c7fd-6d73-49fb-9035-1fe70fa9648d\")>,\n",
       " <selenium.webdriver.remote.webelement.WebElement (session=\"db5b77a0909a1b11b5a1e70365d6130e\", element=\"3496217f-69b5-42e7-8bc1-406446b7cc9d\")>,\n",
       " <selenium.webdriver.remote.webelement.WebElement (session=\"db5b77a0909a1b11b5a1e70365d6130e\", element=\"32413300-7004-4349-abe9-1f3e5907eaa9\")>,\n",
       " <selenium.webdriver.remote.webelement.WebElement (session=\"db5b77a0909a1b11b5a1e70365d6130e\", element=\"b7b75469-29aa-4158-b5ff-4b4fa124b8bc\")>,\n",
       " <selenium.webdriver.remote.webelement.WebElement (session=\"db5b77a0909a1b11b5a1e70365d6130e\", element=\"ac2b01f2-6f86-4fda-8a2b-e3cdd111afbe\")>,\n",
       " <selenium.webdriver.remote.webelement.WebElement (session=\"db5b77a0909a1b11b5a1e70365d6130e\", element=\"19b9995a-2c02-443f-974d-3d4ebb754877\")>,\n",
       " <selenium.webdriver.remote.webelement.WebElement (session=\"db5b77a0909a1b11b5a1e70365d6130e\", element=\"b64836f4-d362-4737-844b-f30965f4db2e\")>,\n",
       " <selenium.webdriver.remote.webelement.WebElement (session=\"db5b77a0909a1b11b5a1e70365d6130e\", element=\"aab4f5a5-54a2-4b90-98af-d5c05530a126\")>,\n",
       " <selenium.webdriver.remote.webelement.WebElement (session=\"db5b77a0909a1b11b5a1e70365d6130e\", element=\"d7709cb4-59d6-423c-b511-31762b6a3f02\")>,\n",
       " <selenium.webdriver.remote.webelement.WebElement (session=\"db5b77a0909a1b11b5a1e70365d6130e\", element=\"8790de5c-e763-4e85-bc0c-d62f88102d26\")>,\n",
       " <selenium.webdriver.remote.webelement.WebElement (session=\"db5b77a0909a1b11b5a1e70365d6130e\", element=\"d22d4a89-d1a6-4356-9eb8-e7319649dd9e\")>,\n",
       " <selenium.webdriver.remote.webelement.WebElement (session=\"db5b77a0909a1b11b5a1e70365d6130e\", element=\"dd755bdb-c97a-4ae2-825e-3a59c8e26d9c\")>]"
      ]
     },
     "execution_count": 24,
     "metadata": {},
     "output_type": "execute_result"
    }
   ],
   "source": [
    "desig=driver.find_elements_by_xpath('//a[@class=\"title fw500 ellipsis\"]')\n",
    "desig"
   ]
  },
  {
   "cell_type": "code",
   "execution_count": 29,
   "id": "9f6ce051",
   "metadata": {},
   "outputs": [
    {
     "data": {
      "text/plain": [
       "['software developer & Testing / Business Analyst/Data Analyst/Python.',\n",
       " 'Data Analyst - IIM/ISB/MDI/FMS/SP Jain',\n",
       " 'Senior Data Analyst',\n",
       " 'Senior Data Analyst',\n",
       " 'Looking For Data Analyst',\n",
       " 'Data Analyst || Advance Excel || D Limit || Concatenate',\n",
       " 'Data Analyst (Python, SQL, Excel)',\n",
       " 'Staff Business Data Analyst - FDP',\n",
       " 'Senior Data Analyst',\n",
       " 'Data Analyst']"
      ]
     },
     "execution_count": 29,
     "metadata": {},
     "output_type": "execute_result"
    }
   ],
   "source": [
    "designation=[]\n",
    "for i in desig:\n",
    "    designation.append(i.text)\n",
    "designation[0:10]"
   ]
  },
  {
   "cell_type": "code",
   "execution_count": 30,
   "id": "3bf9394b",
   "metadata": {},
   "outputs": [
    {
     "data": {
      "text/plain": [
       "[<selenium.webdriver.remote.webelement.WebElement (session=\"db5b77a0909a1b11b5a1e70365d6130e\", element=\"3d2f7ad6-1e99-4a5a-8d07-c20b2cbe7eda\")>,\n",
       " <selenium.webdriver.remote.webelement.WebElement (session=\"db5b77a0909a1b11b5a1e70365d6130e\", element=\"3f0ee944-fbbe-4830-a1b8-34bd91ca4764\")>,\n",
       " <selenium.webdriver.remote.webelement.WebElement (session=\"db5b77a0909a1b11b5a1e70365d6130e\", element=\"e90a1810-72e3-4ae2-a6db-45f40cd70e63\")>,\n",
       " <selenium.webdriver.remote.webelement.WebElement (session=\"db5b77a0909a1b11b5a1e70365d6130e\", element=\"9a917bd5-0546-4075-aeda-aa87da2d0ca8\")>,\n",
       " <selenium.webdriver.remote.webelement.WebElement (session=\"db5b77a0909a1b11b5a1e70365d6130e\", element=\"8abf7624-e2b2-4e1b-9436-072428a67f03\")>,\n",
       " <selenium.webdriver.remote.webelement.WebElement (session=\"db5b77a0909a1b11b5a1e70365d6130e\", element=\"09c848f0-5a53-435b-a1a4-4bf3a44a39d1\")>,\n",
       " <selenium.webdriver.remote.webelement.WebElement (session=\"db5b77a0909a1b11b5a1e70365d6130e\", element=\"4632394d-e480-4ed7-aa45-4c92b08d2d3c\")>,\n",
       " <selenium.webdriver.remote.webelement.WebElement (session=\"db5b77a0909a1b11b5a1e70365d6130e\", element=\"95ecc70d-b299-4e08-8cc3-1eb7a3b4572f\")>,\n",
       " <selenium.webdriver.remote.webelement.WebElement (session=\"db5b77a0909a1b11b5a1e70365d6130e\", element=\"9aa6cc52-5678-4250-a0b9-93b68096b899\")>,\n",
       " <selenium.webdriver.remote.webelement.WebElement (session=\"db5b77a0909a1b11b5a1e70365d6130e\", element=\"1937a954-f522-4ba2-aa5b-60d0b3555345\")>,\n",
       " <selenium.webdriver.remote.webelement.WebElement (session=\"db5b77a0909a1b11b5a1e70365d6130e\", element=\"0b38d49b-0f6e-4df9-89fe-8ec548bcd1b1\")>,\n",
       " <selenium.webdriver.remote.webelement.WebElement (session=\"db5b77a0909a1b11b5a1e70365d6130e\", element=\"a3de6393-fca0-4ce9-99a3-bcc3d464040f\")>,\n",
       " <selenium.webdriver.remote.webelement.WebElement (session=\"db5b77a0909a1b11b5a1e70365d6130e\", element=\"cd1e301e-6f5d-4438-babf-68fe56644ca8\")>,\n",
       " <selenium.webdriver.remote.webelement.WebElement (session=\"db5b77a0909a1b11b5a1e70365d6130e\", element=\"82722e8d-9fce-4127-8af8-70087c501048\")>,\n",
       " <selenium.webdriver.remote.webelement.WebElement (session=\"db5b77a0909a1b11b5a1e70365d6130e\", element=\"b275ea82-99a8-444c-a4ab-3209c06fc245\")>,\n",
       " <selenium.webdriver.remote.webelement.WebElement (session=\"db5b77a0909a1b11b5a1e70365d6130e\", element=\"5602e524-9d3a-4982-8e0a-fb236a4052df\")>,\n",
       " <selenium.webdriver.remote.webelement.WebElement (session=\"db5b77a0909a1b11b5a1e70365d6130e\", element=\"9058a231-b4bd-48b0-a5a3-e54dfbb3beff\")>,\n",
       " <selenium.webdriver.remote.webelement.WebElement (session=\"db5b77a0909a1b11b5a1e70365d6130e\", element=\"ebdad71c-f496-462d-84b8-32ace1a49746\")>,\n",
       " <selenium.webdriver.remote.webelement.WebElement (session=\"db5b77a0909a1b11b5a1e70365d6130e\", element=\"06c2faf9-642a-4bb8-a0a3-9e18526501b4\")>]"
      ]
     },
     "execution_count": 30,
     "metadata": {},
     "output_type": "execute_result"
    }
   ],
   "source": [
    "exp=driver.find_elements_by_xpath('//li[@class=\"fleft grey-text br2 placeHolderLi experience\"]')\n",
    "exp"
   ]
  },
  {
   "cell_type": "code",
   "execution_count": 32,
   "id": "e0aa22ec",
   "metadata": {},
   "outputs": [
    {
     "data": {
      "text/plain": [
       "['0-4 Yrs',\n",
       " '4-9 Yrs',\n",
       " '3-6 Yrs',\n",
       " '3-6 Yrs',\n",
       " '0-2 Yrs',\n",
       " '2-4 Yrs',\n",
       " '5-7 Yrs',\n",
       " '3-7 Yrs',\n",
       " '1-3 Yrs',\n",
       " '5-8 Yrs']"
      ]
     },
     "execution_count": 32,
     "metadata": {},
     "output_type": "execute_result"
    }
   ],
   "source": [
    "experience=[]\n",
    "for i in exp:\n",
    "    experience.append(i.text)\n",
    "experience[0:10]"
   ]
  },
  {
   "cell_type": "code",
   "execution_count": 36,
   "id": "cd8e5e58",
   "metadata": {},
   "outputs": [],
   "source": [
    "job=pd.DataFrame({'Company_Names':company_names[0:10],'Designation':desig[0:10],'Experience':experience[0:10]})"
   ]
  },
  {
   "cell_type": "code",
   "execution_count": 38,
   "id": "1f87caa7",
   "metadata": {},
   "outputs": [
    {
     "data": {
      "text/html": [
       "<div>\n",
       "<style scoped>\n",
       "    .dataframe tbody tr th:only-of-type {\n",
       "        vertical-align: middle;\n",
       "    }\n",
       "\n",
       "    .dataframe tbody tr th {\n",
       "        vertical-align: top;\n",
       "    }\n",
       "\n",
       "    .dataframe thead th {\n",
       "        text-align: right;\n",
       "    }\n",
       "</style>\n",
       "<table border=\"1\" class=\"dataframe\">\n",
       "  <thead>\n",
       "    <tr style=\"text-align: right;\">\n",
       "      <th></th>\n",
       "      <th>Company_Names</th>\n",
       "      <th>Designation</th>\n",
       "      <th>Experience</th>\n",
       "    </tr>\n",
       "  </thead>\n",
       "  <tbody>\n",
       "    <tr>\n",
       "      <th>0</th>\n",
       "      <td>SECRET TECHNOLOGIES INDIA VMS GROUP</td>\n",
       "      <td>&lt;selenium.webdriver.remote.webelement.WebEleme...</td>\n",
       "      <td>0-4 Yrs</td>\n",
       "    </tr>\n",
       "    <tr>\n",
       "      <th>1</th>\n",
       "      <td>K12 Techno Services Pvt Ltd</td>\n",
       "      <td>&lt;selenium.webdriver.remote.webelement.WebEleme...</td>\n",
       "      <td>4-9 Yrs</td>\n",
       "    </tr>\n",
       "    <tr>\n",
       "      <th>2</th>\n",
       "      <td>Mobile Premier League</td>\n",
       "      <td>&lt;selenium.webdriver.remote.webelement.WebEleme...</td>\n",
       "      <td>3-6 Yrs</td>\n",
       "    </tr>\n",
       "    <tr>\n",
       "      <th>3</th>\n",
       "      <td>Flipkart</td>\n",
       "      <td>&lt;selenium.webdriver.remote.webelement.WebEleme...</td>\n",
       "      <td>3-6 Yrs</td>\n",
       "    </tr>\n",
       "    <tr>\n",
       "      <th>4</th>\n",
       "      <td>Trellance</td>\n",
       "      <td>&lt;selenium.webdriver.remote.webelement.WebEleme...</td>\n",
       "      <td>0-2 Yrs</td>\n",
       "    </tr>\n",
       "    <tr>\n",
       "      <th>5</th>\n",
       "      <td>Inspiration Manpower Consultancy Pvt. Ltd.</td>\n",
       "      <td>&lt;selenium.webdriver.remote.webelement.WebEleme...</td>\n",
       "      <td>2-4 Yrs</td>\n",
       "    </tr>\n",
       "    <tr>\n",
       "      <th>6</th>\n",
       "      <td>Flipkart</td>\n",
       "      <td>&lt;selenium.webdriver.remote.webelement.WebEleme...</td>\n",
       "      <td>5-7 Yrs</td>\n",
       "    </tr>\n",
       "    <tr>\n",
       "      <th>7</th>\n",
       "      <td>Intuit Inc.</td>\n",
       "      <td>&lt;selenium.webdriver.remote.webelement.WebEleme...</td>\n",
       "      <td>3-7 Yrs</td>\n",
       "    </tr>\n",
       "    <tr>\n",
       "      <th>8</th>\n",
       "      <td>Flipkart</td>\n",
       "      <td>&lt;selenium.webdriver.remote.webelement.WebEleme...</td>\n",
       "      <td>1-3 Yrs</td>\n",
       "    </tr>\n",
       "    <tr>\n",
       "      <th>9</th>\n",
       "      <td>Capillary Technologies</td>\n",
       "      <td>&lt;selenium.webdriver.remote.webelement.WebEleme...</td>\n",
       "      <td>5-8 Yrs</td>\n",
       "    </tr>\n",
       "  </tbody>\n",
       "</table>\n",
       "</div>"
      ],
      "text/plain": [
       "                                Company_Names  \\\n",
       "0         SECRET TECHNOLOGIES INDIA VMS GROUP   \n",
       "1                 K12 Techno Services Pvt Ltd   \n",
       "2                       Mobile Premier League   \n",
       "3                                    Flipkart   \n",
       "4                                   Trellance   \n",
       "5  Inspiration Manpower Consultancy Pvt. Ltd.   \n",
       "6                                    Flipkart   \n",
       "7                                 Intuit Inc.   \n",
       "8                                    Flipkart   \n",
       "9                      Capillary Technologies   \n",
       "\n",
       "                                         Designation Experience  \n",
       "0  <selenium.webdriver.remote.webelement.WebEleme...    0-4 Yrs  \n",
       "1  <selenium.webdriver.remote.webelement.WebEleme...    4-9 Yrs  \n",
       "2  <selenium.webdriver.remote.webelement.WebEleme...    3-6 Yrs  \n",
       "3  <selenium.webdriver.remote.webelement.WebEleme...    3-6 Yrs  \n",
       "4  <selenium.webdriver.remote.webelement.WebEleme...    0-2 Yrs  \n",
       "5  <selenium.webdriver.remote.webelement.WebEleme...    2-4 Yrs  \n",
       "6  <selenium.webdriver.remote.webelement.WebEleme...    5-7 Yrs  \n",
       "7  <selenium.webdriver.remote.webelement.WebEleme...    3-7 Yrs  \n",
       "8  <selenium.webdriver.remote.webelement.WebEleme...    1-3 Yrs  \n",
       "9  <selenium.webdriver.remote.webelement.WebEleme...    5-8 Yrs  "
      ]
     },
     "execution_count": 38,
     "metadata": {},
     "output_type": "execute_result"
    }
   ],
   "source": [
    "job"
   ]
  },
  {
   "cell_type": "code",
   "execution_count": null,
   "id": "55def929",
   "metadata": {},
   "outputs": [],
   "source": []
  }
 ],
 "metadata": {
  "kernelspec": {
   "display_name": "Python 3",
   "language": "python",
   "name": "python3"
  },
  "language_info": {
   "codemirror_mode": {
    "name": "ipython",
    "version": 3
   },
   "file_extension": ".py",
   "mimetype": "text/x-python",
   "name": "python",
   "nbconvert_exporter": "python",
   "pygments_lexer": "ipython3",
   "version": "3.8.8"
  }
 },
 "nbformat": 4,
 "nbformat_minor": 5
}
