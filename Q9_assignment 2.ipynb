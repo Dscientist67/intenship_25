{
 "cells": [
  {
   "cell_type": "code",
   "execution_count": 1,
   "id": "be2a96ac",
   "metadata": {},
   "outputs": [],
   "source": [
    "import pandas as pd\n",
    "import selenium \n",
    "from selenium import webdriver\n",
    "import warnings\n",
    "warnings.filterwarnings('ignore')\n",
    "driver=webdriver.Chrome(r\"C:/Users/Darshan/Downloads/chromedriver_win32/chromedriver.exe\")"
   ]
  },
  {
   "cell_type": "code",
   "execution_count": 2,
   "id": "25ecefad",
   "metadata": {},
   "outputs": [],
   "source": [
    "url='https://www.ambitionbox.com/'\n",
    "driver.get(url)"
   ]
  },
  {
   "cell_type": "code",
   "execution_count": 3,
   "id": "0a68731f",
   "metadata": {},
   "outputs": [],
   "source": [
    "btn1=driver.find_element_by_xpath('/html/body/div[1]/nav/nav/a[6]')\n",
    "btn1.click()"
   ]
  },
  {
   "cell_type": "code",
   "execution_count": 4,
   "id": "9a2e9400",
   "metadata": {},
   "outputs": [],
   "source": [
    "srch=driver.find_element_by_xpath('/html/body/div/div/div/div[2]/div[1]/div/div/div/div/span/input')\n",
    "srch.click()"
   ]
  },
  {
   "cell_type": "code",
   "execution_count": 5,
   "id": "d091d395",
   "metadata": {},
   "outputs": [],
   "source": [
    "srch.send_keys('Data Scientist')"
   ]
  },
  {
   "cell_type": "code",
   "execution_count": 6,
   "id": "52bb8b76",
   "metadata": {},
   "outputs": [],
   "source": [
    "btn2=driver.find_element_by_xpath('/html/body/div/div/div/div[2]/div[1]/div/div/div/button')\n",
    "btn2.click()"
   ]
  },
  {
   "cell_type": "code",
   "execution_count": 7,
   "id": "772fce00",
   "metadata": {},
   "outputs": [],
   "source": [
    "loc=driver.find_element_by_xpath('/html/body/div/div/div/div[2]/div[2]/div[1]/div/div/div/div[2]/div[1]/i')\n",
    "loc.click()"
   ]
  },
  {
   "cell_type": "code",
   "execution_count": 8,
   "id": "52cbd962",
   "metadata": {},
   "outputs": [],
   "source": [
    "loc2=driver.find_element_by_xpath('/html/body/div/div/div/div[2]/div[2]/div[1]/div/div/div/div[2]/div[2]/div/div[2]/input')\n",
    "loc2.send_keys('Noida')"
   ]
  },
  {
   "cell_type": "code",
   "execution_count": 9,
   "id": "cdeb2c73",
   "metadata": {},
   "outputs": [],
   "source": [
    "btn3=driver.find_element_by_xpath('/html/body/div/div/div/div[2]/div[2]/div[1]/div/div/div/div[2]/div[2]/div/div[3]/div[1]/div[1]/div/label')\n",
    "btn3.click()"
   ]
  },
  {
   "cell_type": "code",
   "execution_count": 10,
   "id": "fb4b9d2a",
   "metadata": {},
   "outputs": [],
   "source": [
    "jb=driver.find_elements_by_xpath('//a[@class=\"title noclick\"]')"
   ]
  },
  {
   "cell_type": "code",
   "execution_count": 11,
   "id": "4427bb47",
   "metadata": {},
   "outputs": [
    {
     "data": {
      "text/plain": [
       "[<selenium.webdriver.remote.webelement.WebElement (session=\"982467a696316ac4d7255940971913e4\", element=\"bd20c430-b25d-4697-abcb-5996a2729f0d\")>,\n",
       " <selenium.webdriver.remote.webelement.WebElement (session=\"982467a696316ac4d7255940971913e4\", element=\"43cf246f-5dff-48f3-ad1e-dc9c818aacf4\")>,\n",
       " <selenium.webdriver.remote.webelement.WebElement (session=\"982467a696316ac4d7255940971913e4\", element=\"ea6948fb-e5b9-4b65-babb-915ab1a86088\")>,\n",
       " <selenium.webdriver.remote.webelement.WebElement (session=\"982467a696316ac4d7255940971913e4\", element=\"4f9d8f7b-28ef-4ced-beb2-93cbd3feff60\")>,\n",
       " <selenium.webdriver.remote.webelement.WebElement (session=\"982467a696316ac4d7255940971913e4\", element=\"f1688ca0-f6af-4a1c-8bd6-f09f54603fba\")>,\n",
       " <selenium.webdriver.remote.webelement.WebElement (session=\"982467a696316ac4d7255940971913e4\", element=\"bf97431f-3161-4c74-a2c7-eda21a3ae8d8\")>,\n",
       " <selenium.webdriver.remote.webelement.WebElement (session=\"982467a696316ac4d7255940971913e4\", element=\"b728c63f-7a65-4ee0-8975-15d09366437d\")>,\n",
       " <selenium.webdriver.remote.webelement.WebElement (session=\"982467a696316ac4d7255940971913e4\", element=\"6b4192ff-abe6-4922-9e8a-b78bf8d25d12\")>,\n",
       " <selenium.webdriver.remote.webelement.WebElement (session=\"982467a696316ac4d7255940971913e4\", element=\"a6e3126d-c6c1-4075-870a-73743598fb5d\")>,\n",
       " <selenium.webdriver.remote.webelement.WebElement (session=\"982467a696316ac4d7255940971913e4\", element=\"732a7427-04df-4bb9-bec0-46ab3cb6cdf4\")>]"
      ]
     },
     "execution_count": 11,
     "metadata": {},
     "output_type": "execute_result"
    }
   ],
   "source": [
    "jb"
   ]
  },
  {
   "cell_type": "code",
   "execution_count": 12,
   "id": "a84ec710",
   "metadata": {},
   "outputs": [
    {
     "data": {
      "text/plain": [
       "['Excellent Opportunity For Freshers For AI/ML, Data Scientist, BI, QA',\n",
       " \"HCL Hiring Data Scientist (Loc: Noida / Chennai / B'lore)\",\n",
       " 'Data Scientist',\n",
       " 'Data Scientist-II',\n",
       " 'HCL Tech Opening - Senior Data Scientist',\n",
       " 'Data Scientist',\n",
       " 'Urgent Requirement || Data Scientist || Noida',\n",
       " 'Data Scientist with NLP & Python',\n",
       " 'Data Scientist',\n",
       " 'Opportunity | Tavant India']"
      ]
     },
     "execution_count": 12,
     "metadata": {},
     "output_type": "execute_result"
    }
   ],
   "source": [
    "tit=[]\n",
    "for i in jb:\n",
    "    tit.append(i.text)\n",
    "tit"
   ]
  },
  {
   "cell_type": "code",
   "execution_count": 13,
   "id": "ba6e58aa",
   "metadata": {},
   "outputs": [
    {
     "data": {
      "text/plain": [
       "[<selenium.webdriver.remote.webelement.WebElement (session=\"982467a696316ac4d7255940971913e4\", element=\"f83caabb-5433-4b96-adec-7611c1e181d1\")>,\n",
       " <selenium.webdriver.remote.webelement.WebElement (session=\"982467a696316ac4d7255940971913e4\", element=\"fdecf77f-4175-4f92-95ae-2a6570ec6eb1\")>,\n",
       " <selenium.webdriver.remote.webelement.WebElement (session=\"982467a696316ac4d7255940971913e4\", element=\"de5af1ae-6c1d-4b07-88be-e140026f1b57\")>,\n",
       " <selenium.webdriver.remote.webelement.WebElement (session=\"982467a696316ac4d7255940971913e4\", element=\"c8387cc1-3a8a-45de-bbd7-a681e7461445\")>,\n",
       " <selenium.webdriver.remote.webelement.WebElement (session=\"982467a696316ac4d7255940971913e4\", element=\"cc864cb5-8373-4a1e-8c44-421c82734a79\")>,\n",
       " <selenium.webdriver.remote.webelement.WebElement (session=\"982467a696316ac4d7255940971913e4\", element=\"63bf30af-de8d-44f9-9bee-469d33ab07d9\")>,\n",
       " <selenium.webdriver.remote.webelement.WebElement (session=\"982467a696316ac4d7255940971913e4\", element=\"5b20bb14-b146-424b-8839-a5cc6b0f7397\")>,\n",
       " <selenium.webdriver.remote.webelement.WebElement (session=\"982467a696316ac4d7255940971913e4\", element=\"d876367b-18db-4aa3-9529-45add6d8d80c\")>,\n",
       " <selenium.webdriver.remote.webelement.WebElement (session=\"982467a696316ac4d7255940971913e4\", element=\"26dd7dae-9cee-467b-8995-eef6cecfdbd6\")>,\n",
       " <selenium.webdriver.remote.webelement.WebElement (session=\"982467a696316ac4d7255940971913e4\", element=\"f4f36668-2e8e-442d-84f0-2fafc8666605\")>]"
      ]
     },
     "execution_count": 13,
     "metadata": {},
     "output_type": "execute_result"
    }
   ],
   "source": [
    "com=driver.find_elements_by_xpath('//p[@class=\"company body-medium\"]')\n",
    "com"
   ]
  },
  {
   "cell_type": "code",
   "execution_count": 14,
   "id": "3c70ddce",
   "metadata": {},
   "outputs": [
    {
     "data": {
      "text/plain": [
       "['NTT DATA GLOBAL DELIVERY SERVICES PRIVATE LIMITED',\n",
       " 'HCL Technologies Limited',\n",
       " 'WSP CONSULTANTS INDIA PRIVATE LIMITED',\n",
       " 'Microsoft India (R and D) Pvt Ltd',\n",
       " 'HCL Technologies Ltd',\n",
       " 'Jubilant Foodworks Limited',\n",
       " 'HCL Technologies',\n",
       " 'RATEGAIN TRAVEL TECHNOLOGIES LIMITED',\n",
       " 'Hanu Software Solutions Pvt Ltd',\n",
       " 'Tavant Technologies India Pvt. Ltd.']"
      ]
     },
     "execution_count": 14,
     "metadata": {},
     "output_type": "execute_result"
    }
   ],
   "source": [
    "compy=[]\n",
    "for i in com:\n",
    "    compy.append(i.text)\n",
    "compy"
   ]
  },
  {
   "cell_type": "code",
   "execution_count": 22,
   "id": "79b30c75",
   "metadata": {},
   "outputs": [
    {
     "data": {
      "text/plain": [
       "[<selenium.webdriver.remote.webelement.WebElement (session=\"982467a696316ac4d7255940971913e4\", element=\"bc1e1baf-984c-4ce0-9a01-85d9ee800dd7\")>,\n",
       " <selenium.webdriver.remote.webelement.WebElement (session=\"982467a696316ac4d7255940971913e4\", element=\"19027e27-3874-401d-be21-c10c9917ff0a\")>,\n",
       " <selenium.webdriver.remote.webelement.WebElement (session=\"982467a696316ac4d7255940971913e4\", element=\"5aac423d-6562-4603-8007-f68240a2118c\")>,\n",
       " <selenium.webdriver.remote.webelement.WebElement (session=\"982467a696316ac4d7255940971913e4\", element=\"8adb178c-040d-4fb6-a22a-d4570fbf0e31\")>,\n",
       " <selenium.webdriver.remote.webelement.WebElement (session=\"982467a696316ac4d7255940971913e4\", element=\"3fde2434-ee39-402f-9a04-87c3dbd17396\")>,\n",
       " <selenium.webdriver.remote.webelement.WebElement (session=\"982467a696316ac4d7255940971913e4\", element=\"eaee0b56-ab77-4ba0-b521-12e3dbe67633\")>,\n",
       " <selenium.webdriver.remote.webelement.WebElement (session=\"982467a696316ac4d7255940971913e4\", element=\"08c18982-d52b-44b0-bb9c-e1cfdf9eae77\")>,\n",
       " <selenium.webdriver.remote.webelement.WebElement (session=\"982467a696316ac4d7255940971913e4\", element=\"0e90fdd4-5bf9-4e58-b28c-522a002e3182\")>,\n",
       " <selenium.webdriver.remote.webelement.WebElement (session=\"982467a696316ac4d7255940971913e4\", element=\"7577d862-6a83-46a8-82c0-2f555746e7ab\")>,\n",
       " <selenium.webdriver.remote.webelement.WebElement (session=\"982467a696316ac4d7255940971913e4\", element=\"c2f07dcc-9b23-42d7-a149-ea91a7503e3e\")>]"
      ]
     },
     "execution_count": 22,
     "metadata": {},
     "output_type": "execute_result"
    }
   ],
   "source": [
    "rat=driver.find_elements_by_xpath('//span[@class=\"body-small\"]')\n",
    "rat"
   ]
  },
  {
   "cell_type": "code",
   "execution_count": 23,
   "id": "d3f48c33",
   "metadata": {},
   "outputs": [
    {
     "data": {
      "text/plain": [
       "['3.9', '3.8', '4.2', '4.2', '3.8', '3.9', '3.8', '3.7', '3.7', '4.0']"
      ]
     },
     "execution_count": 23,
     "metadata": {},
     "output_type": "execute_result"
    }
   ],
   "source": [
    "rating=[]\n",
    "for i in rat:\n",
    "    rating.append(i.text)\n",
    "rating"
   ]
  },
  {
   "cell_type": "code",
   "execution_count": 24,
   "id": "855d7be5",
   "metadata": {},
   "outputs": [
    {
     "data": {
      "text/plain": [
       "[<selenium.webdriver.remote.webelement.WebElement (session=\"982467a696316ac4d7255940971913e4\", element=\"419c9bd0-92b7-48d6-8814-34e953daa0a0\")>,\n",
       " <selenium.webdriver.remote.webelement.WebElement (session=\"982467a696316ac4d7255940971913e4\", element=\"10a7e8d4-6271-4871-9d00-539f49b74718\")>,\n",
       " <selenium.webdriver.remote.webelement.WebElement (session=\"982467a696316ac4d7255940971913e4\", element=\"9dca8c9a-992e-4cf0-8e33-8e94189e112a\")>,\n",
       " <selenium.webdriver.remote.webelement.WebElement (session=\"982467a696316ac4d7255940971913e4\", element=\"47a89459-6c49-41e0-9eae-1e8d3415716a\")>,\n",
       " <selenium.webdriver.remote.webelement.WebElement (session=\"982467a696316ac4d7255940971913e4\", element=\"edb43eab-a4a5-4ba8-b772-aca1bcf7e43f\")>,\n",
       " <selenium.webdriver.remote.webelement.WebElement (session=\"982467a696316ac4d7255940971913e4\", element=\"ae56ec48-38f2-4e6e-a84d-7af221c57326\")>,\n",
       " <selenium.webdriver.remote.webelement.WebElement (session=\"982467a696316ac4d7255940971913e4\", element=\"4f5d3654-961c-4ebf-a46b-cb0e402b85e6\")>,\n",
       " <selenium.webdriver.remote.webelement.WebElement (session=\"982467a696316ac4d7255940971913e4\", element=\"ea024097-6b3b-4f0d-b5dd-d0a1888ee3b1\")>,\n",
       " <selenium.webdriver.remote.webelement.WebElement (session=\"982467a696316ac4d7255940971913e4\", element=\"f677ecd2-abec-4858-98aa-83ab78100247\")>,\n",
       " <selenium.webdriver.remote.webelement.WebElement (session=\"982467a696316ac4d7255940971913e4\", element=\"ba8be1a8-a364-4318-be53-4d3b5a79d4a3\")>,\n",
       " <selenium.webdriver.remote.webelement.WebElement (session=\"982467a696316ac4d7255940971913e4\", element=\"7623fced-5b57-43cf-888a-bfcf528f6510\")>,\n",
       " <selenium.webdriver.remote.webelement.WebElement (session=\"982467a696316ac4d7255940971913e4\", element=\"a06488cb-44a8-489e-93d1-12b411d62ab0\")>,\n",
       " <selenium.webdriver.remote.webelement.WebElement (session=\"982467a696316ac4d7255940971913e4\", element=\"941133e7-586c-4162-91c4-7970332308b5\")>,\n",
       " <selenium.webdriver.remote.webelement.WebElement (session=\"982467a696316ac4d7255940971913e4\", element=\"fb04fc06-bfd6-4621-9259-8011483d8845\")>,\n",
       " <selenium.webdriver.remote.webelement.WebElement (session=\"982467a696316ac4d7255940971913e4\", element=\"03f66184-9695-4352-bd46-caa0f06c29ab\")>,\n",
       " <selenium.webdriver.remote.webelement.WebElement (session=\"982467a696316ac4d7255940971913e4\", element=\"eb9bd334-7701-422a-8968-aeb739cd1acb\")>,\n",
       " <selenium.webdriver.remote.webelement.WebElement (session=\"982467a696316ac4d7255940971913e4\", element=\"fb7fc105-0108-4088-b4ed-e70f6c86a792\")>,\n",
       " <selenium.webdriver.remote.webelement.WebElement (session=\"982467a696316ac4d7255940971913e4\", element=\"94186227-3a6b-4d89-a0b5-d28a2b4b1e14\")>,\n",
       " <selenium.webdriver.remote.webelement.WebElement (session=\"982467a696316ac4d7255940971913e4\", element=\"8377ddee-0882-4858-ad95-083f9ec394e9\")>,\n",
       " <selenium.webdriver.remote.webelement.WebElement (session=\"982467a696316ac4d7255940971913e4\", element=\"371ba919-6c6a-4d48-b83f-4ad61de72397\")>,\n",
       " <selenium.webdriver.remote.webelement.WebElement (session=\"982467a696316ac4d7255940971913e4\", element=\"4fac8a3a-4e3e-4f7a-8a14-d629065b8683\")>,\n",
       " <selenium.webdriver.remote.webelement.WebElement (session=\"982467a696316ac4d7255940971913e4\", element=\"fa528470-9f27-4d21-9014-ecdca03795a5\")>,\n",
       " <selenium.webdriver.remote.webelement.WebElement (session=\"982467a696316ac4d7255940971913e4\", element=\"0e254633-374a-475d-ad6a-2838613ba276\")>,\n",
       " <selenium.webdriver.remote.webelement.WebElement (session=\"982467a696316ac4d7255940971913e4\", element=\"86485467-b31b-46da-b8b5-57e031762e97\")>,\n",
       " <selenium.webdriver.remote.webelement.WebElement (session=\"982467a696316ac4d7255940971913e4\", element=\"5a902b2a-d323-419b-a96d-1cb66b862882\")>,\n",
       " <selenium.webdriver.remote.webelement.WebElement (session=\"982467a696316ac4d7255940971913e4\", element=\"e3775109-e970-408f-8dbd-fd8a6954eeb9\")>,\n",
       " <selenium.webdriver.remote.webelement.WebElement (session=\"982467a696316ac4d7255940971913e4\", element=\"152e123a-7bdc-41eb-b48b-2aec4bca312f\")>,\n",
       " <selenium.webdriver.remote.webelement.WebElement (session=\"982467a696316ac4d7255940971913e4\", element=\"41bab3fe-918e-4afa-b5b6-fa5e52eb2343\")>,\n",
       " <selenium.webdriver.remote.webelement.WebElement (session=\"982467a696316ac4d7255940971913e4\", element=\"37b1daeb-fb52-401b-a48b-dd16aafa7046\")>,\n",
       " <selenium.webdriver.remote.webelement.WebElement (session=\"982467a696316ac4d7255940971913e4\", element=\"830f4b76-42be-48ed-8999-63c123687c5b\")>,\n",
       " <selenium.webdriver.remote.webelement.WebElement (session=\"982467a696316ac4d7255940971913e4\", element=\"c9aa81a7-86ec-4c64-87ed-c036486598a8\")>,\n",
       " <selenium.webdriver.remote.webelement.WebElement (session=\"982467a696316ac4d7255940971913e4\", element=\"3eda4d84-ce97-4e84-b043-fb9c4705cbed\")>,\n",
       " <selenium.webdriver.remote.webelement.WebElement (session=\"982467a696316ac4d7255940971913e4\", element=\"5e53b63e-8dff-4c36-8bca-c944bf8582bc\")>,\n",
       " <selenium.webdriver.remote.webelement.WebElement (session=\"982467a696316ac4d7255940971913e4\", element=\"1439e808-b8f7-4d96-b0b0-cffd63026605\")>,\n",
       " <selenium.webdriver.remote.webelement.WebElement (session=\"982467a696316ac4d7255940971913e4\", element=\"6104f3b1-afcc-4ba7-bb1f-f1e4a55da80e\")>,\n",
       " <selenium.webdriver.remote.webelement.WebElement (session=\"982467a696316ac4d7255940971913e4\", element=\"c2e50c37-b6a3-4766-a12d-d9108840b6c2\")>,\n",
       " <selenium.webdriver.remote.webelement.WebElement (session=\"982467a696316ac4d7255940971913e4\", element=\"99d4068c-1763-42a6-afbe-39d4e41052a6\")>,\n",
       " <selenium.webdriver.remote.webelement.WebElement (session=\"982467a696316ac4d7255940971913e4\", element=\"a790498f-c1b7-4fa2-bf56-b2cd72ac22f0\")>,\n",
       " <selenium.webdriver.remote.webelement.WebElement (session=\"982467a696316ac4d7255940971913e4\", element=\"cb05001b-cc9e-4233-b31b-3ec6d0859c82\")>,\n",
       " <selenium.webdriver.remote.webelement.WebElement (session=\"982467a696316ac4d7255940971913e4\", element=\"bd87bcc2-bcc2-4690-b393-a761c22a8846\")>,\n",
       " <selenium.webdriver.remote.webelement.WebElement (session=\"982467a696316ac4d7255940971913e4\", element=\"6480f8be-a0f9-48de-96ba-26e17d7cfc72\")>]"
      ]
     },
     "execution_count": 24,
     "metadata": {},
     "output_type": "execute_result"
    }
   ],
   "source": [
    "sal=driver.find_elements_by_xpath('//p[@class=\"body-small-l\"]')\n",
    "sal"
   ]
  },
  {
   "cell_type": "code",
   "execution_count": 25,
   "id": "6e41e99b",
   "metadata": {},
   "outputs": [
    {
     "data": {
      "text/plain": [
       "['₹ 3.5-5 LPA',\n",
       " 'Chennai, Pune, Delhi NCR + 5 more',\n",
       " '₹ 3.5-5 LPA',\n",
       " 'Chennai, Pune, Delhi NCR +5 more',\n",
       " 'Data Science, Power Bi, RDBMS +6 more',\n",
       " '1-5 Yrs',\n",
       " 'Not Disclosed',\n",
       " 'Chennai, Bengaluru/Bangalore, Noida',\n",
       " 'C++, Database Management System, Artificial Intelligence +11 more',\n",
       " '3-8 Yrs',\n",
       " 'Not Disclosed',\n",
       " 'Bengaluru/Bangalore, Noida',\n",
       " 'deep learning, python, tensorflow +7 more',\n",
       " '4-7 Yrs',\n",
       " 'Not Disclosed',\n",
       " 'Noida',\n",
       " 'System design, Intellectual property, Product management +7 more',\n",
       " '6-11 Yrs',\n",
       " 'Not Disclosed',\n",
       " 'Chennai, Pune, Bengaluru/Bangalore +3 more',\n",
       " 'N-Grams, data science, POS tagging +3 more',\n",
       " '3-6 Yrs',\n",
       " '₹ 30-45 LPA',\n",
       " 'Noida',\n",
       " 'Data Science, Deep Learning',\n",
       " '3-8 Yrs',\n",
       " 'Not Disclosed',\n",
       " 'Delhi NCR, Noida',\n",
       " 'Machine Learning, Deep Learning, Python +1 more',\n",
       " '2-5 Yrs',\n",
       " 'Not Disclosed',\n",
       " 'Noida',\n",
       " 'deep learning, algorithms, python +5 more',\n",
       " '8-12 Yrs',\n",
       " 'Not Disclosed',\n",
       " 'Greater Noida, Noida',\n",
       " 'C++, SQL, Python +7 more',\n",
       " '4-9 Yrs',\n",
       " 'Not Disclosed',\n",
       " 'Bengaluru/Bangalore, Hyderabad/Secunderabad, Noida +1 more',\n",
       " 'data scientist, Machine Learning, Python']"
      ]
     },
     "execution_count": 25,
     "metadata": {},
     "output_type": "execute_result"
    }
   ],
   "source": [
    "saly=[]\n",
    "for i in sal:\n",
    "    saly.append(i.text)\n",
    "saly"
   ]
  },
  {
   "cell_type": "code",
   "execution_count": 26,
   "id": "947cb971",
   "metadata": {},
   "outputs": [
    {
     "data": {
      "text/html": [
       "<div>\n",
       "<style scoped>\n",
       "    .dataframe tbody tr th:only-of-type {\n",
       "        vertical-align: middle;\n",
       "    }\n",
       "\n",
       "    .dataframe tbody tr th {\n",
       "        vertical-align: top;\n",
       "    }\n",
       "\n",
       "    .dataframe thead th {\n",
       "        text-align: right;\n",
       "    }\n",
       "</style>\n",
       "<table border=\"1\" class=\"dataframe\">\n",
       "  <thead>\n",
       "    <tr style=\"text-align: right;\">\n",
       "      <th></th>\n",
       "      <th>Job_Titles</th>\n",
       "      <th>Company_name</th>\n",
       "      <th>Rating</th>\n",
       "    </tr>\n",
       "  </thead>\n",
       "  <tbody>\n",
       "    <tr>\n",
       "      <th>0</th>\n",
       "      <td>Excellent Opportunity For Freshers For AI/ML, ...</td>\n",
       "      <td>NTT DATA GLOBAL DELIVERY SERVICES PRIVATE LIMITED</td>\n",
       "      <td>3.9</td>\n",
       "    </tr>\n",
       "    <tr>\n",
       "      <th>1</th>\n",
       "      <td>HCL Hiring Data Scientist (Loc: Noida / Chenna...</td>\n",
       "      <td>HCL Technologies Limited</td>\n",
       "      <td>3.8</td>\n",
       "    </tr>\n",
       "    <tr>\n",
       "      <th>2</th>\n",
       "      <td>Data Scientist</td>\n",
       "      <td>WSP CONSULTANTS INDIA PRIVATE LIMITED</td>\n",
       "      <td>4.2</td>\n",
       "    </tr>\n",
       "    <tr>\n",
       "      <th>3</th>\n",
       "      <td>Data Scientist-II</td>\n",
       "      <td>Microsoft India (R and D) Pvt Ltd</td>\n",
       "      <td>4.2</td>\n",
       "    </tr>\n",
       "    <tr>\n",
       "      <th>4</th>\n",
       "      <td>HCL Tech Opening - Senior Data Scientist</td>\n",
       "      <td>HCL Technologies Ltd</td>\n",
       "      <td>3.8</td>\n",
       "    </tr>\n",
       "    <tr>\n",
       "      <th>5</th>\n",
       "      <td>Data Scientist</td>\n",
       "      <td>Jubilant Foodworks Limited</td>\n",
       "      <td>3.9</td>\n",
       "    </tr>\n",
       "    <tr>\n",
       "      <th>6</th>\n",
       "      <td>Urgent Requirement || Data Scientist || Noida</td>\n",
       "      <td>HCL Technologies</td>\n",
       "      <td>3.8</td>\n",
       "    </tr>\n",
       "    <tr>\n",
       "      <th>7</th>\n",
       "      <td>Data Scientist with NLP &amp; Python</td>\n",
       "      <td>RATEGAIN TRAVEL TECHNOLOGIES LIMITED</td>\n",
       "      <td>3.7</td>\n",
       "    </tr>\n",
       "    <tr>\n",
       "      <th>8</th>\n",
       "      <td>Data Scientist</td>\n",
       "      <td>Hanu Software Solutions Pvt Ltd</td>\n",
       "      <td>3.7</td>\n",
       "    </tr>\n",
       "    <tr>\n",
       "      <th>9</th>\n",
       "      <td>Opportunity | Tavant India</td>\n",
       "      <td>Tavant Technologies India Pvt. Ltd.</td>\n",
       "      <td>4.0</td>\n",
       "    </tr>\n",
       "  </tbody>\n",
       "</table>\n",
       "</div>"
      ],
      "text/plain": [
       "                                          Job_Titles  \\\n",
       "0  Excellent Opportunity For Freshers For AI/ML, ...   \n",
       "1  HCL Hiring Data Scientist (Loc: Noida / Chenna...   \n",
       "2                                     Data Scientist   \n",
       "3                                  Data Scientist-II   \n",
       "4           HCL Tech Opening - Senior Data Scientist   \n",
       "5                                     Data Scientist   \n",
       "6      Urgent Requirement || Data Scientist || Noida   \n",
       "7                   Data Scientist with NLP & Python   \n",
       "8                                     Data Scientist   \n",
       "9                         Opportunity | Tavant India   \n",
       "\n",
       "                                        Company_name Rating  \n",
       "0  NTT DATA GLOBAL DELIVERY SERVICES PRIVATE LIMITED    3.9  \n",
       "1                           HCL Technologies Limited    3.8  \n",
       "2              WSP CONSULTANTS INDIA PRIVATE LIMITED    4.2  \n",
       "3                  Microsoft India (R and D) Pvt Ltd    4.2  \n",
       "4                               HCL Technologies Ltd    3.8  \n",
       "5                         Jubilant Foodworks Limited    3.9  \n",
       "6                                   HCL Technologies    3.8  \n",
       "7               RATEGAIN TRAVEL TECHNOLOGIES LIMITED    3.7  \n",
       "8                    Hanu Software Solutions Pvt Ltd    3.7  \n",
       "9                Tavant Technologies India Pvt. Ltd.    4.0  "
      ]
     },
     "execution_count": 26,
     "metadata": {},
     "output_type": "execute_result"
    }
   ],
   "source": [
    "job=pd.DataFrame({'Job_Titles':tit,'Company_name':compy,'Rating':rating,})\n",
    "job"
   ]
  },
  {
   "cell_type": "code",
   "execution_count": null,
   "id": "3cec334b",
   "metadata": {},
   "outputs": [],
   "source": []
  }
 ],
 "metadata": {
  "kernelspec": {
   "display_name": "Python 3",
   "language": "python",
   "name": "python3"
  },
  "language_info": {
   "codemirror_mode": {
    "name": "ipython",
    "version": 3
   },
   "file_extension": ".py",
   "mimetype": "text/x-python",
   "name": "python",
   "nbconvert_exporter": "python",
   "pygments_lexer": "ipython3",
   "version": "3.8.8"
  }
 },
 "nbformat": 4,
 "nbformat_minor": 5
}
