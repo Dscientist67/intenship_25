{
 "cells": [
  {
   "cell_type": "code",
   "execution_count": 1,
   "id": "5c549750",
   "metadata": {},
   "outputs": [],
   "source": [
    "import pandas as pd\n",
    "import selenium \n",
    "from selenium import webdriver\n",
    "import warnings\n",
    "warnings.filterwarnings('ignore')\n",
    "driver=webdriver.Chrome(r\"C:/Users/Darshan/Downloads/chromedriver_win32/chromedriver.exe\")"
   ]
  },
  {
   "cell_type": "code",
   "execution_count": 2,
   "id": "33bb663b",
   "metadata": {},
   "outputs": [],
   "source": [
    "url=' https://www.amazon.in/'\n",
    "driver.get(url)"
   ]
  },
  {
   "cell_type": "code",
   "execution_count": 3,
   "id": "d2992d85",
   "metadata": {},
   "outputs": [],
   "source": [
    "srch=driver.find_element_by_xpath('/html/body/div[1]/header/div/div[1]/div[2]/div/form/div[2]/div[1]/input')\n",
    "srch.send_keys('Laptop')\n"
   ]
  },
  {
   "cell_type": "code",
   "execution_count": 4,
   "id": "c7f3f032",
   "metadata": {},
   "outputs": [],
   "source": [
    "btn1=driver.find_element_by_xpath('/html/body/div[1]/header/div/div[1]/div[2]/div/form/div[3]/div/span/input')\n",
    "btn1.click()"
   ]
  },
  {
   "cell_type": "code",
   "execution_count": 5,
   "id": "1e6dbd93",
   "metadata": {},
   "outputs": [],
   "source": [
    "flt1=driver.find_element_by_xpath('/html/body/div[1]/div[2]/div[1]/div[2]/div/div[3]/span/div[1]/div/div/div[5]/ul[4]/li[11]/span/a/div/label/i')\n",
    "flt1.click()"
   ]
  },
  {
   "cell_type": "code",
   "execution_count": 11,
   "id": "6f386857",
   "metadata": {},
   "outputs": [],
   "source": [
    "core=['core i7']"
   ]
  },
  {
   "cell_type": "code",
   "execution_count": 13,
   "id": "f6f18e48",
   "metadata": {},
   "outputs": [
    {
     "data": {
      "text/plain": [
       "[<selenium.webdriver.remote.webelement.WebElement (session=\"799fcff6368f8788b2c886409f06c404\", element=\"3cea470d-a723-4135-9036-1b5550437b62\")>,\n",
       " <selenium.webdriver.remote.webelement.WebElement (session=\"799fcff6368f8788b2c886409f06c404\", element=\"3ba7e03d-0bf0-4012-a899-25d464397acd\")>,\n",
       " <selenium.webdriver.remote.webelement.WebElement (session=\"799fcff6368f8788b2c886409f06c404\", element=\"5986201b-8b37-47d1-ab41-0e8e8e499db8\")>,\n",
       " <selenium.webdriver.remote.webelement.WebElement (session=\"799fcff6368f8788b2c886409f06c404\", element=\"bca01855-6000-4ecd-aa51-6ba4ca62413b\")>,\n",
       " <selenium.webdriver.remote.webelement.WebElement (session=\"799fcff6368f8788b2c886409f06c404\", element=\"eed024b6-326f-45d1-a9c5-81a1889aff60\")>,\n",
       " <selenium.webdriver.remote.webelement.WebElement (session=\"799fcff6368f8788b2c886409f06c404\", element=\"7ec3a947-de3c-4285-8610-dd5ca1ce8685\")>,\n",
       " <selenium.webdriver.remote.webelement.WebElement (session=\"799fcff6368f8788b2c886409f06c404\", element=\"b8229aad-2212-4113-99a1-edb97df0c5e4\")>,\n",
       " <selenium.webdriver.remote.webelement.WebElement (session=\"799fcff6368f8788b2c886409f06c404\", element=\"4121d743-c075-4f39-a0e7-7628081a275e\")>,\n",
       " <selenium.webdriver.remote.webelement.WebElement (session=\"799fcff6368f8788b2c886409f06c404\", element=\"bdc295d4-a7a5-4a7e-b0d9-b5bdff2332d3\")>,\n",
       " <selenium.webdriver.remote.webelement.WebElement (session=\"799fcff6368f8788b2c886409f06c404\", element=\"84cb34cd-0592-45f1-ba75-32393de3f719\")>,\n",
       " <selenium.webdriver.remote.webelement.WebElement (session=\"799fcff6368f8788b2c886409f06c404\", element=\"b1a070e8-4797-4132-987e-5aa611573d02\")>,\n",
       " <selenium.webdriver.remote.webelement.WebElement (session=\"799fcff6368f8788b2c886409f06c404\", element=\"13bfdca7-1503-443f-8f71-18696a2bb990\")>,\n",
       " <selenium.webdriver.remote.webelement.WebElement (session=\"799fcff6368f8788b2c886409f06c404\", element=\"eb391a84-82f5-40ba-8c85-d3803bb1130a\")>,\n",
       " <selenium.webdriver.remote.webelement.WebElement (session=\"799fcff6368f8788b2c886409f06c404\", element=\"9bc6128e-3fc4-4610-ae27-6b248b8cc24c\")>,\n",
       " <selenium.webdriver.remote.webelement.WebElement (session=\"799fcff6368f8788b2c886409f06c404\", element=\"1621665f-3969-4f7c-a9d7-4ef71abb1091\")>,\n",
       " <selenium.webdriver.remote.webelement.WebElement (session=\"799fcff6368f8788b2c886409f06c404\", element=\"76326fb8-6480-4b33-ad40-04f1d4d3fc91\")>,\n",
       " <selenium.webdriver.remote.webelement.WebElement (session=\"799fcff6368f8788b2c886409f06c404\", element=\"013498a8-d5cb-42a5-bde3-238c1a3525c2\")>,\n",
       " <selenium.webdriver.remote.webelement.WebElement (session=\"799fcff6368f8788b2c886409f06c404\", element=\"0beebb22-e525-4fb6-8e1a-38064c5ce26a\")>,\n",
       " <selenium.webdriver.remote.webelement.WebElement (session=\"799fcff6368f8788b2c886409f06c404\", element=\"c95f6bfd-0422-4742-a785-474f8159649c\")>,\n",
       " <selenium.webdriver.remote.webelement.WebElement (session=\"799fcff6368f8788b2c886409f06c404\", element=\"828f98d1-ea1f-4736-b52a-332a6baaf144\")>,\n",
       " <selenium.webdriver.remote.webelement.WebElement (session=\"799fcff6368f8788b2c886409f06c404\", element=\"b9546624-0f1b-4f07-8e3b-57b6f8c5dae3\")>,\n",
       " <selenium.webdriver.remote.webelement.WebElement (session=\"799fcff6368f8788b2c886409f06c404\", element=\"7664275e-17d9-40a4-9366-4e658a2303ce\")>,\n",
       " <selenium.webdriver.remote.webelement.WebElement (session=\"799fcff6368f8788b2c886409f06c404\", element=\"79911eaa-24ed-4715-a3ef-c1962442a5d1\")>,\n",
       " <selenium.webdriver.remote.webelement.WebElement (session=\"799fcff6368f8788b2c886409f06c404\", element=\"e8bda783-583b-4084-8ec7-cc8c86938b5c\")>,\n",
       " <selenium.webdriver.remote.webelement.WebElement (session=\"799fcff6368f8788b2c886409f06c404\", element=\"15a64989-f051-46f2-8a55-463db6750e43\")>,\n",
       " <selenium.webdriver.remote.webelement.WebElement (session=\"799fcff6368f8788b2c886409f06c404\", element=\"91d16f65-28b6-4158-ac16-3cb153759f3c\")>,\n",
       " <selenium.webdriver.remote.webelement.WebElement (session=\"799fcff6368f8788b2c886409f06c404\", element=\"26b318de-20eb-40f1-8449-ba6889af7bfb\")>,\n",
       " <selenium.webdriver.remote.webelement.WebElement (session=\"799fcff6368f8788b2c886409f06c404\", element=\"4ad5a8f6-1e48-4b07-b614-dfffdacfa6d6\")>,\n",
       " <selenium.webdriver.remote.webelement.WebElement (session=\"799fcff6368f8788b2c886409f06c404\", element=\"645bd1f6-cb31-403e-9f1e-1b95cdd48bbc\")>,\n",
       " <selenium.webdriver.remote.webelement.WebElement (session=\"799fcff6368f8788b2c886409f06c404\", element=\"4a38677b-b0d0-453d-a70b-ef6105ccdb93\")>]"
      ]
     },
     "execution_count": 13,
     "metadata": {},
     "output_type": "execute_result"
    }
   ],
   "source": [
    "tit1=driver.find_elements_by_xpath('//span[@class=\"a-size-medium a-color-base a-text-normal\"]')\n",
    "tit1"
   ]
  },
  {
   "cell_type": "code",
   "execution_count": 14,
   "id": "eb06ab4f",
   "metadata": {},
   "outputs": [
    {
     "data": {
      "text/plain": [
       "['Fujitsu UH-X 11th Gen Intel Core i7 13.3” FHD IPS 400Nits Thin & Light Laptop(16GB/512GB SSD/Windows 11/Office 2021/Iris Xe Graphics/Backlit Kb/Fingerprint Reader/2Yr Warranty/Black/878gms),4ZR1F38024',\n",
       " 'Dell G15 5511 Intel i7-11800H Gaming Laptop,16GB DDR4,512GB SSD, Win 11+MSO\\'21, NVIDIA RTX 3060 6GB GDDR6,15.6\" (39.62cm) FHD AG 300 nits 165Hz, Backlit KB RGB, Black (D560670WIN9B), 2.6kg',\n",
       " 'ASUS VivoBook 14 (2021), 14-inch (35.56 cms) FHD, Intel Core i7-1065G7 10th Gen, Thin and Light Laptop (16GB/512GB SSD/Integrated Graphics/Office 2021/Windows 11/Silver/1.6 Kg), X415JA-EK701WS',\n",
       " 'ASUS TUF Gaming F15 (2021), 15.6\" (39.62 cms) FHD 144Hz, Intel Core i7-11600H 11th Gen, 4GB RTX 3050 Graphics, Gaming Laptop (16GB/512GB SSD/Windows 10/Office 2019/Gray/2.3 Kg), FX566HCB-HN299TS',\n",
       " 'Mi Notebook Ultra 3.2K Resolution Display Intel Core i7-11370H 11th Gen 15.6-inch(39.62 cm) Thin and Light Laptop (16GB/512GB SSD/Iris Xe Graphic/Win 10/MS Office/Backlit KB/Fingerprint Sensor/1.7Kg)',\n",
       " 'ASUS VivoBook K15 OLED (2021), 15.6-inch (39.62 cms) FHD OLED, Intel Core i7-1165G7 11th Gen, Thin and Light Laptop (16GB/512GB SSD/Iris Xe Graphics/Office 2021/Windows 11/Silver/1.8 Kg) K513EA-L712WS',\n",
       " 'LG Gram Intel Evo 11th Gen Core i7 17 inches Ultra-Light Laptop (16 GB RAM, 512 GB SSD, New Windows 11 Home Preload, Iris Xe Graphics, USC -C x 2 (with Power), 1.35 kg, 17Z90P-G.AH85A2, Black)',\n",
       " 'HP Pavilion 11th Gen Intel Core i7 15.6 inches FHD Gaming Laptop (16GB RAM/512GB SSD/144Hz/4GB NVIDIA GeForce GTX 1650 Graphics/Windows 10 Home/MS Office/Shadow Black/2.28 Kg), 15-dk2075tx',\n",
       " 'LG Gram 16 inches Intel Evo 11th Gen Core i7 Ultra-Light Laptop (16 GB RAM, 512 GB SSD, New Windows 11 Home Preload, Iris Xe Graphics, USC -C x 2 (with Power), 1.19 kg, 16Z90P-G.AH85A2, Black)',\n",
       " 'Microsoft Surface Studio 14.4 inches Touchscreen Intel ® Core i7 Laptop (32GB Memory, Windows 11 Home, 2TB SSD - Platinum, 2.664Kg)',\n",
       " 'Fujitsu UH-X 11th Gen Intel Core i7 13.3” FHD IPS 400Nits Thin & Light Laptop(16GB/512GB SSD/Windows 11/Office 2021/Iris Xe Graphics/Backlit Kb/Fingerprint Reader/2Yr Warranty/Black/878gms),4ZR1F38024',\n",
       " 'HP Pavilion x360 11th Gen Intel Core i7 14 inches FHD, IPS, Convertible Laptop (16 GB RAM/512GB SSD, B&O/Win 11 Home/Backlit keyboard/FPR/ Alexa-Built in/MS Office/Natural Silver/1.52 Kg) -14-dy1013TU',\n",
       " 'ASUS ZenBook 13 OLED (2021) Intel Core i7-1165G7 11th Gen 13.3\" (33.78 cms) FHD Thin and Light Laptop (16GB/512GB SSD/Windows 10/Office 2019/Intel Iris Xᵉ Graphics/Pine Grey/1.14 kg), UX325EA-KG722TS',\n",
       " '(Renewed) Acer Nitro 5 11th Gen Intel Core i5-11400H 15.6\" (39.62cms) FHD 144Hz Gaming Laptop (8 GB/512GB SSD/Win 10/4 GB Graphics/NVIDIA GeForce GTX 1650/Shale Black, 2.2 kg/RGB Backlit Keyboard) AN515-57',\n",
       " 'Acer Predator Helios 300 11th Gen Intel Core i9-11900H 15.6 inches FHD IPS Gaming Laptop (32GB/1TB SSD/Windows 11 Home/8GB Graphics/NVIDIA GeForce RTX 3070/300 Hz, Black, 2.3Kg) PH315-54',\n",
       " 'ASUS TUF Gaming F15 (2021), 15.6\" (39.62 cms) FHD 144Hz, Intel Core i7-11600H 11th Gen, 4GB RTX 3050 Graphics, Gaming Laptop (16GB/512GB SSD/Windows 10/Office 2019/Gray/2.3 Kg), FX566HCB-HN299TS',\n",
       " 'Dell 15 (2021) i7-11390H, 16GB, 1TB SSD, Win 11 + MS Office\\'21, NVIDIA MX450 2GB, 15.6\" (39.62 cms) FHD Display, Silver Color, FPR + Backlit KB (Inspiron 5518, D560636WIN9S)',\n",
       " 'Dell 14 (2021) i7-1195G7 2in1 Touch Screen Laptop, 16GB, 512Gb SSD, Win 11 + MSO\\'21, 14\" (35.56 cms) FHD, Platinum Silver Color, FPR + Backlit KB & Active Pen (Inspiron 5410, D560629WIN9S)',\n",
       " '(Renewed) HP Elitebook 840 G4 Notebook PC Intel i7-7500U, 8GB RAM, 256GB SSD, Win10 Pro-64, 14-inch Touch screen Full HD.',\n",
       " 'MSI Katana GF66 Gaming, Intel i7-11800H, 15.6\" FHD IPS-Level 144Hz Panel Laptop (16GB/512GB NVMe SSD/Windows 10 Home/Nvidia RTX3050Ti 4GB GDDR6/Black/2.25Kg), 11UD-476IN',\n",
       " 'HP Pavilion 14, 11th Gen Intel Core i7-16GB RAM/1TB SSD 14 inch(35.6 cm) Laptop/Intel Iris Xe Graphics/Backlit Keyboard/Alexa/B&O Audio/Fast Charge/FPR/Win 11/MS Office, 14-dv1029TU',\n",
       " '(Renewed) Lenovo Intel 5th Gen Core i7 14 Inch(35.56 cms) 1366 x 768 HD Laptop (16GB RAM /1TB SSD/Windows 10 Pro/MS Office/ Intel HD graphics,Black,2.0kg) Lenovo ThinkPad T450',\n",
       " '(Renewed) HP 840g3 Elitebook 14 Inch Screen Laptop (6th Gen Intel Core i7 - 6600u /4 GB/180 GB SSD/Windows 10 Pro), Black',\n",
       " '(Renewed) Life Digital Laptop 15.6-inch (39.62 cms) (Intel Core i7, 8GB RAM, 512GB SSD, Windows 10), ZED AIR CX7',\n",
       " 'Samsung Galaxy Book2 360 Intel 12th Gen i7 EvoTM  13.3 inch AMOLED Thin & Light Laptop (16 GB/512 GB SSD/Windows 11/MS Office /Dark Gray/0.87Kg), NP730QED-KA1IN',\n",
       " 'Dell Latitude 5520 || i7-1165G7 || 16GB || 512GB SSD || Win 10 Pro || 15.6\" FHD || NO ODD || Backlit KB || NO FPR || 3 Yrs Warranty',\n",
       " '(Renewed) Dell Intel Core i7 6th Gen 14.Inch(35.6 cms) (1920 x 1080)FHD TOUCHSCREEN Laptop (16GB RAM /1TB SSD/Windows 10 Pro/MS Office/Intel Integrated HD Graphics /1.18Kg,Black) Latitude E7470',\n",
       " '(Renewed) Lenovo Intel 4th Gen Core i7 15.6 Inch(39.62 cms) 1366 x 768 1366 X 768 Laptop (16GB RAM/512GB SSD/Windows 10 Pro/MS Office/ NVIDIA Graphics,Black,2.5kg) Lenovo ThinkPad w540',\n",
       " 'ASUS VivoBook 14 (2021), 14-inch (35.56 cms) FHD, Intel Core i7-1065G7 10th Gen, Thin and Light Laptop (16GB/512GB SSD/Integrated Graphics/Office 2021/Windows 11/Silver/1.6 Kg), X415JA-EK701WS',\n",
       " 'HP Pavilion x360 11th Gen Intel Core i7 14 inches FHD, IPS, Convertible Laptop (16 GB RAM/512GB SSD, B&O/Win 11 Home/Backlit keyboard/FPR/ Alexa-Built in/MS Office/Natural Silver/1.52 Kg) -14-dy1013TU']"
      ]
     },
     "execution_count": 14,
     "metadata": {},
     "output_type": "execute_result"
    }
   ],
   "source": [
    "titles=[]\n",
    "for i in tit1:\n",
    "    titles.append(i.text)\n",
    "titles"
   ]
  },
  {
   "cell_type": "code",
   "execution_count": 15,
   "id": "0ecc5548",
   "metadata": {},
   "outputs": [
    {
     "data": {
      "text/plain": [
       "30"
      ]
     },
     "execution_count": 15,
     "metadata": {},
     "output_type": "execute_result"
    }
   ],
   "source": [
    "len(titles)"
   ]
  },
  {
   "cell_type": "code",
   "execution_count": 22,
   "id": "996bde4d",
   "metadata": {},
   "outputs": [
    {
     "data": {
      "text/plain": [
       "[<selenium.webdriver.remote.webelement.WebElement (session=\"799fcff6368f8788b2c886409f06c404\", element=\"32007951-d821-4ae8-ab2c-ca1d3c1ef68d\")>,\n",
       " <selenium.webdriver.remote.webelement.WebElement (session=\"799fcff6368f8788b2c886409f06c404\", element=\"c951f6bf-d7b1-4386-a579-59b966e8dfd7\")>,\n",
       " <selenium.webdriver.remote.webelement.WebElement (session=\"799fcff6368f8788b2c886409f06c404\", element=\"e45cd0db-841c-4565-bf19-23d89f6ec6f5\")>,\n",
       " <selenium.webdriver.remote.webelement.WebElement (session=\"799fcff6368f8788b2c886409f06c404\", element=\"dc3a2b20-3ee2-486b-833d-a8afce6e12e5\")>,\n",
       " <selenium.webdriver.remote.webelement.WebElement (session=\"799fcff6368f8788b2c886409f06c404\", element=\"27a4bac7-d2fb-41e7-957a-b8f19530e5ff\")>,\n",
       " <selenium.webdriver.remote.webelement.WebElement (session=\"799fcff6368f8788b2c886409f06c404\", element=\"8d5aacc8-acc2-4669-824b-eae7c3c3f2b7\")>,\n",
       " <selenium.webdriver.remote.webelement.WebElement (session=\"799fcff6368f8788b2c886409f06c404\", element=\"8f3ce452-955e-4bc2-a42c-f5be9644c7c8\")>,\n",
       " <selenium.webdriver.remote.webelement.WebElement (session=\"799fcff6368f8788b2c886409f06c404\", element=\"1fe07412-6a08-40bc-99c4-2f86d44ce61c\")>,\n",
       " <selenium.webdriver.remote.webelement.WebElement (session=\"799fcff6368f8788b2c886409f06c404\", element=\"d2efb2ed-6a6a-40f9-b766-73c4a0a1270a\")>,\n",
       " <selenium.webdriver.remote.webelement.WebElement (session=\"799fcff6368f8788b2c886409f06c404\", element=\"a2cedede-e5f1-4d37-be67-75002402f8ed\")>,\n",
       " <selenium.webdriver.remote.webelement.WebElement (session=\"799fcff6368f8788b2c886409f06c404\", element=\"1d2adade-6c2e-4575-998c-a3ed5b885b82\")>,\n",
       " <selenium.webdriver.remote.webelement.WebElement (session=\"799fcff6368f8788b2c886409f06c404\", element=\"0dee6006-e326-4659-8b72-f6ad0a48da41\")>,\n",
       " <selenium.webdriver.remote.webelement.WebElement (session=\"799fcff6368f8788b2c886409f06c404\", element=\"31adbfe3-fbe9-4eb7-9b78-5df9e870a98d\")>,\n",
       " <selenium.webdriver.remote.webelement.WebElement (session=\"799fcff6368f8788b2c886409f06c404\", element=\"cc2c947e-bbc5-4baf-842e-ba81163b800d\")>,\n",
       " <selenium.webdriver.remote.webelement.WebElement (session=\"799fcff6368f8788b2c886409f06c404\", element=\"8638290c-61d2-45ee-93ae-c2431c419335\")>,\n",
       " <selenium.webdriver.remote.webelement.WebElement (session=\"799fcff6368f8788b2c886409f06c404\", element=\"e5574d6a-e371-453d-a3a0-0f33ee5bfa06\")>,\n",
       " <selenium.webdriver.remote.webelement.WebElement (session=\"799fcff6368f8788b2c886409f06c404\", element=\"21be45fb-d6fd-4587-b189-8ff84820293e\")>,\n",
       " <selenium.webdriver.remote.webelement.WebElement (session=\"799fcff6368f8788b2c886409f06c404\", element=\"28bc1325-1081-4e47-923c-83d0d4624a9c\")>,\n",
       " <selenium.webdriver.remote.webelement.WebElement (session=\"799fcff6368f8788b2c886409f06c404\", element=\"f328da7d-ce93-4523-a514-b2ecc11ee487\")>,\n",
       " <selenium.webdriver.remote.webelement.WebElement (session=\"799fcff6368f8788b2c886409f06c404\", element=\"2a309feb-b65c-488a-9086-449b90ec3c94\")>,\n",
       " <selenium.webdriver.remote.webelement.WebElement (session=\"799fcff6368f8788b2c886409f06c404\", element=\"47d06cea-68f0-4b77-af16-bdad0007fd6e\")>,\n",
       " <selenium.webdriver.remote.webelement.WebElement (session=\"799fcff6368f8788b2c886409f06c404\", element=\"ea220cfd-0e2b-431f-b18b-5439ce726d66\")>,\n",
       " <selenium.webdriver.remote.webelement.WebElement (session=\"799fcff6368f8788b2c886409f06c404\", element=\"5dabf271-9ed4-475e-92a3-69dcb3fb8aa6\")>,\n",
       " <selenium.webdriver.remote.webelement.WebElement (session=\"799fcff6368f8788b2c886409f06c404\", element=\"204a1af9-ebd3-474f-bb96-17b3164ba882\")>,\n",
       " <selenium.webdriver.remote.webelement.WebElement (session=\"799fcff6368f8788b2c886409f06c404\", element=\"1310e9ba-d682-4445-a0a4-1bdcfd18e326\")>,\n",
       " <selenium.webdriver.remote.webelement.WebElement (session=\"799fcff6368f8788b2c886409f06c404\", element=\"290b51c9-35c6-4075-a744-eb988b8b6313\")>,\n",
       " <selenium.webdriver.remote.webelement.WebElement (session=\"799fcff6368f8788b2c886409f06c404\", element=\"46fb67a6-762f-4b72-982e-3d26ee42330c\")>,\n",
       " <selenium.webdriver.remote.webelement.WebElement (session=\"799fcff6368f8788b2c886409f06c404\", element=\"223f5c4b-992e-461b-bb0c-28316866afa0\")>]"
      ]
     },
     "execution_count": 22,
     "metadata": {},
     "output_type": "execute_result"
    }
   ],
   "source": [
    "rat1=driver.find_elements_by_xpath('//span[@class=\"a-icon-alt\"]')\n",
    "rat1"
   ]
  },
  {
   "cell_type": "code",
   "execution_count": 23,
   "id": "5843358c",
   "metadata": {},
   "outputs": [],
   "source": [
    "rating=[]\n",
    "for i in rat1:\n",
    "    rating.append(i.text)"
   ]
  },
  {
   "cell_type": "code",
   "execution_count": 24,
   "id": "3cce43b6",
   "metadata": {},
   "outputs": [
    {
     "data": {
      "text/plain": [
       "['',\n",
       " '',\n",
       " '',\n",
       " '',\n",
       " '',\n",
       " '',\n",
       " '',\n",
       " '',\n",
       " '',\n",
       " '',\n",
       " '',\n",
       " '',\n",
       " '',\n",
       " '',\n",
       " '',\n",
       " '',\n",
       " '',\n",
       " '',\n",
       " '',\n",
       " '',\n",
       " '',\n",
       " '',\n",
       " '',\n",
       " '',\n",
       " '',\n",
       " '',\n",
       " '',\n",
       " '']"
      ]
     },
     "execution_count": 24,
     "metadata": {},
     "output_type": "execute_result"
    }
   ],
   "source": [
    "rating"
   ]
  },
  {
   "cell_type": "code",
   "execution_count": 25,
   "id": "4b3d16a2",
   "metadata": {},
   "outputs": [
    {
     "data": {
      "text/plain": [
       "[<selenium.webdriver.remote.webelement.WebElement (session=\"799fcff6368f8788b2c886409f06c404\", element=\"a71f5b17-1da4-46f3-be8d-90eb67dfaa21\")>,\n",
       " <selenium.webdriver.remote.webelement.WebElement (session=\"799fcff6368f8788b2c886409f06c404\", element=\"c661ad35-a570-453e-a994-5bef44fd8c39\")>,\n",
       " <selenium.webdriver.remote.webelement.WebElement (session=\"799fcff6368f8788b2c886409f06c404\", element=\"864f5c7c-298f-49ac-9050-e49ba0788275\")>,\n",
       " <selenium.webdriver.remote.webelement.WebElement (session=\"799fcff6368f8788b2c886409f06c404\", element=\"f29d4a7a-f51c-4964-9309-5e09be4be668\")>,\n",
       " <selenium.webdriver.remote.webelement.WebElement (session=\"799fcff6368f8788b2c886409f06c404\", element=\"4c89a868-e67c-4264-9421-8bffbb5d19b2\")>,\n",
       " <selenium.webdriver.remote.webelement.WebElement (session=\"799fcff6368f8788b2c886409f06c404\", element=\"328b85b3-8792-4954-8dd7-beff2abf475c\")>,\n",
       " <selenium.webdriver.remote.webelement.WebElement (session=\"799fcff6368f8788b2c886409f06c404\", element=\"57c32fab-d6e2-43f5-be14-999069bd6507\")>,\n",
       " <selenium.webdriver.remote.webelement.WebElement (session=\"799fcff6368f8788b2c886409f06c404\", element=\"0a7256ea-b790-43b7-b8cb-142d02256863\")>,\n",
       " <selenium.webdriver.remote.webelement.WebElement (session=\"799fcff6368f8788b2c886409f06c404\", element=\"85551e74-ed03-4ba5-ac6f-e3636a9203cf\")>,\n",
       " <selenium.webdriver.remote.webelement.WebElement (session=\"799fcff6368f8788b2c886409f06c404\", element=\"1f254cbf-653c-4c4d-9e79-1cabdc15e1d9\")>,\n",
       " <selenium.webdriver.remote.webelement.WebElement (session=\"799fcff6368f8788b2c886409f06c404\", element=\"a9b7a0bd-6c60-4122-a477-1682f07e350b\")>,\n",
       " <selenium.webdriver.remote.webelement.WebElement (session=\"799fcff6368f8788b2c886409f06c404\", element=\"27fe8edd-4230-41f8-8b1d-9104b0446efb\")>,\n",
       " <selenium.webdriver.remote.webelement.WebElement (session=\"799fcff6368f8788b2c886409f06c404\", element=\"7e5c9557-d515-4683-81bd-2c37f5508774\")>,\n",
       " <selenium.webdriver.remote.webelement.WebElement (session=\"799fcff6368f8788b2c886409f06c404\", element=\"64fc4fa0-2c5c-4d28-8d80-9aab9dd560c6\")>,\n",
       " <selenium.webdriver.remote.webelement.WebElement (session=\"799fcff6368f8788b2c886409f06c404\", element=\"524879e0-01bf-4d69-a7e8-240a6f286bb1\")>,\n",
       " <selenium.webdriver.remote.webelement.WebElement (session=\"799fcff6368f8788b2c886409f06c404\", element=\"f772e021-cbaa-4d25-a473-a1a19498a2af\")>,\n",
       " <selenium.webdriver.remote.webelement.WebElement (session=\"799fcff6368f8788b2c886409f06c404\", element=\"17a588b6-b92d-42d5-9563-895b0b07fd12\")>,\n",
       " <selenium.webdriver.remote.webelement.WebElement (session=\"799fcff6368f8788b2c886409f06c404\", element=\"9ecd1326-0607-43a1-b1f0-82a49ac12ee7\")>,\n",
       " <selenium.webdriver.remote.webelement.WebElement (session=\"799fcff6368f8788b2c886409f06c404\", element=\"8cceb112-5c29-4179-bddb-4f9d6bcd6250\")>,\n",
       " <selenium.webdriver.remote.webelement.WebElement (session=\"799fcff6368f8788b2c886409f06c404\", element=\"94e1ca8d-3da0-4fac-8584-55dfbdef0408\")>,\n",
       " <selenium.webdriver.remote.webelement.WebElement (session=\"799fcff6368f8788b2c886409f06c404\", element=\"77e01601-3df0-49c8-b4f4-060af8f0dda5\")>,\n",
       " <selenium.webdriver.remote.webelement.WebElement (session=\"799fcff6368f8788b2c886409f06c404\", element=\"4622cc79-7b6a-4965-b071-c99847024ee6\")>,\n",
       " <selenium.webdriver.remote.webelement.WebElement (session=\"799fcff6368f8788b2c886409f06c404\", element=\"5a0951bc-78a6-4523-a0a3-82d98c851a95\")>,\n",
       " <selenium.webdriver.remote.webelement.WebElement (session=\"799fcff6368f8788b2c886409f06c404\", element=\"3c6343ed-3dc7-4bc3-8ae7-934cb9a12143\")>,\n",
       " <selenium.webdriver.remote.webelement.WebElement (session=\"799fcff6368f8788b2c886409f06c404\", element=\"91c9f436-f6c7-4651-9b6a-e451f614071e\")>,\n",
       " <selenium.webdriver.remote.webelement.WebElement (session=\"799fcff6368f8788b2c886409f06c404\", element=\"388b1e96-76d1-4110-b6eb-6f5e35d48f7f\")>,\n",
       " <selenium.webdriver.remote.webelement.WebElement (session=\"799fcff6368f8788b2c886409f06c404\", element=\"d70f3f57-8e49-42df-96e9-a92c348adf45\")>,\n",
       " <selenium.webdriver.remote.webelement.WebElement (session=\"799fcff6368f8788b2c886409f06c404\", element=\"6d193c49-4635-4d22-b479-dd9bf9c0cee9\")>,\n",
       " <selenium.webdriver.remote.webelement.WebElement (session=\"799fcff6368f8788b2c886409f06c404\", element=\"7e459ca4-a8c0-4ea2-bb10-803c438a5157\")>,\n",
       " <selenium.webdriver.remote.webelement.WebElement (session=\"799fcff6368f8788b2c886409f06c404\", element=\"53578ffb-f3f5-40e0-8479-e9ec89bfd285\")>]"
      ]
     },
     "execution_count": 25,
     "metadata": {},
     "output_type": "execute_result"
    }
   ],
   "source": [
    "prc1=driver.find_elements_by_xpath('//span[@class=\"a-price-whole\"]')\n",
    "prc1"
   ]
  },
  {
   "cell_type": "code",
   "execution_count": 26,
   "id": "62358b18",
   "metadata": {},
   "outputs": [
    {
     "data": {
      "text/plain": [
       "['83,990',\n",
       " '1,25,510',\n",
       " '57,490',\n",
       " '89,990',\n",
       " '77,499',\n",
       " '82,990',\n",
       " '96,999',\n",
       " '87,990',\n",
       " '89,999',\n",
       " '3,73,999',\n",
       " '83,990',\n",
       " '91,800',\n",
       " '92,900',\n",
       " '62,990',\n",
       " '1,69,990',\n",
       " '89,990',\n",
       " '99,700',\n",
       " '95,000',\n",
       " '39,990',\n",
       " '99,999',\n",
       " '93,500',\n",
       " '47,299',\n",
       " '38,290',\n",
       " '30,990',\n",
       " '1,05,990',\n",
       " '1,37,000',\n",
       " '59,999',\n",
       " '47,999',\n",
       " '57,490',\n",
       " '91,800']"
      ]
     },
     "execution_count": 26,
     "metadata": {},
     "output_type": "execute_result"
    }
   ],
   "source": [
    "price=[]\n",
    "for i in prc1:\n",
    "    price.append(i.text)\n",
    "price"
   ]
  },
  {
   "cell_type": "code",
   "execution_count": 27,
   "id": "c8ddea40",
   "metadata": {},
   "outputs": [],
   "source": [
    "cores=core*10"
   ]
  },
  {
   "cell_type": "code",
   "execution_count": 28,
   "id": "4a70ce83",
   "metadata": {},
   "outputs": [
    {
     "data": {
      "text/plain": [
       "['core i7',\n",
       " 'core i7',\n",
       " 'core i7',\n",
       " 'core i7',\n",
       " 'core i7',\n",
       " 'core i7',\n",
       " 'core i7',\n",
       " 'core i7',\n",
       " 'core i7',\n",
       " 'core i7']"
      ]
     },
     "execution_count": 28,
     "metadata": {},
     "output_type": "execute_result"
    }
   ],
   "source": [
    "cores"
   ]
  },
  {
   "cell_type": "code",
   "execution_count": 29,
   "id": "7bd4ba8c",
   "metadata": {},
   "outputs": [],
   "source": [
    "corei7=pd.DataFrame({'Titles':titles[:10],'Price':price[0:10],'Rating':rating[0:10],'Core':cores})"
   ]
  },
  {
   "cell_type": "code",
   "execution_count": 30,
   "id": "f24fad09",
   "metadata": {},
   "outputs": [
    {
     "data": {
      "text/html": [
       "<div>\n",
       "<style scoped>\n",
       "    .dataframe tbody tr th:only-of-type {\n",
       "        vertical-align: middle;\n",
       "    }\n",
       "\n",
       "    .dataframe tbody tr th {\n",
       "        vertical-align: top;\n",
       "    }\n",
       "\n",
       "    .dataframe thead th {\n",
       "        text-align: right;\n",
       "    }\n",
       "</style>\n",
       "<table border=\"1\" class=\"dataframe\">\n",
       "  <thead>\n",
       "    <tr style=\"text-align: right;\">\n",
       "      <th></th>\n",
       "      <th>Titles</th>\n",
       "      <th>Price</th>\n",
       "      <th>Rating</th>\n",
       "      <th>Core</th>\n",
       "    </tr>\n",
       "  </thead>\n",
       "  <tbody>\n",
       "    <tr>\n",
       "      <th>0</th>\n",
       "      <td>Fujitsu UH-X 11th Gen Intel Core i7 13.3” FHD ...</td>\n",
       "      <td>83,990</td>\n",
       "      <td></td>\n",
       "      <td>core i7</td>\n",
       "    </tr>\n",
       "    <tr>\n",
       "      <th>1</th>\n",
       "      <td>Dell G15 5511 Intel i7-11800H Gaming Laptop,16...</td>\n",
       "      <td>1,25,510</td>\n",
       "      <td></td>\n",
       "      <td>core i7</td>\n",
       "    </tr>\n",
       "    <tr>\n",
       "      <th>2</th>\n",
       "      <td>ASUS VivoBook 14 (2021), 14-inch (35.56 cms) F...</td>\n",
       "      <td>57,490</td>\n",
       "      <td></td>\n",
       "      <td>core i7</td>\n",
       "    </tr>\n",
       "    <tr>\n",
       "      <th>3</th>\n",
       "      <td>ASUS TUF Gaming F15 (2021), 15.6\" (39.62 cms) ...</td>\n",
       "      <td>89,990</td>\n",
       "      <td></td>\n",
       "      <td>core i7</td>\n",
       "    </tr>\n",
       "    <tr>\n",
       "      <th>4</th>\n",
       "      <td>Mi Notebook Ultra 3.2K Resolution Display Inte...</td>\n",
       "      <td>77,499</td>\n",
       "      <td></td>\n",
       "      <td>core i7</td>\n",
       "    </tr>\n",
       "    <tr>\n",
       "      <th>5</th>\n",
       "      <td>ASUS VivoBook K15 OLED (2021), 15.6-inch (39.6...</td>\n",
       "      <td>82,990</td>\n",
       "      <td></td>\n",
       "      <td>core i7</td>\n",
       "    </tr>\n",
       "    <tr>\n",
       "      <th>6</th>\n",
       "      <td>LG Gram Intel Evo 11th Gen Core i7 17 inches U...</td>\n",
       "      <td>96,999</td>\n",
       "      <td></td>\n",
       "      <td>core i7</td>\n",
       "    </tr>\n",
       "    <tr>\n",
       "      <th>7</th>\n",
       "      <td>HP Pavilion 11th Gen Intel Core i7 15.6 inches...</td>\n",
       "      <td>87,990</td>\n",
       "      <td></td>\n",
       "      <td>core i7</td>\n",
       "    </tr>\n",
       "    <tr>\n",
       "      <th>8</th>\n",
       "      <td>LG Gram 16 inches Intel Evo 11th Gen Core i7 U...</td>\n",
       "      <td>89,999</td>\n",
       "      <td></td>\n",
       "      <td>core i7</td>\n",
       "    </tr>\n",
       "    <tr>\n",
       "      <th>9</th>\n",
       "      <td>Microsoft Surface Studio 14.4 inches Touchscre...</td>\n",
       "      <td>3,73,999</td>\n",
       "      <td></td>\n",
       "      <td>core i7</td>\n",
       "    </tr>\n",
       "  </tbody>\n",
       "</table>\n",
       "</div>"
      ],
      "text/plain": [
       "                                              Titles     Price Rating     Core\n",
       "0  Fujitsu UH-X 11th Gen Intel Core i7 13.3” FHD ...    83,990         core i7\n",
       "1  Dell G15 5511 Intel i7-11800H Gaming Laptop,16...  1,25,510         core i7\n",
       "2  ASUS VivoBook 14 (2021), 14-inch (35.56 cms) F...    57,490         core i7\n",
       "3  ASUS TUF Gaming F15 (2021), 15.6\" (39.62 cms) ...    89,990         core i7\n",
       "4  Mi Notebook Ultra 3.2K Resolution Display Inte...    77,499         core i7\n",
       "5  ASUS VivoBook K15 OLED (2021), 15.6-inch (39.6...    82,990         core i7\n",
       "6  LG Gram Intel Evo 11th Gen Core i7 17 inches U...    96,999         core i7\n",
       "7  HP Pavilion 11th Gen Intel Core i7 15.6 inches...    87,990         core i7\n",
       "8  LG Gram 16 inches Intel Evo 11th Gen Core i7 U...    89,999         core i7\n",
       "9  Microsoft Surface Studio 14.4 inches Touchscre...  3,73,999         core i7"
      ]
     },
     "execution_count": 30,
     "metadata": {},
     "output_type": "execute_result"
    }
   ],
   "source": [
    "corei7"
   ]
  },
  {
   "cell_type": "code",
   "execution_count": 31,
   "id": "56860b51",
   "metadata": {},
   "outputs": [],
   "source": [
    "clr=driver.find_element_by_xpath('/html/body/div[1]/div[2]/div[1]/div[2]/div/div[3]/span/div[1]/div/div/div[5]/ul[4]/li[1]/span/a/span[2]')\n",
    "clr.click()"
   ]
  },
  {
   "cell_type": "code",
   "execution_count": 32,
   "id": "89cd9a3a",
   "metadata": {},
   "outputs": [],
   "source": [
    "flt2=driver.find_element_by_xpath('/html/body/div[1]/div[2]/div[1]/div[2]/div/div[3]/span/div[1]/div/div/div[5]/ul[4]/li[13]/span/a/div/label/i')\n",
    "flt2.click()"
   ]
  },
  {
   "cell_type": "code",
   "execution_count": 33,
   "id": "f99be748",
   "metadata": {},
   "outputs": [
    {
     "data": {
      "text/plain": [
       "[<selenium.webdriver.remote.webelement.WebElement (session=\"799fcff6368f8788b2c886409f06c404\", element=\"7fc33b53-8437-4d16-89f1-a35ae33fcba7\")>,\n",
       " <selenium.webdriver.remote.webelement.WebElement (session=\"799fcff6368f8788b2c886409f06c404\", element=\"91cd3b14-ff67-4129-aad7-46081c0b6e83\")>,\n",
       " <selenium.webdriver.remote.webelement.WebElement (session=\"799fcff6368f8788b2c886409f06c404\", element=\"36eafd17-0fc2-41c9-aab9-8c5b3934f3a7\")>,\n",
       " <selenium.webdriver.remote.webelement.WebElement (session=\"799fcff6368f8788b2c886409f06c404\", element=\"60c48cad-814b-45a3-af3a-dc3248d7cffd\")>,\n",
       " <selenium.webdriver.remote.webelement.WebElement (session=\"799fcff6368f8788b2c886409f06c404\", element=\"3578cb51-ee7c-43f5-b15c-bdb6d19dde9f\")>,\n",
       " <selenium.webdriver.remote.webelement.WebElement (session=\"799fcff6368f8788b2c886409f06c404\", element=\"51c98e1c-90b6-4a8a-be73-e9fcabd15d37\")>,\n",
       " <selenium.webdriver.remote.webelement.WebElement (session=\"799fcff6368f8788b2c886409f06c404\", element=\"fb769436-44b6-426d-bf47-1bd0d242f73f\")>,\n",
       " <selenium.webdriver.remote.webelement.WebElement (session=\"799fcff6368f8788b2c886409f06c404\", element=\"b26aa777-6839-4022-a57d-b9dace2d4e57\")>,\n",
       " <selenium.webdriver.remote.webelement.WebElement (session=\"799fcff6368f8788b2c886409f06c404\", element=\"59bbbb5d-c3d1-455f-b432-52322cebec57\")>,\n",
       " <selenium.webdriver.remote.webelement.WebElement (session=\"799fcff6368f8788b2c886409f06c404\", element=\"e02e95e0-6035-47ca-bd3a-6e5f7db92dbf\")>,\n",
       " <selenium.webdriver.remote.webelement.WebElement (session=\"799fcff6368f8788b2c886409f06c404\", element=\"5e2114d0-bc45-4616-81e5-d5f03fe9e36d\")>,\n",
       " <selenium.webdriver.remote.webelement.WebElement (session=\"799fcff6368f8788b2c886409f06c404\", element=\"1a90d4fa-878a-468a-a417-07922f88f31f\")>,\n",
       " <selenium.webdriver.remote.webelement.WebElement (session=\"799fcff6368f8788b2c886409f06c404\", element=\"901b2f69-3665-4f90-8143-8eb47ff0058c\")>,\n",
       " <selenium.webdriver.remote.webelement.WebElement (session=\"799fcff6368f8788b2c886409f06c404\", element=\"07b51bfe-618c-4c6e-b5be-b20bdbf6d59e\")>,\n",
       " <selenium.webdriver.remote.webelement.WebElement (session=\"799fcff6368f8788b2c886409f06c404\", element=\"18c4d8af-d3f5-4049-ad6f-056a303165e5\")>,\n",
       " <selenium.webdriver.remote.webelement.WebElement (session=\"799fcff6368f8788b2c886409f06c404\", element=\"6a901b2d-f85f-4e11-8bc8-ad3f15d8b778\")>,\n",
       " <selenium.webdriver.remote.webelement.WebElement (session=\"799fcff6368f8788b2c886409f06c404\", element=\"41be7d2d-03e8-4eaa-9e2e-976603febcf7\")>,\n",
       " <selenium.webdriver.remote.webelement.WebElement (session=\"799fcff6368f8788b2c886409f06c404\", element=\"592d0b81-63bc-4a14-b4f4-8836c4fea889\")>]"
      ]
     },
     "execution_count": 33,
     "metadata": {},
     "output_type": "execute_result"
    }
   ],
   "source": [
    "tit2=driver.find_elements_by_xpath('//span[@class=\"a-size-medium a-color-base a-text-normal\"]')\n",
    "tit2"
   ]
  },
  {
   "cell_type": "code",
   "execution_count": 35,
   "id": "e5fa402c",
   "metadata": {},
   "outputs": [
    {
     "data": {
      "text/plain": [
       "['HP Pavilion 14,11th Gen Intel Core i5 16GB RAM/512GB SSD 14 inch(35.6 cm),FHD IPS Anti-Glare Display/Intel Iris Xe Graphics/Backlit KB/B&O Audio/FPR/Win 11/Thin & Light/1.41kg, 14-dv1001TU',\n",
       " 'HP 14s 11th Gen Intel Core i3- 8GB RAM/256GB SSD 14 inch(35.6cm) FHD,Micro-Edge,Anti-Glare,IPS Display/UHD Graphics/ Win 11/ MS Office/ Alexa Built-in/ 1.46kg/ Natural Silver - 14s-dy2506TU',\n",
       " 'ASUS ROG Strix SCAR 15 (2022), 15.6-inch (39.62 cms) 2K WQHD 240Hz/3ms, Core i9-12900H 12th Gen, RTX 3080 Ti 16GB Graphics, Gaming Laptop (32GB/1TB SSD/Win 11/Office 2021/Black/2.3 Kg), G533ZX-LN024WS',\n",
       " 'ASUS ROG Strix Scar 17 (2022), 17.3-inch (43.94 cms) 2K WQHD 240Hz/3ms, Core i9-12900H 12th Gen, RTX 3070 Ti 8GB Graphics, Gaming Laptop (32GB/2TB SSD/Win 11/Office 2021/Black/2.9 Kg), G733ZW-LL105WS',\n",
       " 'ASUS TUF Gaming F15 (2021), 15.6-inch (39.62 cms) FHD 240Hz/3ms, Intel Core i9-11900H 11th Gen, RTX 3060 6GB Graphics Gaming Laptop (16GB/1TB SSD/Office 2019/Windows 10/Black/2.3 kg), FX506HM-AZ099TS',\n",
       " 'ASUS TUF Gaming F15 (2021), 15.6-inch (39.62 cms) FHD 144Hz, Intel Core i9-11900H 11th Gen, RTX 3060 6GB Graphics Gaming Laptop (16GB RAM/1TB SSD/Office 2019/Windows 10/Gray/2.3 kg), FX566HM-HN097TS',\n",
       " 'ASUS TUF Gaming F15 (2021), 15.6\" (39.62 cms) FHD 240Hz, Intel Core i9-11900H 11th Gen, GeForce RTX 3060 6GB Graphics, Gaming Laptop(16GB/1TB SSD/Office 2019/Windows 10/Gray/2.3 Kg), FX566HM-AZ096TS',\n",
       " 'HP ZBOOK Power G8/ Intel core i9-11900H 8 Core/32GB DDR4 3200 RAM/1TB PCIe NVMe TLC SSD /15.6” FHD /Nvidia Quadro T1200 Dedicated Graphics 4GB DDR6 /Windows 10 Pro / 3 Year Warranty',\n",
       " 'MSI Modern 14, Intel i5-10210U, 14\" FHD IPS-Level 60Hz Panel Laptop (8GB/512GB NVMe SSD/Windows 10 Home/Intel UHD Graphics/Carbon Grey/1.3Kg), B10MW-639IN',\n",
       " 'MSI GF75 Thin, Intel i5-10300H, 17.3\" FHD IPS-Level 144Hz Panel Laptop (8GB/512GB NVMe SSD/Windows 10 Home/Nvidia GTX1650 4GB GDDR6/Black/2.2Kg), 10SC-095IN',\n",
       " 'ASUS ROG Strix Scar 15 (2022), 15.6-inch (39.62 cms) 2K WQHD 240Hz/3ms, Core i9-12900H 12th Gen, RTX 3070 Ti 8GB Graphics, Gaming Laptop (32GB/2TB SSD/Win 11/Office 2021/Black/2.3 Kg), G533ZW-LN106WS',\n",
       " '(Renewed) HP Omen 15-dh0139TX Gaming Laptop (9th Gen i9-9880H/16GB/1TB HDD + 512GB SSD/Win 10/8GB NVIDIA RTX 2080 Graphics) & Z3700 Wireless Mouse',\n",
       " '(Renewed) Dell G7 7500 15.6inch FHD 300 Hz Display Gaming Laptop (10th Gen i9-10885H / 16 GB / 1TB SSD / NVIDIA RTX 2070 8GB Graphics / 1Yr Premium Warranty / Win 10 + MS Office H&S 2019) D560233WIN9B, Black',\n",
       " 'ASUS ZenBook Pro Duo 15 OLED (2021) Intel Core i9-10980HK 10th Gen 15.6 inches 4K Dual-Screen Touch Business Laptop (32GB/1TB SSD/NVIDIA 8GB GeForce RTX 3070/Office 2019/Windows 10/Celestial Blue/2.34 Kg) UX582LR-H901TS',\n",
       " 'Dell Precision 5550 || i9 -10885H || 16GB || 1TB NVMe || T2000 4 GB || Win 10 Pro (Free Upgrade Win 11Pro) / 15.6 FHD+ / 3 Year ADP',\n",
       " 'HP ZBook Power G8/ Intel Core i9-11950H 2.5GHz 8 Core/64GB DDR4/ 2TB PCIe NVMe SSD /15.6” FHD/Nvidia Quadro RTX A2000 Graphics 4GB DDR6/ 1RJ45/ Windows 10 Pro/ 3 Year Warranty from HP',\n",
       " 'Lenovo IdeaPad 3 11th Gen Intel i3 15.6\" FHD Thin & Light Laptop (8GB/512GB SDD/Windows 11/MS Office 2021/2 Yr Warranty/Arctic Grey/1.65Kg), 82H801L7IN',\n",
       " 'MSI GP66 Leopard Gaming, Intel i7-11800H, 15.6\" FHD IPS-Level 240Hz Panel Laptop (16GB/1TB NVMe SSD/Windows 10 Home/Nvidia RTX3060 6GB GDDR6/Black/2.38Kg), 11UE-604IN']"
      ]
     },
     "execution_count": 35,
     "metadata": {},
     "output_type": "execute_result"
    }
   ],
   "source": [
    "titles2=[]\n",
    "for i in tit2:\n",
    "    titles2.append(i.text)\n",
    "titles2"
   ]
  },
  {
   "cell_type": "code",
   "execution_count": 36,
   "id": "ec3b0e45",
   "metadata": {},
   "outputs": [
    {
     "data": {
      "text/plain": [
       "[<selenium.webdriver.remote.webelement.WebElement (session=\"799fcff6368f8788b2c886409f06c404\", element=\"e97bfc67-b78a-4b19-b931-f42925a8aa0f\")>,\n",
       " <selenium.webdriver.remote.webelement.WebElement (session=\"799fcff6368f8788b2c886409f06c404\", element=\"8c9efc86-51c7-44a9-a8e0-c370c8f7dc36\")>,\n",
       " <selenium.webdriver.remote.webelement.WebElement (session=\"799fcff6368f8788b2c886409f06c404\", element=\"6dc5b2ca-2db4-46cd-8f41-f780127ff674\")>,\n",
       " <selenium.webdriver.remote.webelement.WebElement (session=\"799fcff6368f8788b2c886409f06c404\", element=\"65cc39f0-675c-4b18-8431-c89ad616313c\")>,\n",
       " <selenium.webdriver.remote.webelement.WebElement (session=\"799fcff6368f8788b2c886409f06c404\", element=\"94d6971e-b165-4680-b2a9-05ab153b94bc\")>,\n",
       " <selenium.webdriver.remote.webelement.WebElement (session=\"799fcff6368f8788b2c886409f06c404\", element=\"3ffb2a73-6b8f-4695-8069-a95c86c99676\")>,\n",
       " <selenium.webdriver.remote.webelement.WebElement (session=\"799fcff6368f8788b2c886409f06c404\", element=\"a956889a-2b8b-460a-9c52-3423a15f23ad\")>,\n",
       " <selenium.webdriver.remote.webelement.WebElement (session=\"799fcff6368f8788b2c886409f06c404\", element=\"fb1ed816-9856-466f-91c5-88de3b415fe3\")>,\n",
       " <selenium.webdriver.remote.webelement.WebElement (session=\"799fcff6368f8788b2c886409f06c404\", element=\"ccaebd2c-e807-4f17-a7b3-357361990b98\")>,\n",
       " <selenium.webdriver.remote.webelement.WebElement (session=\"799fcff6368f8788b2c886409f06c404\", element=\"8523e892-80f6-4d4a-ace1-21b0bf9ecf07\")>,\n",
       " <selenium.webdriver.remote.webelement.WebElement (session=\"799fcff6368f8788b2c886409f06c404\", element=\"ba255a06-6a74-417a-af31-8069e2af871d\")>,\n",
       " <selenium.webdriver.remote.webelement.WebElement (session=\"799fcff6368f8788b2c886409f06c404\", element=\"0a233c9e-6544-41cc-a970-b7b7f654c3ee\")>]"
      ]
     },
     "execution_count": 36,
     "metadata": {},
     "output_type": "execute_result"
    }
   ],
   "source": [
    "rat2=driver.find_elements_by_xpath('//span[@class=\"a-icon-alt\"]')\n",
    "rat2"
   ]
  },
  {
   "cell_type": "code",
   "execution_count": 37,
   "id": "f07d10d4",
   "metadata": {},
   "outputs": [
    {
     "data": {
      "text/plain": [
       "['', '', '', '', '', '', '', '', '', '', '', '']"
      ]
     },
     "execution_count": 37,
     "metadata": {},
     "output_type": "execute_result"
    }
   ],
   "source": [
    "rating2=[]\n",
    "for i in rat2:\n",
    "    rating2.append(i.text)\n",
    "rating2"
   ]
  },
  {
   "cell_type": "code",
   "execution_count": 38,
   "id": "dc00977a",
   "metadata": {},
   "outputs": [
    {
     "data": {
      "text/plain": [
       "12"
      ]
     },
     "execution_count": 38,
     "metadata": {},
     "output_type": "execute_result"
    }
   ],
   "source": [
    "len(rating2)"
   ]
  },
  {
   "cell_type": "code",
   "execution_count": 39,
   "id": "e2c01ea0",
   "metadata": {},
   "outputs": [
    {
     "data": {
      "text/plain": [
       "[<selenium.webdriver.remote.webelement.WebElement (session=\"799fcff6368f8788b2c886409f06c404\", element=\"caa69e27-8cee-4418-aa06-be53ccc26165\")>,\n",
       " <selenium.webdriver.remote.webelement.WebElement (session=\"799fcff6368f8788b2c886409f06c404\", element=\"31bd9209-7d78-4e73-9723-efdbbd782d34\")>,\n",
       " <selenium.webdriver.remote.webelement.WebElement (session=\"799fcff6368f8788b2c886409f06c404\", element=\"ee98de9c-e4f4-4835-bda6-3343979808f7\")>,\n",
       " <selenium.webdriver.remote.webelement.WebElement (session=\"799fcff6368f8788b2c886409f06c404\", element=\"3acae0d5-c16c-430e-a545-ab0efec78a9c\")>,\n",
       " <selenium.webdriver.remote.webelement.WebElement (session=\"799fcff6368f8788b2c886409f06c404\", element=\"ba55854d-d159-4682-874c-2d47711947d9\")>,\n",
       " <selenium.webdriver.remote.webelement.WebElement (session=\"799fcff6368f8788b2c886409f06c404\", element=\"58b61e74-e82e-45f5-af3c-ffcf42f48ca3\")>,\n",
       " <selenium.webdriver.remote.webelement.WebElement (session=\"799fcff6368f8788b2c886409f06c404\", element=\"7ac4ce35-91dd-48c1-aa5d-4c7667fc6de4\")>,\n",
       " <selenium.webdriver.remote.webelement.WebElement (session=\"799fcff6368f8788b2c886409f06c404\", element=\"297752ff-dcf7-4953-9479-7da91f149f5b\")>,\n",
       " <selenium.webdriver.remote.webelement.WebElement (session=\"799fcff6368f8788b2c886409f06c404\", element=\"4ab3735a-d1ff-41c8-b10f-b85492540994\")>,\n",
       " <selenium.webdriver.remote.webelement.WebElement (session=\"799fcff6368f8788b2c886409f06c404\", element=\"cfc06758-1848-445c-8248-3da947a2c7ad\")>,\n",
       " <selenium.webdriver.remote.webelement.WebElement (session=\"799fcff6368f8788b2c886409f06c404\", element=\"69201442-415e-4388-b25a-b69eac1c2e57\")>,\n",
       " <selenium.webdriver.remote.webelement.WebElement (session=\"799fcff6368f8788b2c886409f06c404\", element=\"e366efce-7f72-41da-9841-c6cbaeafbf1e\")>,\n",
       " <selenium.webdriver.remote.webelement.WebElement (session=\"799fcff6368f8788b2c886409f06c404\", element=\"6ceb383c-1bb0-4899-a7c2-a4bab5f935c6\")>,\n",
       " <selenium.webdriver.remote.webelement.WebElement (session=\"799fcff6368f8788b2c886409f06c404\", element=\"f40098db-6c0c-438f-8b82-b1749dd0ca28\")>,\n",
       " <selenium.webdriver.remote.webelement.WebElement (session=\"799fcff6368f8788b2c886409f06c404\", element=\"bd07936f-5842-4479-9c9f-e0d2538b4352\")>,\n",
       " <selenium.webdriver.remote.webelement.WebElement (session=\"799fcff6368f8788b2c886409f06c404\", element=\"217e2cf7-9d48-4b10-9cc0-ec4f18fc709c\")>,\n",
       " <selenium.webdriver.remote.webelement.WebElement (session=\"799fcff6368f8788b2c886409f06c404\", element=\"f54f28c4-302e-4aba-b1a5-91b6c251a826\")>,\n",
       " <selenium.webdriver.remote.webelement.WebElement (session=\"799fcff6368f8788b2c886409f06c404\", element=\"c853f778-1a81-4606-add6-143dd57193a0\")>]"
      ]
     },
     "execution_count": 39,
     "metadata": {},
     "output_type": "execute_result"
    }
   ],
   "source": [
    "prc2=driver.find_elements_by_xpath('//span[@class=\"a-price-whole\"]')\n",
    "prc2"
   ]
  },
  {
   "cell_type": "code",
   "execution_count": 41,
   "id": "1e8f9989",
   "metadata": {},
   "outputs": [
    {
     "data": {
      "text/plain": [
       "['64,990',\n",
       " '39,990',\n",
       " '3,03,307',\n",
       " '2,68,980',\n",
       " '1,43,990',\n",
       " '1,48,990',\n",
       " '1,54,850',\n",
       " '2,32,000',\n",
       " '47,990',\n",
       " '59,990',\n",
       " '2,64,990',\n",
       " '1,38,000',\n",
       " '1,72,000',\n",
       " '2,99,990',\n",
       " '2,25,000',\n",
       " '2,93,000',\n",
       " '41,990',\n",
       " '1,32,540']"
      ]
     },
     "execution_count": 41,
     "metadata": {},
     "output_type": "execute_result"
    }
   ],
   "source": [
    "price2=[]\n",
    "for i in prc2:\n",
    "    price2.append(i.text)\n",
    "price2"
   ]
  },
  {
   "cell_type": "code",
   "execution_count": 42,
   "id": "5109063b",
   "metadata": {},
   "outputs": [],
   "source": [
    "core2=['Core i9']"
   ]
  },
  {
   "cell_type": "code",
   "execution_count": 44,
   "id": "f37b4032",
   "metadata": {},
   "outputs": [],
   "source": [
    "cores9=core2*10"
   ]
  },
  {
   "cell_type": "code",
   "execution_count": 47,
   "id": "cc00dd06",
   "metadata": {},
   "outputs": [
    {
     "data": {
      "text/html": [
       "<div>\n",
       "<style scoped>\n",
       "    .dataframe tbody tr th:only-of-type {\n",
       "        vertical-align: middle;\n",
       "    }\n",
       "\n",
       "    .dataframe tbody tr th {\n",
       "        vertical-align: top;\n",
       "    }\n",
       "\n",
       "    .dataframe thead th {\n",
       "        text-align: right;\n",
       "    }\n",
       "</style>\n",
       "<table border=\"1\" class=\"dataframe\">\n",
       "  <thead>\n",
       "    <tr style=\"text-align: right;\">\n",
       "      <th></th>\n",
       "      <th>Titles</th>\n",
       "      <th>Price</th>\n",
       "      <th>Rating</th>\n",
       "      <th>Core</th>\n",
       "    </tr>\n",
       "  </thead>\n",
       "  <tbody>\n",
       "    <tr>\n",
       "      <th>0</th>\n",
       "      <td>HP Pavilion 14,11th Gen Intel Core i5 16GB RAM...</td>\n",
       "      <td>64,990</td>\n",
       "      <td></td>\n",
       "      <td>Core i9</td>\n",
       "    </tr>\n",
       "    <tr>\n",
       "      <th>1</th>\n",
       "      <td>HP 14s 11th Gen Intel Core i3- 8GB RAM/256GB S...</td>\n",
       "      <td>39,990</td>\n",
       "      <td></td>\n",
       "      <td>Core i9</td>\n",
       "    </tr>\n",
       "    <tr>\n",
       "      <th>2</th>\n",
       "      <td>ASUS ROG Strix SCAR 15 (2022), 15.6-inch (39.6...</td>\n",
       "      <td>3,03,307</td>\n",
       "      <td></td>\n",
       "      <td>Core i9</td>\n",
       "    </tr>\n",
       "    <tr>\n",
       "      <th>3</th>\n",
       "      <td>ASUS ROG Strix Scar 17 (2022), 17.3-inch (43.9...</td>\n",
       "      <td>2,68,980</td>\n",
       "      <td></td>\n",
       "      <td>Core i9</td>\n",
       "    </tr>\n",
       "    <tr>\n",
       "      <th>4</th>\n",
       "      <td>ASUS TUF Gaming F15 (2021), 15.6-inch (39.62 c...</td>\n",
       "      <td>1,43,990</td>\n",
       "      <td></td>\n",
       "      <td>Core i9</td>\n",
       "    </tr>\n",
       "    <tr>\n",
       "      <th>5</th>\n",
       "      <td>ASUS TUF Gaming F15 (2021), 15.6-inch (39.62 c...</td>\n",
       "      <td>1,48,990</td>\n",
       "      <td></td>\n",
       "      <td>Core i9</td>\n",
       "    </tr>\n",
       "    <tr>\n",
       "      <th>6</th>\n",
       "      <td>ASUS TUF Gaming F15 (2021), 15.6\" (39.62 cms) ...</td>\n",
       "      <td>1,54,850</td>\n",
       "      <td></td>\n",
       "      <td>Core i9</td>\n",
       "    </tr>\n",
       "    <tr>\n",
       "      <th>7</th>\n",
       "      <td>HP ZBOOK Power G8/ Intel core i9-11900H 8 Core...</td>\n",
       "      <td>2,32,000</td>\n",
       "      <td></td>\n",
       "      <td>Core i9</td>\n",
       "    </tr>\n",
       "    <tr>\n",
       "      <th>8</th>\n",
       "      <td>MSI Modern 14, Intel i5-10210U, 14\" FHD IPS-Le...</td>\n",
       "      <td>47,990</td>\n",
       "      <td></td>\n",
       "      <td>Core i9</td>\n",
       "    </tr>\n",
       "    <tr>\n",
       "      <th>9</th>\n",
       "      <td>MSI GF75 Thin, Intel i5-10300H, 17.3\" FHD IPS-...</td>\n",
       "      <td>59,990</td>\n",
       "      <td></td>\n",
       "      <td>Core i9</td>\n",
       "    </tr>\n",
       "  </tbody>\n",
       "</table>\n",
       "</div>"
      ],
      "text/plain": [
       "                                              Titles     Price Rating     Core\n",
       "0  HP Pavilion 14,11th Gen Intel Core i5 16GB RAM...    64,990         Core i9\n",
       "1  HP 14s 11th Gen Intel Core i3- 8GB RAM/256GB S...    39,990         Core i9\n",
       "2  ASUS ROG Strix SCAR 15 (2022), 15.6-inch (39.6...  3,03,307         Core i9\n",
       "3  ASUS ROG Strix Scar 17 (2022), 17.3-inch (43.9...  2,68,980         Core i9\n",
       "4  ASUS TUF Gaming F15 (2021), 15.6-inch (39.62 c...  1,43,990         Core i9\n",
       "5  ASUS TUF Gaming F15 (2021), 15.6-inch (39.62 c...  1,48,990         Core i9\n",
       "6  ASUS TUF Gaming F15 (2021), 15.6\" (39.62 cms) ...  1,54,850         Core i9\n",
       "7  HP ZBOOK Power G8/ Intel core i9-11900H 8 Core...  2,32,000         Core i9\n",
       "8  MSI Modern 14, Intel i5-10210U, 14\" FHD IPS-Le...    47,990         Core i9\n",
       "9  MSI GF75 Thin, Intel i5-10300H, 17.3\" FHD IPS-...    59,990         Core i9"
      ]
     },
     "execution_count": 47,
     "metadata": {},
     "output_type": "execute_result"
    }
   ],
   "source": [
    "corei9=pd.DataFrame({'Titles':titles2[0:10],'Price':price2[0:10],'Rating':rating2[0:10],'Core':cores9})\n",
    "corei9"
   ]
  },
  {
   "cell_type": "code",
   "execution_count": 50,
   "id": "de9f089e",
   "metadata": {},
   "outputs": [
    {
     "data": {
      "text/html": [
       "<div>\n",
       "<style scoped>\n",
       "    .dataframe tbody tr th:only-of-type {\n",
       "        vertical-align: middle;\n",
       "    }\n",
       "\n",
       "    .dataframe tbody tr th {\n",
       "        vertical-align: top;\n",
       "    }\n",
       "\n",
       "    .dataframe thead th {\n",
       "        text-align: right;\n",
       "    }\n",
       "</style>\n",
       "<table border=\"1\" class=\"dataframe\">\n",
       "  <thead>\n",
       "    <tr style=\"text-align: right;\">\n",
       "      <th></th>\n",
       "      <th>Titles</th>\n",
       "      <th>Price</th>\n",
       "      <th>Rating</th>\n",
       "      <th>Core</th>\n",
       "    </tr>\n",
       "  </thead>\n",
       "  <tbody>\n",
       "    <tr>\n",
       "      <th>0</th>\n",
       "      <td>Fujitsu UH-X 11th Gen Intel Core i7 13.3” FHD ...</td>\n",
       "      <td>83,990</td>\n",
       "      <td></td>\n",
       "      <td>core i7</td>\n",
       "    </tr>\n",
       "    <tr>\n",
       "      <th>1</th>\n",
       "      <td>Dell G15 5511 Intel i7-11800H Gaming Laptop,16...</td>\n",
       "      <td>1,25,510</td>\n",
       "      <td></td>\n",
       "      <td>core i7</td>\n",
       "    </tr>\n",
       "    <tr>\n",
       "      <th>2</th>\n",
       "      <td>ASUS VivoBook 14 (2021), 14-inch (35.56 cms) F...</td>\n",
       "      <td>57,490</td>\n",
       "      <td></td>\n",
       "      <td>core i7</td>\n",
       "    </tr>\n",
       "    <tr>\n",
       "      <th>3</th>\n",
       "      <td>ASUS TUF Gaming F15 (2021), 15.6\" (39.62 cms) ...</td>\n",
       "      <td>89,990</td>\n",
       "      <td></td>\n",
       "      <td>core i7</td>\n",
       "    </tr>\n",
       "    <tr>\n",
       "      <th>4</th>\n",
       "      <td>Mi Notebook Ultra 3.2K Resolution Display Inte...</td>\n",
       "      <td>77,499</td>\n",
       "      <td></td>\n",
       "      <td>core i7</td>\n",
       "    </tr>\n",
       "    <tr>\n",
       "      <th>5</th>\n",
       "      <td>ASUS VivoBook K15 OLED (2021), 15.6-inch (39.6...</td>\n",
       "      <td>82,990</td>\n",
       "      <td></td>\n",
       "      <td>core i7</td>\n",
       "    </tr>\n",
       "    <tr>\n",
       "      <th>6</th>\n",
       "      <td>LG Gram Intel Evo 11th Gen Core i7 17 inches U...</td>\n",
       "      <td>96,999</td>\n",
       "      <td></td>\n",
       "      <td>core i7</td>\n",
       "    </tr>\n",
       "    <tr>\n",
       "      <th>7</th>\n",
       "      <td>HP Pavilion 11th Gen Intel Core i7 15.6 inches...</td>\n",
       "      <td>87,990</td>\n",
       "      <td></td>\n",
       "      <td>core i7</td>\n",
       "    </tr>\n",
       "    <tr>\n",
       "      <th>8</th>\n",
       "      <td>LG Gram 16 inches Intel Evo 11th Gen Core i7 U...</td>\n",
       "      <td>89,999</td>\n",
       "      <td></td>\n",
       "      <td>core i7</td>\n",
       "    </tr>\n",
       "    <tr>\n",
       "      <th>9</th>\n",
       "      <td>Microsoft Surface Studio 14.4 inches Touchscre...</td>\n",
       "      <td>3,73,999</td>\n",
       "      <td></td>\n",
       "      <td>core i7</td>\n",
       "    </tr>\n",
       "    <tr>\n",
       "      <th>10</th>\n",
       "      <td>HP Pavilion 14,11th Gen Intel Core i5 16GB RAM...</td>\n",
       "      <td>64,990</td>\n",
       "      <td></td>\n",
       "      <td>Core i9</td>\n",
       "    </tr>\n",
       "    <tr>\n",
       "      <th>11</th>\n",
       "      <td>HP 14s 11th Gen Intel Core i3- 8GB RAM/256GB S...</td>\n",
       "      <td>39,990</td>\n",
       "      <td></td>\n",
       "      <td>Core i9</td>\n",
       "    </tr>\n",
       "    <tr>\n",
       "      <th>12</th>\n",
       "      <td>ASUS ROG Strix SCAR 15 (2022), 15.6-inch (39.6...</td>\n",
       "      <td>3,03,307</td>\n",
       "      <td></td>\n",
       "      <td>Core i9</td>\n",
       "    </tr>\n",
       "    <tr>\n",
       "      <th>13</th>\n",
       "      <td>ASUS ROG Strix Scar 17 (2022), 17.3-inch (43.9...</td>\n",
       "      <td>2,68,980</td>\n",
       "      <td></td>\n",
       "      <td>Core i9</td>\n",
       "    </tr>\n",
       "    <tr>\n",
       "      <th>14</th>\n",
       "      <td>ASUS TUF Gaming F15 (2021), 15.6-inch (39.62 c...</td>\n",
       "      <td>1,43,990</td>\n",
       "      <td></td>\n",
       "      <td>Core i9</td>\n",
       "    </tr>\n",
       "    <tr>\n",
       "      <th>15</th>\n",
       "      <td>ASUS TUF Gaming F15 (2021), 15.6-inch (39.62 c...</td>\n",
       "      <td>1,48,990</td>\n",
       "      <td></td>\n",
       "      <td>Core i9</td>\n",
       "    </tr>\n",
       "    <tr>\n",
       "      <th>16</th>\n",
       "      <td>ASUS TUF Gaming F15 (2021), 15.6\" (39.62 cms) ...</td>\n",
       "      <td>1,54,850</td>\n",
       "      <td></td>\n",
       "      <td>Core i9</td>\n",
       "    </tr>\n",
       "    <tr>\n",
       "      <th>17</th>\n",
       "      <td>HP ZBOOK Power G8/ Intel core i9-11900H 8 Core...</td>\n",
       "      <td>2,32,000</td>\n",
       "      <td></td>\n",
       "      <td>Core i9</td>\n",
       "    </tr>\n",
       "    <tr>\n",
       "      <th>18</th>\n",
       "      <td>MSI Modern 14, Intel i5-10210U, 14\" FHD IPS-Le...</td>\n",
       "      <td>47,990</td>\n",
       "      <td></td>\n",
       "      <td>Core i9</td>\n",
       "    </tr>\n",
       "    <tr>\n",
       "      <th>19</th>\n",
       "      <td>MSI GF75 Thin, Intel i5-10300H, 17.3\" FHD IPS-...</td>\n",
       "      <td>59,990</td>\n",
       "      <td></td>\n",
       "      <td>Core i9</td>\n",
       "    </tr>\n",
       "  </tbody>\n",
       "</table>\n",
       "</div>"
      ],
      "text/plain": [
       "                                               Titles     Price Rating  \\\n",
       "0   Fujitsu UH-X 11th Gen Intel Core i7 13.3” FHD ...    83,990          \n",
       "1   Dell G15 5511 Intel i7-11800H Gaming Laptop,16...  1,25,510          \n",
       "2   ASUS VivoBook 14 (2021), 14-inch (35.56 cms) F...    57,490          \n",
       "3   ASUS TUF Gaming F15 (2021), 15.6\" (39.62 cms) ...    89,990          \n",
       "4   Mi Notebook Ultra 3.2K Resolution Display Inte...    77,499          \n",
       "5   ASUS VivoBook K15 OLED (2021), 15.6-inch (39.6...    82,990          \n",
       "6   LG Gram Intel Evo 11th Gen Core i7 17 inches U...    96,999          \n",
       "7   HP Pavilion 11th Gen Intel Core i7 15.6 inches...    87,990          \n",
       "8   LG Gram 16 inches Intel Evo 11th Gen Core i7 U...    89,999          \n",
       "9   Microsoft Surface Studio 14.4 inches Touchscre...  3,73,999          \n",
       "10  HP Pavilion 14,11th Gen Intel Core i5 16GB RAM...    64,990          \n",
       "11  HP 14s 11th Gen Intel Core i3- 8GB RAM/256GB S...    39,990          \n",
       "12  ASUS ROG Strix SCAR 15 (2022), 15.6-inch (39.6...  3,03,307          \n",
       "13  ASUS ROG Strix Scar 17 (2022), 17.3-inch (43.9...  2,68,980          \n",
       "14  ASUS TUF Gaming F15 (2021), 15.6-inch (39.62 c...  1,43,990          \n",
       "15  ASUS TUF Gaming F15 (2021), 15.6-inch (39.62 c...  1,48,990          \n",
       "16  ASUS TUF Gaming F15 (2021), 15.6\" (39.62 cms) ...  1,54,850          \n",
       "17  HP ZBOOK Power G8/ Intel core i9-11900H 8 Core...  2,32,000          \n",
       "18  MSI Modern 14, Intel i5-10210U, 14\" FHD IPS-Le...    47,990          \n",
       "19  MSI GF75 Thin, Intel i5-10300H, 17.3\" FHD IPS-...    59,990          \n",
       "\n",
       "       Core  \n",
       "0   core i7  \n",
       "1   core i7  \n",
       "2   core i7  \n",
       "3   core i7  \n",
       "4   core i7  \n",
       "5   core i7  \n",
       "6   core i7  \n",
       "7   core i7  \n",
       "8   core i7  \n",
       "9   core i7  \n",
       "10  Core i9  \n",
       "11  Core i9  \n",
       "12  Core i9  \n",
       "13  Core i9  \n",
       "14  Core i9  \n",
       "15  Core i9  \n",
       "16  Core i9  \n",
       "17  Core i9  \n",
       "18  Core i9  \n",
       "19  Core i9  "
      ]
     },
     "execution_count": 50,
     "metadata": {},
     "output_type": "execute_result"
    }
   ],
   "source": [
    "corei7.append(corei9,ignore_index=True)"
   ]
  },
  {
   "cell_type": "code",
   "execution_count": null,
   "id": "26645d92",
   "metadata": {},
   "outputs": [],
   "source": []
  }
 ],
 "metadata": {
  "kernelspec": {
   "display_name": "Python 3",
   "language": "python",
   "name": "python3"
  },
  "language_info": {
   "codemirror_mode": {
    "name": "ipython",
    "version": 3
   },
   "file_extension": ".py",
   "mimetype": "text/x-python",
   "name": "python",
   "nbconvert_exporter": "python",
   "pygments_lexer": "ipython3",
   "version": "3.8.8"
  }
 },
 "nbformat": 4,
 "nbformat_minor": 5
}
