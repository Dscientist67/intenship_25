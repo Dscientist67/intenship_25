{
 "cells": [
  {
   "cell_type": "code",
   "execution_count": 1,
   "id": "f4b1fc52",
   "metadata": {},
   "outputs": [],
   "source": [
    "import pandas as pd\n",
    "import selenium \n",
    "from selenium import webdriver\n",
    "import warnings\n",
    "warnings.filterwarnings('ignore')\n",
    "driver=webdriver.Chrome(r\"C:/Users/Darshan/Downloads/chromedriver_win32/chromedriver.exe\")"
   ]
  },
  {
   "cell_type": "code",
   "execution_count": 2,
   "id": "f7bed3a5",
   "metadata": {},
   "outputs": [],
   "source": [
    "url=' https://www.flipkart.com/'\n",
    "driver.get(url)"
   ]
  },
  {
   "cell_type": "code",
   "execution_count": 3,
   "id": "15f60b9d",
   "metadata": {},
   "outputs": [
    {
     "data": {
      "text/plain": [
       "<selenium.webdriver.remote.webelement.WebElement (session=\"23dda1cddc097b128c4d8f2bd8539765\", element=\"938bc359-b945-4e9f-8027-df3ee3b522e8\")>"
      ]
     },
     "execution_count": 3,
     "metadata": {},
     "output_type": "execute_result"
    }
   ],
   "source": [
    "srch=driver.find_element_by_xpath('/html/body/div[1]/div/div[1]/div[1]/div[2]/div[2]/form/div/div/input')\n",
    "srch"
   ]
  },
  {
   "cell_type": "code",
   "execution_count": 4,
   "id": "d7b9c960",
   "metadata": {},
   "outputs": [],
   "source": [
    "srch.send_keys('sneakers')"
   ]
  },
  {
   "cell_type": "code",
   "execution_count": 6,
   "id": "46a3b2de",
   "metadata": {},
   "outputs": [],
   "source": [
    "bt1=driver.find_element_by_xpath('/html/body/div[1]/div/div[1]/div[1]/div[2]/div[2]/form/div/button')\n",
    "bt1.click()"
   ]
  },
  {
   "cell_type": "code",
   "execution_count": 8,
   "id": "a50e7374",
   "metadata": {},
   "outputs": [
    {
     "data": {
      "text/plain": [
       "[<selenium.webdriver.remote.webelement.WebElement (session=\"23dda1cddc097b128c4d8f2bd8539765\", element=\"aacc9f86-ccfa-441e-bc43-36c3ca63e45c\")>,\n",
       " <selenium.webdriver.remote.webelement.WebElement (session=\"23dda1cddc097b128c4d8f2bd8539765\", element=\"ded57357-ab2d-44b3-b355-d3f285a81745\")>,\n",
       " <selenium.webdriver.remote.webelement.WebElement (session=\"23dda1cddc097b128c4d8f2bd8539765\", element=\"7cc169bf-32b8-4844-8ac8-2e4b6f5b4593\")>,\n",
       " <selenium.webdriver.remote.webelement.WebElement (session=\"23dda1cddc097b128c4d8f2bd8539765\", element=\"f46f4723-345d-4729-8a4d-0b2c7a020563\")>,\n",
       " <selenium.webdriver.remote.webelement.WebElement (session=\"23dda1cddc097b128c4d8f2bd8539765\", element=\"94dd1496-2641-4bd4-9524-137e60bc2f19\")>,\n",
       " <selenium.webdriver.remote.webelement.WebElement (session=\"23dda1cddc097b128c4d8f2bd8539765\", element=\"00a333c1-8fda-4e37-9a6d-64e9e53a114a\")>,\n",
       " <selenium.webdriver.remote.webelement.WebElement (session=\"23dda1cddc097b128c4d8f2bd8539765\", element=\"1b012193-bbcc-448c-beee-942f70deb80e\")>,\n",
       " <selenium.webdriver.remote.webelement.WebElement (session=\"23dda1cddc097b128c4d8f2bd8539765\", element=\"c76166a6-ae60-4443-9b98-0fc6a22697ad\")>,\n",
       " <selenium.webdriver.remote.webelement.WebElement (session=\"23dda1cddc097b128c4d8f2bd8539765\", element=\"f98d4154-4c4e-4b11-a60c-1b112032ef33\")>,\n",
       " <selenium.webdriver.remote.webelement.WebElement (session=\"23dda1cddc097b128c4d8f2bd8539765\", element=\"be3a5ae1-af5c-45a5-bac4-303d7e76fcd9\")>,\n",
       " <selenium.webdriver.remote.webelement.WebElement (session=\"23dda1cddc097b128c4d8f2bd8539765\", element=\"1e3bbdb6-c244-4149-8791-16499ff7f6e5\")>,\n",
       " <selenium.webdriver.remote.webelement.WebElement (session=\"23dda1cddc097b128c4d8f2bd8539765\", element=\"7bd75e72-3a9c-4b30-93f3-bd03b67a9e5d\")>,\n",
       " <selenium.webdriver.remote.webelement.WebElement (session=\"23dda1cddc097b128c4d8f2bd8539765\", element=\"81b8bf37-d313-498b-b695-21926c53109d\")>,\n",
       " <selenium.webdriver.remote.webelement.WebElement (session=\"23dda1cddc097b128c4d8f2bd8539765\", element=\"acd48f1c-fedc-451a-a42d-5df00089dfbc\")>,\n",
       " <selenium.webdriver.remote.webelement.WebElement (session=\"23dda1cddc097b128c4d8f2bd8539765\", element=\"cf638d4d-0906-4c79-8c60-43441345a524\")>,\n",
       " <selenium.webdriver.remote.webelement.WebElement (session=\"23dda1cddc097b128c4d8f2bd8539765\", element=\"4aeb3184-9042-4898-b06a-397dd548a525\")>,\n",
       " <selenium.webdriver.remote.webelement.WebElement (session=\"23dda1cddc097b128c4d8f2bd8539765\", element=\"a5e5d53e-5f9b-47e6-af86-1d89cc22bede\")>,\n",
       " <selenium.webdriver.remote.webelement.WebElement (session=\"23dda1cddc097b128c4d8f2bd8539765\", element=\"e50d12ad-ee35-4ab9-9413-d766b095d1bd\")>,\n",
       " <selenium.webdriver.remote.webelement.WebElement (session=\"23dda1cddc097b128c4d8f2bd8539765\", element=\"1f169020-cdbe-4198-9dce-9b6f86601a02\")>,\n",
       " <selenium.webdriver.remote.webelement.WebElement (session=\"23dda1cddc097b128c4d8f2bd8539765\", element=\"e1a4bbc6-7854-4abd-9074-92eea4778bc4\")>,\n",
       " <selenium.webdriver.remote.webelement.WebElement (session=\"23dda1cddc097b128c4d8f2bd8539765\", element=\"352fad45-eb6a-4276-96e0-cc8cf5326987\")>,\n",
       " <selenium.webdriver.remote.webelement.WebElement (session=\"23dda1cddc097b128c4d8f2bd8539765\", element=\"e6200fba-89a7-42de-a3c8-338349b73565\")>,\n",
       " <selenium.webdriver.remote.webelement.WebElement (session=\"23dda1cddc097b128c4d8f2bd8539765\", element=\"83110f10-500e-4b03-9821-11a1fffca6b2\")>,\n",
       " <selenium.webdriver.remote.webelement.WebElement (session=\"23dda1cddc097b128c4d8f2bd8539765\", element=\"3f00a451-09ce-4e68-baaa-35fb76a708bb\")>,\n",
       " <selenium.webdriver.remote.webelement.WebElement (session=\"23dda1cddc097b128c4d8f2bd8539765\", element=\"1da2dee3-4989-4a1f-a7ee-cc006ecbfda3\")>,\n",
       " <selenium.webdriver.remote.webelement.WebElement (session=\"23dda1cddc097b128c4d8f2bd8539765\", element=\"56516657-5f50-4722-b967-51ccc5cb654b\")>,\n",
       " <selenium.webdriver.remote.webelement.WebElement (session=\"23dda1cddc097b128c4d8f2bd8539765\", element=\"c2b00804-7bab-4c9b-9f1d-0774f9b0610c\")>,\n",
       " <selenium.webdriver.remote.webelement.WebElement (session=\"23dda1cddc097b128c4d8f2bd8539765\", element=\"e8677213-a478-4489-8050-f48bef4adaad\")>,\n",
       " <selenium.webdriver.remote.webelement.WebElement (session=\"23dda1cddc097b128c4d8f2bd8539765\", element=\"12d198e8-056d-4e88-8cec-55c9b65c8980\")>,\n",
       " <selenium.webdriver.remote.webelement.WebElement (session=\"23dda1cddc097b128c4d8f2bd8539765\", element=\"80e41e36-32c1-4973-8617-8a3d0cb54b3f\")>,\n",
       " <selenium.webdriver.remote.webelement.WebElement (session=\"23dda1cddc097b128c4d8f2bd8539765\", element=\"9a383c7c-d5f3-4059-bfbc-2a64f8c9c2e0\")>,\n",
       " <selenium.webdriver.remote.webelement.WebElement (session=\"23dda1cddc097b128c4d8f2bd8539765\", element=\"c2dc0ce1-7f76-408e-82cd-73b383482828\")>,\n",
       " <selenium.webdriver.remote.webelement.WebElement (session=\"23dda1cddc097b128c4d8f2bd8539765\", element=\"6ccca566-74f2-411a-8861-b9e8c0bf9dba\")>,\n",
       " <selenium.webdriver.remote.webelement.WebElement (session=\"23dda1cddc097b128c4d8f2bd8539765\", element=\"1d59f864-4b93-4c9a-9758-5018bb81bed6\")>,\n",
       " <selenium.webdriver.remote.webelement.WebElement (session=\"23dda1cddc097b128c4d8f2bd8539765\", element=\"f04ba453-ec72-4109-ac1c-6f12612fd254\")>,\n",
       " <selenium.webdriver.remote.webelement.WebElement (session=\"23dda1cddc097b128c4d8f2bd8539765\", element=\"76595df5-6955-4194-b581-076508d3d099\")>,\n",
       " <selenium.webdriver.remote.webelement.WebElement (session=\"23dda1cddc097b128c4d8f2bd8539765\", element=\"9705fe39-77e4-4ca4-830b-8bdb6c403643\")>,\n",
       " <selenium.webdriver.remote.webelement.WebElement (session=\"23dda1cddc097b128c4d8f2bd8539765\", element=\"9b9817c7-7197-475a-8bea-3ad656d03717\")>,\n",
       " <selenium.webdriver.remote.webelement.WebElement (session=\"23dda1cddc097b128c4d8f2bd8539765\", element=\"216425db-c946-45b7-a949-9fef61c278fa\")>,\n",
       " <selenium.webdriver.remote.webelement.WebElement (session=\"23dda1cddc097b128c4d8f2bd8539765\", element=\"7f62d7e8-eaeb-410a-ae12-e12776c123cf\")>]"
      ]
     },
     "execution_count": 8,
     "metadata": {},
     "output_type": "execute_result"
    }
   ],
   "source": [
    "br1=driver.find_elements_by_xpath('//div[@class=\"_2WkVRV\"]')\n",
    "br1"
   ]
  },
  {
   "cell_type": "code",
   "execution_count": 9,
   "id": "90a68f35",
   "metadata": {},
   "outputs": [
    {
     "data": {
      "text/plain": [
       "40"
      ]
     },
     "execution_count": 9,
     "metadata": {},
     "output_type": "execute_result"
    }
   ],
   "source": [
    "\n",
    "len(br1)"
   ]
  },
  {
   "cell_type": "code",
   "execution_count": 10,
   "id": "914f6e30",
   "metadata": {},
   "outputs": [
    {
     "data": {
      "text/plain": [
       "['Numenzo',\n",
       " 'RapidBox',\n",
       " 'Chevit',\n",
       " 'Magnolia',\n",
       " 'corsac',\n",
       " 'World Wear Footwear',\n",
       " 'BRUTON',\n",
       " 'HRX by Hrithik Roshan',\n",
       " 'luxury fashion',\n",
       " 'KWIK FIT',\n",
       " 'Kraasa',\n",
       " 'Navtrend',\n",
       " 'D-SNEAKERZ',\n",
       " 'URBANBOX',\n",
       " 'Shoes Bank',\n",
       " 'RapidBox',\n",
       " 'Magnolia',\n",
       " 'aadi',\n",
       " 'BRUTON',\n",
       " 'BIRDE',\n",
       " 'DUNKASTON',\n",
       " 'World Wear Footwear',\n",
       " 'CAMPUS',\n",
       " 'Varito',\n",
       " 'CLYMB',\n",
       " 'Elevarse',\n",
       " 'BRUTON',\n",
       " 'RapidBox',\n",
       " 'SCATCHITE',\n",
       " 'BRUTON',\n",
       " 'Kraasa',\n",
       " 'RapidBox',\n",
       " 'RapidBox',\n",
       " 'Kzaara',\n",
       " 'luxury fashion',\n",
       " 'HRX by Hrithik Roshan',\n",
       " 'Labbin',\n",
       " 'Rzisbo',\n",
       " 'India hub',\n",
       " 'CALCADOS']"
      ]
     },
     "execution_count": 10,
     "metadata": {},
     "output_type": "execute_result"
    }
   ],
   "source": [
    "brand=[]\n",
    "for i in br1:\n",
    "    brand.append(i.text)\n",
    "brand"
   ]
  },
  {
   "cell_type": "code",
   "execution_count": 11,
   "id": "4d5bace8",
   "metadata": {},
   "outputs": [
    {
     "data": {
      "text/plain": [
       "40"
      ]
     },
     "execution_count": 11,
     "metadata": {},
     "output_type": "execute_result"
    }
   ],
   "source": [
    "len(brand)"
   ]
  },
  {
   "cell_type": "code",
   "execution_count": 12,
   "id": "2bb0eae5",
   "metadata": {},
   "outputs": [
    {
     "data": {
      "text/plain": [
       "[<selenium.webdriver.remote.webelement.WebElement (session=\"23dda1cddc097b128c4d8f2bd8539765\", element=\"5403d46d-9b98-45c1-8aac-a4631643dd9c\")>,\n",
       " <selenium.webdriver.remote.webelement.WebElement (session=\"23dda1cddc097b128c4d8f2bd8539765\", element=\"e8b0b9c6-421d-4b6f-b6be-9d5dc895e480\")>,\n",
       " <selenium.webdriver.remote.webelement.WebElement (session=\"23dda1cddc097b128c4d8f2bd8539765\", element=\"60513d09-540c-480a-8429-91f082b28a33\")>,\n",
       " <selenium.webdriver.remote.webelement.WebElement (session=\"23dda1cddc097b128c4d8f2bd8539765\", element=\"243cfe63-e30f-44bf-abe7-b1c83354ca2a\")>,\n",
       " <selenium.webdriver.remote.webelement.WebElement (session=\"23dda1cddc097b128c4d8f2bd8539765\", element=\"56a5556e-bfa0-450e-9c7b-5f72406c215e\")>,\n",
       " <selenium.webdriver.remote.webelement.WebElement (session=\"23dda1cddc097b128c4d8f2bd8539765\", element=\"f2fe0bd6-ec14-4cd6-aea7-157532344100\")>,\n",
       " <selenium.webdriver.remote.webelement.WebElement (session=\"23dda1cddc097b128c4d8f2bd8539765\", element=\"4fefb7f9-5c75-498e-a8c8-c4304c9be471\")>,\n",
       " <selenium.webdriver.remote.webelement.WebElement (session=\"23dda1cddc097b128c4d8f2bd8539765\", element=\"a8c777c2-683c-4a80-89ad-625bbbd193f3\")>,\n",
       " <selenium.webdriver.remote.webelement.WebElement (session=\"23dda1cddc097b128c4d8f2bd8539765\", element=\"86485f3d-6df1-4680-be4a-510d7478bdd2\")>,\n",
       " <selenium.webdriver.remote.webelement.WebElement (session=\"23dda1cddc097b128c4d8f2bd8539765\", element=\"eff579c3-493a-425d-a68d-64e6c6c245da\")>,\n",
       " <selenium.webdriver.remote.webelement.WebElement (session=\"23dda1cddc097b128c4d8f2bd8539765\", element=\"7f9e41e9-c55c-4ab6-a2dc-409d4efe4c08\")>,\n",
       " <selenium.webdriver.remote.webelement.WebElement (session=\"23dda1cddc097b128c4d8f2bd8539765\", element=\"16cee235-b96b-443d-a33d-b43cafbfa145\")>,\n",
       " <selenium.webdriver.remote.webelement.WebElement (session=\"23dda1cddc097b128c4d8f2bd8539765\", element=\"8f6735c2-2c48-4dbf-b480-a46ec9785b93\")>,\n",
       " <selenium.webdriver.remote.webelement.WebElement (session=\"23dda1cddc097b128c4d8f2bd8539765\", element=\"73ccec9c-b225-4f69-a869-587650c1518e\")>,\n",
       " <selenium.webdriver.remote.webelement.WebElement (session=\"23dda1cddc097b128c4d8f2bd8539765\", element=\"ef1bac79-b689-4f8b-b222-14b9c3685f04\")>,\n",
       " <selenium.webdriver.remote.webelement.WebElement (session=\"23dda1cddc097b128c4d8f2bd8539765\", element=\"31d7cb6d-cd2d-4612-8878-f6eef42d5dd8\")>,\n",
       " <selenium.webdriver.remote.webelement.WebElement (session=\"23dda1cddc097b128c4d8f2bd8539765\", element=\"e3afd27a-d286-448f-9642-f0db76654cd7\")>,\n",
       " <selenium.webdriver.remote.webelement.WebElement (session=\"23dda1cddc097b128c4d8f2bd8539765\", element=\"0f744142-4d53-48d5-b5b9-604ec58265fb\")>,\n",
       " <selenium.webdriver.remote.webelement.WebElement (session=\"23dda1cddc097b128c4d8f2bd8539765\", element=\"ba1566b0-f612-44f2-ab94-f6d2d35a0cea\")>,\n",
       " <selenium.webdriver.remote.webelement.WebElement (session=\"23dda1cddc097b128c4d8f2bd8539765\", element=\"ca8458c1-00cc-4af1-b99e-91dcc357ab32\")>,\n",
       " <selenium.webdriver.remote.webelement.WebElement (session=\"23dda1cddc097b128c4d8f2bd8539765\", element=\"6a29cadb-d900-4c05-ae38-49b90a174752\")>,\n",
       " <selenium.webdriver.remote.webelement.WebElement (session=\"23dda1cddc097b128c4d8f2bd8539765\", element=\"0baca628-d7a1-4a9e-8643-31de09364b5f\")>,\n",
       " <selenium.webdriver.remote.webelement.WebElement (session=\"23dda1cddc097b128c4d8f2bd8539765\", element=\"f19012f5-23da-46a3-9e19-2d7f55ef4301\")>,\n",
       " <selenium.webdriver.remote.webelement.WebElement (session=\"23dda1cddc097b128c4d8f2bd8539765\", element=\"e5740a58-779e-44f1-9dad-88fc5a034025\")>,\n",
       " <selenium.webdriver.remote.webelement.WebElement (session=\"23dda1cddc097b128c4d8f2bd8539765\", element=\"bfd6050f-289c-4d67-8791-19d519576958\")>,\n",
       " <selenium.webdriver.remote.webelement.WebElement (session=\"23dda1cddc097b128c4d8f2bd8539765\", element=\"23288d02-3b4e-45c0-a313-d506c1cdad08\")>,\n",
       " <selenium.webdriver.remote.webelement.WebElement (session=\"23dda1cddc097b128c4d8f2bd8539765\", element=\"e59841e2-5426-43a0-aa64-96d92180ee0b\")>,\n",
       " <selenium.webdriver.remote.webelement.WebElement (session=\"23dda1cddc097b128c4d8f2bd8539765\", element=\"b1b58c1b-2ae7-4a44-89a6-b870c671a9e8\")>,\n",
       " <selenium.webdriver.remote.webelement.WebElement (session=\"23dda1cddc097b128c4d8f2bd8539765\", element=\"37f52540-4b07-4b39-9613-856ce32cebbf\")>,\n",
       " <selenium.webdriver.remote.webelement.WebElement (session=\"23dda1cddc097b128c4d8f2bd8539765\", element=\"b9a9a521-697a-40c5-a2f1-216b36d9b38c\")>,\n",
       " <selenium.webdriver.remote.webelement.WebElement (session=\"23dda1cddc097b128c4d8f2bd8539765\", element=\"1ba09186-8c20-4f75-99bc-990abbcb6736\")>,\n",
       " <selenium.webdriver.remote.webelement.WebElement (session=\"23dda1cddc097b128c4d8f2bd8539765\", element=\"9aaf5a95-5cfc-465e-87db-28f0a04aa692\")>,\n",
       " <selenium.webdriver.remote.webelement.WebElement (session=\"23dda1cddc097b128c4d8f2bd8539765\", element=\"f079ba86-1f20-46a1-b124-338c78b78b9d\")>,\n",
       " <selenium.webdriver.remote.webelement.WebElement (session=\"23dda1cddc097b128c4d8f2bd8539765\", element=\"b3184732-8115-4d3c-b4f6-1c5e6fce0fbb\")>,\n",
       " <selenium.webdriver.remote.webelement.WebElement (session=\"23dda1cddc097b128c4d8f2bd8539765\", element=\"47202317-ac13-4bde-b0b6-70f484829c8e\")>,\n",
       " <selenium.webdriver.remote.webelement.WebElement (session=\"23dda1cddc097b128c4d8f2bd8539765\", element=\"9fa86dae-25be-4f62-9eb5-79a4f66408cf\")>,\n",
       " <selenium.webdriver.remote.webelement.WebElement (session=\"23dda1cddc097b128c4d8f2bd8539765\", element=\"cdb4f6ab-c449-438e-bbac-70a9cd26238a\")>,\n",
       " <selenium.webdriver.remote.webelement.WebElement (session=\"23dda1cddc097b128c4d8f2bd8539765\", element=\"4bab7c29-078a-45f2-bb7a-107436b9380c\")>,\n",
       " <selenium.webdriver.remote.webelement.WebElement (session=\"23dda1cddc097b128c4d8f2bd8539765\", element=\"8e72ba6f-dc93-454b-a562-748bca137a57\")>,\n",
       " <selenium.webdriver.remote.webelement.WebElement (session=\"23dda1cddc097b128c4d8f2bd8539765\", element=\"24572887-4039-4af2-8383-bebd4cef9591\")>]"
      ]
     },
     "execution_count": 12,
     "metadata": {},
     "output_type": "execute_result"
    }
   ],
   "source": [
    "pr1=driver.find_elements_by_xpath('//div[@class=\"_30jeq3\"]')\n",
    "pr1"
   ]
  },
  {
   "cell_type": "code",
   "execution_count": 13,
   "id": "2410180d",
   "metadata": {},
   "outputs": [
    {
     "data": {
      "text/plain": [
       "40"
      ]
     },
     "execution_count": 13,
     "metadata": {},
     "output_type": "execute_result"
    }
   ],
   "source": [
    "len(pr1)"
   ]
  },
  {
   "cell_type": "code",
   "execution_count": 14,
   "id": "d365db28",
   "metadata": {},
   "outputs": [
    {
     "data": {
      "text/plain": [
       "['₹599',\n",
       " '₹630',\n",
       " '₹501',\n",
       " '₹327',\n",
       " '₹424',\n",
       " '₹149',\n",
       " '₹209',\n",
       " '₹2,049',\n",
       " '₹399',\n",
       " '₹349',\n",
       " '₹394',\n",
       " '₹379',\n",
       " '₹249',\n",
       " '₹148',\n",
       " '₹248',\n",
       " '₹590',\n",
       " '₹349',\n",
       " '₹269',\n",
       " '₹421',\n",
       " '₹369',\n",
       " '₹269',\n",
       " '₹190',\n",
       " '₹999',\n",
       " '₹449',\n",
       " '₹534',\n",
       " '₹349',\n",
       " '₹449',\n",
       " '₹580',\n",
       " '₹348',\n",
       " '₹249',\n",
       " '₹394',\n",
       " '₹570',\n",
       " '₹630',\n",
       " '₹209',\n",
       " '₹439',\n",
       " '₹2,249',\n",
       " '₹424',\n",
       " '₹499',\n",
       " '₹349',\n",
       " '₹618']"
      ]
     },
     "execution_count": 14,
     "metadata": {},
     "output_type": "execute_result"
    }
   ],
   "source": [
    "prc=[]\n",
    "for i in pr1:\n",
    "    prc.append(i.text)\n",
    "prc"
   ]
  },
  {
   "cell_type": "code",
   "execution_count": 15,
   "id": "1f60d892",
   "metadata": {},
   "outputs": [
    {
     "data": {
      "text/plain": [
       "40"
      ]
     },
     "execution_count": 15,
     "metadata": {},
     "output_type": "execute_result"
    }
   ],
   "source": [
    "len(prc)"
   ]
  },
  {
   "cell_type": "code",
   "execution_count": 17,
   "id": "50a437ce",
   "metadata": {},
   "outputs": [
    {
     "data": {
      "text/plain": [
       "[<selenium.webdriver.remote.webelement.WebElement (session=\"23dda1cddc097b128c4d8f2bd8539765\", element=\"a6cc94ad-de84-45c8-877f-7713c1889d60\")>,\n",
       " <selenium.webdriver.remote.webelement.WebElement (session=\"23dda1cddc097b128c4d8f2bd8539765\", element=\"dc33189c-743b-43f9-b112-77d77e299532\")>,\n",
       " <selenium.webdriver.remote.webelement.WebElement (session=\"23dda1cddc097b128c4d8f2bd8539765\", element=\"10cd7337-00e8-4b4d-9c48-71d708995787\")>,\n",
       " <selenium.webdriver.remote.webelement.WebElement (session=\"23dda1cddc097b128c4d8f2bd8539765\", element=\"6c17028f-7f80-453b-9ca9-6d6b24f1ddaf\")>,\n",
       " <selenium.webdriver.remote.webelement.WebElement (session=\"23dda1cddc097b128c4d8f2bd8539765\", element=\"7c2a2543-7d03-4e18-8154-e140e9be4399\")>,\n",
       " <selenium.webdriver.remote.webelement.WebElement (session=\"23dda1cddc097b128c4d8f2bd8539765\", element=\"26af92f0-6f83-4876-9b5c-caf84e188630\")>,\n",
       " <selenium.webdriver.remote.webelement.WebElement (session=\"23dda1cddc097b128c4d8f2bd8539765\", element=\"e1682830-15da-4611-8e34-009ad099e1ef\")>,\n",
       " <selenium.webdriver.remote.webelement.WebElement (session=\"23dda1cddc097b128c4d8f2bd8539765\", element=\"f1125c13-37e4-4ffa-9399-6e1fff842d61\")>,\n",
       " <selenium.webdriver.remote.webelement.WebElement (session=\"23dda1cddc097b128c4d8f2bd8539765\", element=\"b7cc0d50-2580-40c1-a10e-ceaf2e21557a\")>,\n",
       " <selenium.webdriver.remote.webelement.WebElement (session=\"23dda1cddc097b128c4d8f2bd8539765\", element=\"6b9c2581-5999-4b86-b528-22e37fae9be1\")>,\n",
       " <selenium.webdriver.remote.webelement.WebElement (session=\"23dda1cddc097b128c4d8f2bd8539765\", element=\"28471d70-aaf1-4af3-8515-dd64da021ef7\")>,\n",
       " <selenium.webdriver.remote.webelement.WebElement (session=\"23dda1cddc097b128c4d8f2bd8539765\", element=\"c8475b6c-00ae-4d94-82fd-a800ba5c8046\")>,\n",
       " <selenium.webdriver.remote.webelement.WebElement (session=\"23dda1cddc097b128c4d8f2bd8539765\", element=\"9069c800-cb2e-44c5-b8d7-3087e82aa97c\")>,\n",
       " <selenium.webdriver.remote.webelement.WebElement (session=\"23dda1cddc097b128c4d8f2bd8539765\", element=\"347cb4e3-da78-4141-bbfe-e79d4f5529ae\")>,\n",
       " <selenium.webdriver.remote.webelement.WebElement (session=\"23dda1cddc097b128c4d8f2bd8539765\", element=\"6b84d2d3-3b7f-4920-b98d-223ce55f74b1\")>,\n",
       " <selenium.webdriver.remote.webelement.WebElement (session=\"23dda1cddc097b128c4d8f2bd8539765\", element=\"202276b7-bb47-4f92-96bf-03b38b06aff9\")>,\n",
       " <selenium.webdriver.remote.webelement.WebElement (session=\"23dda1cddc097b128c4d8f2bd8539765\", element=\"df385ac1-99b7-421c-8795-b46af78bbb3c\")>,\n",
       " <selenium.webdriver.remote.webelement.WebElement (session=\"23dda1cddc097b128c4d8f2bd8539765\", element=\"81606319-ce28-4808-9b5c-0693788dc63c\")>,\n",
       " <selenium.webdriver.remote.webelement.WebElement (session=\"23dda1cddc097b128c4d8f2bd8539765\", element=\"08e249b3-4760-4e4a-a2d9-47a681e5f597\")>,\n",
       " <selenium.webdriver.remote.webelement.WebElement (session=\"23dda1cddc097b128c4d8f2bd8539765\", element=\"db1ec8ea-c1d3-4e55-b5f8-ae8f9d26d289\")>,\n",
       " <selenium.webdriver.remote.webelement.WebElement (session=\"23dda1cddc097b128c4d8f2bd8539765\", element=\"667a31ea-74c3-4f00-b19a-17a1a1bc5a28\")>,\n",
       " <selenium.webdriver.remote.webelement.WebElement (session=\"23dda1cddc097b128c4d8f2bd8539765\", element=\"178d2815-1285-4d6a-85d9-e99c39537129\")>,\n",
       " <selenium.webdriver.remote.webelement.WebElement (session=\"23dda1cddc097b128c4d8f2bd8539765\", element=\"eec1737b-662e-4c8c-8276-0ee33515d015\")>,\n",
       " <selenium.webdriver.remote.webelement.WebElement (session=\"23dda1cddc097b128c4d8f2bd8539765\", element=\"2c7e31e4-e0ae-4741-9b84-2a9fc168b15a\")>,\n",
       " <selenium.webdriver.remote.webelement.WebElement (session=\"23dda1cddc097b128c4d8f2bd8539765\", element=\"02afcacb-bf18-42e8-bc63-3bdc43727447\")>,\n",
       " <selenium.webdriver.remote.webelement.WebElement (session=\"23dda1cddc097b128c4d8f2bd8539765\", element=\"7155cab0-119a-462d-9a62-f4ba8c4fdf25\")>,\n",
       " <selenium.webdriver.remote.webelement.WebElement (session=\"23dda1cddc097b128c4d8f2bd8539765\", element=\"595eaf8d-3b7f-4073-a967-88d7a76b88e1\")>,\n",
       " <selenium.webdriver.remote.webelement.WebElement (session=\"23dda1cddc097b128c4d8f2bd8539765\", element=\"ff9c88c7-7eb9-4be1-8f02-64189a3747f1\")>,\n",
       " <selenium.webdriver.remote.webelement.WebElement (session=\"23dda1cddc097b128c4d8f2bd8539765\", element=\"9074a085-2408-487e-b32f-094151aa84f9\")>,\n",
       " <selenium.webdriver.remote.webelement.WebElement (session=\"23dda1cddc097b128c4d8f2bd8539765\", element=\"a4149ee4-2a7c-4819-95c8-0772c1ec422e\")>,\n",
       " <selenium.webdriver.remote.webelement.WebElement (session=\"23dda1cddc097b128c4d8f2bd8539765\", element=\"a4e6b721-e0b1-4035-b480-d59b34079d14\")>]"
      ]
     },
     "execution_count": 17,
     "metadata": {},
     "output_type": "execute_result"
    }
   ],
   "source": [
    "ds1=driver.find_elements_by_xpath('//a[@class=\"IRpwTa\"]')\n",
    "ds1"
   ]
  },
  {
   "cell_type": "markdown",
   "id": "7650398f",
   "metadata": {},
   "source": [
    "len(ds1)"
   ]
  },
  {
   "cell_type": "code",
   "execution_count": 18,
   "id": "5ede95b6",
   "metadata": {},
   "outputs": [
    {
     "data": {
      "text/plain": [
       "31"
      ]
     },
     "execution_count": 18,
     "metadata": {},
     "output_type": "execute_result"
    }
   ],
   "source": [
    "len(ds1)"
   ]
  },
  {
   "cell_type": "code",
   "execution_count": 19,
   "id": "aec61435",
   "metadata": {},
   "outputs": [
    {
     "data": {
      "text/plain": [
       "[<selenium.webdriver.remote.webelement.WebElement (session=\"23dda1cddc097b128c4d8f2bd8539765\", element=\"61c9a921-9b04-403c-9c40-a96625b87f6a\")>,\n",
       " <selenium.webdriver.remote.webelement.WebElement (session=\"23dda1cddc097b128c4d8f2bd8539765\", element=\"d567605f-0fac-4caa-ba81-0977e84a43e6\")>,\n",
       " <selenium.webdriver.remote.webelement.WebElement (session=\"23dda1cddc097b128c4d8f2bd8539765\", element=\"8b859bb0-1288-4c10-bcc0-f20cd153a057\")>,\n",
       " <selenium.webdriver.remote.webelement.WebElement (session=\"23dda1cddc097b128c4d8f2bd8539765\", element=\"77c60626-7fba-4a00-a2ef-9c0cc5c86c67\")>,\n",
       " <selenium.webdriver.remote.webelement.WebElement (session=\"23dda1cddc097b128c4d8f2bd8539765\", element=\"ede40b7e-f4e5-4389-a196-3628aaa24ea7\")>,\n",
       " <selenium.webdriver.remote.webelement.WebElement (session=\"23dda1cddc097b128c4d8f2bd8539765\", element=\"78e1d8aa-6379-4d83-9b66-02762780beec\")>,\n",
       " <selenium.webdriver.remote.webelement.WebElement (session=\"23dda1cddc097b128c4d8f2bd8539765\", element=\"17f61923-775b-4b5f-ad09-fefcca7f0245\")>,\n",
       " <selenium.webdriver.remote.webelement.WebElement (session=\"23dda1cddc097b128c4d8f2bd8539765\", element=\"e8e9e6b7-5982-41e3-9175-abbcf20c593c\")>,\n",
       " <selenium.webdriver.remote.webelement.WebElement (session=\"23dda1cddc097b128c4d8f2bd8539765\", element=\"2d91160e-0dec-4a62-82ce-a5ce0c8b2d3d\")>]"
      ]
     },
     "execution_count": 19,
     "metadata": {},
     "output_type": "execute_result"
    }
   ],
   "source": [
    "ds11=driver.find_elements_by_xpath('//a[@class=\"IRpwTa _2-ICcC\"]')\n",
    "ds11"
   ]
  },
  {
   "cell_type": "code",
   "execution_count": 20,
   "id": "6a30ed2c",
   "metadata": {},
   "outputs": [
    {
     "data": {
      "text/plain": [
       "[<selenium.webdriver.remote.webelement.WebElement (session=\"23dda1cddc097b128c4d8f2bd8539765\", element=\"a6cc94ad-de84-45c8-877f-7713c1889d60\")>,\n",
       " <selenium.webdriver.remote.webelement.WebElement (session=\"23dda1cddc097b128c4d8f2bd8539765\", element=\"dc33189c-743b-43f9-b112-77d77e299532\")>,\n",
       " <selenium.webdriver.remote.webelement.WebElement (session=\"23dda1cddc097b128c4d8f2bd8539765\", element=\"10cd7337-00e8-4b4d-9c48-71d708995787\")>,\n",
       " <selenium.webdriver.remote.webelement.WebElement (session=\"23dda1cddc097b128c4d8f2bd8539765\", element=\"6c17028f-7f80-453b-9ca9-6d6b24f1ddaf\")>,\n",
       " <selenium.webdriver.remote.webelement.WebElement (session=\"23dda1cddc097b128c4d8f2bd8539765\", element=\"7c2a2543-7d03-4e18-8154-e140e9be4399\")>,\n",
       " <selenium.webdriver.remote.webelement.WebElement (session=\"23dda1cddc097b128c4d8f2bd8539765\", element=\"26af92f0-6f83-4876-9b5c-caf84e188630\")>,\n",
       " <selenium.webdriver.remote.webelement.WebElement (session=\"23dda1cddc097b128c4d8f2bd8539765\", element=\"e1682830-15da-4611-8e34-009ad099e1ef\")>,\n",
       " <selenium.webdriver.remote.webelement.WebElement (session=\"23dda1cddc097b128c4d8f2bd8539765\", element=\"f1125c13-37e4-4ffa-9399-6e1fff842d61\")>,\n",
       " <selenium.webdriver.remote.webelement.WebElement (session=\"23dda1cddc097b128c4d8f2bd8539765\", element=\"b7cc0d50-2580-40c1-a10e-ceaf2e21557a\")>,\n",
       " <selenium.webdriver.remote.webelement.WebElement (session=\"23dda1cddc097b128c4d8f2bd8539765\", element=\"6b9c2581-5999-4b86-b528-22e37fae9be1\")>,\n",
       " <selenium.webdriver.remote.webelement.WebElement (session=\"23dda1cddc097b128c4d8f2bd8539765\", element=\"28471d70-aaf1-4af3-8515-dd64da021ef7\")>,\n",
       " <selenium.webdriver.remote.webelement.WebElement (session=\"23dda1cddc097b128c4d8f2bd8539765\", element=\"c8475b6c-00ae-4d94-82fd-a800ba5c8046\")>,\n",
       " <selenium.webdriver.remote.webelement.WebElement (session=\"23dda1cddc097b128c4d8f2bd8539765\", element=\"9069c800-cb2e-44c5-b8d7-3087e82aa97c\")>,\n",
       " <selenium.webdriver.remote.webelement.WebElement (session=\"23dda1cddc097b128c4d8f2bd8539765\", element=\"347cb4e3-da78-4141-bbfe-e79d4f5529ae\")>,\n",
       " <selenium.webdriver.remote.webelement.WebElement (session=\"23dda1cddc097b128c4d8f2bd8539765\", element=\"6b84d2d3-3b7f-4920-b98d-223ce55f74b1\")>,\n",
       " <selenium.webdriver.remote.webelement.WebElement (session=\"23dda1cddc097b128c4d8f2bd8539765\", element=\"202276b7-bb47-4f92-96bf-03b38b06aff9\")>,\n",
       " <selenium.webdriver.remote.webelement.WebElement (session=\"23dda1cddc097b128c4d8f2bd8539765\", element=\"df385ac1-99b7-421c-8795-b46af78bbb3c\")>,\n",
       " <selenium.webdriver.remote.webelement.WebElement (session=\"23dda1cddc097b128c4d8f2bd8539765\", element=\"81606319-ce28-4808-9b5c-0693788dc63c\")>,\n",
       " <selenium.webdriver.remote.webelement.WebElement (session=\"23dda1cddc097b128c4d8f2bd8539765\", element=\"08e249b3-4760-4e4a-a2d9-47a681e5f597\")>,\n",
       " <selenium.webdriver.remote.webelement.WebElement (session=\"23dda1cddc097b128c4d8f2bd8539765\", element=\"db1ec8ea-c1d3-4e55-b5f8-ae8f9d26d289\")>,\n",
       " <selenium.webdriver.remote.webelement.WebElement (session=\"23dda1cddc097b128c4d8f2bd8539765\", element=\"667a31ea-74c3-4f00-b19a-17a1a1bc5a28\")>,\n",
       " <selenium.webdriver.remote.webelement.WebElement (session=\"23dda1cddc097b128c4d8f2bd8539765\", element=\"178d2815-1285-4d6a-85d9-e99c39537129\")>,\n",
       " <selenium.webdriver.remote.webelement.WebElement (session=\"23dda1cddc097b128c4d8f2bd8539765\", element=\"eec1737b-662e-4c8c-8276-0ee33515d015\")>,\n",
       " <selenium.webdriver.remote.webelement.WebElement (session=\"23dda1cddc097b128c4d8f2bd8539765\", element=\"2c7e31e4-e0ae-4741-9b84-2a9fc168b15a\")>,\n",
       " <selenium.webdriver.remote.webelement.WebElement (session=\"23dda1cddc097b128c4d8f2bd8539765\", element=\"02afcacb-bf18-42e8-bc63-3bdc43727447\")>,\n",
       " <selenium.webdriver.remote.webelement.WebElement (session=\"23dda1cddc097b128c4d8f2bd8539765\", element=\"7155cab0-119a-462d-9a62-f4ba8c4fdf25\")>,\n",
       " <selenium.webdriver.remote.webelement.WebElement (session=\"23dda1cddc097b128c4d8f2bd8539765\", element=\"595eaf8d-3b7f-4073-a967-88d7a76b88e1\")>,\n",
       " <selenium.webdriver.remote.webelement.WebElement (session=\"23dda1cddc097b128c4d8f2bd8539765\", element=\"ff9c88c7-7eb9-4be1-8f02-64189a3747f1\")>,\n",
       " <selenium.webdriver.remote.webelement.WebElement (session=\"23dda1cddc097b128c4d8f2bd8539765\", element=\"9074a085-2408-487e-b32f-094151aa84f9\")>,\n",
       " <selenium.webdriver.remote.webelement.WebElement (session=\"23dda1cddc097b128c4d8f2bd8539765\", element=\"a4149ee4-2a7c-4819-95c8-0772c1ec422e\")>,\n",
       " <selenium.webdriver.remote.webelement.WebElement (session=\"23dda1cddc097b128c4d8f2bd8539765\", element=\"a4e6b721-e0b1-4035-b480-d59b34079d14\")>,\n",
       " <selenium.webdriver.remote.webelement.WebElement (session=\"23dda1cddc097b128c4d8f2bd8539765\", element=\"61c9a921-9b04-403c-9c40-a96625b87f6a\")>,\n",
       " <selenium.webdriver.remote.webelement.WebElement (session=\"23dda1cddc097b128c4d8f2bd8539765\", element=\"d567605f-0fac-4caa-ba81-0977e84a43e6\")>,\n",
       " <selenium.webdriver.remote.webelement.WebElement (session=\"23dda1cddc097b128c4d8f2bd8539765\", element=\"8b859bb0-1288-4c10-bcc0-f20cd153a057\")>,\n",
       " <selenium.webdriver.remote.webelement.WebElement (session=\"23dda1cddc097b128c4d8f2bd8539765\", element=\"77c60626-7fba-4a00-a2ef-9c0cc5c86c67\")>,\n",
       " <selenium.webdriver.remote.webelement.WebElement (session=\"23dda1cddc097b128c4d8f2bd8539765\", element=\"ede40b7e-f4e5-4389-a196-3628aaa24ea7\")>,\n",
       " <selenium.webdriver.remote.webelement.WebElement (session=\"23dda1cddc097b128c4d8f2bd8539765\", element=\"78e1d8aa-6379-4d83-9b66-02762780beec\")>,\n",
       " <selenium.webdriver.remote.webelement.WebElement (session=\"23dda1cddc097b128c4d8f2bd8539765\", element=\"17f61923-775b-4b5f-ad09-fefcca7f0245\")>,\n",
       " <selenium.webdriver.remote.webelement.WebElement (session=\"23dda1cddc097b128c4d8f2bd8539765\", element=\"e8e9e6b7-5982-41e3-9175-abbcf20c593c\")>,\n",
       " <selenium.webdriver.remote.webelement.WebElement (session=\"23dda1cddc097b128c4d8f2bd8539765\", element=\"2d91160e-0dec-4a62-82ce-a5ce0c8b2d3d\")>]"
      ]
     },
     "execution_count": 20,
     "metadata": {},
     "output_type": "execute_result"
    }
   ],
   "source": [
    "ds1+ds11"
   ]
  },
  {
   "cell_type": "code",
   "execution_count": 21,
   "id": "a18ac293",
   "metadata": {},
   "outputs": [
    {
     "data": {
      "text/plain": [
       "['Sneakers For Men',\n",
       " 'Super Stylish & Trendy Combo Pack of 02 Pairs Sneakers ...',\n",
       " 'Sneakers For Men',\n",
       " '5011-Latest Collection Stylish Casual Loafer Sneakers S...',\n",
       " 'Modern Trendy Sneakers Shoes Sneakers For Men',\n",
       " 'Men White Printed Sneakers Sneakers For Men',\n",
       " 'Luxury Fashionable casual sneaker shoes Sneakers For Me...',\n",
       " 'Kwik FIT casual sneaker shoes and partywear shoes Casua...',\n",
       " 'Series 7 Sneakers For Men',\n",
       " 'Sneakers For Men',\n",
       " \"Casual , Partywear Sneakers Shoes For Men's And Boys Wh...\",\n",
       " \"White Sneaker For Men's/Boy's Sneakers For Men\",\n",
       " 'Sneakers For Men',\n",
       " 'Sneakers For Men',\n",
       " 'Modern & Trendy Collection Combo Pack of 02 Shoes for M...',\n",
       " 'Stylish Comfortable Lightweight, Breathable Running Sho...',\n",
       " 'Sneakers For Men',\n",
       " 'Sneakers For Men',\n",
       " 'Sneakers For Men',\n",
       " 'Sneakers For Men',\n",
       " 'Combo Pack Of 4 Casual Shoes Loafer Shoes Sneakers For ...',\n",
       " 'Sneakers For Men',\n",
       " 'Sneaker Sneakers For Men',\n",
       " 'Shark-41 Sneakers For Men',\n",
       " 'Sneakers For Men',\n",
       " 'Sneakers For Men',\n",
       " 'Men Grey Woven Design Sneakers Sneakers For Men',\n",
       " 'Sneakers For Men',\n",
       " 'Sneakers For Men',\n",
       " 'Luxury Fashionable casual sneaker shoes Sneakers For Me...',\n",
       " 'Combo Pack Of 3 Sneakers For Men',\n",
       " 'Sneakers For Men',\n",
       " 'STYLISH MENS BLACK SNEAKER Sneakers For Men',\n",
       " 'Sneakers Sneakers For Men',\n",
       " 'Sneakers For Men',\n",
       " 'EXPLORE Sneakers For Men',\n",
       " 'Comfortable Lightweight| New Series Sneakers For Men',\n",
       " 'Sneakers For Men',\n",
       " 'Stylish & Trendy Sneakers For Men',\n",
       " 'Sneakers For Men']"
      ]
     },
     "execution_count": 21,
     "metadata": {},
     "output_type": "execute_result"
    }
   ],
   "source": [
    "dsc=[]\n",
    "for i in ds1+ds11:\n",
    "    dsc.append(i.text)\n",
    "dsc"
   ]
  },
  {
   "cell_type": "code",
   "execution_count": 22,
   "id": "e579bd9d",
   "metadata": {},
   "outputs": [
    {
     "data": {
      "text/plain": [
       "40"
      ]
     },
     "execution_count": 22,
     "metadata": {},
     "output_type": "execute_result"
    }
   ],
   "source": [
    "len(dsc)"
   ]
  },
  {
   "cell_type": "code",
   "execution_count": 23,
   "id": "24b9ec62",
   "metadata": {},
   "outputs": [],
   "source": [
    "bt2=driver.find_element_by_xpath('/html/body/div[1]/div/div[3]/div[1]/div[2]/div[12]/div/div/nav/a[11]/span')\n",
    "bt2.click()"
   ]
  },
  {
   "cell_type": "code",
   "execution_count": 24,
   "id": "1ff227fb",
   "metadata": {},
   "outputs": [
    {
     "data": {
      "text/plain": [
       "[<selenium.webdriver.remote.webelement.WebElement (session=\"23dda1cddc097b128c4d8f2bd8539765\", element=\"3f01827f-9c99-4014-b0da-b759781ac9f7\")>,\n",
       " <selenium.webdriver.remote.webelement.WebElement (session=\"23dda1cddc097b128c4d8f2bd8539765\", element=\"b8e621df-2455-48b8-8b09-8e7283580a5a\")>,\n",
       " <selenium.webdriver.remote.webelement.WebElement (session=\"23dda1cddc097b128c4d8f2bd8539765\", element=\"3048e248-1147-4564-8af2-f6433989c0c3\")>,\n",
       " <selenium.webdriver.remote.webelement.WebElement (session=\"23dda1cddc097b128c4d8f2bd8539765\", element=\"69252494-f355-4257-92a3-34115fc78c81\")>,\n",
       " <selenium.webdriver.remote.webelement.WebElement (session=\"23dda1cddc097b128c4d8f2bd8539765\", element=\"63705cd5-75db-4d62-9c4a-f64021441f19\")>,\n",
       " <selenium.webdriver.remote.webelement.WebElement (session=\"23dda1cddc097b128c4d8f2bd8539765\", element=\"21d6e3ca-bee7-4ad6-a48d-2a4699102c75\")>,\n",
       " <selenium.webdriver.remote.webelement.WebElement (session=\"23dda1cddc097b128c4d8f2bd8539765\", element=\"6e7be420-19a0-45cd-888b-5f3915efc2f4\")>,\n",
       " <selenium.webdriver.remote.webelement.WebElement (session=\"23dda1cddc097b128c4d8f2bd8539765\", element=\"20a88c61-2596-4152-8169-2ad246f9a68e\")>,\n",
       " <selenium.webdriver.remote.webelement.WebElement (session=\"23dda1cddc097b128c4d8f2bd8539765\", element=\"9604c924-bc1b-43f6-84fa-5662b062c546\")>,\n",
       " <selenium.webdriver.remote.webelement.WebElement (session=\"23dda1cddc097b128c4d8f2bd8539765\", element=\"c6268b4e-60ee-48a4-811d-2d7cd85fdf9e\")>,\n",
       " <selenium.webdriver.remote.webelement.WebElement (session=\"23dda1cddc097b128c4d8f2bd8539765\", element=\"bf4f37e9-0266-401f-b68e-3094f83eb03b\")>,\n",
       " <selenium.webdriver.remote.webelement.WebElement (session=\"23dda1cddc097b128c4d8f2bd8539765\", element=\"9d543959-65cd-4a72-859d-6ecd6dd4adfb\")>,\n",
       " <selenium.webdriver.remote.webelement.WebElement (session=\"23dda1cddc097b128c4d8f2bd8539765\", element=\"7d0ffc95-1f73-4a6e-afa2-d8f0b0500af9\")>,\n",
       " <selenium.webdriver.remote.webelement.WebElement (session=\"23dda1cddc097b128c4d8f2bd8539765\", element=\"d63005e1-7fbb-46eb-ba5e-f2942f8014c1\")>,\n",
       " <selenium.webdriver.remote.webelement.WebElement (session=\"23dda1cddc097b128c4d8f2bd8539765\", element=\"c9b62d9e-37bd-40f6-b59b-ce0aeaf45513\")>,\n",
       " <selenium.webdriver.remote.webelement.WebElement (session=\"23dda1cddc097b128c4d8f2bd8539765\", element=\"1a14d55c-2c23-4546-a543-a80e173f17a0\")>,\n",
       " <selenium.webdriver.remote.webelement.WebElement (session=\"23dda1cddc097b128c4d8f2bd8539765\", element=\"73d32425-a032-4b67-81b3-d47846d50101\")>,\n",
       " <selenium.webdriver.remote.webelement.WebElement (session=\"23dda1cddc097b128c4d8f2bd8539765\", element=\"dcbd19e1-8c2c-4ee7-8cdc-0862bac90c4f\")>,\n",
       " <selenium.webdriver.remote.webelement.WebElement (session=\"23dda1cddc097b128c4d8f2bd8539765\", element=\"522b9360-3e43-46cd-875a-0926156dc636\")>,\n",
       " <selenium.webdriver.remote.webelement.WebElement (session=\"23dda1cddc097b128c4d8f2bd8539765\", element=\"954cb948-a373-4f82-abb9-1aad177857b1\")>,\n",
       " <selenium.webdriver.remote.webelement.WebElement (session=\"23dda1cddc097b128c4d8f2bd8539765\", element=\"7ab3e0fa-537d-4e54-bab6-1f89dd7b8d80\")>,\n",
       " <selenium.webdriver.remote.webelement.WebElement (session=\"23dda1cddc097b128c4d8f2bd8539765\", element=\"c8bd2fa5-2683-49bc-a85a-a0bb05648dd1\")>,\n",
       " <selenium.webdriver.remote.webelement.WebElement (session=\"23dda1cddc097b128c4d8f2bd8539765\", element=\"db37beca-4c23-4b08-a4e8-cf4d5dea6c43\")>,\n",
       " <selenium.webdriver.remote.webelement.WebElement (session=\"23dda1cddc097b128c4d8f2bd8539765\", element=\"70f445c5-f94e-49ec-b7ec-7ce0f6ec71d5\")>,\n",
       " <selenium.webdriver.remote.webelement.WebElement (session=\"23dda1cddc097b128c4d8f2bd8539765\", element=\"98ac6edb-7cf7-470c-964a-258c9d3af38b\")>,\n",
       " <selenium.webdriver.remote.webelement.WebElement (session=\"23dda1cddc097b128c4d8f2bd8539765\", element=\"d3cb9594-c949-4c60-87e0-6122d3f434c7\")>,\n",
       " <selenium.webdriver.remote.webelement.WebElement (session=\"23dda1cddc097b128c4d8f2bd8539765\", element=\"d3384a26-7a13-4a4c-906b-26be0cd76cbc\")>,\n",
       " <selenium.webdriver.remote.webelement.WebElement (session=\"23dda1cddc097b128c4d8f2bd8539765\", element=\"9d2685f0-8a45-4b44-a95a-0611e0cfaecb\")>,\n",
       " <selenium.webdriver.remote.webelement.WebElement (session=\"23dda1cddc097b128c4d8f2bd8539765\", element=\"49a5691b-0b55-4e66-8df3-7496e6259b0b\")>,\n",
       " <selenium.webdriver.remote.webelement.WebElement (session=\"23dda1cddc097b128c4d8f2bd8539765\", element=\"e515e23f-21d3-4ce3-ad1f-0cd4056984cc\")>,\n",
       " <selenium.webdriver.remote.webelement.WebElement (session=\"23dda1cddc097b128c4d8f2bd8539765\", element=\"59543baf-c1b9-4ec0-a09d-dd581da49efe\")>,\n",
       " <selenium.webdriver.remote.webelement.WebElement (session=\"23dda1cddc097b128c4d8f2bd8539765\", element=\"dd265d82-10d0-414d-a0d1-154c4147c85f\")>,\n",
       " <selenium.webdriver.remote.webelement.WebElement (session=\"23dda1cddc097b128c4d8f2bd8539765\", element=\"4a88aeb7-5063-4ddb-b92d-bcca716f6b65\")>,\n",
       " <selenium.webdriver.remote.webelement.WebElement (session=\"23dda1cddc097b128c4d8f2bd8539765\", element=\"467479ce-ebd1-4a57-a765-d1eb00698813\")>,\n",
       " <selenium.webdriver.remote.webelement.WebElement (session=\"23dda1cddc097b128c4d8f2bd8539765\", element=\"54361d25-ce2f-4f58-936c-15dea2f4af21\")>,\n",
       " <selenium.webdriver.remote.webelement.WebElement (session=\"23dda1cddc097b128c4d8f2bd8539765\", element=\"809b2696-c63c-4f20-aa9c-cf9d172bc2c1\")>,\n",
       " <selenium.webdriver.remote.webelement.WebElement (session=\"23dda1cddc097b128c4d8f2bd8539765\", element=\"7525347e-e70a-4adf-b4c2-9b6331b868c5\")>,\n",
       " <selenium.webdriver.remote.webelement.WebElement (session=\"23dda1cddc097b128c4d8f2bd8539765\", element=\"c3796cc9-8557-4470-894a-30e787d74c14\")>,\n",
       " <selenium.webdriver.remote.webelement.WebElement (session=\"23dda1cddc097b128c4d8f2bd8539765\", element=\"e86a4363-f59e-4b99-af3e-d4c93e1897f9\")>,\n",
       " <selenium.webdriver.remote.webelement.WebElement (session=\"23dda1cddc097b128c4d8f2bd8539765\", element=\"9a439ea9-64cd-426a-a618-85a3ba759d50\")>]"
      ]
     },
     "execution_count": 24,
     "metadata": {},
     "output_type": "execute_result"
    }
   ],
   "source": [
    "br2=driver.find_elements_by_xpath('//div[@class=\"_2WkVRV\"]')\n",
    "br2"
   ]
  },
  {
   "cell_type": "code",
   "execution_count": 25,
   "id": "7b62d6fc",
   "metadata": {},
   "outputs": [
    {
     "data": {
      "text/plain": [
       "40"
      ]
     },
     "execution_count": 25,
     "metadata": {},
     "output_type": "execute_result"
    }
   ],
   "source": [
    "len(br2)"
   ]
  },
  {
   "cell_type": "code",
   "execution_count": 26,
   "id": "50195a93",
   "metadata": {},
   "outputs": [
    {
     "data": {
      "text/plain": [
       "['Numenzo',\n",
       " 'RapidBox',\n",
       " 'Chevit',\n",
       " 'Magnolia',\n",
       " 'corsac',\n",
       " 'World Wear Footwear',\n",
       " 'BRUTON',\n",
       " 'HRX by Hrithik Roshan',\n",
       " 'luxury fashion',\n",
       " 'KWIK FIT',\n",
       " 'Kraasa',\n",
       " 'Navtrend',\n",
       " 'D-SNEAKERZ',\n",
       " 'URBANBOX',\n",
       " 'Shoes Bank',\n",
       " 'RapidBox',\n",
       " 'Magnolia',\n",
       " 'aadi',\n",
       " 'BRUTON',\n",
       " 'BIRDE',\n",
       " 'DUNKASTON',\n",
       " 'World Wear Footwear',\n",
       " 'CAMPUS',\n",
       " 'Varito',\n",
       " 'CLYMB',\n",
       " 'Elevarse',\n",
       " 'BRUTON',\n",
       " 'RapidBox',\n",
       " 'SCATCHITE',\n",
       " 'BRUTON',\n",
       " 'Kraasa',\n",
       " 'RapidBox',\n",
       " 'RapidBox',\n",
       " 'Kzaara',\n",
       " 'luxury fashion',\n",
       " 'HRX by Hrithik Roshan',\n",
       " 'Labbin',\n",
       " 'Rzisbo',\n",
       " 'India hub',\n",
       " 'CALCADOS',\n",
       " 'Xtoon',\n",
       " 'Stefano Rads',\n",
       " 'India hub',\n",
       " 'Numenzo',\n",
       " 'Numenzo',\n",
       " 'BRUTON',\n",
       " 'World Wear Footwear',\n",
       " 'RapidBox',\n",
       " 'Echor',\n",
       " 'RAFTAR FASHION',\n",
       " 'Airland',\n",
       " 'HRX by Hrithik Roshan',\n",
       " 'Vellinto',\n",
       " 'Zsyto',\n",
       " 'BRUTON',\n",
       " 'Navtrend',\n",
       " 'Chevit',\n",
       " 'BRUTON',\n",
       " 'BIRDE',\n",
       " 'RapidBox',\n",
       " 'World Wear Footwear',\n",
       " 'ORICUM',\n",
       " 'Ktiz',\n",
       " 'BIRDE',\n",
       " 'SWIGGY',\n",
       " 'TR',\n",
       " 'Chevit',\n",
       " 'Varito',\n",
       " 'Numenzo',\n",
       " 'CLYMB',\n",
       " 'Robbie jones',\n",
       " 'RapidBox',\n",
       " 'ASTEROID',\n",
       " 'D-SNEAKERZ',\n",
       " 'Arohi',\n",
       " 'RapidBox',\n",
       " 'Robbie jones',\n",
       " 'Magnolia',\n",
       " 'AMICO',\n",
       " 'HRX by Hrithik Roshan']"
      ]
     },
     "execution_count": 26,
     "metadata": {},
     "output_type": "execute_result"
    }
   ],
   "source": [
    "for i in br2:\n",
    "    brand.append(i.text)\n",
    "brand"
   ]
  },
  {
   "cell_type": "code",
   "execution_count": 27,
   "id": "f29a7868",
   "metadata": {},
   "outputs": [
    {
     "data": {
      "text/plain": [
       "80"
      ]
     },
     "execution_count": 27,
     "metadata": {},
     "output_type": "execute_result"
    }
   ],
   "source": [
    "len(brand)"
   ]
  },
  {
   "cell_type": "code",
   "execution_count": 28,
   "id": "258b9ff1",
   "metadata": {},
   "outputs": [
    {
     "data": {
      "text/plain": [
       "[<selenium.webdriver.remote.webelement.WebElement (session=\"23dda1cddc097b128c4d8f2bd8539765\", element=\"e33010b3-00e2-4c4b-818d-a089d0768a50\")>,\n",
       " <selenium.webdriver.remote.webelement.WebElement (session=\"23dda1cddc097b128c4d8f2bd8539765\", element=\"fab806c1-0c1d-4570-ab49-0421a368ea85\")>,\n",
       " <selenium.webdriver.remote.webelement.WebElement (session=\"23dda1cddc097b128c4d8f2bd8539765\", element=\"650a9458-94ac-4e93-b71c-da5040e55bcb\")>,\n",
       " <selenium.webdriver.remote.webelement.WebElement (session=\"23dda1cddc097b128c4d8f2bd8539765\", element=\"6b425156-3eac-4925-abe9-173429a59d80\")>,\n",
       " <selenium.webdriver.remote.webelement.WebElement (session=\"23dda1cddc097b128c4d8f2bd8539765\", element=\"6a31db75-d5c7-4e7a-8729-e037e43d5c9b\")>,\n",
       " <selenium.webdriver.remote.webelement.WebElement (session=\"23dda1cddc097b128c4d8f2bd8539765\", element=\"89cfe522-240e-46ed-ac90-7219daaf2f9b\")>,\n",
       " <selenium.webdriver.remote.webelement.WebElement (session=\"23dda1cddc097b128c4d8f2bd8539765\", element=\"83700203-cc4c-4ad6-9bd8-5db89125f9d9\")>,\n",
       " <selenium.webdriver.remote.webelement.WebElement (session=\"23dda1cddc097b128c4d8f2bd8539765\", element=\"9bf8cca4-54aa-40f3-a052-4fdb804ca6fb\")>,\n",
       " <selenium.webdriver.remote.webelement.WebElement (session=\"23dda1cddc097b128c4d8f2bd8539765\", element=\"628f10b7-22ef-4ee5-a9a1-431f9d2feaf2\")>,\n",
       " <selenium.webdriver.remote.webelement.WebElement (session=\"23dda1cddc097b128c4d8f2bd8539765\", element=\"1c4b9822-3fc3-4ea5-8690-5c4c7f1c2036\")>,\n",
       " <selenium.webdriver.remote.webelement.WebElement (session=\"23dda1cddc097b128c4d8f2bd8539765\", element=\"e6e623c7-6c25-4e3e-b220-670b8fa86635\")>,\n",
       " <selenium.webdriver.remote.webelement.WebElement (session=\"23dda1cddc097b128c4d8f2bd8539765\", element=\"36749df9-94e1-41fa-9980-853cf24ca38a\")>,\n",
       " <selenium.webdriver.remote.webelement.WebElement (session=\"23dda1cddc097b128c4d8f2bd8539765\", element=\"9e9903c3-dbe0-4a17-ab5e-7670877b93ec\")>,\n",
       " <selenium.webdriver.remote.webelement.WebElement (session=\"23dda1cddc097b128c4d8f2bd8539765\", element=\"84a7dd73-b009-454d-b5e6-67325eb98a7a\")>,\n",
       " <selenium.webdriver.remote.webelement.WebElement (session=\"23dda1cddc097b128c4d8f2bd8539765\", element=\"71a96050-ff99-40ef-9501-2e2a7a999797\")>,\n",
       " <selenium.webdriver.remote.webelement.WebElement (session=\"23dda1cddc097b128c4d8f2bd8539765\", element=\"a62a0216-3e08-4373-a887-f711b35d93d1\")>,\n",
       " <selenium.webdriver.remote.webelement.WebElement (session=\"23dda1cddc097b128c4d8f2bd8539765\", element=\"9a4bcec7-c2e3-457c-b6fb-c1ed85e79628\")>,\n",
       " <selenium.webdriver.remote.webelement.WebElement (session=\"23dda1cddc097b128c4d8f2bd8539765\", element=\"9121070e-95c4-4650-b670-16afc2435b3d\")>,\n",
       " <selenium.webdriver.remote.webelement.WebElement (session=\"23dda1cddc097b128c4d8f2bd8539765\", element=\"5bf69bdd-9ba6-45e4-98a7-1bc6194505d7\")>,\n",
       " <selenium.webdriver.remote.webelement.WebElement (session=\"23dda1cddc097b128c4d8f2bd8539765\", element=\"2b0e2052-68a8-4bf5-87c3-8823c24a6210\")>,\n",
       " <selenium.webdriver.remote.webelement.WebElement (session=\"23dda1cddc097b128c4d8f2bd8539765\", element=\"0723d158-c63c-4ebd-bdf0-e08b8c0828b0\")>,\n",
       " <selenium.webdriver.remote.webelement.WebElement (session=\"23dda1cddc097b128c4d8f2bd8539765\", element=\"cd95bb57-733d-4dd4-844e-65b88d5472d7\")>,\n",
       " <selenium.webdriver.remote.webelement.WebElement (session=\"23dda1cddc097b128c4d8f2bd8539765\", element=\"6a6f220a-79e1-4f1c-accf-b9b057118fb3\")>,\n",
       " <selenium.webdriver.remote.webelement.WebElement (session=\"23dda1cddc097b128c4d8f2bd8539765\", element=\"d53e02e1-49e2-4f9a-9041-1853c9c73a2b\")>,\n",
       " <selenium.webdriver.remote.webelement.WebElement (session=\"23dda1cddc097b128c4d8f2bd8539765\", element=\"889aeb49-2dad-4921-aaec-868cbf20670b\")>,\n",
       " <selenium.webdriver.remote.webelement.WebElement (session=\"23dda1cddc097b128c4d8f2bd8539765\", element=\"058d3c28-96a5-454e-9b73-cbc9b71977bb\")>,\n",
       " <selenium.webdriver.remote.webelement.WebElement (session=\"23dda1cddc097b128c4d8f2bd8539765\", element=\"c72050ff-f495-4f61-a935-64dcb528c6e4\")>,\n",
       " <selenium.webdriver.remote.webelement.WebElement (session=\"23dda1cddc097b128c4d8f2bd8539765\", element=\"0b36b58c-a13d-4049-b46c-e202e6e4d50e\")>,\n",
       " <selenium.webdriver.remote.webelement.WebElement (session=\"23dda1cddc097b128c4d8f2bd8539765\", element=\"c24aba64-486b-4ab2-a64c-34522496b80d\")>,\n",
       " <selenium.webdriver.remote.webelement.WebElement (session=\"23dda1cddc097b128c4d8f2bd8539765\", element=\"c1158e7b-18fe-403a-92f5-bcc8b541e3ae\")>,\n",
       " <selenium.webdriver.remote.webelement.WebElement (session=\"23dda1cddc097b128c4d8f2bd8539765\", element=\"a57ec35a-079c-4790-bcf4-7e6ddb83ae8f\")>,\n",
       " <selenium.webdriver.remote.webelement.WebElement (session=\"23dda1cddc097b128c4d8f2bd8539765\", element=\"20f841a2-43d5-4ced-b439-a276d554413f\")>,\n",
       " <selenium.webdriver.remote.webelement.WebElement (session=\"23dda1cddc097b128c4d8f2bd8539765\", element=\"1d95939d-5f31-4ed5-b984-79e71cb4ad64\")>,\n",
       " <selenium.webdriver.remote.webelement.WebElement (session=\"23dda1cddc097b128c4d8f2bd8539765\", element=\"0cc02e59-76b5-4845-a1a1-3e5aa1bc45d1\")>,\n",
       " <selenium.webdriver.remote.webelement.WebElement (session=\"23dda1cddc097b128c4d8f2bd8539765\", element=\"62dfe49a-52ef-4229-82ba-477915ab2e61\")>,\n",
       " <selenium.webdriver.remote.webelement.WebElement (session=\"23dda1cddc097b128c4d8f2bd8539765\", element=\"b910f3f0-9369-49aa-9b2a-26403499a345\")>,\n",
       " <selenium.webdriver.remote.webelement.WebElement (session=\"23dda1cddc097b128c4d8f2bd8539765\", element=\"59eab592-a366-4ae8-9b62-57c66bad2e90\")>,\n",
       " <selenium.webdriver.remote.webelement.WebElement (session=\"23dda1cddc097b128c4d8f2bd8539765\", element=\"52cbb7bf-278e-4578-bfe5-5b69be8167ad\")>,\n",
       " <selenium.webdriver.remote.webelement.WebElement (session=\"23dda1cddc097b128c4d8f2bd8539765\", element=\"c7d8da13-0be5-46fd-9237-ed84a78282ec\")>,\n",
       " <selenium.webdriver.remote.webelement.WebElement (session=\"23dda1cddc097b128c4d8f2bd8539765\", element=\"3d7f6409-68db-4988-b876-e6104ec29834\")>]"
      ]
     },
     "execution_count": 28,
     "metadata": {},
     "output_type": "execute_result"
    }
   ],
   "source": [
    "pr2=driver.find_elements_by_xpath('//div[@class=\"_30jeq3\"]')\n",
    "pr2"
   ]
  },
  {
   "cell_type": "code",
   "execution_count": 29,
   "id": "002ce157",
   "metadata": {},
   "outputs": [
    {
     "data": {
      "text/plain": [
       "['₹599',\n",
       " '₹630',\n",
       " '₹501',\n",
       " '₹327',\n",
       " '₹424',\n",
       " '₹149',\n",
       " '₹209',\n",
       " '₹2,049',\n",
       " '₹399',\n",
       " '₹349',\n",
       " '₹394',\n",
       " '₹379',\n",
       " '₹249',\n",
       " '₹148',\n",
       " '₹248',\n",
       " '₹590',\n",
       " '₹349',\n",
       " '₹269',\n",
       " '₹421',\n",
       " '₹369',\n",
       " '₹269',\n",
       " '₹190',\n",
       " '₹999',\n",
       " '₹449',\n",
       " '₹534',\n",
       " '₹349',\n",
       " '₹449',\n",
       " '₹580',\n",
       " '₹348',\n",
       " '₹249',\n",
       " '₹394',\n",
       " '₹570',\n",
       " '₹630',\n",
       " '₹209',\n",
       " '₹439',\n",
       " '₹2,249',\n",
       " '₹424',\n",
       " '₹499',\n",
       " '₹349',\n",
       " '₹618',\n",
       " '₹429',\n",
       " '₹190',\n",
       " '₹399',\n",
       " '₹599',\n",
       " '₹599',\n",
       " '₹249',\n",
       " '₹209',\n",
       " '₹630',\n",
       " '₹424',\n",
       " '₹649',\n",
       " '₹148',\n",
       " '₹2,049',\n",
       " '₹549',\n",
       " '₹261',\n",
       " '₹449',\n",
       " '₹379',\n",
       " '₹209',\n",
       " '₹486',\n",
       " '₹249',\n",
       " '₹590',\n",
       " '₹209',\n",
       " '₹885',\n",
       " '₹398',\n",
       " '₹369',\n",
       " '₹580',\n",
       " '₹272',\n",
       " '₹373',\n",
       " '₹449',\n",
       " '₹424',\n",
       " '₹199',\n",
       " '₹424',\n",
       " '₹580',\n",
       " '₹424',\n",
       " '₹334',\n",
       " '₹380',\n",
       " '₹570',\n",
       " '₹424',\n",
       " '₹327',\n",
       " '₹449',\n",
       " '₹2,249']"
      ]
     },
     "execution_count": 29,
     "metadata": {},
     "output_type": "execute_result"
    }
   ],
   "source": [
    "for i in pr2:\n",
    "    prc.append(i.text)\n",
    "prc"
   ]
  },
  {
   "cell_type": "code",
   "execution_count": 30,
   "id": "cd668f4c",
   "metadata": {},
   "outputs": [
    {
     "data": {
      "text/plain": [
       "80"
      ]
     },
     "execution_count": 30,
     "metadata": {},
     "output_type": "execute_result"
    }
   ],
   "source": [
    "len(prc)"
   ]
  },
  {
   "cell_type": "code",
   "execution_count": 31,
   "id": "48d5109d",
   "metadata": {},
   "outputs": [
    {
     "data": {
      "text/plain": [
       "[<selenium.webdriver.remote.webelement.WebElement (session=\"23dda1cddc097b128c4d8f2bd8539765\", element=\"4bec51cc-f32d-4e76-b108-10adc0e28c38\")>,\n",
       " <selenium.webdriver.remote.webelement.WebElement (session=\"23dda1cddc097b128c4d8f2bd8539765\", element=\"9ed92404-1da2-442e-8c60-e61b91ab0160\")>,\n",
       " <selenium.webdriver.remote.webelement.WebElement (session=\"23dda1cddc097b128c4d8f2bd8539765\", element=\"ee0c40d3-bfbb-4ac0-aad4-55eae34e2a3c\")>,\n",
       " <selenium.webdriver.remote.webelement.WebElement (session=\"23dda1cddc097b128c4d8f2bd8539765\", element=\"3ba7ac02-2921-4818-a49c-8c0ac31c9a04\")>,\n",
       " <selenium.webdriver.remote.webelement.WebElement (session=\"23dda1cddc097b128c4d8f2bd8539765\", element=\"1d7ccbe0-0338-48c8-8db2-359d281d16cf\")>,\n",
       " <selenium.webdriver.remote.webelement.WebElement (session=\"23dda1cddc097b128c4d8f2bd8539765\", element=\"1c59195c-1f23-4bb0-9bf3-a7fbeb9bf5d4\")>,\n",
       " <selenium.webdriver.remote.webelement.WebElement (session=\"23dda1cddc097b128c4d8f2bd8539765\", element=\"a8961a35-37c4-415b-bd07-4576591266e8\")>,\n",
       " <selenium.webdriver.remote.webelement.WebElement (session=\"23dda1cddc097b128c4d8f2bd8539765\", element=\"d5a231c0-0d4a-4bec-abba-3b0d4299fba3\")>,\n",
       " <selenium.webdriver.remote.webelement.WebElement (session=\"23dda1cddc097b128c4d8f2bd8539765\", element=\"c7a1a82e-5571-4188-9322-a03048df9343\")>,\n",
       " <selenium.webdriver.remote.webelement.WebElement (session=\"23dda1cddc097b128c4d8f2bd8539765\", element=\"95de9b25-7a0f-4d88-b044-399d95566b1f\")>,\n",
       " <selenium.webdriver.remote.webelement.WebElement (session=\"23dda1cddc097b128c4d8f2bd8539765\", element=\"c6d18a02-e8de-4370-9131-818d82150819\")>,\n",
       " <selenium.webdriver.remote.webelement.WebElement (session=\"23dda1cddc097b128c4d8f2bd8539765\", element=\"efcbf675-8772-493a-ad55-ef487bf7101a\")>,\n",
       " <selenium.webdriver.remote.webelement.WebElement (session=\"23dda1cddc097b128c4d8f2bd8539765\", element=\"3dac43aa-70d3-4bf7-a91d-12d4d02c1a39\")>,\n",
       " <selenium.webdriver.remote.webelement.WebElement (session=\"23dda1cddc097b128c4d8f2bd8539765\", element=\"15364160-efd1-4a27-b267-620ad79a89ad\")>,\n",
       " <selenium.webdriver.remote.webelement.WebElement (session=\"23dda1cddc097b128c4d8f2bd8539765\", element=\"c0ea00a4-b81b-4304-8fc2-91d75efd09a4\")>,\n",
       " <selenium.webdriver.remote.webelement.WebElement (session=\"23dda1cddc097b128c4d8f2bd8539765\", element=\"cb2e7661-d294-4fdd-afe8-2d2dccf1dd74\")>,\n",
       " <selenium.webdriver.remote.webelement.WebElement (session=\"23dda1cddc097b128c4d8f2bd8539765\", element=\"cbd7f242-c2d3-4231-bf6d-8f670c262def\")>,\n",
       " <selenium.webdriver.remote.webelement.WebElement (session=\"23dda1cddc097b128c4d8f2bd8539765\", element=\"12dfeae5-9b5a-4937-a73a-b1a051576096\")>,\n",
       " <selenium.webdriver.remote.webelement.WebElement (session=\"23dda1cddc097b128c4d8f2bd8539765\", element=\"cf55826c-dfc2-42ec-b8d0-326b8626fb54\")>,\n",
       " <selenium.webdriver.remote.webelement.WebElement (session=\"23dda1cddc097b128c4d8f2bd8539765\", element=\"ec69ec86-a3f5-4376-8b91-d13f73a2953e\")>,\n",
       " <selenium.webdriver.remote.webelement.WebElement (session=\"23dda1cddc097b128c4d8f2bd8539765\", element=\"42ee0a45-5111-4b97-8e09-8b17a5475fe3\")>,\n",
       " <selenium.webdriver.remote.webelement.WebElement (session=\"23dda1cddc097b128c4d8f2bd8539765\", element=\"688779ec-51bb-49a9-a5af-2f30a4d58889\")>,\n",
       " <selenium.webdriver.remote.webelement.WebElement (session=\"23dda1cddc097b128c4d8f2bd8539765\", element=\"7290cb9a-82da-4371-bb4f-2f63a7162705\")>,\n",
       " <selenium.webdriver.remote.webelement.WebElement (session=\"23dda1cddc097b128c4d8f2bd8539765\", element=\"ab515d6e-b99a-4417-9024-4dbd80611d74\")>,\n",
       " <selenium.webdriver.remote.webelement.WebElement (session=\"23dda1cddc097b128c4d8f2bd8539765\", element=\"8f1bdeef-d75c-48e9-b823-5fd1594ab94d\")>,\n",
       " <selenium.webdriver.remote.webelement.WebElement (session=\"23dda1cddc097b128c4d8f2bd8539765\", element=\"edb5b8e2-912e-41b8-9ce5-e2cffb34679f\")>,\n",
       " <selenium.webdriver.remote.webelement.WebElement (session=\"23dda1cddc097b128c4d8f2bd8539765\", element=\"77696113-1dab-49d9-b2ba-f264053ba2f7\")>,\n",
       " <selenium.webdriver.remote.webelement.WebElement (session=\"23dda1cddc097b128c4d8f2bd8539765\", element=\"31347e6d-8430-4589-9540-85fea8c066fb\")>,\n",
       " <selenium.webdriver.remote.webelement.WebElement (session=\"23dda1cddc097b128c4d8f2bd8539765\", element=\"445f0bf4-683b-4e70-aa43-b490d5872bfa\")>,\n",
       " <selenium.webdriver.remote.webelement.WebElement (session=\"23dda1cddc097b128c4d8f2bd8539765\", element=\"4b4d42d8-f571-45ab-bfbf-917ea4ff9f7c\")>,\n",
       " <selenium.webdriver.remote.webelement.WebElement (session=\"23dda1cddc097b128c4d8f2bd8539765\", element=\"73a3359b-8a84-49b6-b9bf-b31fa869513f\")>,\n",
       " <selenium.webdriver.remote.webelement.WebElement (session=\"23dda1cddc097b128c4d8f2bd8539765\", element=\"b48f4084-3f40-4f81-8683-d730755c940a\")>]"
      ]
     },
     "execution_count": 31,
     "metadata": {},
     "output_type": "execute_result"
    }
   ],
   "source": [
    "ds2=driver.find_elements_by_xpath('//a[@class=\"IRpwTa\"]')\n",
    "ds2"
   ]
  },
  {
   "cell_type": "code",
   "execution_count": 32,
   "id": "a6b27f54",
   "metadata": {},
   "outputs": [],
   "source": [
    "ds22=driver.find_elements_by_xpath('//a[@class=\"IRpwTa _2-ICcC\"]')"
   ]
  },
  {
   "cell_type": "code",
   "execution_count": 33,
   "id": "d899c31f",
   "metadata": {},
   "outputs": [
    {
     "data": {
      "text/plain": [
       "[<selenium.webdriver.remote.webelement.WebElement (session=\"23dda1cddc097b128c4d8f2bd8539765\", element=\"4bec51cc-f32d-4e76-b108-10adc0e28c38\")>,\n",
       " <selenium.webdriver.remote.webelement.WebElement (session=\"23dda1cddc097b128c4d8f2bd8539765\", element=\"9ed92404-1da2-442e-8c60-e61b91ab0160\")>,\n",
       " <selenium.webdriver.remote.webelement.WebElement (session=\"23dda1cddc097b128c4d8f2bd8539765\", element=\"ee0c40d3-bfbb-4ac0-aad4-55eae34e2a3c\")>,\n",
       " <selenium.webdriver.remote.webelement.WebElement (session=\"23dda1cddc097b128c4d8f2bd8539765\", element=\"3ba7ac02-2921-4818-a49c-8c0ac31c9a04\")>,\n",
       " <selenium.webdriver.remote.webelement.WebElement (session=\"23dda1cddc097b128c4d8f2bd8539765\", element=\"1d7ccbe0-0338-48c8-8db2-359d281d16cf\")>,\n",
       " <selenium.webdriver.remote.webelement.WebElement (session=\"23dda1cddc097b128c4d8f2bd8539765\", element=\"1c59195c-1f23-4bb0-9bf3-a7fbeb9bf5d4\")>,\n",
       " <selenium.webdriver.remote.webelement.WebElement (session=\"23dda1cddc097b128c4d8f2bd8539765\", element=\"a8961a35-37c4-415b-bd07-4576591266e8\")>,\n",
       " <selenium.webdriver.remote.webelement.WebElement (session=\"23dda1cddc097b128c4d8f2bd8539765\", element=\"d5a231c0-0d4a-4bec-abba-3b0d4299fba3\")>,\n",
       " <selenium.webdriver.remote.webelement.WebElement (session=\"23dda1cddc097b128c4d8f2bd8539765\", element=\"c7a1a82e-5571-4188-9322-a03048df9343\")>,\n",
       " <selenium.webdriver.remote.webelement.WebElement (session=\"23dda1cddc097b128c4d8f2bd8539765\", element=\"95de9b25-7a0f-4d88-b044-399d95566b1f\")>,\n",
       " <selenium.webdriver.remote.webelement.WebElement (session=\"23dda1cddc097b128c4d8f2bd8539765\", element=\"c6d18a02-e8de-4370-9131-818d82150819\")>,\n",
       " <selenium.webdriver.remote.webelement.WebElement (session=\"23dda1cddc097b128c4d8f2bd8539765\", element=\"efcbf675-8772-493a-ad55-ef487bf7101a\")>,\n",
       " <selenium.webdriver.remote.webelement.WebElement (session=\"23dda1cddc097b128c4d8f2bd8539765\", element=\"3dac43aa-70d3-4bf7-a91d-12d4d02c1a39\")>,\n",
       " <selenium.webdriver.remote.webelement.WebElement (session=\"23dda1cddc097b128c4d8f2bd8539765\", element=\"15364160-efd1-4a27-b267-620ad79a89ad\")>,\n",
       " <selenium.webdriver.remote.webelement.WebElement (session=\"23dda1cddc097b128c4d8f2bd8539765\", element=\"c0ea00a4-b81b-4304-8fc2-91d75efd09a4\")>,\n",
       " <selenium.webdriver.remote.webelement.WebElement (session=\"23dda1cddc097b128c4d8f2bd8539765\", element=\"cb2e7661-d294-4fdd-afe8-2d2dccf1dd74\")>,\n",
       " <selenium.webdriver.remote.webelement.WebElement (session=\"23dda1cddc097b128c4d8f2bd8539765\", element=\"cbd7f242-c2d3-4231-bf6d-8f670c262def\")>,\n",
       " <selenium.webdriver.remote.webelement.WebElement (session=\"23dda1cddc097b128c4d8f2bd8539765\", element=\"12dfeae5-9b5a-4937-a73a-b1a051576096\")>,\n",
       " <selenium.webdriver.remote.webelement.WebElement (session=\"23dda1cddc097b128c4d8f2bd8539765\", element=\"cf55826c-dfc2-42ec-b8d0-326b8626fb54\")>,\n",
       " <selenium.webdriver.remote.webelement.WebElement (session=\"23dda1cddc097b128c4d8f2bd8539765\", element=\"ec69ec86-a3f5-4376-8b91-d13f73a2953e\")>,\n",
       " <selenium.webdriver.remote.webelement.WebElement (session=\"23dda1cddc097b128c4d8f2bd8539765\", element=\"42ee0a45-5111-4b97-8e09-8b17a5475fe3\")>,\n",
       " <selenium.webdriver.remote.webelement.WebElement (session=\"23dda1cddc097b128c4d8f2bd8539765\", element=\"688779ec-51bb-49a9-a5af-2f30a4d58889\")>,\n",
       " <selenium.webdriver.remote.webelement.WebElement (session=\"23dda1cddc097b128c4d8f2bd8539765\", element=\"7290cb9a-82da-4371-bb4f-2f63a7162705\")>,\n",
       " <selenium.webdriver.remote.webelement.WebElement (session=\"23dda1cddc097b128c4d8f2bd8539765\", element=\"ab515d6e-b99a-4417-9024-4dbd80611d74\")>,\n",
       " <selenium.webdriver.remote.webelement.WebElement (session=\"23dda1cddc097b128c4d8f2bd8539765\", element=\"8f1bdeef-d75c-48e9-b823-5fd1594ab94d\")>,\n",
       " <selenium.webdriver.remote.webelement.WebElement (session=\"23dda1cddc097b128c4d8f2bd8539765\", element=\"edb5b8e2-912e-41b8-9ce5-e2cffb34679f\")>,\n",
       " <selenium.webdriver.remote.webelement.WebElement (session=\"23dda1cddc097b128c4d8f2bd8539765\", element=\"77696113-1dab-49d9-b2ba-f264053ba2f7\")>,\n",
       " <selenium.webdriver.remote.webelement.WebElement (session=\"23dda1cddc097b128c4d8f2bd8539765\", element=\"31347e6d-8430-4589-9540-85fea8c066fb\")>,\n",
       " <selenium.webdriver.remote.webelement.WebElement (session=\"23dda1cddc097b128c4d8f2bd8539765\", element=\"445f0bf4-683b-4e70-aa43-b490d5872bfa\")>,\n",
       " <selenium.webdriver.remote.webelement.WebElement (session=\"23dda1cddc097b128c4d8f2bd8539765\", element=\"4b4d42d8-f571-45ab-bfbf-917ea4ff9f7c\")>,\n",
       " <selenium.webdriver.remote.webelement.WebElement (session=\"23dda1cddc097b128c4d8f2bd8539765\", element=\"73a3359b-8a84-49b6-b9bf-b31fa869513f\")>,\n",
       " <selenium.webdriver.remote.webelement.WebElement (session=\"23dda1cddc097b128c4d8f2bd8539765\", element=\"b48f4084-3f40-4f81-8683-d730755c940a\")>,\n",
       " <selenium.webdriver.remote.webelement.WebElement (session=\"23dda1cddc097b128c4d8f2bd8539765\", element=\"61c9a921-9b04-403c-9c40-a96625b87f6a\")>,\n",
       " <selenium.webdriver.remote.webelement.WebElement (session=\"23dda1cddc097b128c4d8f2bd8539765\", element=\"d567605f-0fac-4caa-ba81-0977e84a43e6\")>,\n",
       " <selenium.webdriver.remote.webelement.WebElement (session=\"23dda1cddc097b128c4d8f2bd8539765\", element=\"8b859bb0-1288-4c10-bcc0-f20cd153a057\")>,\n",
       " <selenium.webdriver.remote.webelement.WebElement (session=\"23dda1cddc097b128c4d8f2bd8539765\", element=\"77c60626-7fba-4a00-a2ef-9c0cc5c86c67\")>,\n",
       " <selenium.webdriver.remote.webelement.WebElement (session=\"23dda1cddc097b128c4d8f2bd8539765\", element=\"ede40b7e-f4e5-4389-a196-3628aaa24ea7\")>,\n",
       " <selenium.webdriver.remote.webelement.WebElement (session=\"23dda1cddc097b128c4d8f2bd8539765\", element=\"78e1d8aa-6379-4d83-9b66-02762780beec\")>,\n",
       " <selenium.webdriver.remote.webelement.WebElement (session=\"23dda1cddc097b128c4d8f2bd8539765\", element=\"17f61923-775b-4b5f-ad09-fefcca7f0245\")>,\n",
       " <selenium.webdriver.remote.webelement.WebElement (session=\"23dda1cddc097b128c4d8f2bd8539765\", element=\"e8e9e6b7-5982-41e3-9175-abbcf20c593c\")>,\n",
       " <selenium.webdriver.remote.webelement.WebElement (session=\"23dda1cddc097b128c4d8f2bd8539765\", element=\"2d91160e-0dec-4a62-82ce-a5ce0c8b2d3d\")>]"
      ]
     },
     "execution_count": 33,
     "metadata": {},
     "output_type": "execute_result"
    }
   ],
   "source": [
    "ds2+ds11"
   ]
  },
  {
   "cell_type": "code",
   "execution_count": 34,
   "id": "cfafd598",
   "metadata": {},
   "outputs": [
    {
     "data": {
      "text/plain": [
       "['Sneakers For Men',\n",
       " 'Super Stylish & Trendy Combo Pack of 02 Pairs Sneakers ...',\n",
       " 'Sneakers For Men',\n",
       " '5011-Latest Collection Stylish Casual Loafer Sneakers S...',\n",
       " 'Modern Trendy Sneakers Shoes Sneakers For Men',\n",
       " 'Men White Printed Sneakers Sneakers For Men',\n",
       " 'Luxury Fashionable casual sneaker shoes Sneakers For Me...',\n",
       " 'Kwik FIT casual sneaker shoes and partywear shoes Casua...',\n",
       " 'Series 7 Sneakers For Men',\n",
       " 'Sneakers For Men',\n",
       " \"Casual , Partywear Sneakers Shoes For Men's And Boys Wh...\",\n",
       " \"White Sneaker For Men's/Boy's Sneakers For Men\",\n",
       " 'Sneakers For Men',\n",
       " 'Sneakers For Men',\n",
       " 'Modern & Trendy Collection Combo Pack of 02 Shoes for M...',\n",
       " 'Stylish Comfortable Lightweight, Breathable Running Sho...',\n",
       " 'Sneakers For Men',\n",
       " 'Sneakers For Men',\n",
       " 'Sneakers For Men',\n",
       " 'Sneakers For Men',\n",
       " 'Combo Pack Of 4 Casual Shoes Loafer Shoes Sneakers For ...',\n",
       " 'Sneakers For Men',\n",
       " 'Sneaker Sneakers For Men',\n",
       " 'Shark-41 Sneakers For Men',\n",
       " 'Sneakers For Men',\n",
       " 'Sneakers For Men',\n",
       " 'Men Grey Woven Design Sneakers Sneakers For Men',\n",
       " 'Sneakers For Men',\n",
       " 'Sneakers For Men',\n",
       " 'Luxury Fashionable casual sneaker shoes Sneakers For Me...',\n",
       " 'Combo Pack Of 3 Sneakers For Men',\n",
       " 'Sneakers For Men',\n",
       " 'STYLISH MENS BLACK SNEAKER Sneakers For Men',\n",
       " 'Sneakers Sneakers For Men',\n",
       " 'Sneakers For Men',\n",
       " 'EXPLORE Sneakers For Men',\n",
       " 'Comfortable Lightweight| New Series Sneakers For Men',\n",
       " 'Sneakers For Men',\n",
       " 'Stylish & Trendy Sneakers For Men',\n",
       " 'Sneakers For Men',\n",
       " \"white Casual shoes,Sneakers for men's Sneakers For Men\",\n",
       " 'casual sneaker shoes for men kardam&sons Sneakers For M...',\n",
       " 'Sneakers For Men',\n",
       " 'Sneakers For Men',\n",
       " 'Lattest Sneakers Shoe Sneakers For Men',\n",
       " 'Men 5014 Latest Collection Stylish Casual Sports Loafer...',\n",
       " \"Men's Sneakers Fashion Lightweight Running Shoes Tennis...\",\n",
       " 'Sneakers For Men',\n",
       " 'sneaker men red 1258 - 6 Sneakers For Men',\n",
       " 'Men White Printed Sneakers Sneakers For Men',\n",
       " 'Casual Sneakrs For Men Sneakers For Men',\n",
       " 'Combo Pack Of 2 Latest Stylish Casual Shoes for Men Lac...',\n",
       " 'Sneakers For Men',\n",
       " '516 Trendy Star Perfect Sneakers For Men',\n",
       " 'Modern & Trendy Collection Combo Pack of 02 Shoes for M...',\n",
       " 'Sports Running Shoes Sneakers For Men',\n",
       " 'Latest Collection-1227 Stylish Casual Sports Sneakers F...',\n",
       " 'Casual Sneakers Shoes for Men Pack of 5 Combo(O)-1667-3...',\n",
       " 'Sneakers For Men',\n",
       " 'Stylish Comfortable Lightweight, Breathable Running Sho...',\n",
       " 'casual sneakers shoes For Mens Multicolor Combo(MR)-179...',\n",
       " 'Sneakers For Men',\n",
       " 'Unique & Perfect Collection Combo Pack of 02 Shoes for ...',\n",
       " '411 Casual Sneakers For Men',\n",
       " \"Perfect Sports Shoes for Men's Running ,Cycling & Trekk...\",\n",
       " 'Sneakers For Men',\n",
       " 'Sneakers For Men',\n",
       " \"Casual , Partywear Sneakers Shoes For Men's And Boys Wh...\",\n",
       " 'Sneakers For Men',\n",
       " 'Sneakers For Men',\n",
       " 'Sneakers For Men',\n",
       " 'Men Grey Woven Design Sneakers Sneakers For Men',\n",
       " 'Classy Sneakers For Men',\n",
       " 'Sneakers For Men',\n",
       " 'Sneakers For Men',\n",
       " 'Sneakers For Men',\n",
       " 'Comfortable Lightweight| New Series Sneakers For Men',\n",
       " 'Sneakers For Men',\n",
       " 'Sneakers For Men',\n",
       " 'Stylish & Trendy Sneakers For Men']"
      ]
     },
     "execution_count": 34,
     "metadata": {},
     "output_type": "execute_result"
    }
   ],
   "source": [
    "for i in ds2+ds22:\n",
    "    dsc.append(i.text)\n",
    "dsc"
   ]
  },
  {
   "cell_type": "code",
   "execution_count": 35,
   "id": "8918f56c",
   "metadata": {},
   "outputs": [
    {
     "data": {
      "text/plain": [
       "80"
      ]
     },
     "execution_count": 35,
     "metadata": {},
     "output_type": "execute_result"
    }
   ],
   "source": [
    "len(dsc)"
   ]
  },
  {
   "cell_type": "code",
   "execution_count": 36,
   "id": "3a0acdb7",
   "metadata": {},
   "outputs": [
    {
     "data": {
      "text/plain": [
       "<selenium.webdriver.remote.webelement.WebElement (session=\"23dda1cddc097b128c4d8f2bd8539765\", element=\"b218483b-0091-4153-9936-7ecb808dbb46\")>"
      ]
     },
     "execution_count": 36,
     "metadata": {},
     "output_type": "execute_result"
    }
   ],
   "source": [
    "bt3=driver.find_element_by_xpath('/html/body/div[1]/div/div[3]/div[1]/div[2]/div[12]/div/div/nav/a[12]/span')\n",
    "bt3"
   ]
  },
  {
   "cell_type": "code",
   "execution_count": 37,
   "id": "f1b2569f",
   "metadata": {},
   "outputs": [],
   "source": [
    "bt3.click()"
   ]
  },
  {
   "cell_type": "code",
   "execution_count": 38,
   "id": "b61c9b44",
   "metadata": {},
   "outputs": [
    {
     "data": {
      "text/plain": [
       "[<selenium.webdriver.remote.webelement.WebElement (session=\"23dda1cddc097b128c4d8f2bd8539765\", element=\"2c582a07-5e3e-4ff6-b67c-efc2203ae1b4\")>,\n",
       " <selenium.webdriver.remote.webelement.WebElement (session=\"23dda1cddc097b128c4d8f2bd8539765\", element=\"45bf58c4-cd42-4ab2-aecb-bb3f70339a03\")>,\n",
       " <selenium.webdriver.remote.webelement.WebElement (session=\"23dda1cddc097b128c4d8f2bd8539765\", element=\"12f85eed-907f-43dc-ae63-f58e90784a77\")>,\n",
       " <selenium.webdriver.remote.webelement.WebElement (session=\"23dda1cddc097b128c4d8f2bd8539765\", element=\"cedc7163-4d5e-4dc9-8b8a-4430a1d2b9cc\")>,\n",
       " <selenium.webdriver.remote.webelement.WebElement (session=\"23dda1cddc097b128c4d8f2bd8539765\", element=\"b1eaf8dc-6620-4de5-806c-eb831b057d73\")>,\n",
       " <selenium.webdriver.remote.webelement.WebElement (session=\"23dda1cddc097b128c4d8f2bd8539765\", element=\"befa51a4-c2d2-4edb-80b3-f21417ad6063\")>,\n",
       " <selenium.webdriver.remote.webelement.WebElement (session=\"23dda1cddc097b128c4d8f2bd8539765\", element=\"c4877b9e-9c9f-4d72-a85a-896ef7dc3577\")>,\n",
       " <selenium.webdriver.remote.webelement.WebElement (session=\"23dda1cddc097b128c4d8f2bd8539765\", element=\"9450bc77-5aaa-4dcf-8cdb-fda09279d39d\")>,\n",
       " <selenium.webdriver.remote.webelement.WebElement (session=\"23dda1cddc097b128c4d8f2bd8539765\", element=\"2edfb065-7e97-4177-8b71-0164254d1e76\")>,\n",
       " <selenium.webdriver.remote.webelement.WebElement (session=\"23dda1cddc097b128c4d8f2bd8539765\", element=\"9d6b2f35-8ea9-4c39-8724-f9d1c89f6a80\")>,\n",
       " <selenium.webdriver.remote.webelement.WebElement (session=\"23dda1cddc097b128c4d8f2bd8539765\", element=\"3e1f2b80-c444-408a-b22c-79909a0a6de5\")>,\n",
       " <selenium.webdriver.remote.webelement.WebElement (session=\"23dda1cddc097b128c4d8f2bd8539765\", element=\"e57e95e6-5e58-423d-98e9-0e50a2da056c\")>,\n",
       " <selenium.webdriver.remote.webelement.WebElement (session=\"23dda1cddc097b128c4d8f2bd8539765\", element=\"7fe5ea95-8a23-41a3-ac6c-3a57c7512a25\")>,\n",
       " <selenium.webdriver.remote.webelement.WebElement (session=\"23dda1cddc097b128c4d8f2bd8539765\", element=\"1e620df8-365c-4407-87f5-c81bc55299c6\")>,\n",
       " <selenium.webdriver.remote.webelement.WebElement (session=\"23dda1cddc097b128c4d8f2bd8539765\", element=\"25ee690a-c340-4679-9680-b96b30a0a434\")>,\n",
       " <selenium.webdriver.remote.webelement.WebElement (session=\"23dda1cddc097b128c4d8f2bd8539765\", element=\"1f301e0a-33a8-4a45-b339-ca3949e14cdf\")>,\n",
       " <selenium.webdriver.remote.webelement.WebElement (session=\"23dda1cddc097b128c4d8f2bd8539765\", element=\"16f88e35-16b7-4b89-9673-07dbf8e496a0\")>,\n",
       " <selenium.webdriver.remote.webelement.WebElement (session=\"23dda1cddc097b128c4d8f2bd8539765\", element=\"fd95cfb1-d09a-4d97-9e69-acd4d07b3541\")>,\n",
       " <selenium.webdriver.remote.webelement.WebElement (session=\"23dda1cddc097b128c4d8f2bd8539765\", element=\"e50e5b80-4bc9-4fb8-a9f3-11e246535874\")>,\n",
       " <selenium.webdriver.remote.webelement.WebElement (session=\"23dda1cddc097b128c4d8f2bd8539765\", element=\"69930120-cd37-4f2d-b8ce-a8e50246577f\")>,\n",
       " <selenium.webdriver.remote.webelement.WebElement (session=\"23dda1cddc097b128c4d8f2bd8539765\", element=\"81638f41-3281-44d9-86d9-409671e9ba8f\")>,\n",
       " <selenium.webdriver.remote.webelement.WebElement (session=\"23dda1cddc097b128c4d8f2bd8539765\", element=\"29f0e17a-3f0c-4712-8f3b-aa5da97371a2\")>,\n",
       " <selenium.webdriver.remote.webelement.WebElement (session=\"23dda1cddc097b128c4d8f2bd8539765\", element=\"2ea33a82-4fe9-4f9f-bc70-08fde920a05b\")>,\n",
       " <selenium.webdriver.remote.webelement.WebElement (session=\"23dda1cddc097b128c4d8f2bd8539765\", element=\"69666887-3660-44af-89aa-2149af47dd21\")>,\n",
       " <selenium.webdriver.remote.webelement.WebElement (session=\"23dda1cddc097b128c4d8f2bd8539765\", element=\"4af71b5e-29d5-4a8b-b8de-a4cef4405f0d\")>,\n",
       " <selenium.webdriver.remote.webelement.WebElement (session=\"23dda1cddc097b128c4d8f2bd8539765\", element=\"e7242e6c-8feb-4e51-be58-0bdd7bc14d3a\")>,\n",
       " <selenium.webdriver.remote.webelement.WebElement (session=\"23dda1cddc097b128c4d8f2bd8539765\", element=\"68ffa1e8-7bb9-417e-a260-1096af63f42b\")>,\n",
       " <selenium.webdriver.remote.webelement.WebElement (session=\"23dda1cddc097b128c4d8f2bd8539765\", element=\"660aaf20-a64f-4245-8298-0ead606fcc7d\")>,\n",
       " <selenium.webdriver.remote.webelement.WebElement (session=\"23dda1cddc097b128c4d8f2bd8539765\", element=\"b0d07cb9-14c7-44ef-93b5-8070fff7bfd2\")>,\n",
       " <selenium.webdriver.remote.webelement.WebElement (session=\"23dda1cddc097b128c4d8f2bd8539765\", element=\"aa239260-7303-442c-a2b4-858820121e17\")>,\n",
       " <selenium.webdriver.remote.webelement.WebElement (session=\"23dda1cddc097b128c4d8f2bd8539765\", element=\"74f0cefa-5aee-4373-8110-0dc2e17bbe46\")>,\n",
       " <selenium.webdriver.remote.webelement.WebElement (session=\"23dda1cddc097b128c4d8f2bd8539765\", element=\"07250c40-7a93-44a5-bf4c-6999ac0b6dfa\")>,\n",
       " <selenium.webdriver.remote.webelement.WebElement (session=\"23dda1cddc097b128c4d8f2bd8539765\", element=\"901cbd9d-e208-4bf6-b87e-af0b5801741a\")>,\n",
       " <selenium.webdriver.remote.webelement.WebElement (session=\"23dda1cddc097b128c4d8f2bd8539765\", element=\"685b9f98-4949-4d7d-b122-e512936b7873\")>,\n",
       " <selenium.webdriver.remote.webelement.WebElement (session=\"23dda1cddc097b128c4d8f2bd8539765\", element=\"29663741-70eb-411c-b2f3-c8fc074db913\")>,\n",
       " <selenium.webdriver.remote.webelement.WebElement (session=\"23dda1cddc097b128c4d8f2bd8539765\", element=\"fd1097e1-a948-4235-821f-8692685df05e\")>,\n",
       " <selenium.webdriver.remote.webelement.WebElement (session=\"23dda1cddc097b128c4d8f2bd8539765\", element=\"18637901-865e-4d6b-b4a2-9f765a17d813\")>,\n",
       " <selenium.webdriver.remote.webelement.WebElement (session=\"23dda1cddc097b128c4d8f2bd8539765\", element=\"8d377eee-807e-4ebc-acd9-a97d0dd655f9\")>,\n",
       " <selenium.webdriver.remote.webelement.WebElement (session=\"23dda1cddc097b128c4d8f2bd8539765\", element=\"a4c95931-8f8d-48d4-a659-fd7278560b69\")>,\n",
       " <selenium.webdriver.remote.webelement.WebElement (session=\"23dda1cddc097b128c4d8f2bd8539765\", element=\"5e56083e-67db-45ee-a1dd-62c3f17794cc\")>]"
      ]
     },
     "execution_count": 38,
     "metadata": {},
     "output_type": "execute_result"
    }
   ],
   "source": [
    "br3=driver.find_elements_by_xpath('//div[@class=\"_2WkVRV\"]')\n",
    "br3\n",
    "                        "
   ]
  },
  {
   "cell_type": "code",
   "execution_count": 39,
   "id": "4e15b9e4",
   "metadata": {},
   "outputs": [
    {
     "data": {
      "text/plain": [
       "40"
      ]
     },
     "execution_count": 39,
     "metadata": {},
     "output_type": "execute_result"
    }
   ],
   "source": [
    "len(br3)"
   ]
  },
  {
   "cell_type": "code",
   "execution_count": 40,
   "id": "01e0e518",
   "metadata": {},
   "outputs": [
    {
     "data": {
      "text/plain": [
       "['Numenzo',\n",
       " 'RapidBox',\n",
       " 'Chevit',\n",
       " 'Magnolia',\n",
       " 'corsac',\n",
       " 'World Wear Footwear',\n",
       " 'BRUTON',\n",
       " 'HRX by Hrithik Roshan',\n",
       " 'luxury fashion',\n",
       " 'KWIK FIT',\n",
       " 'Kraasa',\n",
       " 'Navtrend',\n",
       " 'D-SNEAKERZ',\n",
       " 'URBANBOX',\n",
       " 'Shoes Bank',\n",
       " 'RapidBox',\n",
       " 'Magnolia',\n",
       " 'aadi',\n",
       " 'BRUTON',\n",
       " 'BIRDE',\n",
       " 'DUNKASTON',\n",
       " 'World Wear Footwear',\n",
       " 'CAMPUS',\n",
       " 'Varito',\n",
       " 'CLYMB',\n",
       " 'Elevarse',\n",
       " 'BRUTON',\n",
       " 'RapidBox',\n",
       " 'SCATCHITE',\n",
       " 'BRUTON',\n",
       " 'Kraasa',\n",
       " 'RapidBox',\n",
       " 'RapidBox',\n",
       " 'Kzaara',\n",
       " 'luxury fashion',\n",
       " 'HRX by Hrithik Roshan',\n",
       " 'Labbin',\n",
       " 'Rzisbo',\n",
       " 'India hub',\n",
       " 'CALCADOS',\n",
       " 'Xtoon',\n",
       " 'Stefano Rads',\n",
       " 'India hub',\n",
       " 'Numenzo',\n",
       " 'Numenzo',\n",
       " 'BRUTON',\n",
       " 'World Wear Footwear',\n",
       " 'RapidBox',\n",
       " 'Echor',\n",
       " 'RAFTAR FASHION',\n",
       " 'Airland',\n",
       " 'HRX by Hrithik Roshan',\n",
       " 'Vellinto',\n",
       " 'Zsyto',\n",
       " 'BRUTON',\n",
       " 'Navtrend',\n",
       " 'Chevit',\n",
       " 'BRUTON',\n",
       " 'BIRDE',\n",
       " 'RapidBox',\n",
       " 'World Wear Footwear',\n",
       " 'ORICUM',\n",
       " 'Ktiz',\n",
       " 'BIRDE',\n",
       " 'SWIGGY',\n",
       " 'TR',\n",
       " 'Chevit',\n",
       " 'Varito',\n",
       " 'Numenzo',\n",
       " 'CLYMB',\n",
       " 'Robbie jones',\n",
       " 'RapidBox',\n",
       " 'ASTEROID',\n",
       " 'D-SNEAKERZ',\n",
       " 'Arohi',\n",
       " 'RapidBox',\n",
       " 'Robbie jones',\n",
       " 'Magnolia',\n",
       " 'AMICO',\n",
       " 'HRX by Hrithik Roshan',\n",
       " 'Zorth',\n",
       " 'AMICO',\n",
       " 'ESSENCE',\n",
       " 'Numenzo',\n",
       " 'Robbie jones',\n",
       " 'T-ROCK',\n",
       " 'Stinson',\n",
       " 'Bacan',\n",
       " 'ADIDAS',\n",
       " 'CLYMB',\n",
       " 'LE GREEM',\n",
       " 'HRX by Hrithik Roshan',\n",
       " 'Dizzler',\n",
       " 'ASIAN',\n",
       " 'Echor',\n",
       " 'Navtrend',\n",
       " 'Zorth',\n",
       " 'Numenzo',\n",
       " 'Nilatin',\n",
       " 'RapidBox',\n",
       " 'RANZAG',\n",
       " 'PUMA',\n",
       " 'KNIGHT WALKERS',\n",
       " 'BIRDE',\n",
       " 'asics',\n",
       " 'Magnolia',\n",
       " 'DUNKASTON',\n",
       " 'RapidBox',\n",
       " 'Bond Street By Red Tape',\n",
       " 'PUMA',\n",
       " 'Rzisbo',\n",
       " 'RapidBox',\n",
       " 'Hot & Knot',\n",
       " 'Noztile',\n",
       " 'BIRDE',\n",
       " 'Varito',\n",
       " 'aadi',\n",
       " 'bluemaker',\n",
       " 'Brainer',\n",
       " 'HRX by Hrithik Roshan']"
      ]
     },
     "execution_count": 40,
     "metadata": {},
     "output_type": "execute_result"
    }
   ],
   "source": [
    "for i in br3:\n",
    "    brand.append(i.text)\n",
    "brand"
   ]
  },
  {
   "cell_type": "code",
   "execution_count": 41,
   "id": "9df26d4a",
   "metadata": {},
   "outputs": [
    {
     "data": {
      "text/plain": [
       "120"
      ]
     },
     "execution_count": 41,
     "metadata": {},
     "output_type": "execute_result"
    }
   ],
   "source": [
    "len(brand)"
   ]
  },
  {
   "cell_type": "code",
   "execution_count": 42,
   "id": "045369b3",
   "metadata": {},
   "outputs": [
    {
     "data": {
      "text/plain": [
       "[<selenium.webdriver.remote.webelement.WebElement (session=\"23dda1cddc097b128c4d8f2bd8539765\", element=\"0cad3aec-279c-4158-933f-085f29daea1b\")>,\n",
       " <selenium.webdriver.remote.webelement.WebElement (session=\"23dda1cddc097b128c4d8f2bd8539765\", element=\"9ef4650e-2222-47cd-a76e-0bfb0ab661db\")>,\n",
       " <selenium.webdriver.remote.webelement.WebElement (session=\"23dda1cddc097b128c4d8f2bd8539765\", element=\"660a460c-c24f-4bde-b01d-46f49b07c2c2\")>,\n",
       " <selenium.webdriver.remote.webelement.WebElement (session=\"23dda1cddc097b128c4d8f2bd8539765\", element=\"daec71db-2f30-4a5d-98e2-6899260b3c33\")>,\n",
       " <selenium.webdriver.remote.webelement.WebElement (session=\"23dda1cddc097b128c4d8f2bd8539765\", element=\"de5a2a89-95df-40e4-bc01-fcc4258f8c3e\")>,\n",
       " <selenium.webdriver.remote.webelement.WebElement (session=\"23dda1cddc097b128c4d8f2bd8539765\", element=\"25903448-997e-488d-86c0-ac1ab5a1edae\")>,\n",
       " <selenium.webdriver.remote.webelement.WebElement (session=\"23dda1cddc097b128c4d8f2bd8539765\", element=\"4bff5a6b-f1a7-43b4-a099-5b303c517599\")>,\n",
       " <selenium.webdriver.remote.webelement.WebElement (session=\"23dda1cddc097b128c4d8f2bd8539765\", element=\"9ab796db-036d-416a-9a77-68a58a1e64bb\")>,\n",
       " <selenium.webdriver.remote.webelement.WebElement (session=\"23dda1cddc097b128c4d8f2bd8539765\", element=\"ac235279-2892-4898-8116-effc9464721c\")>,\n",
       " <selenium.webdriver.remote.webelement.WebElement (session=\"23dda1cddc097b128c4d8f2bd8539765\", element=\"abfedade-ab49-4304-8213-ca01eecfc942\")>,\n",
       " <selenium.webdriver.remote.webelement.WebElement (session=\"23dda1cddc097b128c4d8f2bd8539765\", element=\"5a85bcee-e1ad-4abe-bec0-452cec749f02\")>,\n",
       " <selenium.webdriver.remote.webelement.WebElement (session=\"23dda1cddc097b128c4d8f2bd8539765\", element=\"e6423bad-997e-4c58-8e67-f63ce1b3318b\")>,\n",
       " <selenium.webdriver.remote.webelement.WebElement (session=\"23dda1cddc097b128c4d8f2bd8539765\", element=\"533fc294-c5de-4f5e-a0c6-7f8925a64a7a\")>,\n",
       " <selenium.webdriver.remote.webelement.WebElement (session=\"23dda1cddc097b128c4d8f2bd8539765\", element=\"ece3b112-0eec-432b-a9a9-3b8d65e935c0\")>,\n",
       " <selenium.webdriver.remote.webelement.WebElement (session=\"23dda1cddc097b128c4d8f2bd8539765\", element=\"17a65336-c489-4d7e-965f-59268cb1167e\")>,\n",
       " <selenium.webdriver.remote.webelement.WebElement (session=\"23dda1cddc097b128c4d8f2bd8539765\", element=\"f5a4bf6b-360f-492d-b822-f551048cfd3d\")>,\n",
       " <selenium.webdriver.remote.webelement.WebElement (session=\"23dda1cddc097b128c4d8f2bd8539765\", element=\"12fdb2e1-8e09-4673-b871-11ace76bca11\")>,\n",
       " <selenium.webdriver.remote.webelement.WebElement (session=\"23dda1cddc097b128c4d8f2bd8539765\", element=\"19df0760-cb3f-4fd3-aec5-351f6dd7c328\")>,\n",
       " <selenium.webdriver.remote.webelement.WebElement (session=\"23dda1cddc097b128c4d8f2bd8539765\", element=\"9971bf83-f45c-4326-9f30-7fbdc05ca615\")>,\n",
       " <selenium.webdriver.remote.webelement.WebElement (session=\"23dda1cddc097b128c4d8f2bd8539765\", element=\"3c839f72-f033-41ac-b677-55ea67dbec8b\")>,\n",
       " <selenium.webdriver.remote.webelement.WebElement (session=\"23dda1cddc097b128c4d8f2bd8539765\", element=\"a43bda64-5719-4156-b331-a88d933bebc6\")>,\n",
       " <selenium.webdriver.remote.webelement.WebElement (session=\"23dda1cddc097b128c4d8f2bd8539765\", element=\"1a39fc2c-b105-4432-9fca-b111e927ff9b\")>,\n",
       " <selenium.webdriver.remote.webelement.WebElement (session=\"23dda1cddc097b128c4d8f2bd8539765\", element=\"c3373eb2-e00f-471e-a614-4aecd7750d2f\")>,\n",
       " <selenium.webdriver.remote.webelement.WebElement (session=\"23dda1cddc097b128c4d8f2bd8539765\", element=\"0ecdf789-bb9b-4590-ad31-ea779561f742\")>,\n",
       " <selenium.webdriver.remote.webelement.WebElement (session=\"23dda1cddc097b128c4d8f2bd8539765\", element=\"45f40d52-68a8-4a60-9451-cb5d4473bdd0\")>,\n",
       " <selenium.webdriver.remote.webelement.WebElement (session=\"23dda1cddc097b128c4d8f2bd8539765\", element=\"df528533-0a95-45d5-8794-ec5c8903a31a\")>,\n",
       " <selenium.webdriver.remote.webelement.WebElement (session=\"23dda1cddc097b128c4d8f2bd8539765\", element=\"51bacf95-1c58-45eb-90de-16ac4c499c8d\")>,\n",
       " <selenium.webdriver.remote.webelement.WebElement (session=\"23dda1cddc097b128c4d8f2bd8539765\", element=\"e084baae-1992-4bbe-a379-46daf2de3c07\")>,\n",
       " <selenium.webdriver.remote.webelement.WebElement (session=\"23dda1cddc097b128c4d8f2bd8539765\", element=\"1cadb01e-7cfc-4f4c-89c1-25ed0d52efd7\")>,\n",
       " <selenium.webdriver.remote.webelement.WebElement (session=\"23dda1cddc097b128c4d8f2bd8539765\", element=\"34e2025b-7861-42a5-9ecc-c99deb62c5cc\")>,\n",
       " <selenium.webdriver.remote.webelement.WebElement (session=\"23dda1cddc097b128c4d8f2bd8539765\", element=\"99955f2e-9156-4c05-95df-74ca7feb7eac\")>,\n",
       " <selenium.webdriver.remote.webelement.WebElement (session=\"23dda1cddc097b128c4d8f2bd8539765\", element=\"72413c5e-0f9f-4fc1-869c-d4ee88cf1ae7\")>,\n",
       " <selenium.webdriver.remote.webelement.WebElement (session=\"23dda1cddc097b128c4d8f2bd8539765\", element=\"a93b0cfb-fdb1-45ea-959b-b7c8839e92dc\")>,\n",
       " <selenium.webdriver.remote.webelement.WebElement (session=\"23dda1cddc097b128c4d8f2bd8539765\", element=\"c11056b0-7061-407b-b431-702d862d3aee\")>,\n",
       " <selenium.webdriver.remote.webelement.WebElement (session=\"23dda1cddc097b128c4d8f2bd8539765\", element=\"d9d9c734-e1cd-496a-a6ad-98eea31f1c45\")>,\n",
       " <selenium.webdriver.remote.webelement.WebElement (session=\"23dda1cddc097b128c4d8f2bd8539765\", element=\"73bac526-319a-4407-80e1-436f3c9bfc44\")>,\n",
       " <selenium.webdriver.remote.webelement.WebElement (session=\"23dda1cddc097b128c4d8f2bd8539765\", element=\"a1df93f2-24ab-45c4-b802-89a31bd05ae6\")>,\n",
       " <selenium.webdriver.remote.webelement.WebElement (session=\"23dda1cddc097b128c4d8f2bd8539765\", element=\"0806c7ca-5473-4a78-97aa-a871b7f5260e\")>,\n",
       " <selenium.webdriver.remote.webelement.WebElement (session=\"23dda1cddc097b128c4d8f2bd8539765\", element=\"97fa7ea7-9c15-4ea0-9489-d7461af6c815\")>,\n",
       " <selenium.webdriver.remote.webelement.WebElement (session=\"23dda1cddc097b128c4d8f2bd8539765\", element=\"f3bf845a-2805-4c0c-98a2-9ec7e1ea36eb\")>]"
      ]
     },
     "execution_count": 42,
     "metadata": {},
     "output_type": "execute_result"
    }
   ],
   "source": [
    "pr3=driver.find_elements_by_xpath('//div[@class=\"_30jeq3\"]')\n",
    "pr3"
   ]
  },
  {
   "cell_type": "code",
   "execution_count": 43,
   "id": "cc4c6960",
   "metadata": {},
   "outputs": [
    {
     "data": {
      "text/plain": [
       "40"
      ]
     },
     "execution_count": 43,
     "metadata": {},
     "output_type": "execute_result"
    }
   ],
   "source": [
    "len(pr3)"
   ]
  },
  {
   "cell_type": "code",
   "execution_count": 44,
   "id": "318e2175",
   "metadata": {},
   "outputs": [
    {
     "data": {
      "text/plain": [
       "['₹599',\n",
       " '₹630',\n",
       " '₹501',\n",
       " '₹327',\n",
       " '₹424',\n",
       " '₹149',\n",
       " '₹209',\n",
       " '₹2,049',\n",
       " '₹399',\n",
       " '₹349',\n",
       " '₹394',\n",
       " '₹379',\n",
       " '₹249',\n",
       " '₹148',\n",
       " '₹248',\n",
       " '₹590',\n",
       " '₹349',\n",
       " '₹269',\n",
       " '₹421',\n",
       " '₹369',\n",
       " '₹269',\n",
       " '₹190',\n",
       " '₹999',\n",
       " '₹449',\n",
       " '₹534',\n",
       " '₹349',\n",
       " '₹449',\n",
       " '₹580',\n",
       " '₹348',\n",
       " '₹249',\n",
       " '₹394',\n",
       " '₹570',\n",
       " '₹630',\n",
       " '₹209',\n",
       " '₹439',\n",
       " '₹2,249',\n",
       " '₹424',\n",
       " '₹499',\n",
       " '₹349',\n",
       " '₹618',\n",
       " '₹429',\n",
       " '₹190',\n",
       " '₹399',\n",
       " '₹599',\n",
       " '₹599',\n",
       " '₹249',\n",
       " '₹209',\n",
       " '₹630',\n",
       " '₹424',\n",
       " '₹649',\n",
       " '₹148',\n",
       " '₹2,049',\n",
       " '₹549',\n",
       " '₹261',\n",
       " '₹449',\n",
       " '₹379',\n",
       " '₹209',\n",
       " '₹486',\n",
       " '₹249',\n",
       " '₹590',\n",
       " '₹209',\n",
       " '₹885',\n",
       " '₹398',\n",
       " '₹369',\n",
       " '₹580',\n",
       " '₹272',\n",
       " '₹373',\n",
       " '₹449',\n",
       " '₹424',\n",
       " '₹199',\n",
       " '₹424',\n",
       " '₹580',\n",
       " '₹424',\n",
       " '₹334',\n",
       " '₹380',\n",
       " '₹570',\n",
       " '₹424',\n",
       " '₹327',\n",
       " '₹449',\n",
       " '₹2,249',\n",
       " '₹397',\n",
       " '₹449',\n",
       " '₹349',\n",
       " '₹599',\n",
       " '₹424',\n",
       " '₹349',\n",
       " '₹209',\n",
       " '₹476',\n",
       " '₹1,821',\n",
       " '₹534',\n",
       " '₹399',\n",
       " '₹2,049',\n",
       " '₹445',\n",
       " '₹498',\n",
       " '₹424',\n",
       " '₹379',\n",
       " '₹385',\n",
       " '₹379',\n",
       " '₹599',\n",
       " '₹590',\n",
       " '₹345',\n",
       " '₹1,377',\n",
       " '₹598',\n",
       " '₹369',\n",
       " '₹2,244',\n",
       " '₹307',\n",
       " '₹309',\n",
       " '₹570',\n",
       " '₹999',\n",
       " '₹3,262',\n",
       " '₹549',\n",
       " '₹580',\n",
       " '₹539',\n",
       " '₹349',\n",
       " '₹269',\n",
       " '₹449',\n",
       " '₹269',\n",
       " '₹424',\n",
       " '₹449',\n",
       " '₹2,249']"
      ]
     },
     "execution_count": 44,
     "metadata": {},
     "output_type": "execute_result"
    }
   ],
   "source": [
    "for i in pr3:\n",
    "    prc.append(i.text)\n",
    "prc"
   ]
  },
  {
   "cell_type": "code",
   "execution_count": 45,
   "id": "aea5f7ba",
   "metadata": {},
   "outputs": [
    {
     "data": {
      "text/plain": [
       "120"
      ]
     },
     "execution_count": 45,
     "metadata": {},
     "output_type": "execute_result"
    }
   ],
   "source": [
    "len(prc)"
   ]
  },
  {
   "cell_type": "code",
   "execution_count": 46,
   "id": "e3fe32f1",
   "metadata": {},
   "outputs": [],
   "source": [
    "ds3=driver.find_elements_by_xpath('//a[@class=\"IRpwTa\"]')\n"
   ]
  },
  {
   "cell_type": "code",
   "execution_count": 47,
   "id": "12342756",
   "metadata": {},
   "outputs": [
    {
     "data": {
      "text/plain": [
       "33"
      ]
     },
     "execution_count": 47,
     "metadata": {},
     "output_type": "execute_result"
    }
   ],
   "source": [
    "len(ds3)"
   ]
  },
  {
   "cell_type": "code",
   "execution_count": 49,
   "id": "72ff63d7",
   "metadata": {},
   "outputs": [
    {
     "data": {
      "text/plain": [
       "[<selenium.webdriver.remote.webelement.WebElement (session=\"23dda1cddc097b128c4d8f2bd8539765\", element=\"b405774a-eafc-4606-9611-17fc7967a43a\")>,\n",
       " <selenium.webdriver.remote.webelement.WebElement (session=\"23dda1cddc097b128c4d8f2bd8539765\", element=\"8ecf9b2b-6971-4d4f-9a3d-db15598f80cc\")>,\n",
       " <selenium.webdriver.remote.webelement.WebElement (session=\"23dda1cddc097b128c4d8f2bd8539765\", element=\"2d463836-4545-4ee8-aedd-382f19f27d85\")>,\n",
       " <selenium.webdriver.remote.webelement.WebElement (session=\"23dda1cddc097b128c4d8f2bd8539765\", element=\"553eb181-4eb1-4358-9f91-9d3e770c3b02\")>,\n",
       " <selenium.webdriver.remote.webelement.WebElement (session=\"23dda1cddc097b128c4d8f2bd8539765\", element=\"7f906dca-5c1e-4487-9ffd-b615023108de\")>,\n",
       " <selenium.webdriver.remote.webelement.WebElement (session=\"23dda1cddc097b128c4d8f2bd8539765\", element=\"6a45e023-e04e-4698-a701-67f7caaa8345\")>,\n",
       " <selenium.webdriver.remote.webelement.WebElement (session=\"23dda1cddc097b128c4d8f2bd8539765\", element=\"c2035b2b-1a06-4253-ae8b-6cdb037b3084\")>]"
      ]
     },
     "execution_count": 49,
     "metadata": {},
     "output_type": "execute_result"
    }
   ],
   "source": [
    "ds33=driver.find_elements_by_xpath('//a[@class=\"IRpwTa _2-ICcC\"]')\n",
    "ds33"
   ]
  },
  {
   "cell_type": "code",
   "execution_count": 50,
   "id": "d4e48721",
   "metadata": {},
   "outputs": [
    {
     "data": {
      "text/plain": [
       "[<selenium.webdriver.remote.webelement.WebElement (session=\"23dda1cddc097b128c4d8f2bd8539765\", element=\"f52cf405-0bdc-4e17-b844-18834a01036a\")>,\n",
       " <selenium.webdriver.remote.webelement.WebElement (session=\"23dda1cddc097b128c4d8f2bd8539765\", element=\"af35a7a7-6291-4709-b4e0-fccb10b8aff6\")>,\n",
       " <selenium.webdriver.remote.webelement.WebElement (session=\"23dda1cddc097b128c4d8f2bd8539765\", element=\"8a35190f-2015-4c36-910a-10e9fc83e4bc\")>,\n",
       " <selenium.webdriver.remote.webelement.WebElement (session=\"23dda1cddc097b128c4d8f2bd8539765\", element=\"40ac8543-f516-47b1-9f72-37bd88cb027c\")>,\n",
       " <selenium.webdriver.remote.webelement.WebElement (session=\"23dda1cddc097b128c4d8f2bd8539765\", element=\"de1a59ab-ac48-4a7f-8e7c-2c58ddd7dce2\")>,\n",
       " <selenium.webdriver.remote.webelement.WebElement (session=\"23dda1cddc097b128c4d8f2bd8539765\", element=\"62eb52f9-b685-4117-8bed-788f673e4833\")>,\n",
       " <selenium.webdriver.remote.webelement.WebElement (session=\"23dda1cddc097b128c4d8f2bd8539765\", element=\"5356391c-3717-4b18-b872-57d535ea4f0f\")>,\n",
       " <selenium.webdriver.remote.webelement.WebElement (session=\"23dda1cddc097b128c4d8f2bd8539765\", element=\"760400e2-8e85-44c5-841f-94de08149018\")>,\n",
       " <selenium.webdriver.remote.webelement.WebElement (session=\"23dda1cddc097b128c4d8f2bd8539765\", element=\"dfcbb1fd-bcc5-4aef-b067-dd5f38fc78ec\")>,\n",
       " <selenium.webdriver.remote.webelement.WebElement (session=\"23dda1cddc097b128c4d8f2bd8539765\", element=\"d6999e53-2707-4ce3-8a36-becdebe9c55d\")>,\n",
       " <selenium.webdriver.remote.webelement.WebElement (session=\"23dda1cddc097b128c4d8f2bd8539765\", element=\"7bb9ff97-2cee-415e-b56a-215018db4e64\")>,\n",
       " <selenium.webdriver.remote.webelement.WebElement (session=\"23dda1cddc097b128c4d8f2bd8539765\", element=\"e3f6ba3c-7e52-458c-b227-5fbf2d70aa4c\")>,\n",
       " <selenium.webdriver.remote.webelement.WebElement (session=\"23dda1cddc097b128c4d8f2bd8539765\", element=\"d2361970-acf8-40bc-ac5f-55c89ab00d8a\")>,\n",
       " <selenium.webdriver.remote.webelement.WebElement (session=\"23dda1cddc097b128c4d8f2bd8539765\", element=\"0e4fec41-970f-4f4b-9caf-3aa3eaccd04b\")>,\n",
       " <selenium.webdriver.remote.webelement.WebElement (session=\"23dda1cddc097b128c4d8f2bd8539765\", element=\"59e4e69c-fa05-4fa0-bc3b-f35feabb7fd1\")>,\n",
       " <selenium.webdriver.remote.webelement.WebElement (session=\"23dda1cddc097b128c4d8f2bd8539765\", element=\"f41851c6-537f-4d47-b6e6-72e3c481dc68\")>,\n",
       " <selenium.webdriver.remote.webelement.WebElement (session=\"23dda1cddc097b128c4d8f2bd8539765\", element=\"18be6596-c652-4891-b5c8-d9d4baf2a524\")>,\n",
       " <selenium.webdriver.remote.webelement.WebElement (session=\"23dda1cddc097b128c4d8f2bd8539765\", element=\"d42b2f1f-1312-4a68-87cb-e54e3fb4ea72\")>,\n",
       " <selenium.webdriver.remote.webelement.WebElement (session=\"23dda1cddc097b128c4d8f2bd8539765\", element=\"db8f618c-b627-4ebf-a736-4f3a6a39c726\")>,\n",
       " <selenium.webdriver.remote.webelement.WebElement (session=\"23dda1cddc097b128c4d8f2bd8539765\", element=\"15c6c4a5-cb8f-4f9c-aed9-ab5265e479dd\")>,\n",
       " <selenium.webdriver.remote.webelement.WebElement (session=\"23dda1cddc097b128c4d8f2bd8539765\", element=\"6aec9654-8b13-4555-896b-d66d9fc0a103\")>,\n",
       " <selenium.webdriver.remote.webelement.WebElement (session=\"23dda1cddc097b128c4d8f2bd8539765\", element=\"95bd1f3a-fa2e-4c4e-87f2-52fbafd0f7f2\")>,\n",
       " <selenium.webdriver.remote.webelement.WebElement (session=\"23dda1cddc097b128c4d8f2bd8539765\", element=\"60cc3bab-c033-46ac-8b16-cf0958b2f59e\")>,\n",
       " <selenium.webdriver.remote.webelement.WebElement (session=\"23dda1cddc097b128c4d8f2bd8539765\", element=\"39d77a28-348d-4212-a099-719bb20038bb\")>,\n",
       " <selenium.webdriver.remote.webelement.WebElement (session=\"23dda1cddc097b128c4d8f2bd8539765\", element=\"fc3521ad-f77a-4592-94e4-854380f36308\")>,\n",
       " <selenium.webdriver.remote.webelement.WebElement (session=\"23dda1cddc097b128c4d8f2bd8539765\", element=\"31b5cee6-2808-40c2-8458-3e39db992e63\")>,\n",
       " <selenium.webdriver.remote.webelement.WebElement (session=\"23dda1cddc097b128c4d8f2bd8539765\", element=\"df3c0bfc-90fc-46ec-a38a-00fc3c3eae69\")>,\n",
       " <selenium.webdriver.remote.webelement.WebElement (session=\"23dda1cddc097b128c4d8f2bd8539765\", element=\"e7a397fc-429c-468f-acc7-3c8bc3b91f2c\")>,\n",
       " <selenium.webdriver.remote.webelement.WebElement (session=\"23dda1cddc097b128c4d8f2bd8539765\", element=\"cedc8822-31d3-4f68-9885-03ffd5cc8b83\")>,\n",
       " <selenium.webdriver.remote.webelement.WebElement (session=\"23dda1cddc097b128c4d8f2bd8539765\", element=\"36e196fe-d7f1-449b-98b3-5f7cfde7bb9c\")>,\n",
       " <selenium.webdriver.remote.webelement.WebElement (session=\"23dda1cddc097b128c4d8f2bd8539765\", element=\"19cdfae4-462e-4701-9541-388dae24d3ce\")>,\n",
       " <selenium.webdriver.remote.webelement.WebElement (session=\"23dda1cddc097b128c4d8f2bd8539765\", element=\"2f2d0a27-9dc0-467e-8307-a3da94e9d090\")>,\n",
       " <selenium.webdriver.remote.webelement.WebElement (session=\"23dda1cddc097b128c4d8f2bd8539765\", element=\"ed16eaa1-35b3-4c2c-a1f2-bfa26e1a9d28\")>,\n",
       " <selenium.webdriver.remote.webelement.WebElement (session=\"23dda1cddc097b128c4d8f2bd8539765\", element=\"b405774a-eafc-4606-9611-17fc7967a43a\")>,\n",
       " <selenium.webdriver.remote.webelement.WebElement (session=\"23dda1cddc097b128c4d8f2bd8539765\", element=\"8ecf9b2b-6971-4d4f-9a3d-db15598f80cc\")>,\n",
       " <selenium.webdriver.remote.webelement.WebElement (session=\"23dda1cddc097b128c4d8f2bd8539765\", element=\"2d463836-4545-4ee8-aedd-382f19f27d85\")>,\n",
       " <selenium.webdriver.remote.webelement.WebElement (session=\"23dda1cddc097b128c4d8f2bd8539765\", element=\"553eb181-4eb1-4358-9f91-9d3e770c3b02\")>,\n",
       " <selenium.webdriver.remote.webelement.WebElement (session=\"23dda1cddc097b128c4d8f2bd8539765\", element=\"7f906dca-5c1e-4487-9ffd-b615023108de\")>,\n",
       " <selenium.webdriver.remote.webelement.WebElement (session=\"23dda1cddc097b128c4d8f2bd8539765\", element=\"6a45e023-e04e-4698-a701-67f7caaa8345\")>,\n",
       " <selenium.webdriver.remote.webelement.WebElement (session=\"23dda1cddc097b128c4d8f2bd8539765\", element=\"c2035b2b-1a06-4253-ae8b-6cdb037b3084\")>]"
      ]
     },
     "execution_count": 50,
     "metadata": {},
     "output_type": "execute_result"
    }
   ],
   "source": [
    "ds3+ds33"
   ]
  },
  {
   "cell_type": "code",
   "execution_count": 51,
   "id": "d580f1e2",
   "metadata": {},
   "outputs": [
    {
     "data": {
      "text/plain": [
       "['Sneakers For Men',\n",
       " 'Super Stylish & Trendy Combo Pack of 02 Pairs Sneakers ...',\n",
       " 'Sneakers For Men',\n",
       " '5011-Latest Collection Stylish Casual Loafer Sneakers S...',\n",
       " 'Modern Trendy Sneakers Shoes Sneakers For Men',\n",
       " 'Men White Printed Sneakers Sneakers For Men',\n",
       " 'Luxury Fashionable casual sneaker shoes Sneakers For Me...',\n",
       " 'Kwik FIT casual sneaker shoes and partywear shoes Casua...',\n",
       " 'Series 7 Sneakers For Men',\n",
       " 'Sneakers For Men',\n",
       " \"Casual , Partywear Sneakers Shoes For Men's And Boys Wh...\",\n",
       " \"White Sneaker For Men's/Boy's Sneakers For Men\",\n",
       " 'Sneakers For Men',\n",
       " 'Sneakers For Men',\n",
       " 'Modern & Trendy Collection Combo Pack of 02 Shoes for M...',\n",
       " 'Stylish Comfortable Lightweight, Breathable Running Sho...',\n",
       " 'Sneakers For Men',\n",
       " 'Sneakers For Men',\n",
       " 'Sneakers For Men',\n",
       " 'Sneakers For Men',\n",
       " 'Combo Pack Of 4 Casual Shoes Loafer Shoes Sneakers For ...',\n",
       " 'Sneakers For Men',\n",
       " 'Sneaker Sneakers For Men',\n",
       " 'Shark-41 Sneakers For Men',\n",
       " 'Sneakers For Men',\n",
       " 'Sneakers For Men',\n",
       " 'Men Grey Woven Design Sneakers Sneakers For Men',\n",
       " 'Sneakers For Men',\n",
       " 'Sneakers For Men',\n",
       " 'Luxury Fashionable casual sneaker shoes Sneakers For Me...',\n",
       " 'Combo Pack Of 3 Sneakers For Men',\n",
       " 'Sneakers For Men',\n",
       " 'STYLISH MENS BLACK SNEAKER Sneakers For Men',\n",
       " 'Sneakers Sneakers For Men',\n",
       " 'Sneakers For Men',\n",
       " 'EXPLORE Sneakers For Men',\n",
       " 'Comfortable Lightweight| New Series Sneakers For Men',\n",
       " 'Sneakers For Men',\n",
       " 'Stylish & Trendy Sneakers For Men',\n",
       " 'Sneakers For Men',\n",
       " \"white Casual shoes,Sneakers for men's Sneakers For Men\",\n",
       " 'casual sneaker shoes for men kardam&sons Sneakers For M...',\n",
       " 'Sneakers For Men',\n",
       " 'Sneakers For Men',\n",
       " 'Lattest Sneakers Shoe Sneakers For Men',\n",
       " 'Men 5014 Latest Collection Stylish Casual Sports Loafer...',\n",
       " \"Men's Sneakers Fashion Lightweight Running Shoes Tennis...\",\n",
       " 'Sneakers For Men',\n",
       " 'sneaker men red 1258 - 6 Sneakers For Men',\n",
       " 'Men White Printed Sneakers Sneakers For Men',\n",
       " 'Casual Sneakrs For Men Sneakers For Men',\n",
       " 'Combo Pack Of 2 Latest Stylish Casual Shoes for Men Lac...',\n",
       " 'Sneakers For Men',\n",
       " '516 Trendy Star Perfect Sneakers For Men',\n",
       " 'Modern & Trendy Collection Combo Pack of 02 Shoes for M...',\n",
       " 'Sports Running Shoes Sneakers For Men',\n",
       " 'Latest Collection-1227 Stylish Casual Sports Sneakers F...',\n",
       " 'Casual Sneakers Shoes for Men Pack of 5 Combo(O)-1667-3...',\n",
       " 'Sneakers For Men',\n",
       " 'Stylish Comfortable Lightweight, Breathable Running Sho...',\n",
       " 'casual sneakers shoes For Mens Multicolor Combo(MR)-179...',\n",
       " 'Sneakers For Men',\n",
       " 'Unique & Perfect Collection Combo Pack of 02 Shoes for ...',\n",
       " '411 Casual Sneakers For Men',\n",
       " \"Perfect Sports Shoes for Men's Running ,Cycling & Trekk...\",\n",
       " 'Sneakers For Men',\n",
       " 'Sneakers For Men',\n",
       " \"Casual , Partywear Sneakers Shoes For Men's And Boys Wh...\",\n",
       " 'Sneakers For Men',\n",
       " 'Sneakers For Men',\n",
       " 'Sneakers For Men',\n",
       " 'Men Grey Woven Design Sneakers Sneakers For Men',\n",
       " 'Classy Sneakers For Men',\n",
       " 'Sneakers For Men',\n",
       " 'Sneakers For Men',\n",
       " 'Sneakers For Men',\n",
       " 'Comfortable Lightweight| New Series Sneakers For Men',\n",
       " 'Sneakers For Men',\n",
       " 'Sneakers For Men',\n",
       " 'Stylish & Trendy Sneakers For Men',\n",
       " 'Sneakers For Men',\n",
       " 'Sneakers For Men',\n",
       " 'Sneakers For Men',\n",
       " 'Sneakers For Men',\n",
       " 'Casual Sneakers White Shoes For Men Sneakers For Men',\n",
       " 'Stylish White Casual Sneakers shoes Men and Boys Sneake...',\n",
       " 'Sneakers For Men',\n",
       " 'Sneakers For Men',\n",
       " 'STREET ICON M Sneakers For Men',\n",
       " 'Sneakers For Men',\n",
       " 'Comfortable & Ultra Light Weight Sneaker Sneakers For M...',\n",
       " 'Men White Printed Sneakers Sneakers For Men',\n",
       " 'Skypy-31 Walking Shoes,Training Shoes,Sneakers,Loafers,...',\n",
       " \"Men's Sneakers Fashion Lightweight Running Shoes Tennis...\",\n",
       " 'Sneakers For Men',\n",
       " 'New Fashion Outdoor Trendy Lightweight Casual,Canvas St...',\n",
       " 'Sneakers For Men',\n",
       " 'Sneakers For Men',\n",
       " 'Running Shoes Stylish Comfortable Shoes For Men Sneaker...',\n",
       " 'Rigel Sneakers For Men',\n",
       " 'Sneakers For Men',\n",
       " 'Stylish Comfortable Lightweight, Breathable Running Sho...',\n",
       " 'LYTECOURT Sneakers For Men',\n",
       " 'White Sneakers Sneakers For Men',\n",
       " 'Sneakers For Men',\n",
       " 'Sneakers For Men',\n",
       " 'Sneakers For Men',\n",
       " 'High Top Casual Party Wear Boot Stylish Sneakers For Me...',\n",
       " 'Sneakers For Men',\n",
       " 'Stylish and Trendy New Design Lightweight,Casual shoes ...',\n",
       " 'casual for men Sneakers For Men',\n",
       " 'Sneakers For Men',\n",
       " 'Men Grey Woven Design Sneakers Sneakers For Men',\n",
       " 'Sneakers For Men',\n",
       " 'Sneakers For Men',\n",
       " 'Stylish & Trendy Sneakers For Men',\n",
       " 'Sneakers For Men',\n",
       " 'Sneakers For Men',\n",
       " 'Comfortable Lightweight| New Series Sneakers For Men',\n",
       " 'Sneakers For Men']"
      ]
     },
     "execution_count": 51,
     "metadata": {},
     "output_type": "execute_result"
    }
   ],
   "source": [
    "for i in ds3+ds33:\n",
    "    dsc.append(i.text)\n",
    "dsc"
   ]
  },
  {
   "cell_type": "code",
   "execution_count": 52,
   "id": "383e8268",
   "metadata": {},
   "outputs": [
    {
     "data": {
      "text/plain": [
       "120"
      ]
     },
     "execution_count": 52,
     "metadata": {},
     "output_type": "execute_result"
    }
   ],
   "source": [
    "len(dsc)"
   ]
  },
  {
   "cell_type": "code",
   "execution_count": 53,
   "id": "1fbad707",
   "metadata": {},
   "outputs": [],
   "source": [
    "sneakers=pd.DataFrame({'Brand':brand[0:100],'Price':prc[0:100],'Description':dsc[0:100]})"
   ]
  },
  {
   "cell_type": "code",
   "execution_count": 55,
   "id": "b1d2c21e",
   "metadata": {},
   "outputs": [
    {
     "data": {
      "text/html": [
       "<div>\n",
       "<style scoped>\n",
       "    .dataframe tbody tr th:only-of-type {\n",
       "        vertical-align: middle;\n",
       "    }\n",
       "\n",
       "    .dataframe tbody tr th {\n",
       "        vertical-align: top;\n",
       "    }\n",
       "\n",
       "    .dataframe thead th {\n",
       "        text-align: right;\n",
       "    }\n",
       "</style>\n",
       "<table border=\"1\" class=\"dataframe\">\n",
       "  <thead>\n",
       "    <tr style=\"text-align: right;\">\n",
       "      <th></th>\n",
       "      <th>Brand</th>\n",
       "      <th>Price</th>\n",
       "      <th>Description</th>\n",
       "    </tr>\n",
       "  </thead>\n",
       "  <tbody>\n",
       "    <tr>\n",
       "      <th>0</th>\n",
       "      <td>Numenzo</td>\n",
       "      <td>₹599</td>\n",
       "      <td>Sneakers For Men</td>\n",
       "    </tr>\n",
       "    <tr>\n",
       "      <th>1</th>\n",
       "      <td>RapidBox</td>\n",
       "      <td>₹630</td>\n",
       "      <td>Super Stylish &amp; Trendy Combo Pack of 02 Pairs ...</td>\n",
       "    </tr>\n",
       "    <tr>\n",
       "      <th>2</th>\n",
       "      <td>Chevit</td>\n",
       "      <td>₹501</td>\n",
       "      <td>Sneakers For Men</td>\n",
       "    </tr>\n",
       "    <tr>\n",
       "      <th>3</th>\n",
       "      <td>Magnolia</td>\n",
       "      <td>₹327</td>\n",
       "      <td>5011-Latest Collection Stylish Casual Loafer S...</td>\n",
       "    </tr>\n",
       "    <tr>\n",
       "      <th>4</th>\n",
       "      <td>corsac</td>\n",
       "      <td>₹424</td>\n",
       "      <td>Modern Trendy Sneakers Shoes Sneakers For Men</td>\n",
       "    </tr>\n",
       "    <tr>\n",
       "      <th>...</th>\n",
       "      <td>...</td>\n",
       "      <td>...</td>\n",
       "      <td>...</td>\n",
       "    </tr>\n",
       "    <tr>\n",
       "      <th>95</th>\n",
       "      <td>Navtrend</td>\n",
       "      <td>₹379</td>\n",
       "      <td>New Fashion Outdoor Trendy Lightweight Casual,...</td>\n",
       "    </tr>\n",
       "    <tr>\n",
       "      <th>96</th>\n",
       "      <td>Zorth</td>\n",
       "      <td>₹385</td>\n",
       "      <td>Sneakers For Men</td>\n",
       "    </tr>\n",
       "    <tr>\n",
       "      <th>97</th>\n",
       "      <td>Numenzo</td>\n",
       "      <td>₹379</td>\n",
       "      <td>Sneakers For Men</td>\n",
       "    </tr>\n",
       "    <tr>\n",
       "      <th>98</th>\n",
       "      <td>Nilatin</td>\n",
       "      <td>₹599</td>\n",
       "      <td>Running Shoes Stylish Comfortable Shoes For Me...</td>\n",
       "    </tr>\n",
       "    <tr>\n",
       "      <th>99</th>\n",
       "      <td>RapidBox</td>\n",
       "      <td>₹590</td>\n",
       "      <td>Rigel Sneakers For Men</td>\n",
       "    </tr>\n",
       "  </tbody>\n",
       "</table>\n",
       "<p>100 rows × 3 columns</p>\n",
       "</div>"
      ],
      "text/plain": [
       "       Brand Price                                        Description\n",
       "0    Numenzo  ₹599                                   Sneakers For Men\n",
       "1   RapidBox  ₹630  Super Stylish & Trendy Combo Pack of 02 Pairs ...\n",
       "2     Chevit  ₹501                                   Sneakers For Men\n",
       "3   Magnolia  ₹327  5011-Latest Collection Stylish Casual Loafer S...\n",
       "4     corsac  ₹424      Modern Trendy Sneakers Shoes Sneakers For Men\n",
       "..       ...   ...                                                ...\n",
       "95  Navtrend  ₹379  New Fashion Outdoor Trendy Lightweight Casual,...\n",
       "96     Zorth  ₹385                                   Sneakers For Men\n",
       "97   Numenzo  ₹379                                   Sneakers For Men\n",
       "98   Nilatin  ₹599  Running Shoes Stylish Comfortable Shoes For Me...\n",
       "99  RapidBox  ₹590                             Rigel Sneakers For Men\n",
       "\n",
       "[100 rows x 3 columns]"
      ]
     },
     "execution_count": 55,
     "metadata": {},
     "output_type": "execute_result"
    }
   ],
   "source": [
    "sneakers"
   ]
  },
  {
   "cell_type": "code",
   "execution_count": null,
   "id": "c70f7888",
   "metadata": {},
   "outputs": [],
   "source": []
  }
 ],
 "metadata": {
  "kernelspec": {
   "display_name": "Python 3",
   "language": "python",
   "name": "python3"
  },
  "language_info": {
   "codemirror_mode": {
    "name": "ipython",
    "version": 3
   },
   "file_extension": ".py",
   "mimetype": "text/x-python",
   "name": "python",
   "nbconvert_exporter": "python",
   "pygments_lexer": "ipython3",
   "version": "3.8.8"
  }
 },
 "nbformat": 4,
 "nbformat_minor": 5
}
